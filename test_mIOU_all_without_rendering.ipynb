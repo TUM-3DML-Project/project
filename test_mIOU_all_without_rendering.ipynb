{
 "cells": [
  {
   "cell_type": "code",
   "execution_count": 11,
   "id": "9637f4f7",
   "metadata": {},
   "outputs": [],
   "source": [
    "# with open(\"test_files.txt\", 'r') as file:\n",
    "#     lines = file.readlines()\n",
    "\n",
    "# parsed_data = [(int(line.split()[0]), line.split()[1]) for line in lines]\n",
    "\n",
    "# TODO: Add save pc_idx, screen_coords \n",
    "# io = IO()\n",
    "# for file, category in parsed_data:   \n",
    "#     xyz, rgb = normalize_pc(f\"data/{category}/{file}/pc.ply\", f'examples/zeroshot_{category}', io, device) #read Point cloud and rgb in the format n,3\n",
    "#     img_dir, pc_idx, screen_coords = render_pc(xyz, rgb, f'examples/zeroshot_{category}', device, file)\n",
    "#     \n",
    "#     np.savez( f'examples/zeroshot_{category}/rendered_img_test/{file}/pcidx_screencoords.npz', \n",
    "#              pc_idx=pc_idx, \n",
    "#              screen_coords=screen_coords)"
   ]
  },
  {
   "cell_type": "code",
   "execution_count": 12,
   "id": "192ea176",
   "metadata": {},
   "outputs": [
    {
     "name": "stdout",
     "output_type": "stream",
     "text": [
      "Jupyter environment detected. Enabling Open3D WebVisualizer.\n",
      "[Open3D INFO] WebRTC GUI backend enabled.\n",
      "[Open3D INFO] WebRTCWindowSystem: HTTP handshake server disabled.\n"
     ]
    }
   ],
   "source": [
    "import sys\n",
    "sys.path.insert(0,'../GroundingDINO')\n",
    "sys.path.insert(0,'../SAM')\n",
    "import os\n",
    "import torch\n",
    "import json\n",
    "from pytorch3d.io import IO\n",
    "import numpy as np\n",
    "from src.utils import normalize_pc,save_colored_pc\n",
    "from src.render_pc import render_pc\n",
    "from src.gen_superpoint import gen_superpoint\n",
    "from groundingdino.util.inference import load_model, load_image, predict, annotate\n",
    "import cv2\n",
    "from torchvision.ops import nms\n",
    "import json\n",
    "from segment_anything import sam_model_registry, SamPredictor\n",
    "import matplotlib.pyplot as plt\n",
    "from sklearn.neighbors import NearestNeighbors\n",
    "import distinctipy"
   ]
  },
  {
   "cell_type": "code",
   "execution_count": 13,
   "id": "055db108",
   "metadata": {},
   "outputs": [],
   "source": [
    "def yolobbox2bbox(yolobox):\n",
    "    x = yolobox[:,0]\n",
    "    y = yolobox[:,1]\n",
    "    w = yolobox[:,2]\n",
    "    h = yolobox[:,3]\n",
    "    xyxy = np.zeros_like(yolobox)\n",
    "    xyxy[:,0] = x-w/2\n",
    "    xyxy[:,1] = y-h/2\n",
    "    xyxy[:,2] = x+w/2\n",
    "    xyxy[:,3] = y+h/2\n",
    "    return xyxy\n",
    "\n",
    "def toDinoPrompt(metaData,className):\n",
    "    listOfParts = metaData[className]\n",
    "    prompt = \"\"\n",
    "    partList = {}\n",
    "    for i,part in enumerate(listOfParts):\n",
    "        prompt += f\"{part} of {className}.\".lower()\n",
    "        partList[f\"{part}\".lower()] = i\n",
    "    return prompt,partList\n",
    "\n",
    "def check_pc_within_bbox(x1, y1, x2, y2, pc):  \n",
    "    flag = np.logical_and(pc[:, 0] > x1, pc[:, 0] < x2)\n",
    "    flag = np.logical_and(flag, pc[:, 1] > y1)\n",
    "    flag = np.logical_and(flag, pc[:, 1] < y2)\n",
    "    return flag\n",
    "\n",
    "def InferDINO(xyz, rgb,pc_idx, screen_coords, file,category,metaData,modelDINO,predictorSAM,device,BOX_TRESHOLD = 0.2, TEXT_TRESHOLD = 0.3, SCORE_THRESHOLD=0.2,n_neighbors=21,n_pass=3, save_dir=\"tmp\"):\n",
    "    TEXT_PROMPT,partList = toDinoPrompt(metaData,category)\n",
    "    \n",
    "    code = str(file.split(\"/\")[-1])\n",
    "    \n",
    "    preds = []\n",
    "    for i in range(pc_idx.shape[0]):\n",
    "        image_source, image = load_image(f\"{save_dir}/rendered_img_test/{code}/{i}.png\") #load rgb images\n",
    "        predictorSAM.set_image(image_source)\n",
    "\n",
    "        boxes, logits, phrases = predict(\n",
    "                                        model=modelDINO,\n",
    "                                        image=image,\n",
    "                                        caption=TEXT_PROMPT,\n",
    "                                        box_threshold=BOX_TRESHOLD,\n",
    "                                        text_threshold=TEXT_TRESHOLD\n",
    "                                    )\n",
    "        phrases = np.array(phrases) #just to fix indexing\n",
    "\n",
    "        xyxy = yolobbox2bbox(boxes)*image.shape[-1] #change bbox format to xyxy and scale with image size\n",
    "        \n",
    "        nms_mask = []\n",
    "        for t,bbox in enumerate(xyxy): \n",
    "            if check_pc_within_bbox(bbox[0], bbox[1], bbox[2], bbox[3], screen_coords[i]).mean() < 0.95: \n",
    "                nms_mask.append(t)\n",
    "                \n",
    "        xyxy = xyxy[nms_mask]\n",
    "        boxes = boxes[nms_mask]\n",
    "        logits = logits[nms_mask]\n",
    "        phrases = phrases[nms_mask]\n",
    "        \n",
    "        \n",
    "        \n",
    "        nms_indexes = nms(torch.tensor(xyxy) , logits, 0.5).numpy() #non maximum supression\n",
    "        \n",
    "        xyxy = xyxy[nms_indexes]\n",
    "        boxes = boxes[nms_indexes]\n",
    "        logits = logits[nms_indexes]\n",
    "        phrases = phrases[nms_indexes]\n",
    "        \n",
    "        final_indexes = []\n",
    "        new_phrases = []\n",
    "        for iindex,part in enumerate(phrases):\n",
    "            for metaPart in metaData[category]:\n",
    "                if part.find(metaPart) != -1:\n",
    "                    final_indexes.append(iindex)\n",
    "                    new_phrases.append(metaPart)\n",
    "                    \n",
    "        \n",
    "        xyxy = xyxy[final_indexes]\n",
    "        boxes = boxes[final_indexes]\n",
    "        logits = logits[final_indexes]\n",
    "        phrases = np.array(new_phrases)\n",
    "        #preds.append({\"image_source\":image_source,\"xyxy\":xyxy[final_indexes],\"boxes\":boxes[final_indexes],\"logits\":logits[final_indexes],\"phrases\":new_phrases})\n",
    "        \n",
    "        input_boxes = torch.tensor(xyxy, device=predictorSAM.device)    \n",
    "        transformed_boxes = predictorSAM.transform.apply_boxes_torch(input_boxes, image_source.shape[:2])\n",
    "        \n",
    "\n",
    "        if transformed_boxes.shape[0] > 0:\n",
    "            masks, _, _ = predictorSAM.predict_torch(\n",
    "                point_coords=None,\n",
    "                point_labels=None,\n",
    "                boxes=transformed_boxes,\n",
    "                multimask_output=False,\n",
    "            )    #create segmentation masks with sam\n",
    "\n",
    "            for index,mask in enumerate(masks):\n",
    "#                 print(mask[1:].shape)\n",
    "                preds.append({'image_id': i, 'category_id': phrases[index], \n",
    "                              'bbox': boxes[index]*image.shape[-1], \n",
    "                              'score': logits[index],\n",
    "                              'mask':mask[0],\n",
    "                              'image_source':image_source\n",
    "                             }\n",
    "                            )\n",
    "    pc_aggMask = torch.zeros((xyz.shape[0],len(partList)+1)) #this is a segment agg mask we sum all the scores from our bboxes \n",
    "    #into their own respective channel, the last channel is for unsegmented parts\n",
    "    pc_aggMask[:,-1] = SCORE_THRESHOLD #we can set a confidence threshold by setting the unsegmented score\n",
    "    for prediction in preds:\n",
    "        maskedPC_idx = pc_idx[prediction[\"image_id\"],prediction[\"mask\"].cpu().numpy()] #this gives you the pc idx of the points that are inside the mask\n",
    "        index_pcMasked = np.unique(maskedPC_idx)[1:] # we only need the unique idx and the first id is always -1 meaning not found\n",
    "        pc_aggMask[index_pcMasked,partList[prediction[\"category_id\"]]] += prediction[\"score\"] #add up all the scores for each part\n",
    "    pc_seg_classes = torch.argmax(pc_aggMask,dim=-1) #select the highest score as our segmentation class\n",
    "    #if non of the part scores are over the SCORE_THRESHOLD it will be left unsegmented\n",
    "    partColors = np.array(distinctipy.get_colors(len(partList)))\n",
    "    accumulator = np.zeros((xyz.shape[0], len(partList)+1))\n",
    "    accumulator[:,-1] = 1\n",
    "    # since projections are not exact meaning not every PC point is rendered into our image our backprojections are not dense\n",
    "    # use KNN to smooth these backprojections \n",
    "    nn = NearestNeighbors(n_neighbors=n_neighbors, algorithm='kd_tree').fit(xyz) #create a knn\n",
    "    \n",
    "    results = {\"partseg_rgbs\":{}}\n",
    "    \n",
    "    os.makedirs(f\"{save_dir}/semantic_segDino_KNN/{code}\", exist_ok=True)\n",
    "    for colorId,part in enumerate(partList):\n",
    "        pc_part_idx = np.zeros((xyz.shape[0]),dtype=int)\n",
    "        rgb_sem = np.zeros((xyz.shape[0],3))\n",
    "        pc_part_idx[torch.where(pc_seg_classes==partList[part])] = 1\n",
    "        \n",
    "        for pass_ in range(n_pass):\n",
    "            notColoredIndexes = torch.where(pc_seg_classes!=partList[part]) #find non segmented parts for smoothing\n",
    "\n",
    "            n_indexes = nn.kneighbors(xyz[notColoredIndexes],n_neighbors+1,return_distance=False)\n",
    "            n_indexes = n_indexes[:,1:] #get n_neighbors for the points, the first index is always the point itself so delete that\n",
    "            #we have dense point clouds so distance based measures are not necessary and sometimes give worst results\n",
    "            flag = pc_part_idx[n_indexes].mean(axis=1) \n",
    "            \n",
    "            flag[np.where(flag>=0.4)] = 1 #and segmnent the points where the mean of neighbours are colored %40 or over\n",
    "            flag[np.where(flag<0.4)] = 0\n",
    "            pc_part_idx[notColoredIndexes] = flag\n",
    "           \n",
    "        rgb_sem[pc_part_idx.astype(bool)] = partColors[colorId]\n",
    "        accumulator[pc_part_idx.astype(bool),colorId] += 1\n",
    "        save_colored_pc(f\"{save_dir}/semantic_segDino_KNN/{code}/{part}.ply\", xyz, rgb_sem)\n",
    "        results[\"partseg_rgbs\"][part] = rgb_sem\n",
    "        \n",
    "    pc_partIDX = np.argmax(accumulator,axis=-1)\n",
    "    partColors_extended = np.append(partColors,[[0,0,0]],axis=0)\n",
    "    \n",
    "    save_colored_pc(f\"{save_dir}/semantic_segDino_KNN/{code}/{category}.ply\", xyz, partColors_extended[pc_partIDX.astype(int)]) \n",
    "    \n",
    "    results[\"partList\"] = partList\n",
    "    results[\"xyz\"] = xyz\n",
    "    return results"
   ]
  },
  {
   "cell_type": "code",
   "execution_count": 14,
   "id": "805c1ac5",
   "metadata": {},
   "outputs": [
    {
     "name": "stdout",
     "output_type": "stream",
     "text": [
      "final text_encoder_type: bert-base-uncased\n"
     ]
    },
    {
     "name": "stderr",
     "output_type": "stream",
     "text": [
      "FutureWarning: `resume_download` is deprecated and will be removed in version 1.0.0. Downloads always resume when possible. If you want to force a new download, use `force_download=True`.\n",
      "Some weights of the model checkpoint at bert-base-uncased were not used when initializing BertModel: ['cls.seq_relationship.bias', 'cls.predictions.transform.dense.weight', 'cls.predictions.transform.dense.bias', 'cls.predictions.decoder.weight', 'cls.seq_relationship.weight', 'cls.predictions.bias', 'cls.predictions.transform.LayerNorm.bias', 'cls.predictions.transform.LayerNorm.weight']\n",
      "- This IS expected if you are initializing BertModel from the checkpoint of a model trained on another task or with another architecture (e.g. initializing a BertForSequenceClassification model from a BertForPreTraining model).\n",
      "- This IS NOT expected if you are initializing BertModel from the checkpoint of a model that you expect to be exactly identical (initializing a BertForSequenceClassification model from a BertForSequenceClassification model).\n"
     ]
    }
   ],
   "source": [
    "metaData = json.load(open(\"./PartNetE_meta.json\")) \n",
    "device = \"cpu\"\n",
    "if torch.cuda.is_available():\n",
    "    device = torch.device(\"cuda:0\")\n",
    "    torch.cuda.set_device(device)\n",
    "modelDINO = load_model(\"../GroundingDINO/groundingdino/config/GroundingDINO_SwinB_cfg.py\",\n",
    "                    \"../GroundingDINO/weights/groundingdino_swinb_cogcoor.pth\",\n",
    "                    device=device\n",
    "                    )\n",
    "sam_checkpoint = \"../SAM/weights/sam_vit_h_4b8939.pth\"\n",
    "model_type = \"vit_h\"\n",
    "\n",
    "\n",
    "sam = sam_model_registry[model_type](checkpoint=sam_checkpoint)\n",
    "sam.to(device=\"cuda\")\n",
    "\n",
    "predictorSAM = SamPredictor(sam)"
   ]
  },
  {
   "cell_type": "code",
   "execution_count": 15,
   "id": "36ba8989",
   "metadata": {},
   "outputs": [],
   "source": [
    "def get_files_from_txt(file_path, categories, num_files):\n",
    "    with open(file_path, 'r') as file:\n",
    "        lines = file.readlines()\n",
    "    \n",
    "    parsed_data = [(int(line.split()[0]), line.split()[1]) for line in lines]\n",
    "    \n",
    "    results = {}\n",
    "    for category in categories:\n",
    "        filtered_data = [f\"data/{category}/{item[0]}\" for item in parsed_data if item[1] == category]\n",
    "        results[category] = filtered_data[:num_files]\n",
    "    \n",
    "    return results"
   ]
  },
  {
   "cell_type": "code",
   "execution_count": 16,
   "id": "e2e5e050",
   "metadata": {},
   "outputs": [],
   "source": [
    "def mIOU_f(label, predictions, case='dino', verbose=True):\n",
    "    \"\"\"\n",
    "    Calculate mean IoU for semantic segmentation predictions.\n",
    "\n",
    "    Args:\n",
    "        label: Ground truth label containing 'semantic_seg'.\n",
    "        predictions: Predictions dictionary from the model.\n",
    "        case: Specify 'dino' or 'glip' for the respective models.\n",
    "        verbose: If True, prints detailed IoU calculation logs.\n",
    "\n",
    "    Returns:\n",
    "        Tuple of (list of IoUs, mean IoU).\n",
    "    \"\"\"\n",
    "    def log(msg):\n",
    "        if verbose:\n",
    "            print(msg)\n",
    "\n",
    "    try:\n",
    "        # Validate ground truth (label)\n",
    "        if 'semantic_seg' not in label.item():\n",
    "            raise ValueError(\"The label does not contain 'semantic_seg'.\")\n",
    "        semantic_seg = np.array(label.item()['semantic_seg'])\n",
    "        unique_parts = np.unique(semantic_seg)\n",
    "        unique_parts = unique_parts[unique_parts != -1]  # Exclude background (-1)\n",
    "\n",
    "        ious = []\n",
    "        part_list_return = []\n",
    "        part_names = None\n",
    "        if case == 'dino':\n",
    "            # Validate predictions for 'dino' case\n",
    "            if 'partList' not in predictions or 'partseg_rgbs' not in predictions:\n",
    "                raise ValueError(\n",
    "                    \"Invalid 'predictions' format for 'dino'. Expected keys: 'partList' and 'partseg_rgbs'.\"\n",
    "                )\n",
    "            part_list = predictions['partList']\n",
    "            partseg_rgbs = predictions['partseg_rgbs']\n",
    "\n",
    "            for part, part_id in part_list.items():\n",
    "                if part_id not in unique_parts:\n",
    "                    log(f\"{part} not present in ground truth, skipping IoU calculation.\")\n",
    "                    continue\n",
    "                \n",
    "                part_list_return.append(part)\n",
    "                gt_mask = semantic_seg == part_id\n",
    "                pred_mask = np.any(partseg_rgbs[part] != [0., 0., 0.], axis=-1)\n",
    "\n",
    "                intersection = np.logical_and(gt_mask, pred_mask).sum()\n",
    "                union = np.logical_or(gt_mask, pred_mask).sum()\n",
    "\n",
    "                iou = intersection / union if union > 0 else 0\n",
    "                ious.append(iou)\n",
    "                log(f\"IoU for {part}: {iou:.4f}\")\n",
    "\n",
    "        elif case == 'glip':\n",
    "            # Validate predictions for 'other' case\n",
    "            if 'part_names_ordered' not in predictions or 'sem_seg' not in predictions:\n",
    "                raise ValueError(\n",
    "                    \"Invalid 'predictions' format for 'glip'. Expected keys: 'part_names_ordered' and 'sem_seg'.\"\n",
    "                )\n",
    "            part_names = predictions['part_names_ordered']\n",
    "            sem_seg_pred = np.array(predictions['sem_seg'])\n",
    "            category = str(predictions['category'])\n",
    "            \n",
    "            for idx, part_name in enumerate(part_names):\n",
    "                if idx not in unique_parts:\n",
    "                    log(f\"{category.lower()} {part_name} not present in ground truth, skipping IoU calculation.\")\n",
    "                    continue\n",
    "                gt_mask = semantic_seg == idx\n",
    "                pred_mask = sem_seg_pred == idx\n",
    "\n",
    "                intersection = np.logical_and(gt_mask, pred_mask).sum()\n",
    "                union = np.logical_or(gt_mask, pred_mask).sum()\n",
    "\n",
    "                iou = intersection / union if union > 0 else 0\n",
    "                ious.append(iou)\n",
    "                log(f\"IoU for {part_name}: {iou:.4f}\")\n",
    "\n",
    "        else:\n",
    "            # Raise an error for unsupported cases\n",
    "            raise ValueError(f\"Unsupported case: {case}. Use 'dino' or 'glip'.\")\n",
    "\n",
    "        # Calculate mean IoU\n",
    "        if ious:\n",
    "            mean_iou = np.mean(ious)\n",
    "            log(f\"Mean IoU: {mean_iou:.4f}\")\n",
    "        else:\n",
    "            log(\"No valid parts found in the ground truth. Mean IoU cannot be calculated.\")\n",
    "            mean_iou = None\n",
    "\n",
    "        return ious, mean_iou, part_names\n",
    "\n",
    "    except Exception as e:\n",
    "        raise RuntimeError(f\"Error calculating IoU: {e}\") from e\n"
   ]
  },
  {
   "cell_type": "code",
   "execution_count": 17,
   "id": "303f2460",
   "metadata": {},
   "outputs": [
    {
     "name": "stderr",
     "output_type": "stream",
     "text": [
      "[nltk_data] Downloading package punkt to\n",
      "[nltk_data]     /rhome/kamburoglu/nltk_data...\n",
      "[nltk_data]   Package punkt is already up-to-date!\n",
      "[nltk_data] Downloading package averaged_perceptron_tagger to\n",
      "[nltk_data]     /rhome/kamburoglu/nltk_data...\n",
      "[nltk_data]   Package averaged_perceptron_tagger is already up-to-\n",
      "[nltk_data]       date!\n"
     ]
    }
   ],
   "source": [
    "from demo import InferGLIP\n",
    "\n",
    "from src.glip_inference import load_model_glip"
   ]
  },
  {
   "cell_type": "code",
   "execution_count": null,
   "id": "ca43896e",
   "metadata": {},
   "outputs": [
    {
     "name": "stderr",
     "output_type": "stream",
     "text": [
      "Some weights of the model checkpoint at bert-base-uncased were not used when initializing BertModel: ['cls.seq_relationship.bias', 'cls.predictions.transform.dense.weight', 'cls.predictions.transform.dense.bias', 'cls.predictions.decoder.weight', 'cls.seq_relationship.weight', 'cls.predictions.bias', 'bert.pooler.dense.weight', 'cls.predictions.transform.LayerNorm.bias', 'cls.predictions.transform.LayerNorm.weight', 'bert.pooler.dense.bias']\n",
      "- This IS expected if you are initializing BertModel from the checkpoint of a model trained on another task or with another architecture (e.g. initializing a BertForSequenceClassification model from a BertForPreTraining model).\n",
      "- This IS NOT expected if you are initializing BertModel from the checkpoint of a model that you expect to be exactly identical (initializing a BertForSequenceClassification model from a BertForSequenceClassification model).\n",
      "An exception occurred in telemetry logging.Disabling telemetry to prevent further exceptions.\n",
      "Traceback (most recent call last):\n",
      "  File \"/rhome/kamburoglu/miniconda3/envs/partslip/lib/python3.9/site-packages/iopath/common/file_io.py\", line 946, in __log_tmetry_keys\n",
      "    handler.log_event()\n",
      "  File \"/rhome/kamburoglu/miniconda3/envs/partslip/lib/python3.9/site-packages/iopath/common/event_logger.py\", line 97, in log_event\n",
      "    del self._evt\n",
      "AttributeError: _evt\n"
     ]
    },
    {
     "name": "stdout",
     "output_type": "stream",
     "text": [
      "Bottle inference DINO, GLIP ==> SAM started:\n",
      "----DINO Inference Starting----\n"
     ]
    },
    {
     "name": "stderr",
     "output_type": "stream",
     "text": [
      "FutureWarning: The `device` argument is deprecated and will be removed in v5 of Transformers.\n",
      "UserWarning: None of the inputs have requires_grad=True. Gradients will be None\n"
     ]
    },
    {
     "name": "stdout",
     "output_type": "stream",
     "text": [
      "----DINO Inference Completed---\n",
      "mIOU CALCULATION DINO, Bottle:\n",
      "IoU for lid: 0.8678\n",
      "Mean IoU: 0.8678\n",
      "----GLIP Inference Starting----\n"
     ]
    },
    {
     "name": "stderr",
     "output_type": "stream",
     "text": [
      "FutureWarning: The `device` argument is deprecated and will be removed in v5 of Transformers.\n",
      "UserWarning: nn.functional.upsample_bilinear is deprecated. Use nn.functional.interpolate instead.\n",
      "An exception occurred in telemetry logging.Disabling telemetry to prevent further exceptions.\n",
      "Traceback (most recent call last):\n",
      "  File \"/rhome/kamburoglu/miniconda3/envs/partslip/lib/python3.9/site-packages/iopath/common/file_io.py\", line 946, in __log_tmetry_keys\n",
      "    handler.log_event()\n",
      "  File \"/rhome/kamburoglu/miniconda3/envs/partslip/lib/python3.9/site-packages/iopath/common/event_logger.py\", line 97, in log_event\n",
      "    del self._evt\n",
      "AttributeError: _evt\n"
     ]
    },
    {
     "name": "stdout",
     "output_type": "stream",
     "text": [
      "----GLIP Inference Completed---\n",
      "mIOU CALCULATION GLIP, Bottle:\n",
      "IoU for lid: 0.8786\n",
      "Mean IoU: 0.8786\n",
      "Results saved to results.json\n",
      "Bottle inference DINO, GLIP ==> SAM started:\n",
      "----DINO Inference Starting----\n"
     ]
    },
    {
     "name": "stderr",
     "output_type": "stream",
     "text": [
      "FutureWarning: The `device` argument is deprecated and will be removed in v5 of Transformers.\n",
      "UserWarning: None of the inputs have requires_grad=True. Gradients will be None\n"
     ]
    },
    {
     "name": "stdout",
     "output_type": "stream",
     "text": [
      "----DINO Inference Completed---\n",
      "mIOU CALCULATION DINO, Bottle:\n",
      "IoU for lid: 0.9888\n",
      "Mean IoU: 0.9888\n",
      "----GLIP Inference Starting----\n"
     ]
    },
    {
     "name": "stderr",
     "output_type": "stream",
     "text": [
      "FutureWarning: The `device` argument is deprecated and will be removed in v5 of Transformers.\n",
      "UserWarning: nn.functional.upsample_bilinear is deprecated. Use nn.functional.interpolate instead.\n",
      "An exception occurred in telemetry logging.Disabling telemetry to prevent further exceptions.\n",
      "Traceback (most recent call last):\n",
      "  File \"/rhome/kamburoglu/miniconda3/envs/partslip/lib/python3.9/site-packages/iopath/common/file_io.py\", line 946, in __log_tmetry_keys\n",
      "    handler.log_event()\n",
      "  File \"/rhome/kamburoglu/miniconda3/envs/partslip/lib/python3.9/site-packages/iopath/common/event_logger.py\", line 97, in log_event\n",
      "    del self._evt\n",
      "AttributeError: _evt\n"
     ]
    },
    {
     "name": "stdout",
     "output_type": "stream",
     "text": [
      "----GLIP Inference Completed---\n",
      "mIOU CALCULATION GLIP, Bottle:\n",
      "IoU for lid: 0.9850\n",
      "Mean IoU: 0.9850\n",
      "Results saved to results.json\n",
      "Bottle inference DINO, GLIP ==> SAM started:\n",
      "----DINO Inference Starting----\n"
     ]
    },
    {
     "name": "stderr",
     "output_type": "stream",
     "text": [
      "FutureWarning: The `device` argument is deprecated and will be removed in v5 of Transformers.\n",
      "UserWarning: None of the inputs have requires_grad=True. Gradients will be None\n"
     ]
    },
    {
     "name": "stdout",
     "output_type": "stream",
     "text": [
      "----DINO Inference Completed---\n",
      "mIOU CALCULATION DINO, Bottle:\n",
      "IoU for lid: 0.9805\n",
      "Mean IoU: 0.9805\n",
      "----GLIP Inference Starting----\n"
     ]
    },
    {
     "name": "stderr",
     "output_type": "stream",
     "text": [
      "FutureWarning: The `device` argument is deprecated and will be removed in v5 of Transformers.\n",
      "UserWarning: nn.functional.upsample_bilinear is deprecated. Use nn.functional.interpolate instead.\n",
      "An exception occurred in telemetry logging.Disabling telemetry to prevent further exceptions.\n",
      "Traceback (most recent call last):\n",
      "  File \"/rhome/kamburoglu/miniconda3/envs/partslip/lib/python3.9/site-packages/iopath/common/file_io.py\", line 946, in __log_tmetry_keys\n",
      "    handler.log_event()\n",
      "  File \"/rhome/kamburoglu/miniconda3/envs/partslip/lib/python3.9/site-packages/iopath/common/event_logger.py\", line 97, in log_event\n",
      "    del self._evt\n",
      "AttributeError: _evt\n"
     ]
    },
    {
     "name": "stdout",
     "output_type": "stream",
     "text": [
      "----GLIP Inference Completed---\n",
      "mIOU CALCULATION GLIP, Bottle:\n",
      "IoU for lid: 0.5983\n",
      "Mean IoU: 0.5983\n",
      "Results saved to results.json\n",
      "Bottle inference DINO, GLIP ==> SAM started:\n",
      "----DINO Inference Starting----\n"
     ]
    },
    {
     "name": "stderr",
     "output_type": "stream",
     "text": [
      "FutureWarning: The `device` argument is deprecated and will be removed in v5 of Transformers.\n",
      "UserWarning: None of the inputs have requires_grad=True. Gradients will be None\n"
     ]
    },
    {
     "name": "stdout",
     "output_type": "stream",
     "text": [
      "----DINO Inference Completed---\n",
      "mIOU CALCULATION DINO, Bottle:\n",
      "IoU for lid: 0.6628\n",
      "Mean IoU: 0.6628\n",
      "----GLIP Inference Starting----\n"
     ]
    },
    {
     "name": "stderr",
     "output_type": "stream",
     "text": [
      "FutureWarning: The `device` argument is deprecated and will be removed in v5 of Transformers.\n",
      "UserWarning: nn.functional.upsample_bilinear is deprecated. Use nn.functional.interpolate instead.\n"
     ]
    },
    {
     "name": "stdout",
     "output_type": "stream",
     "text": [
      "----GLIP Inference Completed---\n",
      "mIOU CALCULATION GLIP, Bottle:\n",
      "IoU for lid: 0.8779\n",
      "Mean IoU: 0.8779\n",
      "Results saved to results.json\n",
      "Bottle inference DINO, GLIP ==> SAM started:\n"
     ]
    },
    {
     "name": "stderr",
     "output_type": "stream",
     "text": [
      "An exception occurred in telemetry logging.Disabling telemetry to prevent further exceptions.\n",
      "Traceback (most recent call last):\n",
      "  File \"/rhome/kamburoglu/miniconda3/envs/partslip/lib/python3.9/site-packages/iopath/common/file_io.py\", line 946, in __log_tmetry_keys\n",
      "    handler.log_event()\n",
      "  File \"/rhome/kamburoglu/miniconda3/envs/partslip/lib/python3.9/site-packages/iopath/common/event_logger.py\", line 97, in log_event\n",
      "    del self._evt\n",
      "AttributeError: _evt\n"
     ]
    },
    {
     "name": "stdout",
     "output_type": "stream",
     "text": [
      "----DINO Inference Starting----\n"
     ]
    },
    {
     "name": "stderr",
     "output_type": "stream",
     "text": [
      "FutureWarning: The `device` argument is deprecated and will be removed in v5 of Transformers.\n",
      "UserWarning: None of the inputs have requires_grad=True. Gradients will be None\n"
     ]
    },
    {
     "name": "stdout",
     "output_type": "stream",
     "text": [
      "----DINO Inference Completed---\n",
      "mIOU CALCULATION DINO, Bottle:\n",
      "IoU for lid: 0.7458\n",
      "Mean IoU: 0.7458\n",
      "----GLIP Inference Starting----\n"
     ]
    },
    {
     "name": "stderr",
     "output_type": "stream",
     "text": [
      "FutureWarning: The `device` argument is deprecated and will be removed in v5 of Transformers.\n",
      "UserWarning: nn.functional.upsample_bilinear is deprecated. Use nn.functional.interpolate instead.\n",
      "An exception occurred in telemetry logging.Disabling telemetry to prevent further exceptions.\n",
      "Traceback (most recent call last):\n",
      "  File \"/rhome/kamburoglu/miniconda3/envs/partslip/lib/python3.9/site-packages/iopath/common/file_io.py\", line 946, in __log_tmetry_keys\n",
      "    handler.log_event()\n",
      "  File \"/rhome/kamburoglu/miniconda3/envs/partslip/lib/python3.9/site-packages/iopath/common/event_logger.py\", line 97, in log_event\n",
      "    del self._evt\n",
      "AttributeError: _evt\n"
     ]
    },
    {
     "name": "stdout",
     "output_type": "stream",
     "text": [
      "----GLIP Inference Completed---\n",
      "mIOU CALCULATION GLIP, Bottle:\n",
      "IoU for lid: 0.7157\n",
      "Mean IoU: 0.7157\n",
      "Results saved to results.json\n",
      "Bottle inference DINO, GLIP ==> SAM started:\n",
      "----DINO Inference Starting----\n"
     ]
    },
    {
     "name": "stderr",
     "output_type": "stream",
     "text": [
      "FutureWarning: The `device` argument is deprecated and will be removed in v5 of Transformers.\n",
      "UserWarning: None of the inputs have requires_grad=True. Gradients will be None\n"
     ]
    },
    {
     "name": "stdout",
     "output_type": "stream",
     "text": [
      "----DINO Inference Completed---\n",
      "mIOU CALCULATION DINO, Bottle:\n",
      "IoU for lid: 0.9973\n",
      "Mean IoU: 0.9973\n",
      "----GLIP Inference Starting----\n"
     ]
    },
    {
     "name": "stderr",
     "output_type": "stream",
     "text": [
      "FutureWarning: The `device` argument is deprecated and will be removed in v5 of Transformers.\n",
      "UserWarning: nn.functional.upsample_bilinear is deprecated. Use nn.functional.interpolate instead.\n",
      "An exception occurred in telemetry logging.Disabling telemetry to prevent further exceptions.\n",
      "Traceback (most recent call last):\n",
      "  File \"/rhome/kamburoglu/miniconda3/envs/partslip/lib/python3.9/site-packages/iopath/common/file_io.py\", line 946, in __log_tmetry_keys\n",
      "    handler.log_event()\n",
      "  File \"/rhome/kamburoglu/miniconda3/envs/partslip/lib/python3.9/site-packages/iopath/common/event_logger.py\", line 97, in log_event\n",
      "    del self._evt\n",
      "AttributeError: _evt\n"
     ]
    },
    {
     "name": "stdout",
     "output_type": "stream",
     "text": [
      "----GLIP Inference Completed---\n",
      "mIOU CALCULATION GLIP, Bottle:\n",
      "IoU for lid: 0.7752\n",
      "Mean IoU: 0.7752\n",
      "Results saved to results.json\n",
      "Bottle inference DINO, GLIP ==> SAM started:\n",
      "----DINO Inference Starting----\n"
     ]
    },
    {
     "name": "stderr",
     "output_type": "stream",
     "text": [
      "FutureWarning: The `device` argument is deprecated and will be removed in v5 of Transformers.\n",
      "UserWarning: None of the inputs have requires_grad=True. Gradients will be None\n"
     ]
    },
    {
     "name": "stdout",
     "output_type": "stream",
     "text": [
      "----DINO Inference Completed---\n",
      "mIOU CALCULATION DINO, Bottle:\n",
      "IoU for lid: 0.1975\n",
      "Mean IoU: 0.1975\n",
      "----GLIP Inference Starting----\n"
     ]
    },
    {
     "name": "stderr",
     "output_type": "stream",
     "text": [
      "FutureWarning: The `device` argument is deprecated and will be removed in v5 of Transformers.\n",
      "UserWarning: nn.functional.upsample_bilinear is deprecated. Use nn.functional.interpolate instead.\n",
      "An exception occurred in telemetry logging.Disabling telemetry to prevent further exceptions.\n",
      "Traceback (most recent call last):\n",
      "  File \"/rhome/kamburoglu/miniconda3/envs/partslip/lib/python3.9/site-packages/iopath/common/file_io.py\", line 946, in __log_tmetry_keys\n",
      "    handler.log_event()\n",
      "  File \"/rhome/kamburoglu/miniconda3/envs/partslip/lib/python3.9/site-packages/iopath/common/event_logger.py\", line 97, in log_event\n",
      "    del self._evt\n",
      "AttributeError: _evt\n"
     ]
    },
    {
     "name": "stdout",
     "output_type": "stream",
     "text": [
      "----GLIP Inference Completed---\n",
      "mIOU CALCULATION GLIP, Bottle:\n",
      "IoU for lid: 0.0000\n",
      "Mean IoU: 0.0000\n",
      "Results saved to results.json\n",
      "Bottle inference DINO, GLIP ==> SAM started:\n",
      "----DINO Inference Starting----\n"
     ]
    },
    {
     "name": "stderr",
     "output_type": "stream",
     "text": [
      "FutureWarning: The `device` argument is deprecated and will be removed in v5 of Transformers.\n",
      "UserWarning: None of the inputs have requires_grad=True. Gradients will be None\n"
     ]
    },
    {
     "name": "stdout",
     "output_type": "stream",
     "text": [
      "----DINO Inference Completed---\n",
      "mIOU CALCULATION DINO, Bottle:\n",
      "IoU for lid: 0.9360\n",
      "Mean IoU: 0.9360\n",
      "----GLIP Inference Starting----\n"
     ]
    },
    {
     "name": "stderr",
     "output_type": "stream",
     "text": [
      "FutureWarning: The `device` argument is deprecated and will be removed in v5 of Transformers.\n",
      "UserWarning: nn.functional.upsample_bilinear is deprecated. Use nn.functional.interpolate instead.\n",
      "An exception occurred in telemetry logging.Disabling telemetry to prevent further exceptions.\n",
      "Traceback (most recent call last):\n",
      "  File \"/rhome/kamburoglu/miniconda3/envs/partslip/lib/python3.9/site-packages/iopath/common/file_io.py\", line 946, in __log_tmetry_keys\n",
      "    handler.log_event()\n",
      "  File \"/rhome/kamburoglu/miniconda3/envs/partslip/lib/python3.9/site-packages/iopath/common/event_logger.py\", line 97, in log_event\n",
      "    del self._evt\n",
      "AttributeError: _evt\n"
     ]
    },
    {
     "name": "stdout",
     "output_type": "stream",
     "text": [
      "----GLIP Inference Completed---\n",
      "mIOU CALCULATION GLIP, Bottle:\n",
      "IoU for lid: 0.8385\n",
      "Mean IoU: 0.8385\n",
      "Results saved to results.json\n",
      "Bottle inference DINO, GLIP ==> SAM started:\n",
      "----DINO Inference Starting----\n"
     ]
    },
    {
     "name": "stderr",
     "output_type": "stream",
     "text": [
      "FutureWarning: The `device` argument is deprecated and will be removed in v5 of Transformers.\n",
      "UserWarning: None of the inputs have requires_grad=True. Gradients will be None\n"
     ]
    },
    {
     "name": "stdout",
     "output_type": "stream",
     "text": [
      "----DINO Inference Completed---\n",
      "mIOU CALCULATION DINO, Bottle:\n",
      "IoU for lid: 0.9766\n",
      "Mean IoU: 0.9766\n",
      "----GLIP Inference Starting----\n"
     ]
    },
    {
     "name": "stderr",
     "output_type": "stream",
     "text": [
      "FutureWarning: The `device` argument is deprecated and will be removed in v5 of Transformers.\n",
      "UserWarning: nn.functional.upsample_bilinear is deprecated. Use nn.functional.interpolate instead.\n",
      "An exception occurred in telemetry logging.Disabling telemetry to prevent further exceptions.\n",
      "Traceback (most recent call last):\n",
      "  File \"/rhome/kamburoglu/miniconda3/envs/partslip/lib/python3.9/site-packages/iopath/common/file_io.py\", line 946, in __log_tmetry_keys\n",
      "    handler.log_event()\n",
      "  File \"/rhome/kamburoglu/miniconda3/envs/partslip/lib/python3.9/site-packages/iopath/common/event_logger.py\", line 97, in log_event\n",
      "    del self._evt\n",
      "AttributeError: _evt\n"
     ]
    },
    {
     "name": "stdout",
     "output_type": "stream",
     "text": [
      "----GLIP Inference Completed---\n",
      "mIOU CALCULATION GLIP, Bottle:\n",
      "IoU for lid: 0.9399\n",
      "Mean IoU: 0.9399\n",
      "Results saved to results.json\n",
      "Bottle inference DINO, GLIP ==> SAM started:\n",
      "----DINO Inference Starting----\n"
     ]
    },
    {
     "name": "stderr",
     "output_type": "stream",
     "text": [
      "FutureWarning: The `device` argument is deprecated and will be removed in v5 of Transformers.\n",
      "UserWarning: None of the inputs have requires_grad=True. Gradients will be None\n"
     ]
    },
    {
     "name": "stdout",
     "output_type": "stream",
     "text": [
      "----DINO Inference Completed---\n",
      "mIOU CALCULATION DINO, Bottle:\n",
      "IoU for lid: 0.9928\n",
      "Mean IoU: 0.9928\n",
      "----GLIP Inference Starting----\n"
     ]
    },
    {
     "name": "stderr",
     "output_type": "stream",
     "text": [
      "FutureWarning: The `device` argument is deprecated and will be removed in v5 of Transformers.\n",
      "UserWarning: nn.functional.upsample_bilinear is deprecated. Use nn.functional.interpolate instead.\n",
      "An exception occurred in telemetry logging.Disabling telemetry to prevent further exceptions.\n",
      "Traceback (most recent call last):\n",
      "  File \"/rhome/kamburoglu/miniconda3/envs/partslip/lib/python3.9/site-packages/iopath/common/file_io.py\", line 946, in __log_tmetry_keys\n",
      "    handler.log_event()\n",
      "  File \"/rhome/kamburoglu/miniconda3/envs/partslip/lib/python3.9/site-packages/iopath/common/event_logger.py\", line 97, in log_event\n",
      "    del self._evt\n",
      "AttributeError: _evt\n"
     ]
    },
    {
     "name": "stdout",
     "output_type": "stream",
     "text": [
      "----GLIP Inference Completed---\n",
      "mIOU CALCULATION GLIP, Bottle:\n",
      "IoU for lid: 0.9946\n",
      "Mean IoU: 0.9946\n",
      "Results saved to results.json\n",
      "Bottle inference DINO, GLIP ==> SAM started:\n",
      "----DINO Inference Starting----\n"
     ]
    },
    {
     "name": "stderr",
     "output_type": "stream",
     "text": [
      "FutureWarning: The `device` argument is deprecated and will be removed in v5 of Transformers.\n",
      "UserWarning: None of the inputs have requires_grad=True. Gradients will be None\n"
     ]
    },
    {
     "name": "stdout",
     "output_type": "stream",
     "text": [
      "----DINO Inference Completed---\n",
      "mIOU CALCULATION DINO, Bottle:\n",
      "IoU for lid: 0.7441\n",
      "Mean IoU: 0.7441\n",
      "----GLIP Inference Starting----\n"
     ]
    },
    {
     "name": "stderr",
     "output_type": "stream",
     "text": [
      "FutureWarning: The `device` argument is deprecated and will be removed in v5 of Transformers.\n",
      "UserWarning: nn.functional.upsample_bilinear is deprecated. Use nn.functional.interpolate instead.\n",
      "An exception occurred in telemetry logging.Disabling telemetry to prevent further exceptions.\n",
      "Traceback (most recent call last):\n",
      "  File \"/rhome/kamburoglu/miniconda3/envs/partslip/lib/python3.9/site-packages/iopath/common/file_io.py\", line 946, in __log_tmetry_keys\n",
      "    handler.log_event()\n",
      "  File \"/rhome/kamburoglu/miniconda3/envs/partslip/lib/python3.9/site-packages/iopath/common/event_logger.py\", line 97, in log_event\n",
      "    del self._evt\n",
      "AttributeError: _evt\n"
     ]
    },
    {
     "name": "stdout",
     "output_type": "stream",
     "text": [
      "----GLIP Inference Completed---\n",
      "mIOU CALCULATION GLIP, Bottle:\n",
      "IoU for lid: 0.7295\n",
      "Mean IoU: 0.7295\n",
      "Results saved to results.json\n",
      "Bottle inference DINO, GLIP ==> SAM started:\n",
      "----DINO Inference Starting----\n"
     ]
    },
    {
     "name": "stderr",
     "output_type": "stream",
     "text": [
      "FutureWarning: The `device` argument is deprecated and will be removed in v5 of Transformers.\n",
      "UserWarning: None of the inputs have requires_grad=True. Gradients will be None\n"
     ]
    },
    {
     "name": "stdout",
     "output_type": "stream",
     "text": [
      "----DINO Inference Completed---\n",
      "mIOU CALCULATION DINO, Bottle:\n",
      "IoU for lid: 0.9934\n",
      "Mean IoU: 0.9934\n",
      "----GLIP Inference Starting----\n"
     ]
    },
    {
     "name": "stderr",
     "output_type": "stream",
     "text": [
      "FutureWarning: The `device` argument is deprecated and will be removed in v5 of Transformers.\n",
      "UserWarning: nn.functional.upsample_bilinear is deprecated. Use nn.functional.interpolate instead.\n",
      "An exception occurred in telemetry logging.Disabling telemetry to prevent further exceptions.\n",
      "Traceback (most recent call last):\n",
      "  File \"/rhome/kamburoglu/miniconda3/envs/partslip/lib/python3.9/site-packages/iopath/common/file_io.py\", line 946, in __log_tmetry_keys\n",
      "    handler.log_event()\n",
      "  File \"/rhome/kamburoglu/miniconda3/envs/partslip/lib/python3.9/site-packages/iopath/common/event_logger.py\", line 97, in log_event\n",
      "    del self._evt\n",
      "AttributeError: _evt\n"
     ]
    },
    {
     "name": "stdout",
     "output_type": "stream",
     "text": [
      "----GLIP Inference Completed---\n",
      "mIOU CALCULATION GLIP, Bottle:\n",
      "IoU for lid: 0.3428\n",
      "Mean IoU: 0.3428\n",
      "Results saved to results.json\n",
      "Bottle inference DINO, GLIP ==> SAM started:\n",
      "----DINO Inference Starting----\n"
     ]
    },
    {
     "name": "stderr",
     "output_type": "stream",
     "text": [
      "FutureWarning: The `device` argument is deprecated and will be removed in v5 of Transformers.\n",
      "UserWarning: None of the inputs have requires_grad=True. Gradients will be None\n"
     ]
    },
    {
     "name": "stdout",
     "output_type": "stream",
     "text": [
      "----DINO Inference Completed---\n",
      "mIOU CALCULATION DINO, Bottle:\n",
      "IoU for lid: 0.9820\n",
      "Mean IoU: 0.9820\n",
      "----GLIP Inference Starting----\n"
     ]
    },
    {
     "name": "stderr",
     "output_type": "stream",
     "text": [
      "FutureWarning: The `device` argument is deprecated and will be removed in v5 of Transformers.\n",
      "UserWarning: nn.functional.upsample_bilinear is deprecated. Use nn.functional.interpolate instead.\n",
      "An exception occurred in telemetry logging.Disabling telemetry to prevent further exceptions.\n",
      "Traceback (most recent call last):\n",
      "  File \"/rhome/kamburoglu/miniconda3/envs/partslip/lib/python3.9/site-packages/iopath/common/file_io.py\", line 946, in __log_tmetry_keys\n",
      "    handler.log_event()\n",
      "  File \"/rhome/kamburoglu/miniconda3/envs/partslip/lib/python3.9/site-packages/iopath/common/event_logger.py\", line 97, in log_event\n",
      "    del self._evt\n",
      "AttributeError: _evt\n"
     ]
    },
    {
     "name": "stdout",
     "output_type": "stream",
     "text": [
      "----GLIP Inference Completed---\n",
      "mIOU CALCULATION GLIP, Bottle:\n",
      "IoU for lid: 0.9405\n",
      "Mean IoU: 0.9405\n",
      "Results saved to results.json\n",
      "Bottle inference DINO, GLIP ==> SAM started:\n",
      "----DINO Inference Starting----\n"
     ]
    },
    {
     "name": "stderr",
     "output_type": "stream",
     "text": [
      "FutureWarning: The `device` argument is deprecated and will be removed in v5 of Transformers.\n",
      "UserWarning: None of the inputs have requires_grad=True. Gradients will be None\n"
     ]
    },
    {
     "name": "stdout",
     "output_type": "stream",
     "text": [
      "----DINO Inference Completed---\n",
      "mIOU CALCULATION DINO, Bottle:\n",
      "IoU for lid: 0.5715\n",
      "Mean IoU: 0.5715\n",
      "----GLIP Inference Starting----\n"
     ]
    },
    {
     "name": "stderr",
     "output_type": "stream",
     "text": [
      "FutureWarning: The `device` argument is deprecated and will be removed in v5 of Transformers.\n",
      "UserWarning: nn.functional.upsample_bilinear is deprecated. Use nn.functional.interpolate instead.\n",
      "An exception occurred in telemetry logging.Disabling telemetry to prevent further exceptions.\n",
      "Traceback (most recent call last):\n",
      "  File \"/rhome/kamburoglu/miniconda3/envs/partslip/lib/python3.9/site-packages/iopath/common/file_io.py\", line 946, in __log_tmetry_keys\n",
      "    handler.log_event()\n",
      "  File \"/rhome/kamburoglu/miniconda3/envs/partslip/lib/python3.9/site-packages/iopath/common/event_logger.py\", line 97, in log_event\n",
      "    del self._evt\n",
      "AttributeError: _evt\n"
     ]
    },
    {
     "name": "stdout",
     "output_type": "stream",
     "text": [
      "----GLIP Inference Completed---\n",
      "mIOU CALCULATION GLIP, Bottle:\n",
      "IoU for lid: 0.5889\n",
      "Mean IoU: 0.5889\n",
      "Results saved to results.json\n",
      "Bottle inference DINO, GLIP ==> SAM started:\n",
      "----DINO Inference Starting----\n"
     ]
    },
    {
     "name": "stderr",
     "output_type": "stream",
     "text": [
      "FutureWarning: The `device` argument is deprecated and will be removed in v5 of Transformers.\n",
      "UserWarning: None of the inputs have requires_grad=True. Gradients will be None\n"
     ]
    },
    {
     "name": "stdout",
     "output_type": "stream",
     "text": [
      "----DINO Inference Completed---\n",
      "mIOU CALCULATION DINO, Bottle:\n",
      "lid not present in ground truth, skipping IoU calculation.\n",
      "No valid parts found in the ground truth. Mean IoU cannot be calculated.\n",
      "----GLIP Inference Starting----\n"
     ]
    },
    {
     "name": "stderr",
     "output_type": "stream",
     "text": [
      "FutureWarning: The `device` argument is deprecated and will be removed in v5 of Transformers.\n",
      "UserWarning: nn.functional.upsample_bilinear is deprecated. Use nn.functional.interpolate instead.\n",
      "An exception occurred in telemetry logging.Disabling telemetry to prevent further exceptions.\n",
      "Traceback (most recent call last):\n",
      "  File \"/rhome/kamburoglu/miniconda3/envs/partslip/lib/python3.9/site-packages/iopath/common/file_io.py\", line 946, in __log_tmetry_keys\n",
      "    handler.log_event()\n",
      "  File \"/rhome/kamburoglu/miniconda3/envs/partslip/lib/python3.9/site-packages/iopath/common/event_logger.py\", line 97, in log_event\n",
      "    del self._evt\n",
      "AttributeError: _evt\n"
     ]
    },
    {
     "name": "stdout",
     "output_type": "stream",
     "text": [
      "----GLIP Inference Completed---\n",
      "mIOU CALCULATION GLIP, Bottle:\n",
      "bottle lid not present in ground truth, skipping IoU calculation.\n",
      "No valid parts found in the ground truth. Mean IoU cannot be calculated.\n",
      "Results saved to results.json\n",
      "Bottle inference DINO, GLIP ==> SAM started:\n",
      "----DINO Inference Starting----\n"
     ]
    },
    {
     "name": "stderr",
     "output_type": "stream",
     "text": [
      "FutureWarning: The `device` argument is deprecated and will be removed in v5 of Transformers.\n",
      "UserWarning: None of the inputs have requires_grad=True. Gradients will be None\n"
     ]
    },
    {
     "name": "stdout",
     "output_type": "stream",
     "text": [
      "----DINO Inference Completed---\n",
      "mIOU CALCULATION DINO, Bottle:\n",
      "IoU for lid: 0.9581\n",
      "Mean IoU: 0.9581\n",
      "----GLIP Inference Starting----\n"
     ]
    },
    {
     "name": "stderr",
     "output_type": "stream",
     "text": [
      "FutureWarning: The `device` argument is deprecated and will be removed in v5 of Transformers.\n",
      "UserWarning: nn.functional.upsample_bilinear is deprecated. Use nn.functional.interpolate instead.\n",
      "An exception occurred in telemetry logging.Disabling telemetry to prevent further exceptions.\n",
      "Traceback (most recent call last):\n",
      "  File \"/rhome/kamburoglu/miniconda3/envs/partslip/lib/python3.9/site-packages/iopath/common/file_io.py\", line 946, in __log_tmetry_keys\n",
      "    handler.log_event()\n",
      "  File \"/rhome/kamburoglu/miniconda3/envs/partslip/lib/python3.9/site-packages/iopath/common/event_logger.py\", line 97, in log_event\n",
      "    del self._evt\n",
      "AttributeError: _evt\n"
     ]
    },
    {
     "name": "stdout",
     "output_type": "stream",
     "text": [
      "----GLIP Inference Completed---\n",
      "mIOU CALCULATION GLIP, Bottle:\n",
      "IoU for lid: 0.9502\n",
      "Mean IoU: 0.9502\n",
      "Results saved to results.json\n",
      "Bottle inference DINO, GLIP ==> SAM started:\n",
      "----DINO Inference Starting----\n"
     ]
    },
    {
     "name": "stderr",
     "output_type": "stream",
     "text": [
      "FutureWarning: The `device` argument is deprecated and will be removed in v5 of Transformers.\n",
      "UserWarning: None of the inputs have requires_grad=True. Gradients will be None\n"
     ]
    },
    {
     "name": "stdout",
     "output_type": "stream",
     "text": [
      "----DINO Inference Completed---\n",
      "mIOU CALCULATION DINO, Bottle:\n",
      "IoU for lid: 0.9583\n",
      "Mean IoU: 0.9583\n",
      "----GLIP Inference Starting----\n"
     ]
    },
    {
     "name": "stderr",
     "output_type": "stream",
     "text": [
      "FutureWarning: The `device` argument is deprecated and will be removed in v5 of Transformers.\n",
      "UserWarning: nn.functional.upsample_bilinear is deprecated. Use nn.functional.interpolate instead.\n",
      "An exception occurred in telemetry logging.Disabling telemetry to prevent further exceptions.\n",
      "Traceback (most recent call last):\n",
      "  File \"/rhome/kamburoglu/miniconda3/envs/partslip/lib/python3.9/site-packages/iopath/common/file_io.py\", line 946, in __log_tmetry_keys\n",
      "    handler.log_event()\n",
      "  File \"/rhome/kamburoglu/miniconda3/envs/partslip/lib/python3.9/site-packages/iopath/common/event_logger.py\", line 97, in log_event\n",
      "    del self._evt\n",
      "AttributeError: _evt\n"
     ]
    },
    {
     "name": "stdout",
     "output_type": "stream",
     "text": [
      "----GLIP Inference Completed---\n",
      "mIOU CALCULATION GLIP, Bottle:\n",
      "IoU for lid: 0.8984\n",
      "Mean IoU: 0.8984\n",
      "Results saved to results.json\n",
      "Bottle inference DINO, GLIP ==> SAM started:\n",
      "----DINO Inference Starting----\n"
     ]
    },
    {
     "name": "stderr",
     "output_type": "stream",
     "text": [
      "FutureWarning: The `device` argument is deprecated and will be removed in v5 of Transformers.\n",
      "UserWarning: None of the inputs have requires_grad=True. Gradients will be None\n"
     ]
    },
    {
     "name": "stdout",
     "output_type": "stream",
     "text": [
      "----DINO Inference Completed---\n",
      "mIOU CALCULATION DINO, Bottle:\n",
      "IoU for lid: 0.4390\n",
      "Mean IoU: 0.4390\n",
      "----GLIP Inference Starting----\n"
     ]
    },
    {
     "name": "stderr",
     "output_type": "stream",
     "text": [
      "FutureWarning: The `device` argument is deprecated and will be removed in v5 of Transformers.\n",
      "UserWarning: nn.functional.upsample_bilinear is deprecated. Use nn.functional.interpolate instead.\n",
      "An exception occurred in telemetry logging.Disabling telemetry to prevent further exceptions.\n",
      "Traceback (most recent call last):\n",
      "  File \"/rhome/kamburoglu/miniconda3/envs/partslip/lib/python3.9/site-packages/iopath/common/file_io.py\", line 946, in __log_tmetry_keys\n",
      "    handler.log_event()\n",
      "  File \"/rhome/kamburoglu/miniconda3/envs/partslip/lib/python3.9/site-packages/iopath/common/event_logger.py\", line 97, in log_event\n",
      "    del self._evt\n",
      "AttributeError: _evt\n"
     ]
    },
    {
     "name": "stdout",
     "output_type": "stream",
     "text": [
      "----GLIP Inference Completed---\n",
      "mIOU CALCULATION GLIP, Bottle:\n",
      "IoU for lid: 0.9669\n",
      "Mean IoU: 0.9669\n",
      "Results saved to results.json\n",
      "Bottle inference DINO, GLIP ==> SAM started:\n",
      "----DINO Inference Starting----\n"
     ]
    },
    {
     "name": "stderr",
     "output_type": "stream",
     "text": [
      "FutureWarning: The `device` argument is deprecated and will be removed in v5 of Transformers.\n",
      "UserWarning: None of the inputs have requires_grad=True. Gradients will be None\n"
     ]
    },
    {
     "name": "stdout",
     "output_type": "stream",
     "text": [
      "----DINO Inference Completed---\n",
      "mIOU CALCULATION DINO, Bottle:\n",
      "IoU for lid: 0.2313\n",
      "Mean IoU: 0.2313\n",
      "----GLIP Inference Starting----\n"
     ]
    },
    {
     "name": "stderr",
     "output_type": "stream",
     "text": [
      "FutureWarning: The `device` argument is deprecated and will be removed in v5 of Transformers.\n",
      "UserWarning: nn.functional.upsample_bilinear is deprecated. Use nn.functional.interpolate instead.\n",
      "An exception occurred in telemetry logging.Disabling telemetry to prevent further exceptions.\n",
      "Traceback (most recent call last):\n",
      "  File \"/rhome/kamburoglu/miniconda3/envs/partslip/lib/python3.9/site-packages/iopath/common/file_io.py\", line 946, in __log_tmetry_keys\n",
      "    handler.log_event()\n",
      "  File \"/rhome/kamburoglu/miniconda3/envs/partslip/lib/python3.9/site-packages/iopath/common/event_logger.py\", line 97, in log_event\n",
      "    del self._evt\n",
      "AttributeError: _evt\n"
     ]
    },
    {
     "name": "stdout",
     "output_type": "stream",
     "text": [
      "----GLIP Inference Completed---\n",
      "mIOU CALCULATION GLIP, Bottle:\n",
      "IoU for lid: 0.2140\n",
      "Mean IoU: 0.2140\n",
      "Results saved to results.json\n",
      "Bottle inference DINO, GLIP ==> SAM started:\n",
      "----DINO Inference Starting----\n"
     ]
    },
    {
     "name": "stderr",
     "output_type": "stream",
     "text": [
      "FutureWarning: The `device` argument is deprecated and will be removed in v5 of Transformers.\n",
      "UserWarning: None of the inputs have requires_grad=True. Gradients will be None\n"
     ]
    },
    {
     "name": "stdout",
     "output_type": "stream",
     "text": [
      "----DINO Inference Completed---\n",
      "mIOU CALCULATION DINO, Bottle:\n",
      "IoU for lid: 0.9882\n",
      "Mean IoU: 0.9882\n",
      "----GLIP Inference Starting----\n"
     ]
    },
    {
     "name": "stderr",
     "output_type": "stream",
     "text": [
      "FutureWarning: The `device` argument is deprecated and will be removed in v5 of Transformers.\n",
      "UserWarning: nn.functional.upsample_bilinear is deprecated. Use nn.functional.interpolate instead.\n",
      "An exception occurred in telemetry logging.Disabling telemetry to prevent further exceptions.\n",
      "Traceback (most recent call last):\n",
      "  File \"/rhome/kamburoglu/miniconda3/envs/partslip/lib/python3.9/site-packages/iopath/common/file_io.py\", line 946, in __log_tmetry_keys\n",
      "    handler.log_event()\n",
      "  File \"/rhome/kamburoglu/miniconda3/envs/partslip/lib/python3.9/site-packages/iopath/common/event_logger.py\", line 97, in log_event\n",
      "    del self._evt\n",
      "AttributeError: _evt\n"
     ]
    },
    {
     "name": "stdout",
     "output_type": "stream",
     "text": [
      "----GLIP Inference Completed---\n",
      "mIOU CALCULATION GLIP, Bottle:\n",
      "IoU for lid: 0.8644\n",
      "Mean IoU: 0.8644\n",
      "Results saved to results.json\n",
      "Bottle inference DINO, GLIP ==> SAM started:\n",
      "----DINO Inference Starting----\n"
     ]
    },
    {
     "name": "stderr",
     "output_type": "stream",
     "text": [
      "FutureWarning: The `device` argument is deprecated and will be removed in v5 of Transformers.\n",
      "UserWarning: None of the inputs have requires_grad=True. Gradients will be None\n"
     ]
    },
    {
     "name": "stdout",
     "output_type": "stream",
     "text": [
      "----DINO Inference Completed---\n",
      "mIOU CALCULATION DINO, Bottle:\n",
      "IoU for lid: 0.4633\n",
      "Mean IoU: 0.4633\n",
      "----GLIP Inference Starting----\n"
     ]
    },
    {
     "name": "stderr",
     "output_type": "stream",
     "text": [
      "FutureWarning: The `device` argument is deprecated and will be removed in v5 of Transformers.\n",
      "UserWarning: nn.functional.upsample_bilinear is deprecated. Use nn.functional.interpolate instead.\n",
      "An exception occurred in telemetry logging.Disabling telemetry to prevent further exceptions.\n",
      "Traceback (most recent call last):\n",
      "  File \"/rhome/kamburoglu/miniconda3/envs/partslip/lib/python3.9/site-packages/iopath/common/file_io.py\", line 946, in __log_tmetry_keys\n",
      "    handler.log_event()\n",
      "  File \"/rhome/kamburoglu/miniconda3/envs/partslip/lib/python3.9/site-packages/iopath/common/event_logger.py\", line 97, in log_event\n",
      "    del self._evt\n",
      "AttributeError: _evt\n"
     ]
    },
    {
     "name": "stdout",
     "output_type": "stream",
     "text": [
      "----GLIP Inference Completed---\n",
      "mIOU CALCULATION GLIP, Bottle:\n",
      "IoU for lid: 0.4618\n",
      "Mean IoU: 0.4618\n",
      "Results saved to results.json\n",
      "Bottle inference DINO, GLIP ==> SAM started:\n",
      "----DINO Inference Starting----\n"
     ]
    },
    {
     "name": "stderr",
     "output_type": "stream",
     "text": [
      "FutureWarning: The `device` argument is deprecated and will be removed in v5 of Transformers.\n",
      "UserWarning: None of the inputs have requires_grad=True. Gradients will be None\n"
     ]
    },
    {
     "name": "stdout",
     "output_type": "stream",
     "text": [
      "----DINO Inference Completed---\n",
      "mIOU CALCULATION DINO, Bottle:\n",
      "IoU for lid: 0.5263\n",
      "Mean IoU: 0.5263\n",
      "----GLIP Inference Starting----\n"
     ]
    },
    {
     "name": "stderr",
     "output_type": "stream",
     "text": [
      "FutureWarning: The `device` argument is deprecated and will be removed in v5 of Transformers.\n",
      "UserWarning: nn.functional.upsample_bilinear is deprecated. Use nn.functional.interpolate instead.\n",
      "An exception occurred in telemetry logging.Disabling telemetry to prevent further exceptions.\n",
      "Traceback (most recent call last):\n",
      "  File \"/rhome/kamburoglu/miniconda3/envs/partslip/lib/python3.9/site-packages/iopath/common/file_io.py\", line 946, in __log_tmetry_keys\n",
      "    handler.log_event()\n",
      "  File \"/rhome/kamburoglu/miniconda3/envs/partslip/lib/python3.9/site-packages/iopath/common/event_logger.py\", line 97, in log_event\n",
      "    del self._evt\n",
      "AttributeError: _evt\n"
     ]
    },
    {
     "name": "stdout",
     "output_type": "stream",
     "text": [
      "----GLIP Inference Completed---\n",
      "mIOU CALCULATION GLIP, Bottle:\n",
      "IoU for lid: 0.5494\n",
      "Mean IoU: 0.5494\n",
      "Results saved to results.json\n",
      "Bottle inference DINO, GLIP ==> SAM started:\n",
      "----DINO Inference Starting----\n"
     ]
    },
    {
     "name": "stderr",
     "output_type": "stream",
     "text": [
      "FutureWarning: The `device` argument is deprecated and will be removed in v5 of Transformers.\n",
      "UserWarning: None of the inputs have requires_grad=True. Gradients will be None\n"
     ]
    },
    {
     "name": "stdout",
     "output_type": "stream",
     "text": [
      "----DINO Inference Completed---\n",
      "mIOU CALCULATION DINO, Bottle:\n",
      "IoU for lid: 0.9954\n",
      "Mean IoU: 0.9954\n",
      "----GLIP Inference Starting----\n"
     ]
    },
    {
     "name": "stderr",
     "output_type": "stream",
     "text": [
      "FutureWarning: The `device` argument is deprecated and will be removed in v5 of Transformers.\n",
      "UserWarning: nn.functional.upsample_bilinear is deprecated. Use nn.functional.interpolate instead.\n",
      "An exception occurred in telemetry logging.Disabling telemetry to prevent further exceptions.\n",
      "Traceback (most recent call last):\n",
      "  File \"/rhome/kamburoglu/miniconda3/envs/partslip/lib/python3.9/site-packages/iopath/common/file_io.py\", line 946, in __log_tmetry_keys\n",
      "    handler.log_event()\n",
      "  File \"/rhome/kamburoglu/miniconda3/envs/partslip/lib/python3.9/site-packages/iopath/common/event_logger.py\", line 97, in log_event\n",
      "    del self._evt\n",
      "AttributeError: _evt\n"
     ]
    },
    {
     "name": "stdout",
     "output_type": "stream",
     "text": [
      "----GLIP Inference Completed---\n",
      "mIOU CALCULATION GLIP, Bottle:\n",
      "IoU for lid: 0.8330\n",
      "Mean IoU: 0.8330\n",
      "Results saved to results.json\n",
      "Bottle inference DINO, GLIP ==> SAM started:\n",
      "----DINO Inference Starting----\n"
     ]
    },
    {
     "name": "stderr",
     "output_type": "stream",
     "text": [
      "FutureWarning: The `device` argument is deprecated and will be removed in v5 of Transformers.\n",
      "UserWarning: None of the inputs have requires_grad=True. Gradients will be None\n"
     ]
    },
    {
     "name": "stdout",
     "output_type": "stream",
     "text": [
      "----DINO Inference Completed---\n",
      "mIOU CALCULATION DINO, Bottle:\n",
      "IoU for lid: 0.2833\n",
      "Mean IoU: 0.2833\n",
      "----GLIP Inference Starting----\n"
     ]
    },
    {
     "name": "stderr",
     "output_type": "stream",
     "text": [
      "FutureWarning: The `device` argument is deprecated and will be removed in v5 of Transformers.\n",
      "UserWarning: nn.functional.upsample_bilinear is deprecated. Use nn.functional.interpolate instead.\n",
      "An exception occurred in telemetry logging.Disabling telemetry to prevent further exceptions.\n",
      "Traceback (most recent call last):\n",
      "  File \"/rhome/kamburoglu/miniconda3/envs/partslip/lib/python3.9/site-packages/iopath/common/file_io.py\", line 946, in __log_tmetry_keys\n",
      "    handler.log_event()\n",
      "  File \"/rhome/kamburoglu/miniconda3/envs/partslip/lib/python3.9/site-packages/iopath/common/event_logger.py\", line 97, in log_event\n",
      "    del self._evt\n",
      "AttributeError: _evt\n"
     ]
    },
    {
     "name": "stdout",
     "output_type": "stream",
     "text": [
      "----GLIP Inference Completed---\n",
      "mIOU CALCULATION GLIP, Bottle:\n",
      "IoU for lid: 0.2871\n",
      "Mean IoU: 0.2871\n",
      "Results saved to results.json\n",
      "Bottle inference DINO, GLIP ==> SAM started:\n",
      "----DINO Inference Starting----\n"
     ]
    },
    {
     "name": "stderr",
     "output_type": "stream",
     "text": [
      "FutureWarning: The `device` argument is deprecated and will be removed in v5 of Transformers.\n",
      "UserWarning: None of the inputs have requires_grad=True. Gradients will be None\n"
     ]
    },
    {
     "name": "stdout",
     "output_type": "stream",
     "text": [
      "----DINO Inference Completed---\n",
      "mIOU CALCULATION DINO, Bottle:\n",
      "IoU for lid: 0.7938\n",
      "Mean IoU: 0.7938\n",
      "----GLIP Inference Starting----\n"
     ]
    },
    {
     "name": "stderr",
     "output_type": "stream",
     "text": [
      "FutureWarning: The `device` argument is deprecated and will be removed in v5 of Transformers.\n",
      "UserWarning: nn.functional.upsample_bilinear is deprecated. Use nn.functional.interpolate instead.\n",
      "An exception occurred in telemetry logging.Disabling telemetry to prevent further exceptions.\n",
      "Traceback (most recent call last):\n",
      "  File \"/rhome/kamburoglu/miniconda3/envs/partslip/lib/python3.9/site-packages/iopath/common/file_io.py\", line 946, in __log_tmetry_keys\n",
      "    handler.log_event()\n",
      "  File \"/rhome/kamburoglu/miniconda3/envs/partslip/lib/python3.9/site-packages/iopath/common/event_logger.py\", line 97, in log_event\n",
      "    del self._evt\n",
      "AttributeError: _evt\n"
     ]
    },
    {
     "name": "stdout",
     "output_type": "stream",
     "text": [
      "----GLIP Inference Completed---\n",
      "mIOU CALCULATION GLIP, Bottle:\n",
      "IoU for lid: 0.7423\n",
      "Mean IoU: 0.7423\n",
      "Results saved to results.json\n",
      "Bottle inference DINO, GLIP ==> SAM started:\n",
      "----DINO Inference Starting----\n"
     ]
    },
    {
     "name": "stderr",
     "output_type": "stream",
     "text": [
      "FutureWarning: The `device` argument is deprecated and will be removed in v5 of Transformers.\n",
      "UserWarning: None of the inputs have requires_grad=True. Gradients will be None\n"
     ]
    },
    {
     "name": "stdout",
     "output_type": "stream",
     "text": [
      "----DINO Inference Completed---\n",
      "mIOU CALCULATION DINO, Bottle:\n",
      "IoU for lid: 0.9994\n",
      "Mean IoU: 0.9994\n",
      "----GLIP Inference Starting----\n"
     ]
    },
    {
     "name": "stderr",
     "output_type": "stream",
     "text": [
      "FutureWarning: The `device` argument is deprecated and will be removed in v5 of Transformers.\n",
      "UserWarning: nn.functional.upsample_bilinear is deprecated. Use nn.functional.interpolate instead.\n",
      "An exception occurred in telemetry logging.Disabling telemetry to prevent further exceptions.\n",
      "Traceback (most recent call last):\n",
      "  File \"/rhome/kamburoglu/miniconda3/envs/partslip/lib/python3.9/site-packages/iopath/common/file_io.py\", line 946, in __log_tmetry_keys\n",
      "    handler.log_event()\n",
      "  File \"/rhome/kamburoglu/miniconda3/envs/partslip/lib/python3.9/site-packages/iopath/common/event_logger.py\", line 97, in log_event\n",
      "    del self._evt\n",
      "AttributeError: _evt\n"
     ]
    },
    {
     "name": "stdout",
     "output_type": "stream",
     "text": [
      "----GLIP Inference Completed---\n",
      "mIOU CALCULATION GLIP, Bottle:\n",
      "IoU for lid: 0.9079\n",
      "Mean IoU: 0.9079\n",
      "Results saved to results.json\n",
      "Bottle inference DINO, GLIP ==> SAM started:\n",
      "----DINO Inference Starting----\n"
     ]
    },
    {
     "name": "stderr",
     "output_type": "stream",
     "text": [
      "FutureWarning: The `device` argument is deprecated and will be removed in v5 of Transformers.\n",
      "UserWarning: None of the inputs have requires_grad=True. Gradients will be None\n"
     ]
    },
    {
     "name": "stdout",
     "output_type": "stream",
     "text": [
      "----DINO Inference Completed---\n",
      "mIOU CALCULATION DINO, Bottle:\n",
      "IoU for lid: 0.9648\n",
      "Mean IoU: 0.9648\n",
      "----GLIP Inference Starting----\n"
     ]
    },
    {
     "name": "stderr",
     "output_type": "stream",
     "text": [
      "FutureWarning: The `device` argument is deprecated and will be removed in v5 of Transformers.\n",
      "UserWarning: nn.functional.upsample_bilinear is deprecated. Use nn.functional.interpolate instead.\n",
      "An exception occurred in telemetry logging.Disabling telemetry to prevent further exceptions.\n",
      "Traceback (most recent call last):\n",
      "  File \"/rhome/kamburoglu/miniconda3/envs/partslip/lib/python3.9/site-packages/iopath/common/file_io.py\", line 946, in __log_tmetry_keys\n",
      "    handler.log_event()\n",
      "  File \"/rhome/kamburoglu/miniconda3/envs/partslip/lib/python3.9/site-packages/iopath/common/event_logger.py\", line 97, in log_event\n",
      "    del self._evt\n",
      "AttributeError: _evt\n"
     ]
    },
    {
     "name": "stdout",
     "output_type": "stream",
     "text": [
      "----GLIP Inference Completed---\n",
      "mIOU CALCULATION GLIP, Bottle:\n",
      "IoU for lid: 0.8635\n",
      "Mean IoU: 0.8635\n",
      "Results saved to results.json\n",
      "Bottle inference DINO, GLIP ==> SAM started:\n",
      "----DINO Inference Starting----\n"
     ]
    },
    {
     "name": "stderr",
     "output_type": "stream",
     "text": [
      "FutureWarning: The `device` argument is deprecated and will be removed in v5 of Transformers.\n",
      "UserWarning: None of the inputs have requires_grad=True. Gradients will be None\n"
     ]
    },
    {
     "name": "stdout",
     "output_type": "stream",
     "text": [
      "----DINO Inference Completed---\n",
      "mIOU CALCULATION DINO, Bottle:\n",
      "IoU for lid: 0.9680\n",
      "Mean IoU: 0.9680\n",
      "----GLIP Inference Starting----\n"
     ]
    },
    {
     "name": "stderr",
     "output_type": "stream",
     "text": [
      "FutureWarning: The `device` argument is deprecated and will be removed in v5 of Transformers.\n",
      "UserWarning: nn.functional.upsample_bilinear is deprecated. Use nn.functional.interpolate instead.\n",
      "An exception occurred in telemetry logging.Disabling telemetry to prevent further exceptions.\n",
      "Traceback (most recent call last):\n",
      "  File \"/rhome/kamburoglu/miniconda3/envs/partslip/lib/python3.9/site-packages/iopath/common/file_io.py\", line 946, in __log_tmetry_keys\n",
      "    handler.log_event()\n",
      "  File \"/rhome/kamburoglu/miniconda3/envs/partslip/lib/python3.9/site-packages/iopath/common/event_logger.py\", line 97, in log_event\n",
      "    del self._evt\n",
      "AttributeError: _evt\n"
     ]
    },
    {
     "name": "stdout",
     "output_type": "stream",
     "text": [
      "----GLIP Inference Completed---\n",
      "mIOU CALCULATION GLIP, Bottle:\n",
      "IoU for lid: 0.7784\n",
      "Mean IoU: 0.7784\n",
      "Results saved to results.json\n",
      "Bottle inference DINO, GLIP ==> SAM started:\n",
      "----DINO Inference Starting----\n"
     ]
    },
    {
     "name": "stderr",
     "output_type": "stream",
     "text": [
      "FutureWarning: The `device` argument is deprecated and will be removed in v5 of Transformers.\n",
      "UserWarning: None of the inputs have requires_grad=True. Gradients will be None\n"
     ]
    },
    {
     "name": "stdout",
     "output_type": "stream",
     "text": [
      "----DINO Inference Completed---\n",
      "mIOU CALCULATION DINO, Bottle:\n",
      "IoU for lid: 0.9968\n",
      "Mean IoU: 0.9968\n",
      "----GLIP Inference Starting----\n"
     ]
    },
    {
     "name": "stderr",
     "output_type": "stream",
     "text": [
      "FutureWarning: The `device` argument is deprecated and will be removed in v5 of Transformers.\n",
      "UserWarning: nn.functional.upsample_bilinear is deprecated. Use nn.functional.interpolate instead.\n",
      "An exception occurred in telemetry logging.Disabling telemetry to prevent further exceptions.\n",
      "Traceback (most recent call last):\n",
      "  File \"/rhome/kamburoglu/miniconda3/envs/partslip/lib/python3.9/site-packages/iopath/common/file_io.py\", line 946, in __log_tmetry_keys\n",
      "    handler.log_event()\n",
      "  File \"/rhome/kamburoglu/miniconda3/envs/partslip/lib/python3.9/site-packages/iopath/common/event_logger.py\", line 97, in log_event\n",
      "    del self._evt\n",
      "AttributeError: _evt\n"
     ]
    },
    {
     "name": "stdout",
     "output_type": "stream",
     "text": [
      "----GLIP Inference Completed---\n",
      "mIOU CALCULATION GLIP, Bottle:\n",
      "IoU for lid: 0.9533\n",
      "Mean IoU: 0.9533\n",
      "Results saved to results.json\n",
      "Bottle inference DINO, GLIP ==> SAM started:\n",
      "----DINO Inference Starting----\n"
     ]
    },
    {
     "name": "stderr",
     "output_type": "stream",
     "text": [
      "FutureWarning: The `device` argument is deprecated and will be removed in v5 of Transformers.\n",
      "UserWarning: None of the inputs have requires_grad=True. Gradients will be None\n"
     ]
    },
    {
     "name": "stdout",
     "output_type": "stream",
     "text": [
      "----DINO Inference Completed---\n",
      "mIOU CALCULATION DINO, Bottle:\n",
      "IoU for lid: 0.5768\n",
      "Mean IoU: 0.5768\n",
      "----GLIP Inference Starting----\n"
     ]
    },
    {
     "name": "stderr",
     "output_type": "stream",
     "text": [
      "FutureWarning: The `device` argument is deprecated and will be removed in v5 of Transformers.\n",
      "UserWarning: nn.functional.upsample_bilinear is deprecated. Use nn.functional.interpolate instead.\n",
      "An exception occurred in telemetry logging.Disabling telemetry to prevent further exceptions.\n",
      "Traceback (most recent call last):\n",
      "  File \"/rhome/kamburoglu/miniconda3/envs/partslip/lib/python3.9/site-packages/iopath/common/file_io.py\", line 946, in __log_tmetry_keys\n",
      "    handler.log_event()\n",
      "  File \"/rhome/kamburoglu/miniconda3/envs/partslip/lib/python3.9/site-packages/iopath/common/event_logger.py\", line 97, in log_event\n",
      "    del self._evt\n",
      "AttributeError: _evt\n"
     ]
    },
    {
     "name": "stdout",
     "output_type": "stream",
     "text": [
      "----GLIP Inference Completed---\n",
      "mIOU CALCULATION GLIP, Bottle:\n",
      "IoU for lid: 0.6538\n",
      "Mean IoU: 0.6538\n",
      "Results saved to results.json\n",
      "Bottle inference DINO, GLIP ==> SAM started:\n",
      "----DINO Inference Starting----\n"
     ]
    },
    {
     "name": "stderr",
     "output_type": "stream",
     "text": [
      "FutureWarning: The `device` argument is deprecated and will be removed in v5 of Transformers.\n",
      "UserWarning: None of the inputs have requires_grad=True. Gradients will be None\n"
     ]
    },
    {
     "name": "stdout",
     "output_type": "stream",
     "text": [
      "----DINO Inference Completed---\n",
      "mIOU CALCULATION DINO, Bottle:\n",
      "IoU for lid: 0.9044\n",
      "Mean IoU: 0.9044\n",
      "----GLIP Inference Starting----\n"
     ]
    },
    {
     "name": "stderr",
     "output_type": "stream",
     "text": [
      "FutureWarning: The `device` argument is deprecated and will be removed in v5 of Transformers.\n",
      "UserWarning: nn.functional.upsample_bilinear is deprecated. Use nn.functional.interpolate instead.\n",
      "An exception occurred in telemetry logging.Disabling telemetry to prevent further exceptions.\n",
      "Traceback (most recent call last):\n",
      "  File \"/rhome/kamburoglu/miniconda3/envs/partslip/lib/python3.9/site-packages/iopath/common/file_io.py\", line 946, in __log_tmetry_keys\n",
      "    handler.log_event()\n",
      "  File \"/rhome/kamburoglu/miniconda3/envs/partslip/lib/python3.9/site-packages/iopath/common/event_logger.py\", line 97, in log_event\n",
      "    del self._evt\n",
      "AttributeError: _evt\n"
     ]
    },
    {
     "name": "stdout",
     "output_type": "stream",
     "text": [
      "----GLIP Inference Completed---\n",
      "mIOU CALCULATION GLIP, Bottle:\n",
      "IoU for lid: 0.8880\n",
      "Mean IoU: 0.8880\n",
      "Results saved to results.json\n",
      "Bottle inference DINO, GLIP ==> SAM started:\n",
      "----DINO Inference Starting----\n"
     ]
    },
    {
     "name": "stderr",
     "output_type": "stream",
     "text": [
      "FutureWarning: The `device` argument is deprecated and will be removed in v5 of Transformers.\n",
      "UserWarning: None of the inputs have requires_grad=True. Gradients will be None\n"
     ]
    },
    {
     "name": "stdout",
     "output_type": "stream",
     "text": [
      "----DINO Inference Completed---\n",
      "mIOU CALCULATION DINO, Bottle:\n",
      "IoU for lid: 0.9432\n",
      "Mean IoU: 0.9432\n",
      "----GLIP Inference Starting----\n"
     ]
    },
    {
     "name": "stderr",
     "output_type": "stream",
     "text": [
      "FutureWarning: The `device` argument is deprecated and will be removed in v5 of Transformers.\n",
      "UserWarning: nn.functional.upsample_bilinear is deprecated. Use nn.functional.interpolate instead.\n",
      "An exception occurred in telemetry logging.Disabling telemetry to prevent further exceptions.\n",
      "Traceback (most recent call last):\n",
      "  File \"/rhome/kamburoglu/miniconda3/envs/partslip/lib/python3.9/site-packages/iopath/common/file_io.py\", line 946, in __log_tmetry_keys\n",
      "    handler.log_event()\n",
      "  File \"/rhome/kamburoglu/miniconda3/envs/partslip/lib/python3.9/site-packages/iopath/common/event_logger.py\", line 97, in log_event\n",
      "    del self._evt\n",
      "AttributeError: _evt\n"
     ]
    },
    {
     "name": "stdout",
     "output_type": "stream",
     "text": [
      "----GLIP Inference Completed---\n",
      "mIOU CALCULATION GLIP, Bottle:\n",
      "IoU for lid: 0.8192\n",
      "Mean IoU: 0.8192\n",
      "Results saved to results.json\n",
      "Bottle inference DINO, GLIP ==> SAM started:\n",
      "----DINO Inference Starting----\n"
     ]
    },
    {
     "name": "stderr",
     "output_type": "stream",
     "text": [
      "FutureWarning: The `device` argument is deprecated and will be removed in v5 of Transformers.\n",
      "UserWarning: None of the inputs have requires_grad=True. Gradients will be None\n"
     ]
    },
    {
     "name": "stdout",
     "output_type": "stream",
     "text": [
      "----DINO Inference Completed---\n",
      "mIOU CALCULATION DINO, Bottle:\n",
      "IoU for lid: 0.3300\n",
      "Mean IoU: 0.3300\n",
      "----GLIP Inference Starting----\n"
     ]
    },
    {
     "name": "stderr",
     "output_type": "stream",
     "text": [
      "FutureWarning: The `device` argument is deprecated and will be removed in v5 of Transformers.\n",
      "UserWarning: nn.functional.upsample_bilinear is deprecated. Use nn.functional.interpolate instead.\n",
      "An exception occurred in telemetry logging.Disabling telemetry to prevent further exceptions.\n",
      "Traceback (most recent call last):\n",
      "  File \"/rhome/kamburoglu/miniconda3/envs/partslip/lib/python3.9/site-packages/iopath/common/file_io.py\", line 946, in __log_tmetry_keys\n",
      "    handler.log_event()\n",
      "  File \"/rhome/kamburoglu/miniconda3/envs/partslip/lib/python3.9/site-packages/iopath/common/event_logger.py\", line 97, in log_event\n",
      "    del self._evt\n",
      "AttributeError: _evt\n"
     ]
    },
    {
     "name": "stdout",
     "output_type": "stream",
     "text": [
      "----GLIP Inference Completed---\n",
      "mIOU CALCULATION GLIP, Bottle:\n",
      "IoU for lid: 0.7195\n",
      "Mean IoU: 0.7195\n",
      "Results saved to results.json\n",
      "Bottle inference DINO, GLIP ==> SAM started:\n",
      "----DINO Inference Starting----\n"
     ]
    },
    {
     "name": "stderr",
     "output_type": "stream",
     "text": [
      "FutureWarning: The `device` argument is deprecated and will be removed in v5 of Transformers.\n",
      "UserWarning: None of the inputs have requires_grad=True. Gradients will be None\n"
     ]
    },
    {
     "name": "stdout",
     "output_type": "stream",
     "text": [
      "----DINO Inference Completed---\n",
      "mIOU CALCULATION DINO, Bottle:\n",
      "IoU for lid: 0.2060\n",
      "Mean IoU: 0.2060\n",
      "----GLIP Inference Starting----\n"
     ]
    },
    {
     "name": "stderr",
     "output_type": "stream",
     "text": [
      "FutureWarning: The `device` argument is deprecated and will be removed in v5 of Transformers.\n",
      "UserWarning: nn.functional.upsample_bilinear is deprecated. Use nn.functional.interpolate instead.\n",
      "An exception occurred in telemetry logging.Disabling telemetry to prevent further exceptions.\n",
      "Traceback (most recent call last):\n",
      "  File \"/rhome/kamburoglu/miniconda3/envs/partslip/lib/python3.9/site-packages/iopath/common/file_io.py\", line 946, in __log_tmetry_keys\n",
      "    handler.log_event()\n",
      "  File \"/rhome/kamburoglu/miniconda3/envs/partslip/lib/python3.9/site-packages/iopath/common/event_logger.py\", line 97, in log_event\n",
      "    del self._evt\n",
      "AttributeError: _evt\n"
     ]
    },
    {
     "name": "stdout",
     "output_type": "stream",
     "text": [
      "----GLIP Inference Completed---\n",
      "mIOU CALCULATION GLIP, Bottle:\n",
      "IoU for lid: 0.3993\n",
      "Mean IoU: 0.3993\n",
      "Results saved to results.json\n",
      "Bottle inference DINO, GLIP ==> SAM started:\n",
      "----DINO Inference Starting----\n"
     ]
    },
    {
     "name": "stderr",
     "output_type": "stream",
     "text": [
      "FutureWarning: The `device` argument is deprecated and will be removed in v5 of Transformers.\n",
      "UserWarning: None of the inputs have requires_grad=True. Gradients will be None\n"
     ]
    },
    {
     "name": "stdout",
     "output_type": "stream",
     "text": [
      "----DINO Inference Completed---\n",
      "mIOU CALCULATION DINO, Bottle:\n",
      "IoU for lid: 0.0572\n",
      "Mean IoU: 0.0572\n",
      "----GLIP Inference Starting----\n"
     ]
    },
    {
     "name": "stderr",
     "output_type": "stream",
     "text": [
      "FutureWarning: The `device` argument is deprecated and will be removed in v5 of Transformers.\n",
      "UserWarning: nn.functional.upsample_bilinear is deprecated. Use nn.functional.interpolate instead.\n",
      "An exception occurred in telemetry logging.Disabling telemetry to prevent further exceptions.\n",
      "Traceback (most recent call last):\n",
      "  File \"/rhome/kamburoglu/miniconda3/envs/partslip/lib/python3.9/site-packages/iopath/common/file_io.py\", line 946, in __log_tmetry_keys\n",
      "    handler.log_event()\n",
      "  File \"/rhome/kamburoglu/miniconda3/envs/partslip/lib/python3.9/site-packages/iopath/common/event_logger.py\", line 97, in log_event\n",
      "    del self._evt\n",
      "AttributeError: _evt\n"
     ]
    },
    {
     "name": "stdout",
     "output_type": "stream",
     "text": [
      "----GLIP Inference Completed---\n",
      "mIOU CALCULATION GLIP, Bottle:\n",
      "IoU for lid: 0.0152\n",
      "Mean IoU: 0.0152\n",
      "Results saved to results.json\n",
      "Bottle inference DINO, GLIP ==> SAM started:\n",
      "----DINO Inference Starting----\n"
     ]
    },
    {
     "name": "stderr",
     "output_type": "stream",
     "text": [
      "FutureWarning: The `device` argument is deprecated and will be removed in v5 of Transformers.\n",
      "UserWarning: None of the inputs have requires_grad=True. Gradients will be None\n"
     ]
    },
    {
     "name": "stdout",
     "output_type": "stream",
     "text": [
      "----DINO Inference Completed---\n",
      "mIOU CALCULATION DINO, Bottle:\n",
      "IoU for lid: 0.9863\n",
      "Mean IoU: 0.9863\n",
      "----GLIP Inference Starting----\n"
     ]
    },
    {
     "name": "stderr",
     "output_type": "stream",
     "text": [
      "FutureWarning: The `device` argument is deprecated and will be removed in v5 of Transformers.\n",
      "UserWarning: nn.functional.upsample_bilinear is deprecated. Use nn.functional.interpolate instead.\n",
      "An exception occurred in telemetry logging.Disabling telemetry to prevent further exceptions.\n",
      "Traceback (most recent call last):\n",
      "  File \"/rhome/kamburoglu/miniconda3/envs/partslip/lib/python3.9/site-packages/iopath/common/file_io.py\", line 946, in __log_tmetry_keys\n",
      "    handler.log_event()\n",
      "  File \"/rhome/kamburoglu/miniconda3/envs/partslip/lib/python3.9/site-packages/iopath/common/event_logger.py\", line 97, in log_event\n",
      "    del self._evt\n",
      "AttributeError: _evt\n"
     ]
    },
    {
     "name": "stdout",
     "output_type": "stream",
     "text": [
      "----GLIP Inference Completed---\n",
      "mIOU CALCULATION GLIP, Bottle:\n",
      "IoU for lid: 0.4535\n",
      "Mean IoU: 0.4535\n",
      "Results saved to results.json\n",
      "Bottle inference DINO, GLIP ==> SAM started:\n",
      "----DINO Inference Starting----\n"
     ]
    },
    {
     "name": "stderr",
     "output_type": "stream",
     "text": [
      "FutureWarning: The `device` argument is deprecated and will be removed in v5 of Transformers.\n",
      "UserWarning: None of the inputs have requires_grad=True. Gradients will be None\n"
     ]
    },
    {
     "name": "stdout",
     "output_type": "stream",
     "text": [
      "----DINO Inference Completed---\n",
      "mIOU CALCULATION DINO, Bottle:\n",
      "IoU for lid: 0.9945\n",
      "Mean IoU: 0.9945\n",
      "----GLIP Inference Starting----\n"
     ]
    },
    {
     "name": "stderr",
     "output_type": "stream",
     "text": [
      "FutureWarning: The `device` argument is deprecated and will be removed in v5 of Transformers.\n",
      "UserWarning: nn.functional.upsample_bilinear is deprecated. Use nn.functional.interpolate instead.\n",
      "An exception occurred in telemetry logging.Disabling telemetry to prevent further exceptions.\n",
      "Traceback (most recent call last):\n",
      "  File \"/rhome/kamburoglu/miniconda3/envs/partslip/lib/python3.9/site-packages/iopath/common/file_io.py\", line 946, in __log_tmetry_keys\n",
      "    handler.log_event()\n",
      "  File \"/rhome/kamburoglu/miniconda3/envs/partslip/lib/python3.9/site-packages/iopath/common/event_logger.py\", line 97, in log_event\n",
      "    del self._evt\n",
      "AttributeError: _evt\n"
     ]
    },
    {
     "name": "stdout",
     "output_type": "stream",
     "text": [
      "----GLIP Inference Completed---\n",
      "mIOU CALCULATION GLIP, Bottle:\n",
      "IoU for lid: 0.9174\n",
      "Mean IoU: 0.9174\n",
      "Results saved to results.json\n",
      "Bottle inference DINO, GLIP ==> SAM started:\n",
      "----DINO Inference Starting----\n"
     ]
    },
    {
     "name": "stderr",
     "output_type": "stream",
     "text": [
      "FutureWarning: The `device` argument is deprecated and will be removed in v5 of Transformers.\n",
      "UserWarning: None of the inputs have requires_grad=True. Gradients will be None\n"
     ]
    },
    {
     "name": "stdout",
     "output_type": "stream",
     "text": [
      "----DINO Inference Completed---\n",
      "mIOU CALCULATION DINO, Bottle:\n",
      "IoU for lid: 0.9981\n",
      "Mean IoU: 0.9981\n",
      "----GLIP Inference Starting----\n"
     ]
    },
    {
     "name": "stderr",
     "output_type": "stream",
     "text": [
      "FutureWarning: The `device` argument is deprecated and will be removed in v5 of Transformers.\n",
      "UserWarning: nn.functional.upsample_bilinear is deprecated. Use nn.functional.interpolate instead.\n",
      "An exception occurred in telemetry logging.Disabling telemetry to prevent further exceptions.\n",
      "Traceback (most recent call last):\n",
      "  File \"/rhome/kamburoglu/miniconda3/envs/partslip/lib/python3.9/site-packages/iopath/common/file_io.py\", line 946, in __log_tmetry_keys\n",
      "    handler.log_event()\n",
      "  File \"/rhome/kamburoglu/miniconda3/envs/partslip/lib/python3.9/site-packages/iopath/common/event_logger.py\", line 97, in log_event\n",
      "    del self._evt\n",
      "AttributeError: _evt\n"
     ]
    },
    {
     "name": "stdout",
     "output_type": "stream",
     "text": [
      "----GLIP Inference Completed---\n",
      "mIOU CALCULATION GLIP, Bottle:\n",
      "IoU for lid: 0.9635\n",
      "Mean IoU: 0.9635\n",
      "Results saved to results.json\n",
      "Bottle inference DINO, GLIP ==> SAM started:\n",
      "----DINO Inference Starting----\n"
     ]
    },
    {
     "name": "stderr",
     "output_type": "stream",
     "text": [
      "FutureWarning: The `device` argument is deprecated and will be removed in v5 of Transformers.\n",
      "UserWarning: None of the inputs have requires_grad=True. Gradients will be None\n"
     ]
    },
    {
     "name": "stdout",
     "output_type": "stream",
     "text": [
      "----DINO Inference Completed---\n",
      "mIOU CALCULATION DINO, Bottle:\n",
      "IoU for lid: 0.9449\n",
      "Mean IoU: 0.9449\n",
      "----GLIP Inference Starting----\n"
     ]
    },
    {
     "name": "stderr",
     "output_type": "stream",
     "text": [
      "FutureWarning: The `device` argument is deprecated and will be removed in v5 of Transformers.\n",
      "UserWarning: nn.functional.upsample_bilinear is deprecated. Use nn.functional.interpolate instead.\n",
      "An exception occurred in telemetry logging.Disabling telemetry to prevent further exceptions.\n",
      "Traceback (most recent call last):\n",
      "  File \"/rhome/kamburoglu/miniconda3/envs/partslip/lib/python3.9/site-packages/iopath/common/file_io.py\", line 946, in __log_tmetry_keys\n",
      "    handler.log_event()\n",
      "  File \"/rhome/kamburoglu/miniconda3/envs/partslip/lib/python3.9/site-packages/iopath/common/event_logger.py\", line 97, in log_event\n",
      "    del self._evt\n",
      "AttributeError: _evt\n"
     ]
    },
    {
     "name": "stdout",
     "output_type": "stream",
     "text": [
      "----GLIP Inference Completed---\n",
      "mIOU CALCULATION GLIP, Bottle:\n",
      "IoU for lid: 0.6744\n",
      "Mean IoU: 0.6744\n",
      "Results saved to results.json\n",
      "Bottle inference DINO, GLIP ==> SAM started:\n",
      "----DINO Inference Starting----\n"
     ]
    },
    {
     "name": "stderr",
     "output_type": "stream",
     "text": [
      "FutureWarning: The `device` argument is deprecated and will be removed in v5 of Transformers.\n",
      "UserWarning: None of the inputs have requires_grad=True. Gradients will be None\n"
     ]
    },
    {
     "name": "stdout",
     "output_type": "stream",
     "text": [
      "----DINO Inference Completed---\n",
      "mIOU CALCULATION DINO, Bottle:\n",
      "IoU for lid: 0.9981\n",
      "Mean IoU: 0.9981\n",
      "----GLIP Inference Starting----\n"
     ]
    },
    {
     "name": "stderr",
     "output_type": "stream",
     "text": [
      "FutureWarning: The `device` argument is deprecated and will be removed in v5 of Transformers.\n",
      "UserWarning: nn.functional.upsample_bilinear is deprecated. Use nn.functional.interpolate instead.\n",
      "An exception occurred in telemetry logging.Disabling telemetry to prevent further exceptions.\n",
      "Traceback (most recent call last):\n",
      "  File \"/rhome/kamburoglu/miniconda3/envs/partslip/lib/python3.9/site-packages/iopath/common/file_io.py\", line 946, in __log_tmetry_keys\n",
      "    handler.log_event()\n",
      "  File \"/rhome/kamburoglu/miniconda3/envs/partslip/lib/python3.9/site-packages/iopath/common/event_logger.py\", line 97, in log_event\n",
      "    del self._evt\n",
      "AttributeError: _evt\n"
     ]
    },
    {
     "name": "stdout",
     "output_type": "stream",
     "text": [
      "----GLIP Inference Completed---\n",
      "mIOU CALCULATION GLIP, Bottle:\n",
      "IoU for lid: 0.9792\n",
      "Mean IoU: 0.9792\n",
      "Results saved to results.json\n",
      "Bottle inference DINO, GLIP ==> SAM started:\n",
      "----DINO Inference Starting----\n"
     ]
    },
    {
     "name": "stderr",
     "output_type": "stream",
     "text": [
      "FutureWarning: The `device` argument is deprecated and will be removed in v5 of Transformers.\n",
      "UserWarning: None of the inputs have requires_grad=True. Gradients will be None\n"
     ]
    },
    {
     "name": "stdout",
     "output_type": "stream",
     "text": [
      "----DINO Inference Completed---\n",
      "mIOU CALCULATION DINO, Bottle:\n",
      "IoU for lid: 0.9946\n",
      "Mean IoU: 0.9946\n",
      "----GLIP Inference Starting----\n"
     ]
    },
    {
     "name": "stderr",
     "output_type": "stream",
     "text": [
      "FutureWarning: The `device` argument is deprecated and will be removed in v5 of Transformers.\n",
      "UserWarning: nn.functional.upsample_bilinear is deprecated. Use nn.functional.interpolate instead.\n",
      "An exception occurred in telemetry logging.Disabling telemetry to prevent further exceptions.\n",
      "Traceback (most recent call last):\n",
      "  File \"/rhome/kamburoglu/miniconda3/envs/partslip/lib/python3.9/site-packages/iopath/common/file_io.py\", line 946, in __log_tmetry_keys\n",
      "    handler.log_event()\n",
      "  File \"/rhome/kamburoglu/miniconda3/envs/partslip/lib/python3.9/site-packages/iopath/common/event_logger.py\", line 97, in log_event\n",
      "    del self._evt\n",
      "AttributeError: _evt\n"
     ]
    },
    {
     "name": "stdout",
     "output_type": "stream",
     "text": [
      "----GLIP Inference Completed---\n",
      "mIOU CALCULATION GLIP, Bottle:\n",
      "IoU for lid: 0.9345\n",
      "Mean IoU: 0.9345\n",
      "Results saved to results.json\n",
      "Bottle inference DINO, GLIP ==> SAM started:\n",
      "----DINO Inference Starting----\n"
     ]
    },
    {
     "name": "stderr",
     "output_type": "stream",
     "text": [
      "FutureWarning: The `device` argument is deprecated and will be removed in v5 of Transformers.\n",
      "UserWarning: None of the inputs have requires_grad=True. Gradients will be None\n"
     ]
    },
    {
     "name": "stdout",
     "output_type": "stream",
     "text": [
      "----DINO Inference Completed---\n",
      "mIOU CALCULATION DINO, Bottle:\n",
      "IoU for lid: 0.7804\n",
      "Mean IoU: 0.7804\n",
      "----GLIP Inference Starting----\n"
     ]
    },
    {
     "name": "stderr",
     "output_type": "stream",
     "text": [
      "FutureWarning: The `device` argument is deprecated and will be removed in v5 of Transformers.\n",
      "UserWarning: nn.functional.upsample_bilinear is deprecated. Use nn.functional.interpolate instead.\n",
      "An exception occurred in telemetry logging.Disabling telemetry to prevent further exceptions.\n",
      "Traceback (most recent call last):\n",
      "  File \"/rhome/kamburoglu/miniconda3/envs/partslip/lib/python3.9/site-packages/iopath/common/file_io.py\", line 946, in __log_tmetry_keys\n",
      "    handler.log_event()\n",
      "  File \"/rhome/kamburoglu/miniconda3/envs/partslip/lib/python3.9/site-packages/iopath/common/event_logger.py\", line 97, in log_event\n",
      "    del self._evt\n",
      "AttributeError: _evt\n"
     ]
    },
    {
     "name": "stdout",
     "output_type": "stream",
     "text": [
      "----GLIP Inference Completed---\n",
      "mIOU CALCULATION GLIP, Bottle:\n",
      "IoU for lid: 0.1211\n",
      "Mean IoU: 0.1211\n",
      "Results saved to results.json\n",
      "Bottle inference DINO, GLIP ==> SAM started:\n",
      "----DINO Inference Starting----\n"
     ]
    },
    {
     "name": "stderr",
     "output_type": "stream",
     "text": [
      "FutureWarning: The `device` argument is deprecated and will be removed in v5 of Transformers.\n",
      "UserWarning: None of the inputs have requires_grad=True. Gradients will be None\n"
     ]
    },
    {
     "name": "stdout",
     "output_type": "stream",
     "text": [
      "----DINO Inference Completed---\n",
      "mIOU CALCULATION DINO, Bottle:\n",
      "IoU for lid: 0.9481\n",
      "Mean IoU: 0.9481\n",
      "----GLIP Inference Starting----\n"
     ]
    },
    {
     "name": "stderr",
     "output_type": "stream",
     "text": [
      "FutureWarning: The `device` argument is deprecated and will be removed in v5 of Transformers.\n",
      "UserWarning: nn.functional.upsample_bilinear is deprecated. Use nn.functional.interpolate instead.\n",
      "An exception occurred in telemetry logging.Disabling telemetry to prevent further exceptions.\n",
      "Traceback (most recent call last):\n",
      "  File \"/rhome/kamburoglu/miniconda3/envs/partslip/lib/python3.9/site-packages/iopath/common/file_io.py\", line 946, in __log_tmetry_keys\n",
      "    handler.log_event()\n",
      "  File \"/rhome/kamburoglu/miniconda3/envs/partslip/lib/python3.9/site-packages/iopath/common/event_logger.py\", line 97, in log_event\n",
      "    del self._evt\n",
      "AttributeError: _evt\n"
     ]
    },
    {
     "name": "stdout",
     "output_type": "stream",
     "text": [
      "----GLIP Inference Completed---\n",
      "mIOU CALCULATION GLIP, Bottle:\n",
      "IoU for lid: 0.8738\n",
      "Mean IoU: 0.8738\n",
      "Results saved to results.json\n",
      "Bottle inference DINO, GLIP ==> SAM started:\n",
      "----DINO Inference Starting----\n"
     ]
    },
    {
     "name": "stderr",
     "output_type": "stream",
     "text": [
      "FutureWarning: The `device` argument is deprecated and will be removed in v5 of Transformers.\n",
      "UserWarning: None of the inputs have requires_grad=True. Gradients will be None\n"
     ]
    },
    {
     "name": "stdout",
     "output_type": "stream",
     "text": [
      "----DINO Inference Completed---\n",
      "mIOU CALCULATION DINO, Bottle:\n",
      "IoU for lid: 0.9732\n",
      "Mean IoU: 0.9732\n",
      "----GLIP Inference Starting----\n"
     ]
    },
    {
     "name": "stderr",
     "output_type": "stream",
     "text": [
      "FutureWarning: The `device` argument is deprecated and will be removed in v5 of Transformers.\n",
      "UserWarning: nn.functional.upsample_bilinear is deprecated. Use nn.functional.interpolate instead.\n",
      "An exception occurred in telemetry logging.Disabling telemetry to prevent further exceptions.\n",
      "Traceback (most recent call last):\n",
      "  File \"/rhome/kamburoglu/miniconda3/envs/partslip/lib/python3.9/site-packages/iopath/common/file_io.py\", line 946, in __log_tmetry_keys\n",
      "    handler.log_event()\n",
      "  File \"/rhome/kamburoglu/miniconda3/envs/partslip/lib/python3.9/site-packages/iopath/common/event_logger.py\", line 97, in log_event\n",
      "    del self._evt\n",
      "AttributeError: _evt\n"
     ]
    },
    {
     "name": "stdout",
     "output_type": "stream",
     "text": [
      "----GLIP Inference Completed---\n",
      "mIOU CALCULATION GLIP, Bottle:\n",
      "IoU for lid: 0.8489\n",
      "Mean IoU: 0.8489\n",
      "Results saved to results.json\n",
      "Bottle inference DINO, GLIP ==> SAM started:\n",
      "----DINO Inference Starting----\n"
     ]
    },
    {
     "name": "stderr",
     "output_type": "stream",
     "text": [
      "FutureWarning: The `device` argument is deprecated and will be removed in v5 of Transformers.\n",
      "UserWarning: None of the inputs have requires_grad=True. Gradients will be None\n"
     ]
    },
    {
     "name": "stdout",
     "output_type": "stream",
     "text": [
      "----DINO Inference Completed---\n",
      "mIOU CALCULATION DINO, Bottle:\n",
      "IoU for lid: 0.8047\n",
      "Mean IoU: 0.8047\n",
      "----GLIP Inference Starting----\n"
     ]
    },
    {
     "name": "stderr",
     "output_type": "stream",
     "text": [
      "FutureWarning: The `device` argument is deprecated and will be removed in v5 of Transformers.\n",
      "UserWarning: nn.functional.upsample_bilinear is deprecated. Use nn.functional.interpolate instead.\n",
      "An exception occurred in telemetry logging.Disabling telemetry to prevent further exceptions.\n",
      "Traceback (most recent call last):\n",
      "  File \"/rhome/kamburoglu/miniconda3/envs/partslip/lib/python3.9/site-packages/iopath/common/file_io.py\", line 946, in __log_tmetry_keys\n",
      "    handler.log_event()\n",
      "  File \"/rhome/kamburoglu/miniconda3/envs/partslip/lib/python3.9/site-packages/iopath/common/event_logger.py\", line 97, in log_event\n",
      "    del self._evt\n",
      "AttributeError: _evt\n"
     ]
    },
    {
     "name": "stdout",
     "output_type": "stream",
     "text": [
      "----GLIP Inference Completed---\n",
      "mIOU CALCULATION GLIP, Bottle:\n",
      "IoU for lid: 0.8287\n",
      "Mean IoU: 0.8287\n",
      "Results saved to results.json\n",
      "Bottle inference DINO, GLIP ==> SAM started:\n",
      "----DINO Inference Starting----\n"
     ]
    },
    {
     "name": "stderr",
     "output_type": "stream",
     "text": [
      "FutureWarning: The `device` argument is deprecated and will be removed in v5 of Transformers.\n",
      "UserWarning: None of the inputs have requires_grad=True. Gradients will be None\n"
     ]
    },
    {
     "name": "stdout",
     "output_type": "stream",
     "text": [
      "----DINO Inference Completed---\n",
      "mIOU CALCULATION DINO, Bottle:\n",
      "IoU for lid: 0.9935\n",
      "Mean IoU: 0.9935\n",
      "----GLIP Inference Starting----\n"
     ]
    },
    {
     "name": "stderr",
     "output_type": "stream",
     "text": [
      "FutureWarning: The `device` argument is deprecated and will be removed in v5 of Transformers.\n",
      "UserWarning: nn.functional.upsample_bilinear is deprecated. Use nn.functional.interpolate instead.\n",
      "An exception occurred in telemetry logging.Disabling telemetry to prevent further exceptions.\n",
      "Traceback (most recent call last):\n",
      "  File \"/rhome/kamburoglu/miniconda3/envs/partslip/lib/python3.9/site-packages/iopath/common/file_io.py\", line 946, in __log_tmetry_keys\n",
      "    handler.log_event()\n",
      "  File \"/rhome/kamburoglu/miniconda3/envs/partslip/lib/python3.9/site-packages/iopath/common/event_logger.py\", line 97, in log_event\n",
      "    del self._evt\n",
      "AttributeError: _evt\n"
     ]
    },
    {
     "name": "stdout",
     "output_type": "stream",
     "text": [
      "----GLIP Inference Completed---\n",
      "mIOU CALCULATION GLIP, Bottle:\n",
      "IoU for lid: 0.9316\n",
      "Mean IoU: 0.9316\n",
      "Results saved to results.json\n",
      "Bottle inference DINO, GLIP ==> SAM started:\n",
      "----DINO Inference Starting----\n"
     ]
    },
    {
     "name": "stderr",
     "output_type": "stream",
     "text": [
      "FutureWarning: The `device` argument is deprecated and will be removed in v5 of Transformers.\n",
      "UserWarning: None of the inputs have requires_grad=True. Gradients will be None\n"
     ]
    },
    {
     "name": "stdout",
     "output_type": "stream",
     "text": [
      "----DINO Inference Completed---\n",
      "mIOU CALCULATION DINO, Bottle:\n",
      "IoU for lid: 0.9988\n",
      "Mean IoU: 0.9988\n",
      "----GLIP Inference Starting----\n"
     ]
    },
    {
     "name": "stderr",
     "output_type": "stream",
     "text": [
      "FutureWarning: The `device` argument is deprecated and will be removed in v5 of Transformers.\n",
      "UserWarning: nn.functional.upsample_bilinear is deprecated. Use nn.functional.interpolate instead.\n",
      "An exception occurred in telemetry logging.Disabling telemetry to prevent further exceptions.\n",
      "Traceback (most recent call last):\n",
      "  File \"/rhome/kamburoglu/miniconda3/envs/partslip/lib/python3.9/site-packages/iopath/common/file_io.py\", line 946, in __log_tmetry_keys\n",
      "    handler.log_event()\n",
      "  File \"/rhome/kamburoglu/miniconda3/envs/partslip/lib/python3.9/site-packages/iopath/common/event_logger.py\", line 97, in log_event\n",
      "    del self._evt\n",
      "AttributeError: _evt\n"
     ]
    },
    {
     "name": "stdout",
     "output_type": "stream",
     "text": [
      "----GLIP Inference Completed---\n",
      "mIOU CALCULATION GLIP, Bottle:\n",
      "IoU for lid: 0.9516\n",
      "Mean IoU: 0.9516\n",
      "Results saved to results.json\n",
      "Bottle inference DINO, GLIP ==> SAM started:\n",
      "----DINO Inference Starting----\n"
     ]
    },
    {
     "name": "stderr",
     "output_type": "stream",
     "text": [
      "FutureWarning: The `device` argument is deprecated and will be removed in v5 of Transformers.\n",
      "UserWarning: None of the inputs have requires_grad=True. Gradients will be None\n"
     ]
    },
    {
     "name": "stdout",
     "output_type": "stream",
     "text": [
      "----DINO Inference Completed---\n",
      "mIOU CALCULATION DINO, Bottle:\n",
      "IoU for lid: 0.9658\n",
      "Mean IoU: 0.9658\n",
      "----GLIP Inference Starting----\n"
     ]
    },
    {
     "name": "stderr",
     "output_type": "stream",
     "text": [
      "FutureWarning: The `device` argument is deprecated and will be removed in v5 of Transformers.\n",
      "UserWarning: nn.functional.upsample_bilinear is deprecated. Use nn.functional.interpolate instead.\n",
      "An exception occurred in telemetry logging.Disabling telemetry to prevent further exceptions.\n",
      "Traceback (most recent call last):\n",
      "  File \"/rhome/kamburoglu/miniconda3/envs/partslip/lib/python3.9/site-packages/iopath/common/file_io.py\", line 946, in __log_tmetry_keys\n",
      "    handler.log_event()\n",
      "  File \"/rhome/kamburoglu/miniconda3/envs/partslip/lib/python3.9/site-packages/iopath/common/event_logger.py\", line 97, in log_event\n",
      "    del self._evt\n",
      "AttributeError: _evt\n"
     ]
    },
    {
     "name": "stdout",
     "output_type": "stream",
     "text": [
      "----GLIP Inference Completed---\n",
      "mIOU CALCULATION GLIP, Bottle:\n",
      "IoU for lid: 0.9692\n",
      "Mean IoU: 0.9692\n",
      "Results saved to results.json\n",
      "Bottle inference DINO, GLIP ==> SAM started:\n",
      "----DINO Inference Starting----\n"
     ]
    },
    {
     "name": "stderr",
     "output_type": "stream",
     "text": [
      "FutureWarning: The `device` argument is deprecated and will be removed in v5 of Transformers.\n",
      "UserWarning: None of the inputs have requires_grad=True. Gradients will be None\n"
     ]
    },
    {
     "name": "stdout",
     "output_type": "stream",
     "text": [
      "----DINO Inference Completed---\n",
      "mIOU CALCULATION DINO, Bottle:\n",
      "IoU for lid: 0.5461\n",
      "Mean IoU: 0.5461\n",
      "----GLIP Inference Starting----\n"
     ]
    },
    {
     "name": "stderr",
     "output_type": "stream",
     "text": [
      "FutureWarning: The `device` argument is deprecated and will be removed in v5 of Transformers.\n",
      "UserWarning: nn.functional.upsample_bilinear is deprecated. Use nn.functional.interpolate instead.\n",
      "An exception occurred in telemetry logging.Disabling telemetry to prevent further exceptions.\n",
      "Traceback (most recent call last):\n",
      "  File \"/rhome/kamburoglu/miniconda3/envs/partslip/lib/python3.9/site-packages/iopath/common/file_io.py\", line 946, in __log_tmetry_keys\n",
      "    handler.log_event()\n",
      "  File \"/rhome/kamburoglu/miniconda3/envs/partslip/lib/python3.9/site-packages/iopath/common/event_logger.py\", line 97, in log_event\n",
      "    del self._evt\n",
      "AttributeError: _evt\n"
     ]
    },
    {
     "name": "stdout",
     "output_type": "stream",
     "text": [
      "----GLIP Inference Completed---\n",
      "mIOU CALCULATION GLIP, Bottle:\n",
      "IoU for lid: 0.0022\n",
      "Mean IoU: 0.0022\n",
      "Results saved to results.json\n",
      "Box inference DINO, GLIP ==> SAM started:\n",
      "----DINO Inference Starting----\n"
     ]
    },
    {
     "name": "stderr",
     "output_type": "stream",
     "text": [
      "FutureWarning: The `device` argument is deprecated and will be removed in v5 of Transformers.\n",
      "UserWarning: None of the inputs have requires_grad=True. Gradients will be None\n"
     ]
    },
    {
     "name": "stdout",
     "output_type": "stream",
     "text": [
      "----DINO Inference Completed---\n",
      "mIOU CALCULATION DINO, Box:\n",
      "IoU for lid: 0.9250\n",
      "Mean IoU: 0.9250\n",
      "----GLIP Inference Starting----\n"
     ]
    },
    {
     "name": "stderr",
     "output_type": "stream",
     "text": [
      "FutureWarning: The `device` argument is deprecated and will be removed in v5 of Transformers.\n",
      "UserWarning: nn.functional.upsample_bilinear is deprecated. Use nn.functional.interpolate instead.\n",
      "An exception occurred in telemetry logging.Disabling telemetry to prevent further exceptions.\n",
      "Traceback (most recent call last):\n",
      "  File \"/rhome/kamburoglu/miniconda3/envs/partslip/lib/python3.9/site-packages/iopath/common/file_io.py\", line 946, in __log_tmetry_keys\n",
      "    handler.log_event()\n",
      "  File \"/rhome/kamburoglu/miniconda3/envs/partslip/lib/python3.9/site-packages/iopath/common/event_logger.py\", line 97, in log_event\n",
      "    del self._evt\n",
      "AttributeError: _evt\n"
     ]
    },
    {
     "name": "stdout",
     "output_type": "stream",
     "text": [
      "----GLIP Inference Completed---\n",
      "mIOU CALCULATION GLIP, Box:\n",
      "IoU for lid: 0.5952\n",
      "Mean IoU: 0.5952\n",
      "Results saved to results.json\n",
      "Box inference DINO, GLIP ==> SAM started:\n",
      "----DINO Inference Starting----\n"
     ]
    },
    {
     "name": "stderr",
     "output_type": "stream",
     "text": [
      "FutureWarning: The `device` argument is deprecated and will be removed in v5 of Transformers.\n",
      "UserWarning: None of the inputs have requires_grad=True. Gradients will be None\n"
     ]
    },
    {
     "name": "stdout",
     "output_type": "stream",
     "text": [
      "----DINO Inference Completed---\n",
      "mIOU CALCULATION DINO, Box:\n",
      "IoU for lid: 0.8872\n",
      "Mean IoU: 0.8872\n",
      "----GLIP Inference Starting----\n"
     ]
    },
    {
     "name": "stderr",
     "output_type": "stream",
     "text": [
      "FutureWarning: The `device` argument is deprecated and will be removed in v5 of Transformers.\n",
      "UserWarning: nn.functional.upsample_bilinear is deprecated. Use nn.functional.interpolate instead.\n",
      "An exception occurred in telemetry logging.Disabling telemetry to prevent further exceptions.\n",
      "Traceback (most recent call last):\n",
      "  File \"/rhome/kamburoglu/miniconda3/envs/partslip/lib/python3.9/site-packages/iopath/common/file_io.py\", line 946, in __log_tmetry_keys\n",
      "    handler.log_event()\n",
      "  File \"/rhome/kamburoglu/miniconda3/envs/partslip/lib/python3.9/site-packages/iopath/common/event_logger.py\", line 97, in log_event\n",
      "    del self._evt\n",
      "AttributeError: _evt\n"
     ]
    },
    {
     "name": "stdout",
     "output_type": "stream",
     "text": [
      "----GLIP Inference Completed---\n",
      "mIOU CALCULATION GLIP, Box:\n",
      "IoU for lid: 0.7274\n",
      "Mean IoU: 0.7274\n",
      "Results saved to results.json\n",
      "Box inference DINO, GLIP ==> SAM started:\n",
      "----DINO Inference Starting----\n"
     ]
    },
    {
     "name": "stderr",
     "output_type": "stream",
     "text": [
      "FutureWarning: The `device` argument is deprecated and will be removed in v5 of Transformers.\n",
      "UserWarning: None of the inputs have requires_grad=True. Gradients will be None\n"
     ]
    },
    {
     "name": "stdout",
     "output_type": "stream",
     "text": [
      "----DINO Inference Completed---\n",
      "mIOU CALCULATION DINO, Box:\n",
      "IoU for lid: 0.9019\n",
      "Mean IoU: 0.9019\n",
      "----GLIP Inference Starting----\n"
     ]
    },
    {
     "name": "stderr",
     "output_type": "stream",
     "text": [
      "FutureWarning: The `device` argument is deprecated and will be removed in v5 of Transformers.\n",
      "UserWarning: nn.functional.upsample_bilinear is deprecated. Use nn.functional.interpolate instead.\n",
      "An exception occurred in telemetry logging.Disabling telemetry to prevent further exceptions.\n",
      "Traceback (most recent call last):\n",
      "  File \"/rhome/kamburoglu/miniconda3/envs/partslip/lib/python3.9/site-packages/iopath/common/file_io.py\", line 946, in __log_tmetry_keys\n",
      "    handler.log_event()\n",
      "  File \"/rhome/kamburoglu/miniconda3/envs/partslip/lib/python3.9/site-packages/iopath/common/event_logger.py\", line 97, in log_event\n",
      "    del self._evt\n",
      "AttributeError: _evt\n"
     ]
    },
    {
     "name": "stdout",
     "output_type": "stream",
     "text": [
      "----GLIP Inference Completed---\n",
      "mIOU CALCULATION GLIP, Box:\n",
      "IoU for lid: 0.9084\n",
      "Mean IoU: 0.9084\n",
      "Results saved to results.json\n",
      "Box inference DINO, GLIP ==> SAM started:\n",
      "----DINO Inference Starting----\n"
     ]
    },
    {
     "name": "stderr",
     "output_type": "stream",
     "text": [
      "FutureWarning: The `device` argument is deprecated and will be removed in v5 of Transformers.\n",
      "UserWarning: None of the inputs have requires_grad=True. Gradients will be None\n"
     ]
    },
    {
     "name": "stdout",
     "output_type": "stream",
     "text": [
      "----DINO Inference Completed---\n",
      "mIOU CALCULATION DINO, Box:\n",
      "IoU for lid: 0.9395\n",
      "Mean IoU: 0.9395\n",
      "----GLIP Inference Starting----\n"
     ]
    },
    {
     "name": "stderr",
     "output_type": "stream",
     "text": [
      "FutureWarning: The `device` argument is deprecated and will be removed in v5 of Transformers.\n",
      "UserWarning: nn.functional.upsample_bilinear is deprecated. Use nn.functional.interpolate instead.\n",
      "An exception occurred in telemetry logging.Disabling telemetry to prevent further exceptions.\n",
      "Traceback (most recent call last):\n",
      "  File \"/rhome/kamburoglu/miniconda3/envs/partslip/lib/python3.9/site-packages/iopath/common/file_io.py\", line 946, in __log_tmetry_keys\n",
      "    handler.log_event()\n",
      "  File \"/rhome/kamburoglu/miniconda3/envs/partslip/lib/python3.9/site-packages/iopath/common/event_logger.py\", line 97, in log_event\n",
      "    del self._evt\n",
      "AttributeError: _evt\n"
     ]
    },
    {
     "name": "stdout",
     "output_type": "stream",
     "text": [
      "----GLIP Inference Completed---\n",
      "mIOU CALCULATION GLIP, Box:\n",
      "IoU for lid: 0.5542\n",
      "Mean IoU: 0.5542\n",
      "Results saved to results.json\n",
      "Box inference DINO, GLIP ==> SAM started:\n",
      "----DINO Inference Starting----\n"
     ]
    },
    {
     "name": "stderr",
     "output_type": "stream",
     "text": [
      "FutureWarning: The `device` argument is deprecated and will be removed in v5 of Transformers.\n",
      "UserWarning: None of the inputs have requires_grad=True. Gradients will be None\n"
     ]
    },
    {
     "name": "stdout",
     "output_type": "stream",
     "text": [
      "----DINO Inference Completed---\n",
      "mIOU CALCULATION DINO, Box:\n",
      "IoU for lid: 0.9110\n",
      "Mean IoU: 0.9110\n",
      "----GLIP Inference Starting----\n"
     ]
    },
    {
     "name": "stderr",
     "output_type": "stream",
     "text": [
      "FutureWarning: The `device` argument is deprecated and will be removed in v5 of Transformers.\n",
      "UserWarning: nn.functional.upsample_bilinear is deprecated. Use nn.functional.interpolate instead.\n",
      "An exception occurred in telemetry logging.Disabling telemetry to prevent further exceptions.\n",
      "Traceback (most recent call last):\n",
      "  File \"/rhome/kamburoglu/miniconda3/envs/partslip/lib/python3.9/site-packages/iopath/common/file_io.py\", line 946, in __log_tmetry_keys\n",
      "    handler.log_event()\n",
      "  File \"/rhome/kamburoglu/miniconda3/envs/partslip/lib/python3.9/site-packages/iopath/common/event_logger.py\", line 97, in log_event\n",
      "    del self._evt\n",
      "AttributeError: _evt\n"
     ]
    },
    {
     "name": "stdout",
     "output_type": "stream",
     "text": [
      "----GLIP Inference Completed---\n",
      "mIOU CALCULATION GLIP, Box:\n",
      "IoU for lid: 0.7648\n",
      "Mean IoU: 0.7648\n",
      "Results saved to results.json\n",
      "Box inference DINO, GLIP ==> SAM started:\n",
      "----DINO Inference Starting----\n"
     ]
    },
    {
     "name": "stderr",
     "output_type": "stream",
     "text": [
      "FutureWarning: The `device` argument is deprecated and will be removed in v5 of Transformers.\n",
      "UserWarning: None of the inputs have requires_grad=True. Gradients will be None\n"
     ]
    },
    {
     "name": "stdout",
     "output_type": "stream",
     "text": [
      "----DINO Inference Completed---\n",
      "mIOU CALCULATION DINO, Box:\n",
      "IoU for lid: 0.5500\n",
      "Mean IoU: 0.5500\n",
      "----GLIP Inference Starting----\n"
     ]
    },
    {
     "name": "stderr",
     "output_type": "stream",
     "text": [
      "FutureWarning: The `device` argument is deprecated and will be removed in v5 of Transformers.\n",
      "UserWarning: nn.functional.upsample_bilinear is deprecated. Use nn.functional.interpolate instead.\n",
      "An exception occurred in telemetry logging.Disabling telemetry to prevent further exceptions.\n",
      "Traceback (most recent call last):\n",
      "  File \"/rhome/kamburoglu/miniconda3/envs/partslip/lib/python3.9/site-packages/iopath/common/file_io.py\", line 946, in __log_tmetry_keys\n",
      "    handler.log_event()\n",
      "  File \"/rhome/kamburoglu/miniconda3/envs/partslip/lib/python3.9/site-packages/iopath/common/event_logger.py\", line 97, in log_event\n",
      "    del self._evt\n",
      "AttributeError: _evt\n"
     ]
    },
    {
     "name": "stdout",
     "output_type": "stream",
     "text": [
      "----GLIP Inference Completed---\n",
      "mIOU CALCULATION GLIP, Box:\n",
      "IoU for lid: 0.7257\n",
      "Mean IoU: 0.7257\n",
      "Results saved to results.json\n",
      "Box inference DINO, GLIP ==> SAM started:\n",
      "----DINO Inference Starting----\n"
     ]
    },
    {
     "name": "stderr",
     "output_type": "stream",
     "text": [
      "FutureWarning: The `device` argument is deprecated and will be removed in v5 of Transformers.\n",
      "UserWarning: None of the inputs have requires_grad=True. Gradients will be None\n"
     ]
    },
    {
     "name": "stdout",
     "output_type": "stream",
     "text": [
      "----DINO Inference Completed---\n",
      "mIOU CALCULATION DINO, Box:\n",
      "IoU for lid: 0.8327\n",
      "Mean IoU: 0.8327\n",
      "----GLIP Inference Starting----\n"
     ]
    },
    {
     "name": "stderr",
     "output_type": "stream",
     "text": [
      "FutureWarning: The `device` argument is deprecated and will be removed in v5 of Transformers.\n",
      "UserWarning: nn.functional.upsample_bilinear is deprecated. Use nn.functional.interpolate instead.\n",
      "An exception occurred in telemetry logging.Disabling telemetry to prevent further exceptions.\n",
      "Traceback (most recent call last):\n",
      "  File \"/rhome/kamburoglu/miniconda3/envs/partslip/lib/python3.9/site-packages/iopath/common/file_io.py\", line 946, in __log_tmetry_keys\n",
      "    handler.log_event()\n",
      "  File \"/rhome/kamburoglu/miniconda3/envs/partslip/lib/python3.9/site-packages/iopath/common/event_logger.py\", line 97, in log_event\n",
      "    del self._evt\n",
      "AttributeError: _evt\n"
     ]
    },
    {
     "name": "stdout",
     "output_type": "stream",
     "text": [
      "----GLIP Inference Completed---\n",
      "mIOU CALCULATION GLIP, Box:\n",
      "IoU for lid: 0.5280\n",
      "Mean IoU: 0.5280\n",
      "Results saved to results.json\n",
      "Box inference DINO, GLIP ==> SAM started:\n",
      "----DINO Inference Starting----\n"
     ]
    },
    {
     "name": "stderr",
     "output_type": "stream",
     "text": [
      "FutureWarning: The `device` argument is deprecated and will be removed in v5 of Transformers.\n",
      "UserWarning: None of the inputs have requires_grad=True. Gradients will be None\n"
     ]
    },
    {
     "name": "stdout",
     "output_type": "stream",
     "text": [
      "----DINO Inference Completed---\n",
      "mIOU CALCULATION DINO, Box:\n",
      "IoU for lid: 0.7897\n",
      "Mean IoU: 0.7897\n",
      "----GLIP Inference Starting----\n"
     ]
    },
    {
     "name": "stderr",
     "output_type": "stream",
     "text": [
      "FutureWarning: The `device` argument is deprecated and will be removed in v5 of Transformers.\n",
      "UserWarning: nn.functional.upsample_bilinear is deprecated. Use nn.functional.interpolate instead.\n",
      "An exception occurred in telemetry logging.Disabling telemetry to prevent further exceptions.\n",
      "Traceback (most recent call last):\n",
      "  File \"/rhome/kamburoglu/miniconda3/envs/partslip/lib/python3.9/site-packages/iopath/common/file_io.py\", line 946, in __log_tmetry_keys\n",
      "    handler.log_event()\n",
      "  File \"/rhome/kamburoglu/miniconda3/envs/partslip/lib/python3.9/site-packages/iopath/common/event_logger.py\", line 97, in log_event\n",
      "    del self._evt\n",
      "AttributeError: _evt\n"
     ]
    },
    {
     "name": "stdout",
     "output_type": "stream",
     "text": [
      "----GLIP Inference Completed---\n",
      "mIOU CALCULATION GLIP, Box:\n",
      "IoU for lid: 0.5325\n",
      "Mean IoU: 0.5325\n",
      "Results saved to results.json\n",
      "Box inference DINO, GLIP ==> SAM started:\n",
      "----DINO Inference Starting----\n"
     ]
    },
    {
     "name": "stderr",
     "output_type": "stream",
     "text": [
      "FutureWarning: The `device` argument is deprecated and will be removed in v5 of Transformers.\n",
      "UserWarning: None of the inputs have requires_grad=True. Gradients will be None\n"
     ]
    },
    {
     "name": "stdout",
     "output_type": "stream",
     "text": [
      "----DINO Inference Completed---\n",
      "mIOU CALCULATION DINO, Box:\n",
      "IoU for lid: 0.9468\n",
      "Mean IoU: 0.9468\n",
      "----GLIP Inference Starting----\n"
     ]
    },
    {
     "name": "stderr",
     "output_type": "stream",
     "text": [
      "FutureWarning: The `device` argument is deprecated and will be removed in v5 of Transformers.\n",
      "UserWarning: nn.functional.upsample_bilinear is deprecated. Use nn.functional.interpolate instead.\n",
      "An exception occurred in telemetry logging.Disabling telemetry to prevent further exceptions.\n",
      "Traceback (most recent call last):\n",
      "  File \"/rhome/kamburoglu/miniconda3/envs/partslip/lib/python3.9/site-packages/iopath/common/file_io.py\", line 946, in __log_tmetry_keys\n",
      "    handler.log_event()\n",
      "  File \"/rhome/kamburoglu/miniconda3/envs/partslip/lib/python3.9/site-packages/iopath/common/event_logger.py\", line 97, in log_event\n",
      "    del self._evt\n",
      "AttributeError: _evt\n"
     ]
    },
    {
     "name": "stdout",
     "output_type": "stream",
     "text": [
      "----GLIP Inference Completed---\n",
      "mIOU CALCULATION GLIP, Box:\n",
      "IoU for lid: 0.8157\n",
      "Mean IoU: 0.8157\n",
      "Results saved to results.json\n",
      "Box inference DINO, GLIP ==> SAM started:\n",
      "----DINO Inference Starting----\n"
     ]
    },
    {
     "name": "stderr",
     "output_type": "stream",
     "text": [
      "FutureWarning: The `device` argument is deprecated and will be removed in v5 of Transformers.\n",
      "UserWarning: None of the inputs have requires_grad=True. Gradients will be None\n"
     ]
    },
    {
     "name": "stdout",
     "output_type": "stream",
     "text": [
      "----DINO Inference Completed---\n",
      "mIOU CALCULATION DINO, Box:\n",
      "IoU for lid: 0.4928\n",
      "Mean IoU: 0.4928\n",
      "----GLIP Inference Starting----\n"
     ]
    },
    {
     "name": "stderr",
     "output_type": "stream",
     "text": [
      "FutureWarning: The `device` argument is deprecated and will be removed in v5 of Transformers.\n",
      "UserWarning: nn.functional.upsample_bilinear is deprecated. Use nn.functional.interpolate instead.\n",
      "An exception occurred in telemetry logging.Disabling telemetry to prevent further exceptions.\n",
      "Traceback (most recent call last):\n",
      "  File \"/rhome/kamburoglu/miniconda3/envs/partslip/lib/python3.9/site-packages/iopath/common/file_io.py\", line 946, in __log_tmetry_keys\n",
      "    handler.log_event()\n",
      "  File \"/rhome/kamburoglu/miniconda3/envs/partslip/lib/python3.9/site-packages/iopath/common/event_logger.py\", line 97, in log_event\n",
      "    del self._evt\n",
      "AttributeError: _evt\n"
     ]
    },
    {
     "name": "stdout",
     "output_type": "stream",
     "text": [
      "----GLIP Inference Completed---\n",
      "mIOU CALCULATION GLIP, Box:\n",
      "IoU for lid: 0.8731\n",
      "Mean IoU: 0.8731\n",
      "Results saved to results.json\n",
      "Box inference DINO, GLIP ==> SAM started:\n",
      "----DINO Inference Starting----\n"
     ]
    },
    {
     "name": "stderr",
     "output_type": "stream",
     "text": [
      "FutureWarning: The `device` argument is deprecated and will be removed in v5 of Transformers.\n",
      "UserWarning: None of the inputs have requires_grad=True. Gradients will be None\n"
     ]
    },
    {
     "name": "stdout",
     "output_type": "stream",
     "text": [
      "----DINO Inference Completed---\n",
      "mIOU CALCULATION DINO, Box:\n",
      "IoU for lid: 0.6673\n",
      "Mean IoU: 0.6673\n",
      "----GLIP Inference Starting----\n"
     ]
    },
    {
     "name": "stderr",
     "output_type": "stream",
     "text": [
      "FutureWarning: The `device` argument is deprecated and will be removed in v5 of Transformers.\n",
      "UserWarning: nn.functional.upsample_bilinear is deprecated. Use nn.functional.interpolate instead.\n",
      "An exception occurred in telemetry logging.Disabling telemetry to prevent further exceptions.\n",
      "Traceback (most recent call last):\n",
      "  File \"/rhome/kamburoglu/miniconda3/envs/partslip/lib/python3.9/site-packages/iopath/common/file_io.py\", line 946, in __log_tmetry_keys\n",
      "    handler.log_event()\n",
      "  File \"/rhome/kamburoglu/miniconda3/envs/partslip/lib/python3.9/site-packages/iopath/common/event_logger.py\", line 97, in log_event\n",
      "    del self._evt\n",
      "AttributeError: _evt\n"
     ]
    },
    {
     "name": "stdout",
     "output_type": "stream",
     "text": [
      "----GLIP Inference Completed---\n",
      "mIOU CALCULATION GLIP, Box:\n",
      "IoU for lid: 0.5413\n",
      "Mean IoU: 0.5413\n",
      "Results saved to results.json\n",
      "Box inference DINO, GLIP ==> SAM started:\n",
      "----DINO Inference Starting----\n"
     ]
    },
    {
     "name": "stderr",
     "output_type": "stream",
     "text": [
      "FutureWarning: The `device` argument is deprecated and will be removed in v5 of Transformers.\n",
      "UserWarning: None of the inputs have requires_grad=True. Gradients will be None\n"
     ]
    },
    {
     "name": "stdout",
     "output_type": "stream",
     "text": [
      "----DINO Inference Completed---\n",
      "mIOU CALCULATION DINO, Box:\n",
      "IoU for lid: 0.5570\n",
      "Mean IoU: 0.5570\n",
      "----GLIP Inference Starting----\n"
     ]
    },
    {
     "name": "stderr",
     "output_type": "stream",
     "text": [
      "FutureWarning: The `device` argument is deprecated and will be removed in v5 of Transformers.\n",
      "UserWarning: nn.functional.upsample_bilinear is deprecated. Use nn.functional.interpolate instead.\n",
      "An exception occurred in telemetry logging.Disabling telemetry to prevent further exceptions.\n",
      "Traceback (most recent call last):\n",
      "  File \"/rhome/kamburoglu/miniconda3/envs/partslip/lib/python3.9/site-packages/iopath/common/file_io.py\", line 946, in __log_tmetry_keys\n",
      "    handler.log_event()\n",
      "  File \"/rhome/kamburoglu/miniconda3/envs/partslip/lib/python3.9/site-packages/iopath/common/event_logger.py\", line 97, in log_event\n",
      "    del self._evt\n",
      "AttributeError: _evt\n"
     ]
    },
    {
     "name": "stdout",
     "output_type": "stream",
     "text": [
      "----GLIP Inference Completed---\n",
      "mIOU CALCULATION GLIP, Box:\n",
      "IoU for lid: 0.2327\n",
      "Mean IoU: 0.2327\n",
      "Results saved to results.json\n",
      "Box inference DINO, GLIP ==> SAM started:\n",
      "----DINO Inference Starting----\n"
     ]
    },
    {
     "name": "stderr",
     "output_type": "stream",
     "text": [
      "FutureWarning: The `device` argument is deprecated and will be removed in v5 of Transformers.\n",
      "UserWarning: None of the inputs have requires_grad=True. Gradients will be None\n"
     ]
    },
    {
     "name": "stdout",
     "output_type": "stream",
     "text": [
      "----DINO Inference Completed---\n",
      "mIOU CALCULATION DINO, Box:\n",
      "IoU for lid: 0.8897\n",
      "Mean IoU: 0.8897\n",
      "----GLIP Inference Starting----\n"
     ]
    },
    {
     "name": "stderr",
     "output_type": "stream",
     "text": [
      "FutureWarning: The `device` argument is deprecated and will be removed in v5 of Transformers.\n",
      "UserWarning: nn.functional.upsample_bilinear is deprecated. Use nn.functional.interpolate instead.\n",
      "An exception occurred in telemetry logging.Disabling telemetry to prevent further exceptions.\n",
      "Traceback (most recent call last):\n",
      "  File \"/rhome/kamburoglu/miniconda3/envs/partslip/lib/python3.9/site-packages/iopath/common/file_io.py\", line 946, in __log_tmetry_keys\n",
      "    handler.log_event()\n",
      "  File \"/rhome/kamburoglu/miniconda3/envs/partslip/lib/python3.9/site-packages/iopath/common/event_logger.py\", line 97, in log_event\n",
      "    del self._evt\n",
      "AttributeError: _evt\n"
     ]
    },
    {
     "name": "stdout",
     "output_type": "stream",
     "text": [
      "----GLIP Inference Completed---\n",
      "mIOU CALCULATION GLIP, Box:\n",
      "IoU for lid: 0.8120\n",
      "Mean IoU: 0.8120\n",
      "Results saved to results.json\n",
      "Box inference DINO, GLIP ==> SAM started:\n",
      "----DINO Inference Starting----\n"
     ]
    },
    {
     "name": "stderr",
     "output_type": "stream",
     "text": [
      "FutureWarning: The `device` argument is deprecated and will be removed in v5 of Transformers.\n",
      "UserWarning: None of the inputs have requires_grad=True. Gradients will be None\n"
     ]
    },
    {
     "name": "stdout",
     "output_type": "stream",
     "text": [
      "----DINO Inference Completed---\n",
      "mIOU CALCULATION DINO, Box:\n",
      "IoU for lid: 0.8279\n",
      "Mean IoU: 0.8279\n",
      "----GLIP Inference Starting----\n"
     ]
    },
    {
     "name": "stderr",
     "output_type": "stream",
     "text": [
      "FutureWarning: The `device` argument is deprecated and will be removed in v5 of Transformers.\n",
      "UserWarning: nn.functional.upsample_bilinear is deprecated. Use nn.functional.interpolate instead.\n",
      "An exception occurred in telemetry logging.Disabling telemetry to prevent further exceptions.\n",
      "Traceback (most recent call last):\n",
      "  File \"/rhome/kamburoglu/miniconda3/envs/partslip/lib/python3.9/site-packages/iopath/common/file_io.py\", line 946, in __log_tmetry_keys\n",
      "    handler.log_event()\n",
      "  File \"/rhome/kamburoglu/miniconda3/envs/partslip/lib/python3.9/site-packages/iopath/common/event_logger.py\", line 97, in log_event\n",
      "    del self._evt\n",
      "AttributeError: _evt\n"
     ]
    },
    {
     "name": "stdout",
     "output_type": "stream",
     "text": [
      "----GLIP Inference Completed---\n",
      "mIOU CALCULATION GLIP, Box:\n",
      "IoU for lid: 0.9932\n",
      "Mean IoU: 0.9932\n",
      "Results saved to results.json\n",
      "Box inference DINO, GLIP ==> SAM started:\n",
      "----DINO Inference Starting----\n"
     ]
    },
    {
     "name": "stderr",
     "output_type": "stream",
     "text": [
      "FutureWarning: The `device` argument is deprecated and will be removed in v5 of Transformers.\n",
      "UserWarning: None of the inputs have requires_grad=True. Gradients will be None\n"
     ]
    },
    {
     "name": "stdout",
     "output_type": "stream",
     "text": [
      "----DINO Inference Completed---\n",
      "mIOU CALCULATION DINO, Box:\n",
      "IoU for lid: 0.6380\n",
      "Mean IoU: 0.6380\n",
      "----GLIP Inference Starting----\n"
     ]
    },
    {
     "name": "stderr",
     "output_type": "stream",
     "text": [
      "FutureWarning: The `device` argument is deprecated and will be removed in v5 of Transformers.\n",
      "UserWarning: nn.functional.upsample_bilinear is deprecated. Use nn.functional.interpolate instead.\n",
      "An exception occurred in telemetry logging.Disabling telemetry to prevent further exceptions.\n",
      "Traceback (most recent call last):\n",
      "  File \"/rhome/kamburoglu/miniconda3/envs/partslip/lib/python3.9/site-packages/iopath/common/file_io.py\", line 946, in __log_tmetry_keys\n",
      "    handler.log_event()\n",
      "  File \"/rhome/kamburoglu/miniconda3/envs/partslip/lib/python3.9/site-packages/iopath/common/event_logger.py\", line 97, in log_event\n",
      "    del self._evt\n",
      "AttributeError: _evt\n"
     ]
    },
    {
     "name": "stdout",
     "output_type": "stream",
     "text": [
      "----GLIP Inference Completed---\n",
      "mIOU CALCULATION GLIP, Box:\n",
      "IoU for lid: 0.0227\n",
      "Mean IoU: 0.0227\n",
      "Results saved to results.json\n",
      "Box inference DINO, GLIP ==> SAM started:\n",
      "----DINO Inference Starting----\n"
     ]
    },
    {
     "name": "stderr",
     "output_type": "stream",
     "text": [
      "FutureWarning: The `device` argument is deprecated and will be removed in v5 of Transformers.\n",
      "UserWarning: None of the inputs have requires_grad=True. Gradients will be None\n"
     ]
    },
    {
     "name": "stdout",
     "output_type": "stream",
     "text": [
      "----DINO Inference Completed---\n",
      "mIOU CALCULATION DINO, Box:\n",
      "IoU for lid: 0.6322\n",
      "Mean IoU: 0.6322\n",
      "----GLIP Inference Starting----\n"
     ]
    },
    {
     "name": "stderr",
     "output_type": "stream",
     "text": [
      "FutureWarning: The `device` argument is deprecated and will be removed in v5 of Transformers.\n",
      "UserWarning: nn.functional.upsample_bilinear is deprecated. Use nn.functional.interpolate instead.\n",
      "An exception occurred in telemetry logging.Disabling telemetry to prevent further exceptions.\n",
      "Traceback (most recent call last):\n",
      "  File \"/rhome/kamburoglu/miniconda3/envs/partslip/lib/python3.9/site-packages/iopath/common/file_io.py\", line 946, in __log_tmetry_keys\n",
      "    handler.log_event()\n",
      "  File \"/rhome/kamburoglu/miniconda3/envs/partslip/lib/python3.9/site-packages/iopath/common/event_logger.py\", line 97, in log_event\n",
      "    del self._evt\n",
      "AttributeError: _evt\n"
     ]
    },
    {
     "name": "stdout",
     "output_type": "stream",
     "text": [
      "----GLIP Inference Completed---\n",
      "mIOU CALCULATION GLIP, Box:\n",
      "IoU for lid: 0.2906\n",
      "Mean IoU: 0.2906\n",
      "Results saved to results.json\n",
      "Box inference DINO, GLIP ==> SAM started:\n",
      "----DINO Inference Starting----\n"
     ]
    },
    {
     "name": "stderr",
     "output_type": "stream",
     "text": [
      "FutureWarning: The `device` argument is deprecated and will be removed in v5 of Transformers.\n",
      "UserWarning: None of the inputs have requires_grad=True. Gradients will be None\n"
     ]
    },
    {
     "name": "stdout",
     "output_type": "stream",
     "text": [
      "----DINO Inference Completed---\n",
      "mIOU CALCULATION DINO, Box:\n",
      "IoU for lid: 0.9829\n",
      "Mean IoU: 0.9829\n",
      "----GLIP Inference Starting----\n"
     ]
    },
    {
     "name": "stderr",
     "output_type": "stream",
     "text": [
      "FutureWarning: The `device` argument is deprecated and will be removed in v5 of Transformers.\n",
      "UserWarning: nn.functional.upsample_bilinear is deprecated. Use nn.functional.interpolate instead.\n",
      "An exception occurred in telemetry logging.Disabling telemetry to prevent further exceptions.\n",
      "Traceback (most recent call last):\n",
      "  File \"/rhome/kamburoglu/miniconda3/envs/partslip/lib/python3.9/site-packages/iopath/common/file_io.py\", line 946, in __log_tmetry_keys\n",
      "    handler.log_event()\n",
      "  File \"/rhome/kamburoglu/miniconda3/envs/partslip/lib/python3.9/site-packages/iopath/common/event_logger.py\", line 97, in log_event\n",
      "    del self._evt\n",
      "AttributeError: _evt\n"
     ]
    },
    {
     "name": "stdout",
     "output_type": "stream",
     "text": [
      "----GLIP Inference Completed---\n",
      "mIOU CALCULATION GLIP, Box:\n",
      "IoU for lid: 0.5187\n",
      "Mean IoU: 0.5187\n",
      "Results saved to results.json\n",
      "Box inference DINO, GLIP ==> SAM started:\n",
      "----DINO Inference Starting----\n"
     ]
    },
    {
     "name": "stderr",
     "output_type": "stream",
     "text": [
      "FutureWarning: The `device` argument is deprecated and will be removed in v5 of Transformers.\n",
      "UserWarning: None of the inputs have requires_grad=True. Gradients will be None\n"
     ]
    },
    {
     "name": "stdout",
     "output_type": "stream",
     "text": [
      "----DINO Inference Completed---\n",
      "mIOU CALCULATION DINO, Box:\n",
      "IoU for lid: 0.7565\n",
      "Mean IoU: 0.7565\n",
      "----GLIP Inference Starting----\n"
     ]
    },
    {
     "name": "stderr",
     "output_type": "stream",
     "text": [
      "FutureWarning: The `device` argument is deprecated and will be removed in v5 of Transformers.\n",
      "UserWarning: nn.functional.upsample_bilinear is deprecated. Use nn.functional.interpolate instead.\n",
      "An exception occurred in telemetry logging.Disabling telemetry to prevent further exceptions.\n",
      "Traceback (most recent call last):\n",
      "  File \"/rhome/kamburoglu/miniconda3/envs/partslip/lib/python3.9/site-packages/iopath/common/file_io.py\", line 946, in __log_tmetry_keys\n",
      "    handler.log_event()\n",
      "  File \"/rhome/kamburoglu/miniconda3/envs/partslip/lib/python3.9/site-packages/iopath/common/event_logger.py\", line 97, in log_event\n",
      "    del self._evt\n",
      "AttributeError: _evt\n"
     ]
    },
    {
     "name": "stdout",
     "output_type": "stream",
     "text": [
      "----GLIP Inference Completed---\n",
      "mIOU CALCULATION GLIP, Box:\n",
      "IoU for lid: 0.5772\n",
      "Mean IoU: 0.5772\n",
      "Results saved to results.json\n",
      "Box inference DINO, GLIP ==> SAM started:\n",
      "----DINO Inference Starting----\n"
     ]
    },
    {
     "name": "stderr",
     "output_type": "stream",
     "text": [
      "FutureWarning: The `device` argument is deprecated and will be removed in v5 of Transformers.\n",
      "UserWarning: None of the inputs have requires_grad=True. Gradients will be None\n"
     ]
    },
    {
     "name": "stdout",
     "output_type": "stream",
     "text": [
      "----DINO Inference Completed---\n",
      "mIOU CALCULATION DINO, Box:\n",
      "IoU for lid: 0.9909\n",
      "Mean IoU: 0.9909\n",
      "----GLIP Inference Starting----\n"
     ]
    },
    {
     "name": "stderr",
     "output_type": "stream",
     "text": [
      "FutureWarning: The `device` argument is deprecated and will be removed in v5 of Transformers.\n",
      "UserWarning: nn.functional.upsample_bilinear is deprecated. Use nn.functional.interpolate instead.\n",
      "An exception occurred in telemetry logging.Disabling telemetry to prevent further exceptions.\n",
      "Traceback (most recent call last):\n",
      "  File \"/rhome/kamburoglu/miniconda3/envs/partslip/lib/python3.9/site-packages/iopath/common/file_io.py\", line 946, in __log_tmetry_keys\n",
      "    handler.log_event()\n",
      "  File \"/rhome/kamburoglu/miniconda3/envs/partslip/lib/python3.9/site-packages/iopath/common/event_logger.py\", line 97, in log_event\n",
      "    del self._evt\n",
      "AttributeError: _evt\n"
     ]
    },
    {
     "name": "stdout",
     "output_type": "stream",
     "text": [
      "----GLIP Inference Completed---\n",
      "mIOU CALCULATION GLIP, Box:\n",
      "IoU for lid: 0.9715\n",
      "Mean IoU: 0.9715\n",
      "Results saved to results.json\n",
      "Box inference DINO, GLIP ==> SAM started:\n",
      "----DINO Inference Starting----\n"
     ]
    },
    {
     "name": "stderr",
     "output_type": "stream",
     "text": [
      "FutureWarning: The `device` argument is deprecated and will be removed in v5 of Transformers.\n",
      "UserWarning: None of the inputs have requires_grad=True. Gradients will be None\n"
     ]
    },
    {
     "name": "stdout",
     "output_type": "stream",
     "text": [
      "----DINO Inference Completed---\n",
      "mIOU CALCULATION DINO, Box:\n",
      "IoU for lid: 0.6528\n",
      "Mean IoU: 0.6528\n",
      "----GLIP Inference Starting----\n"
     ]
    },
    {
     "name": "stderr",
     "output_type": "stream",
     "text": [
      "FutureWarning: The `device` argument is deprecated and will be removed in v5 of Transformers.\n",
      "UserWarning: nn.functional.upsample_bilinear is deprecated. Use nn.functional.interpolate instead.\n",
      "An exception occurred in telemetry logging.Disabling telemetry to prevent further exceptions.\n",
      "Traceback (most recent call last):\n",
      "  File \"/rhome/kamburoglu/miniconda3/envs/partslip/lib/python3.9/site-packages/iopath/common/file_io.py\", line 946, in __log_tmetry_keys\n",
      "    handler.log_event()\n",
      "  File \"/rhome/kamburoglu/miniconda3/envs/partslip/lib/python3.9/site-packages/iopath/common/event_logger.py\", line 97, in log_event\n",
      "    del self._evt\n",
      "AttributeError: _evt\n"
     ]
    },
    {
     "name": "stdout",
     "output_type": "stream",
     "text": [
      "----GLIP Inference Completed---\n",
      "mIOU CALCULATION GLIP, Box:\n",
      "IoU for lid: 0.1205\n",
      "Mean IoU: 0.1205\n",
      "Results saved to results.json\n",
      "Bucket inference DINO, GLIP ==> SAM started:\n",
      "----DINO Inference Starting----\n"
     ]
    },
    {
     "name": "stderr",
     "output_type": "stream",
     "text": [
      "FutureWarning: The `device` argument is deprecated and will be removed in v5 of Transformers.\n",
      "UserWarning: None of the inputs have requires_grad=True. Gradients will be None\n"
     ]
    },
    {
     "name": "stdout",
     "output_type": "stream",
     "text": [
      "----DINO Inference Completed---\n",
      "mIOU CALCULATION DINO, Bucket:\n",
      "IoU for handle: 0.5086\n",
      "Mean IoU: 0.5086\n",
      "----GLIP Inference Starting----\n"
     ]
    },
    {
     "name": "stderr",
     "output_type": "stream",
     "text": [
      "FutureWarning: The `device` argument is deprecated and will be removed in v5 of Transformers.\n",
      "UserWarning: nn.functional.upsample_bilinear is deprecated. Use nn.functional.interpolate instead.\n",
      "An exception occurred in telemetry logging.Disabling telemetry to prevent further exceptions.\n",
      "Traceback (most recent call last):\n",
      "  File \"/rhome/kamburoglu/miniconda3/envs/partslip/lib/python3.9/site-packages/iopath/common/file_io.py\", line 946, in __log_tmetry_keys\n",
      "    handler.log_event()\n",
      "  File \"/rhome/kamburoglu/miniconda3/envs/partslip/lib/python3.9/site-packages/iopath/common/event_logger.py\", line 97, in log_event\n",
      "    del self._evt\n",
      "AttributeError: _evt\n"
     ]
    },
    {
     "name": "stdout",
     "output_type": "stream",
     "text": [
      "----GLIP Inference Completed---\n",
      "mIOU CALCULATION GLIP, Bucket:\n",
      "IoU for handle: 0.2214\n",
      "Mean IoU: 0.2214\n",
      "Results saved to results.json\n",
      "Bucket inference DINO, GLIP ==> SAM started:\n",
      "----DINO Inference Starting----\n"
     ]
    },
    {
     "name": "stderr",
     "output_type": "stream",
     "text": [
      "FutureWarning: The `device` argument is deprecated and will be removed in v5 of Transformers.\n",
      "UserWarning: None of the inputs have requires_grad=True. Gradients will be None\n"
     ]
    },
    {
     "name": "stdout",
     "output_type": "stream",
     "text": [
      "----DINO Inference Completed---\n",
      "mIOU CALCULATION DINO, Bucket:\n",
      "IoU for handle: 0.8878\n",
      "Mean IoU: 0.8878\n",
      "----GLIP Inference Starting----\n"
     ]
    },
    {
     "name": "stderr",
     "output_type": "stream",
     "text": [
      "FutureWarning: The `device` argument is deprecated and will be removed in v5 of Transformers.\n",
      "UserWarning: nn.functional.upsample_bilinear is deprecated. Use nn.functional.interpolate instead.\n",
      "An exception occurred in telemetry logging.Disabling telemetry to prevent further exceptions.\n",
      "Traceback (most recent call last):\n",
      "  File \"/rhome/kamburoglu/miniconda3/envs/partslip/lib/python3.9/site-packages/iopath/common/file_io.py\", line 946, in __log_tmetry_keys\n",
      "    handler.log_event()\n",
      "  File \"/rhome/kamburoglu/miniconda3/envs/partslip/lib/python3.9/site-packages/iopath/common/event_logger.py\", line 97, in log_event\n",
      "    del self._evt\n",
      "AttributeError: _evt\n"
     ]
    },
    {
     "name": "stdout",
     "output_type": "stream",
     "text": [
      "----GLIP Inference Completed---\n",
      "mIOU CALCULATION GLIP, Bucket:\n",
      "IoU for handle: 0.1365\n",
      "Mean IoU: 0.1365\n",
      "Results saved to results.json\n",
      "Bucket inference DINO, GLIP ==> SAM started:\n",
      "----DINO Inference Starting----\n"
     ]
    },
    {
     "name": "stderr",
     "output_type": "stream",
     "text": [
      "FutureWarning: The `device` argument is deprecated and will be removed in v5 of Transformers.\n",
      "UserWarning: None of the inputs have requires_grad=True. Gradients will be None\n"
     ]
    },
    {
     "name": "stdout",
     "output_type": "stream",
     "text": [
      "----DINO Inference Completed---\n",
      "mIOU CALCULATION DINO, Bucket:\n",
      "IoU for handle: 0.2789\n",
      "Mean IoU: 0.2789\n",
      "----GLIP Inference Starting----\n"
     ]
    },
    {
     "name": "stderr",
     "output_type": "stream",
     "text": [
      "FutureWarning: The `device` argument is deprecated and will be removed in v5 of Transformers.\n",
      "UserWarning: nn.functional.upsample_bilinear is deprecated. Use nn.functional.interpolate instead.\n",
      "An exception occurred in telemetry logging.Disabling telemetry to prevent further exceptions.\n",
      "Traceback (most recent call last):\n",
      "  File \"/rhome/kamburoglu/miniconda3/envs/partslip/lib/python3.9/site-packages/iopath/common/file_io.py\", line 946, in __log_tmetry_keys\n",
      "    handler.log_event()\n",
      "  File \"/rhome/kamburoglu/miniconda3/envs/partslip/lib/python3.9/site-packages/iopath/common/event_logger.py\", line 97, in log_event\n",
      "    del self._evt\n",
      "AttributeError: _evt\n"
     ]
    },
    {
     "name": "stdout",
     "output_type": "stream",
     "text": [
      "----GLIP Inference Completed---\n",
      "mIOU CALCULATION GLIP, Bucket:\n",
      "IoU for handle: 0.0792\n",
      "Mean IoU: 0.0792\n",
      "Results saved to results.json\n",
      "Bucket inference DINO, GLIP ==> SAM started:\n",
      "----DINO Inference Starting----\n"
     ]
    },
    {
     "name": "stderr",
     "output_type": "stream",
     "text": [
      "FutureWarning: The `device` argument is deprecated and will be removed in v5 of Transformers.\n",
      "UserWarning: None of the inputs have requires_grad=True. Gradients will be None\n"
     ]
    },
    {
     "name": "stdout",
     "output_type": "stream",
     "text": [
      "----DINO Inference Completed---\n",
      "mIOU CALCULATION DINO, Bucket:\n",
      "IoU for handle: 0.6230\n",
      "Mean IoU: 0.6230\n",
      "----GLIP Inference Starting----\n"
     ]
    },
    {
     "name": "stderr",
     "output_type": "stream",
     "text": [
      "FutureWarning: The `device` argument is deprecated and will be removed in v5 of Transformers.\n",
      "UserWarning: nn.functional.upsample_bilinear is deprecated. Use nn.functional.interpolate instead.\n",
      "An exception occurred in telemetry logging.Disabling telemetry to prevent further exceptions.\n",
      "Traceback (most recent call last):\n",
      "  File \"/rhome/kamburoglu/miniconda3/envs/partslip/lib/python3.9/site-packages/iopath/common/file_io.py\", line 946, in __log_tmetry_keys\n",
      "    handler.log_event()\n",
      "  File \"/rhome/kamburoglu/miniconda3/envs/partslip/lib/python3.9/site-packages/iopath/common/event_logger.py\", line 97, in log_event\n",
      "    del self._evt\n",
      "AttributeError: _evt\n"
     ]
    },
    {
     "name": "stdout",
     "output_type": "stream",
     "text": [
      "----GLIP Inference Completed---\n",
      "mIOU CALCULATION GLIP, Bucket:\n",
      "IoU for handle: 0.0484\n",
      "Mean IoU: 0.0484\n",
      "Results saved to results.json\n",
      "Bucket inference DINO, GLIP ==> SAM started:\n",
      "----DINO Inference Starting----\n"
     ]
    },
    {
     "name": "stderr",
     "output_type": "stream",
     "text": [
      "FutureWarning: The `device` argument is deprecated and will be removed in v5 of Transformers.\n",
      "UserWarning: None of the inputs have requires_grad=True. Gradients will be None\n"
     ]
    },
    {
     "name": "stdout",
     "output_type": "stream",
     "text": [
      "----DINO Inference Completed---\n",
      "mIOU CALCULATION DINO, Bucket:\n",
      "IoU for handle: 0.9491\n",
      "Mean IoU: 0.9491\n",
      "----GLIP Inference Starting----\n"
     ]
    },
    {
     "name": "stderr",
     "output_type": "stream",
     "text": [
      "FutureWarning: The `device` argument is deprecated and will be removed in v5 of Transformers.\n",
      "UserWarning: nn.functional.upsample_bilinear is deprecated. Use nn.functional.interpolate instead.\n",
      "An exception occurred in telemetry logging.Disabling telemetry to prevent further exceptions.\n",
      "Traceback (most recent call last):\n",
      "  File \"/rhome/kamburoglu/miniconda3/envs/partslip/lib/python3.9/site-packages/iopath/common/file_io.py\", line 946, in __log_tmetry_keys\n",
      "    handler.log_event()\n",
      "  File \"/rhome/kamburoglu/miniconda3/envs/partslip/lib/python3.9/site-packages/iopath/common/event_logger.py\", line 97, in log_event\n",
      "    del self._evt\n",
      "AttributeError: _evt\n"
     ]
    },
    {
     "name": "stdout",
     "output_type": "stream",
     "text": [
      "----GLIP Inference Completed---\n",
      "mIOU CALCULATION GLIP, Bucket:\n",
      "IoU for handle: 0.1468\n",
      "Mean IoU: 0.1468\n",
      "Results saved to results.json\n",
      "Bucket inference DINO, GLIP ==> SAM started:\n",
      "----DINO Inference Starting----\n"
     ]
    },
    {
     "name": "stderr",
     "output_type": "stream",
     "text": [
      "FutureWarning: The `device` argument is deprecated and will be removed in v5 of Transformers.\n",
      "UserWarning: None of the inputs have requires_grad=True. Gradients will be None\n"
     ]
    },
    {
     "name": "stdout",
     "output_type": "stream",
     "text": [
      "----DINO Inference Completed---\n",
      "mIOU CALCULATION DINO, Bucket:\n",
      "IoU for handle: 0.9683\n",
      "Mean IoU: 0.9683\n",
      "----GLIP Inference Starting----\n"
     ]
    },
    {
     "name": "stderr",
     "output_type": "stream",
     "text": [
      "FutureWarning: The `device` argument is deprecated and will be removed in v5 of Transformers.\n",
      "UserWarning: nn.functional.upsample_bilinear is deprecated. Use nn.functional.interpolate instead.\n",
      "An exception occurred in telemetry logging.Disabling telemetry to prevent further exceptions.\n",
      "Traceback (most recent call last):\n",
      "  File \"/rhome/kamburoglu/miniconda3/envs/partslip/lib/python3.9/site-packages/iopath/common/file_io.py\", line 946, in __log_tmetry_keys\n",
      "    handler.log_event()\n",
      "  File \"/rhome/kamburoglu/miniconda3/envs/partslip/lib/python3.9/site-packages/iopath/common/event_logger.py\", line 97, in log_event\n",
      "    del self._evt\n",
      "AttributeError: _evt\n"
     ]
    },
    {
     "name": "stdout",
     "output_type": "stream",
     "text": [
      "----GLIP Inference Completed---\n",
      "mIOU CALCULATION GLIP, Bucket:\n",
      "IoU for handle: 0.1966\n",
      "Mean IoU: 0.1966\n",
      "Results saved to results.json\n",
      "Bucket inference DINO, GLIP ==> SAM started:\n",
      "----DINO Inference Starting----\n"
     ]
    },
    {
     "name": "stderr",
     "output_type": "stream",
     "text": [
      "FutureWarning: The `device` argument is deprecated and will be removed in v5 of Transformers.\n",
      "UserWarning: None of the inputs have requires_grad=True. Gradients will be None\n"
     ]
    },
    {
     "name": "stdout",
     "output_type": "stream",
     "text": [
      "----DINO Inference Completed---\n",
      "mIOU CALCULATION DINO, Bucket:\n",
      "IoU for handle: 0.0318\n",
      "Mean IoU: 0.0318\n",
      "----GLIP Inference Starting----\n"
     ]
    },
    {
     "name": "stderr",
     "output_type": "stream",
     "text": [
      "FutureWarning: The `device` argument is deprecated and will be removed in v5 of Transformers.\n",
      "UserWarning: nn.functional.upsample_bilinear is deprecated. Use nn.functional.interpolate instead.\n",
      "An exception occurred in telemetry logging.Disabling telemetry to prevent further exceptions.\n",
      "Traceback (most recent call last):\n",
      "  File \"/rhome/kamburoglu/miniconda3/envs/partslip/lib/python3.9/site-packages/iopath/common/file_io.py\", line 946, in __log_tmetry_keys\n",
      "    handler.log_event()\n",
      "  File \"/rhome/kamburoglu/miniconda3/envs/partslip/lib/python3.9/site-packages/iopath/common/event_logger.py\", line 97, in log_event\n",
      "    del self._evt\n",
      "AttributeError: _evt\n"
     ]
    },
    {
     "name": "stdout",
     "output_type": "stream",
     "text": [
      "----GLIP Inference Completed---\n",
      "mIOU CALCULATION GLIP, Bucket:\n",
      "IoU for handle: 0.0000\n",
      "Mean IoU: 0.0000\n",
      "Results saved to results.json\n",
      "Bucket inference DINO, GLIP ==> SAM started:\n",
      "----DINO Inference Starting----\n"
     ]
    },
    {
     "name": "stderr",
     "output_type": "stream",
     "text": [
      "FutureWarning: The `device` argument is deprecated and will be removed in v5 of Transformers.\n",
      "UserWarning: None of the inputs have requires_grad=True. Gradients will be None\n"
     ]
    },
    {
     "name": "stdout",
     "output_type": "stream",
     "text": [
      "----DINO Inference Completed---\n",
      "mIOU CALCULATION DINO, Bucket:\n",
      "IoU for handle: 0.9828\n",
      "Mean IoU: 0.9828\n",
      "----GLIP Inference Starting----\n"
     ]
    },
    {
     "name": "stderr",
     "output_type": "stream",
     "text": [
      "FutureWarning: The `device` argument is deprecated and will be removed in v5 of Transformers.\n",
      "UserWarning: nn.functional.upsample_bilinear is deprecated. Use nn.functional.interpolate instead.\n",
      "An exception occurred in telemetry logging.Disabling telemetry to prevent further exceptions.\n",
      "Traceback (most recent call last):\n",
      "  File \"/rhome/kamburoglu/miniconda3/envs/partslip/lib/python3.9/site-packages/iopath/common/file_io.py\", line 946, in __log_tmetry_keys\n",
      "    handler.log_event()\n",
      "  File \"/rhome/kamburoglu/miniconda3/envs/partslip/lib/python3.9/site-packages/iopath/common/event_logger.py\", line 97, in log_event\n",
      "    del self._evt\n",
      "AttributeError: _evt\n"
     ]
    },
    {
     "name": "stdout",
     "output_type": "stream",
     "text": [
      "----GLIP Inference Completed---\n",
      "mIOU CALCULATION GLIP, Bucket:\n",
      "IoU for handle: 0.4489\n",
      "Mean IoU: 0.4489\n",
      "Results saved to results.json\n",
      "Bucket inference DINO, GLIP ==> SAM started:\n",
      "----DINO Inference Starting----\n"
     ]
    },
    {
     "name": "stderr",
     "output_type": "stream",
     "text": [
      "FutureWarning: The `device` argument is deprecated and will be removed in v5 of Transformers.\n",
      "UserWarning: None of the inputs have requires_grad=True. Gradients will be None\n"
     ]
    },
    {
     "name": "stdout",
     "output_type": "stream",
     "text": [
      "----DINO Inference Completed---\n",
      "mIOU CALCULATION DINO, Bucket:\n",
      "IoU for handle: 0.5817\n",
      "Mean IoU: 0.5817\n",
      "----GLIP Inference Starting----\n"
     ]
    },
    {
     "name": "stderr",
     "output_type": "stream",
     "text": [
      "FutureWarning: The `device` argument is deprecated and will be removed in v5 of Transformers.\n",
      "UserWarning: nn.functional.upsample_bilinear is deprecated. Use nn.functional.interpolate instead.\n",
      "An exception occurred in telemetry logging.Disabling telemetry to prevent further exceptions.\n",
      "Traceback (most recent call last):\n",
      "  File \"/rhome/kamburoglu/miniconda3/envs/partslip/lib/python3.9/site-packages/iopath/common/file_io.py\", line 946, in __log_tmetry_keys\n",
      "    handler.log_event()\n",
      "  File \"/rhome/kamburoglu/miniconda3/envs/partslip/lib/python3.9/site-packages/iopath/common/event_logger.py\", line 97, in log_event\n",
      "    del self._evt\n",
      "AttributeError: _evt\n"
     ]
    },
    {
     "name": "stdout",
     "output_type": "stream",
     "text": [
      "----GLIP Inference Completed---\n",
      "mIOU CALCULATION GLIP, Bucket:\n",
      "IoU for handle: 0.4743\n",
      "Mean IoU: 0.4743\n",
      "Results saved to results.json\n",
      "Bucket inference DINO, GLIP ==> SAM started:\n",
      "----DINO Inference Starting----\n"
     ]
    },
    {
     "name": "stderr",
     "output_type": "stream",
     "text": [
      "FutureWarning: The `device` argument is deprecated and will be removed in v5 of Transformers.\n",
      "UserWarning: None of the inputs have requires_grad=True. Gradients will be None\n"
     ]
    },
    {
     "name": "stdout",
     "output_type": "stream",
     "text": [
      "----DINO Inference Completed---\n",
      "mIOU CALCULATION DINO, Bucket:\n",
      "IoU for handle: 0.9073\n",
      "Mean IoU: 0.9073\n",
      "----GLIP Inference Starting----\n"
     ]
    },
    {
     "name": "stderr",
     "output_type": "stream",
     "text": [
      "FutureWarning: The `device` argument is deprecated and will be removed in v5 of Transformers.\n",
      "UserWarning: nn.functional.upsample_bilinear is deprecated. Use nn.functional.interpolate instead.\n",
      "An exception occurred in telemetry logging.Disabling telemetry to prevent further exceptions.\n",
      "Traceback (most recent call last):\n",
      "  File \"/rhome/kamburoglu/miniconda3/envs/partslip/lib/python3.9/site-packages/iopath/common/file_io.py\", line 946, in __log_tmetry_keys\n",
      "    handler.log_event()\n",
      "  File \"/rhome/kamburoglu/miniconda3/envs/partslip/lib/python3.9/site-packages/iopath/common/event_logger.py\", line 97, in log_event\n",
      "    del self._evt\n",
      "AttributeError: _evt\n"
     ]
    },
    {
     "name": "stdout",
     "output_type": "stream",
     "text": [
      "----GLIP Inference Completed---\n",
      "mIOU CALCULATION GLIP, Bucket:\n",
      "IoU for handle: 0.3030\n",
      "Mean IoU: 0.3030\n",
      "Results saved to results.json\n",
      "Bucket inference DINO, GLIP ==> SAM started:\n",
      "----DINO Inference Starting----\n"
     ]
    },
    {
     "name": "stderr",
     "output_type": "stream",
     "text": [
      "FutureWarning: The `device` argument is deprecated and will be removed in v5 of Transformers.\n",
      "UserWarning: None of the inputs have requires_grad=True. Gradients will be None\n"
     ]
    },
    {
     "name": "stdout",
     "output_type": "stream",
     "text": [
      "----DINO Inference Completed---\n",
      "mIOU CALCULATION DINO, Bucket:\n",
      "IoU for handle: 0.8617\n",
      "Mean IoU: 0.8617\n",
      "----GLIP Inference Starting----\n"
     ]
    },
    {
     "name": "stderr",
     "output_type": "stream",
     "text": [
      "FutureWarning: The `device` argument is deprecated and will be removed in v5 of Transformers.\n",
      "UserWarning: nn.functional.upsample_bilinear is deprecated. Use nn.functional.interpolate instead.\n",
      "An exception occurred in telemetry logging.Disabling telemetry to prevent further exceptions.\n",
      "Traceback (most recent call last):\n",
      "  File \"/rhome/kamburoglu/miniconda3/envs/partslip/lib/python3.9/site-packages/iopath/common/file_io.py\", line 946, in __log_tmetry_keys\n",
      "    handler.log_event()\n",
      "  File \"/rhome/kamburoglu/miniconda3/envs/partslip/lib/python3.9/site-packages/iopath/common/event_logger.py\", line 97, in log_event\n",
      "    del self._evt\n",
      "AttributeError: _evt\n"
     ]
    },
    {
     "name": "stdout",
     "output_type": "stream",
     "text": [
      "----GLIP Inference Completed---\n",
      "mIOU CALCULATION GLIP, Bucket:\n",
      "IoU for handle: 0.0802\n",
      "Mean IoU: 0.0802\n",
      "Results saved to results.json\n",
      "Bucket inference DINO, GLIP ==> SAM started:\n",
      "----DINO Inference Starting----\n"
     ]
    },
    {
     "name": "stderr",
     "output_type": "stream",
     "text": [
      "FutureWarning: The `device` argument is deprecated and will be removed in v5 of Transformers.\n",
      "UserWarning: None of the inputs have requires_grad=True. Gradients will be None\n"
     ]
    },
    {
     "name": "stdout",
     "output_type": "stream",
     "text": [
      "----DINO Inference Completed---\n",
      "mIOU CALCULATION DINO, Bucket:\n",
      "IoU for handle: 0.7358\n",
      "Mean IoU: 0.7358\n",
      "----GLIP Inference Starting----\n"
     ]
    },
    {
     "name": "stderr",
     "output_type": "stream",
     "text": [
      "FutureWarning: The `device` argument is deprecated and will be removed in v5 of Transformers.\n",
      "UserWarning: nn.functional.upsample_bilinear is deprecated. Use nn.functional.interpolate instead.\n",
      "An exception occurred in telemetry logging.Disabling telemetry to prevent further exceptions.\n",
      "Traceback (most recent call last):\n",
      "  File \"/rhome/kamburoglu/miniconda3/envs/partslip/lib/python3.9/site-packages/iopath/common/file_io.py\", line 946, in __log_tmetry_keys\n",
      "    handler.log_event()\n",
      "  File \"/rhome/kamburoglu/miniconda3/envs/partslip/lib/python3.9/site-packages/iopath/common/event_logger.py\", line 97, in log_event\n",
      "    del self._evt\n",
      "AttributeError: _evt\n"
     ]
    },
    {
     "name": "stdout",
     "output_type": "stream",
     "text": [
      "----GLIP Inference Completed---\n",
      "mIOU CALCULATION GLIP, Bucket:\n",
      "IoU for handle: 0.1361\n",
      "Mean IoU: 0.1361\n",
      "Results saved to results.json\n",
      "Bucket inference DINO, GLIP ==> SAM started:\n",
      "----DINO Inference Starting----\n"
     ]
    },
    {
     "name": "stderr",
     "output_type": "stream",
     "text": [
      "FutureWarning: The `device` argument is deprecated and will be removed in v5 of Transformers.\n",
      "UserWarning: None of the inputs have requires_grad=True. Gradients will be None\n"
     ]
    },
    {
     "name": "stdout",
     "output_type": "stream",
     "text": [
      "----DINO Inference Completed---\n",
      "mIOU CALCULATION DINO, Bucket:\n",
      "IoU for handle: 0.4189\n",
      "Mean IoU: 0.4189\n",
      "----GLIP Inference Starting----\n"
     ]
    },
    {
     "name": "stderr",
     "output_type": "stream",
     "text": [
      "FutureWarning: The `device` argument is deprecated and will be removed in v5 of Transformers.\n",
      "UserWarning: nn.functional.upsample_bilinear is deprecated. Use nn.functional.interpolate instead.\n",
      "An exception occurred in telemetry logging.Disabling telemetry to prevent further exceptions.\n",
      "Traceback (most recent call last):\n",
      "  File \"/rhome/kamburoglu/miniconda3/envs/partslip/lib/python3.9/site-packages/iopath/common/file_io.py\", line 946, in __log_tmetry_keys\n",
      "    handler.log_event()\n",
      "  File \"/rhome/kamburoglu/miniconda3/envs/partslip/lib/python3.9/site-packages/iopath/common/event_logger.py\", line 97, in log_event\n",
      "    del self._evt\n",
      "AttributeError: _evt\n"
     ]
    },
    {
     "name": "stdout",
     "output_type": "stream",
     "text": [
      "----GLIP Inference Completed---\n",
      "mIOU CALCULATION GLIP, Bucket:\n",
      "IoU for handle: 0.1507\n",
      "Mean IoU: 0.1507\n",
      "Results saved to results.json\n",
      "Bucket inference DINO, GLIP ==> SAM started:\n",
      "----DINO Inference Starting----\n"
     ]
    },
    {
     "name": "stderr",
     "output_type": "stream",
     "text": [
      "FutureWarning: The `device` argument is deprecated and will be removed in v5 of Transformers.\n",
      "UserWarning: None of the inputs have requires_grad=True. Gradients will be None\n"
     ]
    },
    {
     "name": "stdout",
     "output_type": "stream",
     "text": [
      "----DINO Inference Completed---\n",
      "mIOU CALCULATION DINO, Bucket:\n",
      "IoU for handle: 0.9136\n",
      "Mean IoU: 0.9136\n",
      "----GLIP Inference Starting----\n"
     ]
    },
    {
     "name": "stderr",
     "output_type": "stream",
     "text": [
      "FutureWarning: The `device` argument is deprecated and will be removed in v5 of Transformers.\n",
      "UserWarning: nn.functional.upsample_bilinear is deprecated. Use nn.functional.interpolate instead.\n",
      "An exception occurred in telemetry logging.Disabling telemetry to prevent further exceptions.\n",
      "Traceback (most recent call last):\n",
      "  File \"/rhome/kamburoglu/miniconda3/envs/partslip/lib/python3.9/site-packages/iopath/common/file_io.py\", line 946, in __log_tmetry_keys\n",
      "    handler.log_event()\n",
      "  File \"/rhome/kamburoglu/miniconda3/envs/partslip/lib/python3.9/site-packages/iopath/common/event_logger.py\", line 97, in log_event\n",
      "    del self._evt\n",
      "AttributeError: _evt\n"
     ]
    },
    {
     "name": "stdout",
     "output_type": "stream",
     "text": [
      "----GLIP Inference Completed---\n",
      "mIOU CALCULATION GLIP, Bucket:\n",
      "IoU for handle: 0.3571\n",
      "Mean IoU: 0.3571\n",
      "Results saved to results.json\n",
      "Bucket inference DINO, GLIP ==> SAM started:\n",
      "----DINO Inference Starting----\n"
     ]
    },
    {
     "name": "stderr",
     "output_type": "stream",
     "text": [
      "FutureWarning: The `device` argument is deprecated and will be removed in v5 of Transformers.\n",
      "UserWarning: None of the inputs have requires_grad=True. Gradients will be None\n"
     ]
    },
    {
     "name": "stdout",
     "output_type": "stream",
     "text": [
      "----DINO Inference Completed---\n",
      "mIOU CALCULATION DINO, Bucket:\n",
      "IoU for handle: 0.6172\n",
      "Mean IoU: 0.6172\n",
      "----GLIP Inference Starting----\n"
     ]
    },
    {
     "name": "stderr",
     "output_type": "stream",
     "text": [
      "FutureWarning: The `device` argument is deprecated and will be removed in v5 of Transformers.\n",
      "UserWarning: nn.functional.upsample_bilinear is deprecated. Use nn.functional.interpolate instead.\n",
      "An exception occurred in telemetry logging.Disabling telemetry to prevent further exceptions.\n",
      "Traceback (most recent call last):\n",
      "  File \"/rhome/kamburoglu/miniconda3/envs/partslip/lib/python3.9/site-packages/iopath/common/file_io.py\", line 946, in __log_tmetry_keys\n",
      "    handler.log_event()\n",
      "  File \"/rhome/kamburoglu/miniconda3/envs/partslip/lib/python3.9/site-packages/iopath/common/event_logger.py\", line 97, in log_event\n",
      "    del self._evt\n",
      "AttributeError: _evt\n"
     ]
    },
    {
     "name": "stdout",
     "output_type": "stream",
     "text": [
      "----GLIP Inference Completed---\n",
      "mIOU CALCULATION GLIP, Bucket:\n",
      "IoU for handle: 0.1015\n",
      "Mean IoU: 0.1015\n",
      "Results saved to results.json\n",
      "Bucket inference DINO, GLIP ==> SAM started:\n",
      "----DINO Inference Starting----\n"
     ]
    },
    {
     "name": "stderr",
     "output_type": "stream",
     "text": [
      "FutureWarning: The `device` argument is deprecated and will be removed in v5 of Transformers.\n",
      "UserWarning: None of the inputs have requires_grad=True. Gradients will be None\n"
     ]
    },
    {
     "name": "stdout",
     "output_type": "stream",
     "text": [
      "----DINO Inference Completed---\n",
      "mIOU CALCULATION DINO, Bucket:\n",
      "IoU for handle: 0.9831\n",
      "Mean IoU: 0.9831\n",
      "----GLIP Inference Starting----\n"
     ]
    },
    {
     "name": "stderr",
     "output_type": "stream",
     "text": [
      "FutureWarning: The `device` argument is deprecated and will be removed in v5 of Transformers.\n",
      "UserWarning: nn.functional.upsample_bilinear is deprecated. Use nn.functional.interpolate instead.\n",
      "An exception occurred in telemetry logging.Disabling telemetry to prevent further exceptions.\n",
      "Traceback (most recent call last):\n",
      "  File \"/rhome/kamburoglu/miniconda3/envs/partslip/lib/python3.9/site-packages/iopath/common/file_io.py\", line 946, in __log_tmetry_keys\n",
      "    handler.log_event()\n",
      "  File \"/rhome/kamburoglu/miniconda3/envs/partslip/lib/python3.9/site-packages/iopath/common/event_logger.py\", line 97, in log_event\n",
      "    del self._evt\n",
      "AttributeError: _evt\n"
     ]
    },
    {
     "name": "stdout",
     "output_type": "stream",
     "text": [
      "----GLIP Inference Completed---\n",
      "mIOU CALCULATION GLIP, Bucket:\n",
      "IoU for handle: 0.3214\n",
      "Mean IoU: 0.3214\n",
      "Results saved to results.json\n",
      "Bucket inference DINO, GLIP ==> SAM started:\n",
      "----DINO Inference Starting----\n"
     ]
    },
    {
     "name": "stderr",
     "output_type": "stream",
     "text": [
      "FutureWarning: The `device` argument is deprecated and will be removed in v5 of Transformers.\n",
      "UserWarning: None of the inputs have requires_grad=True. Gradients will be None\n"
     ]
    },
    {
     "name": "stdout",
     "output_type": "stream",
     "text": [
      "----DINO Inference Completed---\n",
      "mIOU CALCULATION DINO, Bucket:\n",
      "IoU for handle: 0.5781\n",
      "Mean IoU: 0.5781\n",
      "----GLIP Inference Starting----\n"
     ]
    },
    {
     "name": "stderr",
     "output_type": "stream",
     "text": [
      "FutureWarning: The `device` argument is deprecated and will be removed in v5 of Transformers.\n",
      "UserWarning: nn.functional.upsample_bilinear is deprecated. Use nn.functional.interpolate instead.\n",
      "An exception occurred in telemetry logging.Disabling telemetry to prevent further exceptions.\n",
      "Traceback (most recent call last):\n",
      "  File \"/rhome/kamburoglu/miniconda3/envs/partslip/lib/python3.9/site-packages/iopath/common/file_io.py\", line 946, in __log_tmetry_keys\n",
      "    handler.log_event()\n",
      "  File \"/rhome/kamburoglu/miniconda3/envs/partslip/lib/python3.9/site-packages/iopath/common/event_logger.py\", line 97, in log_event\n",
      "    del self._evt\n",
      "AttributeError: _evt\n"
     ]
    },
    {
     "name": "stdout",
     "output_type": "stream",
     "text": [
      "----GLIP Inference Completed---\n",
      "mIOU CALCULATION GLIP, Bucket:\n",
      "IoU for handle: 0.2514\n",
      "Mean IoU: 0.2514\n",
      "Results saved to results.json\n",
      "Bucket inference DINO, GLIP ==> SAM started:\n",
      "----DINO Inference Starting----\n"
     ]
    },
    {
     "name": "stderr",
     "output_type": "stream",
     "text": [
      "FutureWarning: The `device` argument is deprecated and will be removed in v5 of Transformers.\n",
      "UserWarning: None of the inputs have requires_grad=True. Gradients will be None\n"
     ]
    },
    {
     "name": "stdout",
     "output_type": "stream",
     "text": [
      "----DINO Inference Completed---\n",
      "mIOU CALCULATION DINO, Bucket:\n",
      "IoU for handle: 0.7520\n",
      "Mean IoU: 0.7520\n",
      "----GLIP Inference Starting----\n"
     ]
    },
    {
     "name": "stderr",
     "output_type": "stream",
     "text": [
      "FutureWarning: The `device` argument is deprecated and will be removed in v5 of Transformers.\n",
      "UserWarning: nn.functional.upsample_bilinear is deprecated. Use nn.functional.interpolate instead.\n",
      "An exception occurred in telemetry logging.Disabling telemetry to prevent further exceptions.\n",
      "Traceback (most recent call last):\n",
      "  File \"/rhome/kamburoglu/miniconda3/envs/partslip/lib/python3.9/site-packages/iopath/common/file_io.py\", line 946, in __log_tmetry_keys\n",
      "    handler.log_event()\n",
      "  File \"/rhome/kamburoglu/miniconda3/envs/partslip/lib/python3.9/site-packages/iopath/common/event_logger.py\", line 97, in log_event\n",
      "    del self._evt\n",
      "AttributeError: _evt\n"
     ]
    },
    {
     "name": "stdout",
     "output_type": "stream",
     "text": [
      "----GLIP Inference Completed---\n",
      "mIOU CALCULATION GLIP, Bucket:\n",
      "IoU for handle: 0.1671\n",
      "Mean IoU: 0.1671\n",
      "Results saved to results.json\n",
      "Bucket inference DINO, GLIP ==> SAM started:\n",
      "----DINO Inference Starting----\n"
     ]
    },
    {
     "name": "stderr",
     "output_type": "stream",
     "text": [
      "FutureWarning: The `device` argument is deprecated and will be removed in v5 of Transformers.\n",
      "UserWarning: None of the inputs have requires_grad=True. Gradients will be None\n"
     ]
    },
    {
     "name": "stdout",
     "output_type": "stream",
     "text": [
      "----DINO Inference Completed---\n",
      "mIOU CALCULATION DINO, Bucket:\n",
      "IoU for handle: 0.8986\n",
      "Mean IoU: 0.8986\n",
      "----GLIP Inference Starting----\n"
     ]
    },
    {
     "name": "stderr",
     "output_type": "stream",
     "text": [
      "FutureWarning: The `device` argument is deprecated and will be removed in v5 of Transformers.\n",
      "UserWarning: nn.functional.upsample_bilinear is deprecated. Use nn.functional.interpolate instead.\n",
      "An exception occurred in telemetry logging.Disabling telemetry to prevent further exceptions.\n",
      "Traceback (most recent call last):\n",
      "  File \"/rhome/kamburoglu/miniconda3/envs/partslip/lib/python3.9/site-packages/iopath/common/file_io.py\", line 946, in __log_tmetry_keys\n",
      "    handler.log_event()\n",
      "  File \"/rhome/kamburoglu/miniconda3/envs/partslip/lib/python3.9/site-packages/iopath/common/event_logger.py\", line 97, in log_event\n",
      "    del self._evt\n",
      "AttributeError: _evt\n"
     ]
    },
    {
     "name": "stdout",
     "output_type": "stream",
     "text": [
      "----GLIP Inference Completed---\n",
      "mIOU CALCULATION GLIP, Bucket:\n",
      "IoU for handle: 0.3468\n",
      "Mean IoU: 0.3468\n",
      "Results saved to results.json\n",
      "Bucket inference DINO, GLIP ==> SAM started:\n",
      "----DINO Inference Starting----\n"
     ]
    },
    {
     "name": "stderr",
     "output_type": "stream",
     "text": [
      "FutureWarning: The `device` argument is deprecated and will be removed in v5 of Transformers.\n",
      "UserWarning: None of the inputs have requires_grad=True. Gradients will be None\n"
     ]
    },
    {
     "name": "stdout",
     "output_type": "stream",
     "text": [
      "----DINO Inference Completed---\n",
      "mIOU CALCULATION DINO, Bucket:\n",
      "IoU for handle: 0.7319\n",
      "Mean IoU: 0.7319\n",
      "----GLIP Inference Starting----\n"
     ]
    },
    {
     "name": "stderr",
     "output_type": "stream",
     "text": [
      "FutureWarning: The `device` argument is deprecated and will be removed in v5 of Transformers.\n",
      "UserWarning: nn.functional.upsample_bilinear is deprecated. Use nn.functional.interpolate instead.\n",
      "An exception occurred in telemetry logging.Disabling telemetry to prevent further exceptions.\n",
      "Traceback (most recent call last):\n",
      "  File \"/rhome/kamburoglu/miniconda3/envs/partslip/lib/python3.9/site-packages/iopath/common/file_io.py\", line 946, in __log_tmetry_keys\n",
      "    handler.log_event()\n",
      "  File \"/rhome/kamburoglu/miniconda3/envs/partslip/lib/python3.9/site-packages/iopath/common/event_logger.py\", line 97, in log_event\n",
      "    del self._evt\n",
      "AttributeError: _evt\n"
     ]
    },
    {
     "name": "stdout",
     "output_type": "stream",
     "text": [
      "----GLIP Inference Completed---\n",
      "mIOU CALCULATION GLIP, Bucket:\n",
      "IoU for handle: 0.3014\n",
      "Mean IoU: 0.3014\n",
      "Results saved to results.json\n",
      "Bucket inference DINO, GLIP ==> SAM started:\n",
      "----DINO Inference Starting----\n"
     ]
    },
    {
     "name": "stderr",
     "output_type": "stream",
     "text": [
      "FutureWarning: The `device` argument is deprecated and will be removed in v5 of Transformers.\n",
      "UserWarning: None of the inputs have requires_grad=True. Gradients will be None\n"
     ]
    },
    {
     "name": "stdout",
     "output_type": "stream",
     "text": [
      "----DINO Inference Completed---\n",
      "mIOU CALCULATION DINO, Bucket:\n",
      "IoU for handle: 0.9475\n",
      "Mean IoU: 0.9475\n",
      "----GLIP Inference Starting----\n"
     ]
    },
    {
     "name": "stderr",
     "output_type": "stream",
     "text": [
      "FutureWarning: The `device` argument is deprecated and will be removed in v5 of Transformers.\n",
      "UserWarning: nn.functional.upsample_bilinear is deprecated. Use nn.functional.interpolate instead.\n",
      "An exception occurred in telemetry logging.Disabling telemetry to prevent further exceptions.\n",
      "Traceback (most recent call last):\n",
      "  File \"/rhome/kamburoglu/miniconda3/envs/partslip/lib/python3.9/site-packages/iopath/common/file_io.py\", line 946, in __log_tmetry_keys\n",
      "    handler.log_event()\n",
      "  File \"/rhome/kamburoglu/miniconda3/envs/partslip/lib/python3.9/site-packages/iopath/common/event_logger.py\", line 97, in log_event\n",
      "    del self._evt\n",
      "AttributeError: _evt\n"
     ]
    },
    {
     "name": "stdout",
     "output_type": "stream",
     "text": [
      "----GLIP Inference Completed---\n",
      "mIOU CALCULATION GLIP, Bucket:\n",
      "IoU for handle: 0.2987\n",
      "Mean IoU: 0.2987\n",
      "Results saved to results.json\n",
      "Bucket inference DINO, GLIP ==> SAM started:\n",
      "----DINO Inference Starting----\n"
     ]
    },
    {
     "name": "stderr",
     "output_type": "stream",
     "text": [
      "FutureWarning: The `device` argument is deprecated and will be removed in v5 of Transformers.\n",
      "UserWarning: None of the inputs have requires_grad=True. Gradients will be None\n"
     ]
    },
    {
     "name": "stdout",
     "output_type": "stream",
     "text": [
      "----DINO Inference Completed---\n",
      "mIOU CALCULATION DINO, Bucket:\n",
      "IoU for handle: 0.6309\n",
      "Mean IoU: 0.6309\n",
      "----GLIP Inference Starting----\n"
     ]
    },
    {
     "name": "stderr",
     "output_type": "stream",
     "text": [
      "FutureWarning: The `device` argument is deprecated and will be removed in v5 of Transformers.\n",
      "UserWarning: nn.functional.upsample_bilinear is deprecated. Use nn.functional.interpolate instead.\n",
      "An exception occurred in telemetry logging.Disabling telemetry to prevent further exceptions.\n",
      "Traceback (most recent call last):\n",
      "  File \"/rhome/kamburoglu/miniconda3/envs/partslip/lib/python3.9/site-packages/iopath/common/file_io.py\", line 946, in __log_tmetry_keys\n",
      "    handler.log_event()\n",
      "  File \"/rhome/kamburoglu/miniconda3/envs/partslip/lib/python3.9/site-packages/iopath/common/event_logger.py\", line 97, in log_event\n",
      "    del self._evt\n",
      "AttributeError: _evt\n"
     ]
    },
    {
     "name": "stdout",
     "output_type": "stream",
     "text": [
      "----GLIP Inference Completed---\n",
      "mIOU CALCULATION GLIP, Bucket:\n",
      "IoU for handle: 0.1768\n",
      "Mean IoU: 0.1768\n",
      "Results saved to results.json\n",
      "Bucket inference DINO, GLIP ==> SAM started:\n",
      "----DINO Inference Starting----\n"
     ]
    },
    {
     "name": "stderr",
     "output_type": "stream",
     "text": [
      "FutureWarning: The `device` argument is deprecated and will be removed in v5 of Transformers.\n",
      "UserWarning: None of the inputs have requires_grad=True. Gradients will be None\n"
     ]
    },
    {
     "name": "stdout",
     "output_type": "stream",
     "text": [
      "----DINO Inference Completed---\n",
      "mIOU CALCULATION DINO, Bucket:\n",
      "IoU for handle: 0.4569\n",
      "Mean IoU: 0.4569\n",
      "----GLIP Inference Starting----\n"
     ]
    },
    {
     "name": "stderr",
     "output_type": "stream",
     "text": [
      "FutureWarning: The `device` argument is deprecated and will be removed in v5 of Transformers.\n",
      "UserWarning: nn.functional.upsample_bilinear is deprecated. Use nn.functional.interpolate instead.\n",
      "An exception occurred in telemetry logging.Disabling telemetry to prevent further exceptions.\n",
      "Traceback (most recent call last):\n",
      "  File \"/rhome/kamburoglu/miniconda3/envs/partslip/lib/python3.9/site-packages/iopath/common/file_io.py\", line 946, in __log_tmetry_keys\n",
      "    handler.log_event()\n",
      "  File \"/rhome/kamburoglu/miniconda3/envs/partslip/lib/python3.9/site-packages/iopath/common/event_logger.py\", line 97, in log_event\n",
      "    del self._evt\n",
      "AttributeError: _evt\n"
     ]
    },
    {
     "name": "stdout",
     "output_type": "stream",
     "text": [
      "----GLIP Inference Completed---\n",
      "mIOU CALCULATION GLIP, Bucket:\n",
      "IoU for handle: 0.4960\n",
      "Mean IoU: 0.4960\n",
      "Results saved to results.json\n",
      "Bucket inference DINO, GLIP ==> SAM started:\n",
      "----DINO Inference Starting----\n"
     ]
    },
    {
     "name": "stderr",
     "output_type": "stream",
     "text": [
      "FutureWarning: The `device` argument is deprecated and will be removed in v5 of Transformers.\n",
      "UserWarning: None of the inputs have requires_grad=True. Gradients will be None\n"
     ]
    },
    {
     "name": "stdout",
     "output_type": "stream",
     "text": [
      "----DINO Inference Completed---\n",
      "mIOU CALCULATION DINO, Bucket:\n",
      "IoU for handle: 0.3325\n",
      "Mean IoU: 0.3325\n",
      "----GLIP Inference Starting----\n"
     ]
    },
    {
     "name": "stderr",
     "output_type": "stream",
     "text": [
      "FutureWarning: The `device` argument is deprecated and will be removed in v5 of Transformers.\n",
      "UserWarning: nn.functional.upsample_bilinear is deprecated. Use nn.functional.interpolate instead.\n",
      "An exception occurred in telemetry logging.Disabling telemetry to prevent further exceptions.\n",
      "Traceback (most recent call last):\n",
      "  File \"/rhome/kamburoglu/miniconda3/envs/partslip/lib/python3.9/site-packages/iopath/common/file_io.py\", line 946, in __log_tmetry_keys\n",
      "    handler.log_event()\n",
      "  File \"/rhome/kamburoglu/miniconda3/envs/partslip/lib/python3.9/site-packages/iopath/common/event_logger.py\", line 97, in log_event\n",
      "    del self._evt\n",
      "AttributeError: _evt\n"
     ]
    },
    {
     "name": "stdout",
     "output_type": "stream",
     "text": [
      "----GLIP Inference Completed---\n",
      "mIOU CALCULATION GLIP, Bucket:\n",
      "IoU for handle: 0.2530\n",
      "Mean IoU: 0.2530\n",
      "Results saved to results.json\n",
      "Bucket inference DINO, GLIP ==> SAM started:\n",
      "----DINO Inference Starting----\n"
     ]
    },
    {
     "name": "stderr",
     "output_type": "stream",
     "text": [
      "FutureWarning: The `device` argument is deprecated and will be removed in v5 of Transformers.\n",
      "UserWarning: None of the inputs have requires_grad=True. Gradients will be None\n"
     ]
    },
    {
     "name": "stdout",
     "output_type": "stream",
     "text": [
      "----DINO Inference Completed---\n",
      "mIOU CALCULATION DINO, Bucket:\n",
      "IoU for handle: 0.8939\n",
      "Mean IoU: 0.8939\n",
      "----GLIP Inference Starting----\n"
     ]
    },
    {
     "name": "stderr",
     "output_type": "stream",
     "text": [
      "FutureWarning: The `device` argument is deprecated and will be removed in v5 of Transformers.\n",
      "UserWarning: nn.functional.upsample_bilinear is deprecated. Use nn.functional.interpolate instead.\n",
      "An exception occurred in telemetry logging.Disabling telemetry to prevent further exceptions.\n",
      "Traceback (most recent call last):\n",
      "  File \"/rhome/kamburoglu/miniconda3/envs/partslip/lib/python3.9/site-packages/iopath/common/file_io.py\", line 946, in __log_tmetry_keys\n",
      "    handler.log_event()\n",
      "  File \"/rhome/kamburoglu/miniconda3/envs/partslip/lib/python3.9/site-packages/iopath/common/event_logger.py\", line 97, in log_event\n",
      "    del self._evt\n",
      "AttributeError: _evt\n"
     ]
    },
    {
     "name": "stdout",
     "output_type": "stream",
     "text": [
      "----GLIP Inference Completed---\n",
      "mIOU CALCULATION GLIP, Bucket:\n",
      "IoU for handle: 0.1747\n",
      "Mean IoU: 0.1747\n",
      "Results saved to results.json\n",
      "Bucket inference DINO, GLIP ==> SAM started:\n",
      "----DINO Inference Starting----\n"
     ]
    },
    {
     "name": "stderr",
     "output_type": "stream",
     "text": [
      "FutureWarning: The `device` argument is deprecated and will be removed in v5 of Transformers.\n",
      "UserWarning: None of the inputs have requires_grad=True. Gradients will be None\n"
     ]
    },
    {
     "name": "stdout",
     "output_type": "stream",
     "text": [
      "----DINO Inference Completed---\n",
      "mIOU CALCULATION DINO, Bucket:\n",
      "IoU for handle: 0.8456\n",
      "Mean IoU: 0.8456\n",
      "----GLIP Inference Starting----\n"
     ]
    },
    {
     "name": "stderr",
     "output_type": "stream",
     "text": [
      "FutureWarning: The `device` argument is deprecated and will be removed in v5 of Transformers.\n",
      "UserWarning: nn.functional.upsample_bilinear is deprecated. Use nn.functional.interpolate instead.\n",
      "An exception occurred in telemetry logging.Disabling telemetry to prevent further exceptions.\n",
      "Traceback (most recent call last):\n",
      "  File \"/rhome/kamburoglu/miniconda3/envs/partslip/lib/python3.9/site-packages/iopath/common/file_io.py\", line 946, in __log_tmetry_keys\n",
      "    handler.log_event()\n",
      "  File \"/rhome/kamburoglu/miniconda3/envs/partslip/lib/python3.9/site-packages/iopath/common/event_logger.py\", line 97, in log_event\n",
      "    del self._evt\n",
      "AttributeError: _evt\n"
     ]
    },
    {
     "name": "stdout",
     "output_type": "stream",
     "text": [
      "----GLIP Inference Completed---\n",
      "mIOU CALCULATION GLIP, Bucket:\n",
      "IoU for handle: 0.1477\n",
      "Mean IoU: 0.1477\n",
      "Results saved to results.json\n",
      "Bucket inference DINO, GLIP ==> SAM started:\n",
      "----DINO Inference Starting----\n"
     ]
    },
    {
     "name": "stderr",
     "output_type": "stream",
     "text": [
      "FutureWarning: The `device` argument is deprecated and will be removed in v5 of Transformers.\n",
      "UserWarning: None of the inputs have requires_grad=True. Gradients will be None\n"
     ]
    },
    {
     "name": "stdout",
     "output_type": "stream",
     "text": [
      "----DINO Inference Completed---\n",
      "mIOU CALCULATION DINO, Bucket:\n",
      "IoU for handle: 0.7170\n",
      "Mean IoU: 0.7170\n",
      "----GLIP Inference Starting----\n"
     ]
    },
    {
     "name": "stderr",
     "output_type": "stream",
     "text": [
      "FutureWarning: The `device` argument is deprecated and will be removed in v5 of Transformers.\n",
      "UserWarning: nn.functional.upsample_bilinear is deprecated. Use nn.functional.interpolate instead.\n",
      "An exception occurred in telemetry logging.Disabling telemetry to prevent further exceptions.\n",
      "Traceback (most recent call last):\n",
      "  File \"/rhome/kamburoglu/miniconda3/envs/partslip/lib/python3.9/site-packages/iopath/common/file_io.py\", line 946, in __log_tmetry_keys\n",
      "    handler.log_event()\n",
      "  File \"/rhome/kamburoglu/miniconda3/envs/partslip/lib/python3.9/site-packages/iopath/common/event_logger.py\", line 97, in log_event\n",
      "    del self._evt\n",
      "AttributeError: _evt\n"
     ]
    },
    {
     "name": "stdout",
     "output_type": "stream",
     "text": [
      "----GLIP Inference Completed---\n",
      "mIOU CALCULATION GLIP, Bucket:\n",
      "IoU for handle: 0.0967\n",
      "Mean IoU: 0.0967\n",
      "Results saved to results.json\n",
      "Bucket inference DINO, GLIP ==> SAM started:\n",
      "----DINO Inference Starting----\n"
     ]
    },
    {
     "name": "stderr",
     "output_type": "stream",
     "text": [
      "FutureWarning: The `device` argument is deprecated and will be removed in v5 of Transformers.\n",
      "UserWarning: None of the inputs have requires_grad=True. Gradients will be None\n"
     ]
    },
    {
     "name": "stdout",
     "output_type": "stream",
     "text": [
      "----DINO Inference Completed---\n",
      "mIOU CALCULATION DINO, Bucket:\n",
      "IoU for handle: 0.9873\n",
      "Mean IoU: 0.9873\n",
      "----GLIP Inference Starting----\n"
     ]
    },
    {
     "name": "stderr",
     "output_type": "stream",
     "text": [
      "FutureWarning: The `device` argument is deprecated and will be removed in v5 of Transformers.\n",
      "UserWarning: nn.functional.upsample_bilinear is deprecated. Use nn.functional.interpolate instead.\n",
      "An exception occurred in telemetry logging.Disabling telemetry to prevent further exceptions.\n",
      "Traceback (most recent call last):\n",
      "  File \"/rhome/kamburoglu/miniconda3/envs/partslip/lib/python3.9/site-packages/iopath/common/file_io.py\", line 946, in __log_tmetry_keys\n",
      "    handler.log_event()\n",
      "  File \"/rhome/kamburoglu/miniconda3/envs/partslip/lib/python3.9/site-packages/iopath/common/event_logger.py\", line 97, in log_event\n",
      "    del self._evt\n",
      "AttributeError: _evt\n"
     ]
    },
    {
     "name": "stdout",
     "output_type": "stream",
     "text": [
      "----GLIP Inference Completed---\n",
      "mIOU CALCULATION GLIP, Bucket:\n",
      "IoU for handle: 0.2521\n",
      "Mean IoU: 0.2521\n",
      "Results saved to results.json\n",
      "Camera inference DINO, GLIP ==> SAM started:\n",
      "----DINO Inference Starting----\n"
     ]
    },
    {
     "name": "stderr",
     "output_type": "stream",
     "text": [
      "FutureWarning: The `device` argument is deprecated and will be removed in v5 of Transformers.\n",
      "UserWarning: None of the inputs have requires_grad=True. Gradients will be None\n"
     ]
    },
    {
     "name": "stdout",
     "output_type": "stream",
     "text": [
      "----DINO Inference Completed---\n",
      "mIOU CALCULATION DINO, Camera:\n",
      "IoU for button: 0.2707\n",
      "IoU for lens: 0.8476\n",
      "Mean IoU: 0.5591\n",
      "----GLIP Inference Starting----\n"
     ]
    },
    {
     "name": "stderr",
     "output_type": "stream",
     "text": [
      "FutureWarning: The `device` argument is deprecated and will be removed in v5 of Transformers.\n",
      "UserWarning: nn.functional.upsample_bilinear is deprecated. Use nn.functional.interpolate instead.\n",
      "An exception occurred in telemetry logging.Disabling telemetry to prevent further exceptions.\n",
      "Traceback (most recent call last):\n",
      "  File \"/rhome/kamburoglu/miniconda3/envs/partslip/lib/python3.9/site-packages/iopath/common/file_io.py\", line 946, in __log_tmetry_keys\n",
      "    handler.log_event()\n",
      "  File \"/rhome/kamburoglu/miniconda3/envs/partslip/lib/python3.9/site-packages/iopath/common/event_logger.py\", line 97, in log_event\n",
      "    del self._evt\n",
      "AttributeError: _evt\n"
     ]
    },
    {
     "name": "stdout",
     "output_type": "stream",
     "text": [
      "----GLIP Inference Completed---\n",
      "mIOU CALCULATION GLIP, Camera:\n",
      "IoU for button: 0.6247\n",
      "IoU for lens: 0.8669\n",
      "Mean IoU: 0.7458\n",
      "Results saved to results.json\n",
      "Camera inference DINO, GLIP ==> SAM started:\n",
      "----DINO Inference Starting----\n"
     ]
    },
    {
     "name": "stderr",
     "output_type": "stream",
     "text": [
      "FutureWarning: The `device` argument is deprecated and will be removed in v5 of Transformers.\n",
      "UserWarning: None of the inputs have requires_grad=True. Gradients will be None\n"
     ]
    },
    {
     "name": "stdout",
     "output_type": "stream",
     "text": [
      "----DINO Inference Completed---\n",
      "mIOU CALCULATION DINO, Camera:\n",
      "IoU for button: 0.2247\n",
      "lens not present in ground truth, skipping IoU calculation.\n",
      "Mean IoU: 0.2247\n",
      "----GLIP Inference Starting----\n"
     ]
    },
    {
     "name": "stderr",
     "output_type": "stream",
     "text": [
      "FutureWarning: The `device` argument is deprecated and will be removed in v5 of Transformers.\n",
      "UserWarning: nn.functional.upsample_bilinear is deprecated. Use nn.functional.interpolate instead.\n",
      "An exception occurred in telemetry logging.Disabling telemetry to prevent further exceptions.\n",
      "Traceback (most recent call last):\n",
      "  File \"/rhome/kamburoglu/miniconda3/envs/partslip/lib/python3.9/site-packages/iopath/common/file_io.py\", line 946, in __log_tmetry_keys\n",
      "    handler.log_event()\n",
      "  File \"/rhome/kamburoglu/miniconda3/envs/partslip/lib/python3.9/site-packages/iopath/common/event_logger.py\", line 97, in log_event\n",
      "    del self._evt\n",
      "AttributeError: _evt\n"
     ]
    },
    {
     "name": "stdout",
     "output_type": "stream",
     "text": [
      "----GLIP Inference Completed---\n",
      "mIOU CALCULATION GLIP, Camera:\n",
      "IoU for button: 0.4606\n",
      "camera lens not present in ground truth, skipping IoU calculation.\n",
      "Mean IoU: 0.4606\n",
      "Results saved to results.json\n",
      "Camera inference DINO, GLIP ==> SAM started:\n",
      "----DINO Inference Starting----\n"
     ]
    },
    {
     "name": "stderr",
     "output_type": "stream",
     "text": [
      "FutureWarning: The `device` argument is deprecated and will be removed in v5 of Transformers.\n",
      "UserWarning: None of the inputs have requires_grad=True. Gradients will be None\n"
     ]
    },
    {
     "name": "stdout",
     "output_type": "stream",
     "text": [
      "----DINO Inference Completed---\n",
      "mIOU CALCULATION DINO, Camera:\n",
      "IoU for button: 0.6738\n",
      "IoU for lens: 0.8302\n",
      "Mean IoU: 0.7520\n",
      "----GLIP Inference Starting----\n"
     ]
    },
    {
     "name": "stderr",
     "output_type": "stream",
     "text": [
      "FutureWarning: The `device` argument is deprecated and will be removed in v5 of Transformers.\n",
      "UserWarning: nn.functional.upsample_bilinear is deprecated. Use nn.functional.interpolate instead.\n",
      "An exception occurred in telemetry logging.Disabling telemetry to prevent further exceptions.\n",
      "Traceback (most recent call last):\n",
      "  File \"/rhome/kamburoglu/miniconda3/envs/partslip/lib/python3.9/site-packages/iopath/common/file_io.py\", line 946, in __log_tmetry_keys\n",
      "    handler.log_event()\n",
      "  File \"/rhome/kamburoglu/miniconda3/envs/partslip/lib/python3.9/site-packages/iopath/common/event_logger.py\", line 97, in log_event\n",
      "    del self._evt\n",
      "AttributeError: _evt\n"
     ]
    },
    {
     "name": "stdout",
     "output_type": "stream",
     "text": [
      "----GLIP Inference Completed---\n",
      "mIOU CALCULATION GLIP, Camera:\n",
      "IoU for button: 0.2512\n",
      "IoU for lens: 0.7323\n",
      "Mean IoU: 0.4917\n",
      "Results saved to results.json\n",
      "Camera inference DINO, GLIP ==> SAM started:\n",
      "----DINO Inference Starting----\n"
     ]
    },
    {
     "name": "stderr",
     "output_type": "stream",
     "text": [
      "FutureWarning: The `device` argument is deprecated and will be removed in v5 of Transformers.\n",
      "UserWarning: None of the inputs have requires_grad=True. Gradients will be None\n"
     ]
    },
    {
     "name": "stdout",
     "output_type": "stream",
     "text": [
      "----DINO Inference Completed---\n",
      "mIOU CALCULATION DINO, Camera:\n",
      "IoU for button: 0.2053\n",
      "IoU for lens: 0.7369\n",
      "Mean IoU: 0.4711\n",
      "----GLIP Inference Starting----\n"
     ]
    },
    {
     "name": "stderr",
     "output_type": "stream",
     "text": [
      "FutureWarning: The `device` argument is deprecated and will be removed in v5 of Transformers.\n",
      "UserWarning: nn.functional.upsample_bilinear is deprecated. Use nn.functional.interpolate instead.\n",
      "An exception occurred in telemetry logging.Disabling telemetry to prevent further exceptions.\n",
      "Traceback (most recent call last):\n",
      "  File \"/rhome/kamburoglu/miniconda3/envs/partslip/lib/python3.9/site-packages/iopath/common/file_io.py\", line 946, in __log_tmetry_keys\n",
      "    handler.log_event()\n",
      "  File \"/rhome/kamburoglu/miniconda3/envs/partslip/lib/python3.9/site-packages/iopath/common/event_logger.py\", line 97, in log_event\n",
      "    del self._evt\n",
      "AttributeError: _evt\n"
     ]
    },
    {
     "name": "stdout",
     "output_type": "stream",
     "text": [
      "----GLIP Inference Completed---\n",
      "mIOU CALCULATION GLIP, Camera:\n",
      "IoU for button: 0.0000\n",
      "IoU for lens: 0.4337\n",
      "Mean IoU: 0.2168\n",
      "Results saved to results.json\n",
      "Camera inference DINO, GLIP ==> SAM started:\n",
      "----DINO Inference Starting----\n"
     ]
    },
    {
     "name": "stderr",
     "output_type": "stream",
     "text": [
      "FutureWarning: The `device` argument is deprecated and will be removed in v5 of Transformers.\n",
      "UserWarning: None of the inputs have requires_grad=True. Gradients will be None\n"
     ]
    },
    {
     "name": "stdout",
     "output_type": "stream",
     "text": [
      "----DINO Inference Completed---\n",
      "mIOU CALCULATION DINO, Camera:\n",
      "IoU for button: 0.1747\n",
      "IoU for lens: 0.9417\n",
      "Mean IoU: 0.5582\n",
      "----GLIP Inference Starting----\n"
     ]
    },
    {
     "name": "stderr",
     "output_type": "stream",
     "text": [
      "FutureWarning: The `device` argument is deprecated and will be removed in v5 of Transformers.\n",
      "UserWarning: nn.functional.upsample_bilinear is deprecated. Use nn.functional.interpolate instead.\n",
      "An exception occurred in telemetry logging.Disabling telemetry to prevent further exceptions.\n",
      "Traceback (most recent call last):\n",
      "  File \"/rhome/kamburoglu/miniconda3/envs/partslip/lib/python3.9/site-packages/iopath/common/file_io.py\", line 946, in __log_tmetry_keys\n",
      "    handler.log_event()\n",
      "  File \"/rhome/kamburoglu/miniconda3/envs/partslip/lib/python3.9/site-packages/iopath/common/event_logger.py\", line 97, in log_event\n",
      "    del self._evt\n",
      "AttributeError: _evt\n"
     ]
    },
    {
     "name": "stdout",
     "output_type": "stream",
     "text": [
      "----GLIP Inference Completed---\n",
      "mIOU CALCULATION GLIP, Camera:\n",
      "IoU for button: 0.1965\n",
      "IoU for lens: 0.8214\n",
      "Mean IoU: 0.5090\n",
      "Results saved to results.json\n",
      "Camera inference DINO, GLIP ==> SAM started:\n",
      "----DINO Inference Starting----\n"
     ]
    },
    {
     "name": "stderr",
     "output_type": "stream",
     "text": [
      "FutureWarning: The `device` argument is deprecated and will be removed in v5 of Transformers.\n",
      "UserWarning: None of the inputs have requires_grad=True. Gradients will be None\n"
     ]
    },
    {
     "name": "stdout",
     "output_type": "stream",
     "text": [
      "----DINO Inference Completed---\n",
      "mIOU CALCULATION DINO, Camera:\n",
      "IoU for button: 0.2753\n",
      "IoU for lens: 0.4219\n",
      "Mean IoU: 0.3486\n",
      "----GLIP Inference Starting----\n"
     ]
    },
    {
     "name": "stderr",
     "output_type": "stream",
     "text": [
      "FutureWarning: The `device` argument is deprecated and will be removed in v5 of Transformers.\n",
      "UserWarning: nn.functional.upsample_bilinear is deprecated. Use nn.functional.interpolate instead.\n",
      "An exception occurred in telemetry logging.Disabling telemetry to prevent further exceptions.\n",
      "Traceback (most recent call last):\n",
      "  File \"/rhome/kamburoglu/miniconda3/envs/partslip/lib/python3.9/site-packages/iopath/common/file_io.py\", line 946, in __log_tmetry_keys\n",
      "    handler.log_event()\n",
      "  File \"/rhome/kamburoglu/miniconda3/envs/partslip/lib/python3.9/site-packages/iopath/common/event_logger.py\", line 97, in log_event\n",
      "    del self._evt\n",
      "AttributeError: _evt\n"
     ]
    },
    {
     "name": "stdout",
     "output_type": "stream",
     "text": [
      "----GLIP Inference Completed---\n",
      "mIOU CALCULATION GLIP, Camera:\n",
      "IoU for button: 0.5965\n",
      "IoU for lens: 0.8185\n",
      "Mean IoU: 0.7075\n",
      "Results saved to results.json\n",
      "Camera inference DINO, GLIP ==> SAM started:\n",
      "----DINO Inference Starting----\n"
     ]
    },
    {
     "name": "stderr",
     "output_type": "stream",
     "text": [
      "FutureWarning: The `device` argument is deprecated and will be removed in v5 of Transformers.\n",
      "UserWarning: None of the inputs have requires_grad=True. Gradients will be None\n"
     ]
    },
    {
     "name": "stdout",
     "output_type": "stream",
     "text": [
      "----DINO Inference Completed---\n",
      "mIOU CALCULATION DINO, Camera:\n",
      "IoU for button: 0.5521\n",
      "IoU for lens: 0.8221\n",
      "Mean IoU: 0.6871\n",
      "----GLIP Inference Starting----\n"
     ]
    },
    {
     "name": "stderr",
     "output_type": "stream",
     "text": [
      "FutureWarning: The `device` argument is deprecated and will be removed in v5 of Transformers.\n",
      "UserWarning: nn.functional.upsample_bilinear is deprecated. Use nn.functional.interpolate instead.\n",
      "An exception occurred in telemetry logging.Disabling telemetry to prevent further exceptions.\n",
      "Traceback (most recent call last):\n",
      "  File \"/rhome/kamburoglu/miniconda3/envs/partslip/lib/python3.9/site-packages/iopath/common/file_io.py\", line 946, in __log_tmetry_keys\n",
      "    handler.log_event()\n",
      "  File \"/rhome/kamburoglu/miniconda3/envs/partslip/lib/python3.9/site-packages/iopath/common/event_logger.py\", line 97, in log_event\n",
      "    del self._evt\n",
      "AttributeError: _evt\n"
     ]
    },
    {
     "name": "stdout",
     "output_type": "stream",
     "text": [
      "----GLIP Inference Completed---\n",
      "mIOU CALCULATION GLIP, Camera:\n",
      "IoU for button: 0.7564\n",
      "IoU for lens: 0.8562\n",
      "Mean IoU: 0.8063\n",
      "Results saved to results.json\n",
      "Camera inference DINO, GLIP ==> SAM started:\n",
      "----DINO Inference Starting----\n"
     ]
    },
    {
     "name": "stderr",
     "output_type": "stream",
     "text": [
      "FutureWarning: The `device` argument is deprecated and will be removed in v5 of Transformers.\n",
      "UserWarning: None of the inputs have requires_grad=True. Gradients will be None\n"
     ]
    },
    {
     "name": "stdout",
     "output_type": "stream",
     "text": [
      "----DINO Inference Completed---\n",
      "mIOU CALCULATION DINO, Camera:\n",
      "IoU for button: 0.2154\n",
      "IoU for lens: 0.6392\n",
      "Mean IoU: 0.4273\n",
      "----GLIP Inference Starting----\n"
     ]
    },
    {
     "name": "stderr",
     "output_type": "stream",
     "text": [
      "FutureWarning: The `device` argument is deprecated and will be removed in v5 of Transformers.\n",
      "UserWarning: nn.functional.upsample_bilinear is deprecated. Use nn.functional.interpolate instead.\n",
      "An exception occurred in telemetry logging.Disabling telemetry to prevent further exceptions.\n",
      "Traceback (most recent call last):\n",
      "  File \"/rhome/kamburoglu/miniconda3/envs/partslip/lib/python3.9/site-packages/iopath/common/file_io.py\", line 946, in __log_tmetry_keys\n",
      "    handler.log_event()\n",
      "  File \"/rhome/kamburoglu/miniconda3/envs/partslip/lib/python3.9/site-packages/iopath/common/event_logger.py\", line 97, in log_event\n",
      "    del self._evt\n",
      "AttributeError: _evt\n"
     ]
    },
    {
     "name": "stdout",
     "output_type": "stream",
     "text": [
      "----GLIP Inference Completed---\n",
      "mIOU CALCULATION GLIP, Camera:\n",
      "IoU for button: 0.1538\n",
      "IoU for lens: 0.3419\n",
      "Mean IoU: 0.2478\n",
      "Results saved to results.json\n",
      "Camera inference DINO, GLIP ==> SAM started:\n",
      "----DINO Inference Starting----\n"
     ]
    },
    {
     "name": "stderr",
     "output_type": "stream",
     "text": [
      "FutureWarning: The `device` argument is deprecated and will be removed in v5 of Transformers.\n",
      "UserWarning: None of the inputs have requires_grad=True. Gradients will be None\n"
     ]
    },
    {
     "name": "stdout",
     "output_type": "stream",
     "text": [
      "----DINO Inference Completed---\n",
      "mIOU CALCULATION DINO, Camera:\n",
      "IoU for button: 0.3882\n",
      "IoU for lens: 0.3771\n",
      "Mean IoU: 0.3827\n",
      "----GLIP Inference Starting----\n"
     ]
    },
    {
     "name": "stderr",
     "output_type": "stream",
     "text": [
      "FutureWarning: The `device` argument is deprecated and will be removed in v5 of Transformers.\n",
      "UserWarning: nn.functional.upsample_bilinear is deprecated. Use nn.functional.interpolate instead.\n",
      "An exception occurred in telemetry logging.Disabling telemetry to prevent further exceptions.\n",
      "Traceback (most recent call last):\n",
      "  File \"/rhome/kamburoglu/miniconda3/envs/partslip/lib/python3.9/site-packages/iopath/common/file_io.py\", line 946, in __log_tmetry_keys\n",
      "    handler.log_event()\n",
      "  File \"/rhome/kamburoglu/miniconda3/envs/partslip/lib/python3.9/site-packages/iopath/common/event_logger.py\", line 97, in log_event\n",
      "    del self._evt\n",
      "AttributeError: _evt\n"
     ]
    },
    {
     "name": "stdout",
     "output_type": "stream",
     "text": [
      "----GLIP Inference Completed---\n",
      "mIOU CALCULATION GLIP, Camera:\n",
      "IoU for button: 0.3398\n",
      "IoU for lens: 0.2533\n",
      "Mean IoU: 0.2965\n",
      "Results saved to results.json\n",
      "Camera inference DINO, GLIP ==> SAM started:\n",
      "----DINO Inference Starting----\n"
     ]
    },
    {
     "name": "stderr",
     "output_type": "stream",
     "text": [
      "FutureWarning: The `device` argument is deprecated and will be removed in v5 of Transformers.\n",
      "UserWarning: None of the inputs have requires_grad=True. Gradients will be None\n"
     ]
    },
    {
     "name": "stdout",
     "output_type": "stream",
     "text": [
      "----DINO Inference Completed---\n",
      "mIOU CALCULATION DINO, Camera:\n",
      "IoU for button: 0.4066\n",
      "IoU for lens: 0.3587\n",
      "Mean IoU: 0.3826\n",
      "----GLIP Inference Starting----\n"
     ]
    },
    {
     "name": "stderr",
     "output_type": "stream",
     "text": [
      "FutureWarning: The `device` argument is deprecated and will be removed in v5 of Transformers.\n",
      "UserWarning: nn.functional.upsample_bilinear is deprecated. Use nn.functional.interpolate instead.\n",
      "An exception occurred in telemetry logging.Disabling telemetry to prevent further exceptions.\n",
      "Traceback (most recent call last):\n",
      "  File \"/rhome/kamburoglu/miniconda3/envs/partslip/lib/python3.9/site-packages/iopath/common/file_io.py\", line 946, in __log_tmetry_keys\n",
      "    handler.log_event()\n",
      "  File \"/rhome/kamburoglu/miniconda3/envs/partslip/lib/python3.9/site-packages/iopath/common/event_logger.py\", line 97, in log_event\n",
      "    del self._evt\n",
      "AttributeError: _evt\n"
     ]
    },
    {
     "name": "stdout",
     "output_type": "stream",
     "text": [
      "----GLIP Inference Completed---\n",
      "mIOU CALCULATION GLIP, Camera:\n",
      "IoU for button: 0.2681\n",
      "IoU for lens: 0.3587\n",
      "Mean IoU: 0.3134\n",
      "Results saved to results.json\n",
      "Camera inference DINO, GLIP ==> SAM started:\n",
      "----DINO Inference Starting----\n"
     ]
    },
    {
     "name": "stderr",
     "output_type": "stream",
     "text": [
      "FutureWarning: The `device` argument is deprecated and will be removed in v5 of Transformers.\n",
      "UserWarning: None of the inputs have requires_grad=True. Gradients will be None\n"
     ]
    },
    {
     "name": "stdout",
     "output_type": "stream",
     "text": [
      "----DINO Inference Completed---\n",
      "mIOU CALCULATION DINO, Camera:\n",
      "IoU for button: 0.3661\n",
      "IoU for lens: 0.4211\n",
      "Mean IoU: 0.3936\n",
      "----GLIP Inference Starting----\n"
     ]
    },
    {
     "name": "stderr",
     "output_type": "stream",
     "text": [
      "FutureWarning: The `device` argument is deprecated and will be removed in v5 of Transformers.\n",
      "UserWarning: nn.functional.upsample_bilinear is deprecated. Use nn.functional.interpolate instead.\n",
      "An exception occurred in telemetry logging.Disabling telemetry to prevent further exceptions.\n",
      "Traceback (most recent call last):\n",
      "  File \"/rhome/kamburoglu/miniconda3/envs/partslip/lib/python3.9/site-packages/iopath/common/file_io.py\", line 946, in __log_tmetry_keys\n",
      "    handler.log_event()\n",
      "  File \"/rhome/kamburoglu/miniconda3/envs/partslip/lib/python3.9/site-packages/iopath/common/event_logger.py\", line 97, in log_event\n",
      "    del self._evt\n",
      "AttributeError: _evt\n"
     ]
    },
    {
     "name": "stdout",
     "output_type": "stream",
     "text": [
      "----GLIP Inference Completed---\n",
      "mIOU CALCULATION GLIP, Camera:\n",
      "IoU for button: 0.0708\n",
      "IoU for lens: 0.3669\n",
      "Mean IoU: 0.2189\n",
      "Results saved to results.json\n",
      "Camera inference DINO, GLIP ==> SAM started:\n",
      "----DINO Inference Starting----\n"
     ]
    },
    {
     "name": "stderr",
     "output_type": "stream",
     "text": [
      "FutureWarning: The `device` argument is deprecated and will be removed in v5 of Transformers.\n",
      "UserWarning: None of the inputs have requires_grad=True. Gradients will be None\n"
     ]
    },
    {
     "name": "stdout",
     "output_type": "stream",
     "text": [
      "----DINO Inference Completed---\n",
      "mIOU CALCULATION DINO, Camera:\n",
      "IoU for button: 0.2358\n",
      "IoU for lens: 0.8392\n",
      "Mean IoU: 0.5375\n",
      "----GLIP Inference Starting----\n"
     ]
    },
    {
     "name": "stderr",
     "output_type": "stream",
     "text": [
      "FutureWarning: The `device` argument is deprecated and will be removed in v5 of Transformers.\n",
      "UserWarning: nn.functional.upsample_bilinear is deprecated. Use nn.functional.interpolate instead.\n",
      "An exception occurred in telemetry logging.Disabling telemetry to prevent further exceptions.\n",
      "Traceback (most recent call last):\n",
      "  File \"/rhome/kamburoglu/miniconda3/envs/partslip/lib/python3.9/site-packages/iopath/common/file_io.py\", line 946, in __log_tmetry_keys\n",
      "    handler.log_event()\n",
      "  File \"/rhome/kamburoglu/miniconda3/envs/partslip/lib/python3.9/site-packages/iopath/common/event_logger.py\", line 97, in log_event\n",
      "    del self._evt\n",
      "AttributeError: _evt\n"
     ]
    },
    {
     "name": "stdout",
     "output_type": "stream",
     "text": [
      "----GLIP Inference Completed---\n",
      "mIOU CALCULATION GLIP, Camera:\n",
      "IoU for button: 0.1961\n",
      "IoU for lens: 0.1846\n",
      "Mean IoU: 0.1903\n",
      "Results saved to results.json\n",
      "Camera inference DINO, GLIP ==> SAM started:\n",
      "----DINO Inference Starting----\n"
     ]
    },
    {
     "name": "stderr",
     "output_type": "stream",
     "text": [
      "FutureWarning: The `device` argument is deprecated and will be removed in v5 of Transformers.\n",
      "UserWarning: None of the inputs have requires_grad=True. Gradients will be None\n"
     ]
    },
    {
     "name": "stdout",
     "output_type": "stream",
     "text": [
      "----DINO Inference Completed---\n",
      "mIOU CALCULATION DINO, Camera:\n",
      "IoU for button: 0.2471\n",
      "IoU for lens: 0.6910\n",
      "Mean IoU: 0.4691\n",
      "----GLIP Inference Starting----\n"
     ]
    },
    {
     "name": "stderr",
     "output_type": "stream",
     "text": [
      "FutureWarning: The `device` argument is deprecated and will be removed in v5 of Transformers.\n",
      "UserWarning: nn.functional.upsample_bilinear is deprecated. Use nn.functional.interpolate instead.\n",
      "An exception occurred in telemetry logging.Disabling telemetry to prevent further exceptions.\n",
      "Traceback (most recent call last):\n",
      "  File \"/rhome/kamburoglu/miniconda3/envs/partslip/lib/python3.9/site-packages/iopath/common/file_io.py\", line 946, in __log_tmetry_keys\n",
      "    handler.log_event()\n",
      "  File \"/rhome/kamburoglu/miniconda3/envs/partslip/lib/python3.9/site-packages/iopath/common/event_logger.py\", line 97, in log_event\n",
      "    del self._evt\n",
      "AttributeError: _evt\n"
     ]
    },
    {
     "name": "stdout",
     "output_type": "stream",
     "text": [
      "----GLIP Inference Completed---\n",
      "mIOU CALCULATION GLIP, Camera:\n",
      "IoU for button: 0.0158\n",
      "IoU for lens: 0.9160\n",
      "Mean IoU: 0.4659\n",
      "Results saved to results.json\n",
      "Camera inference DINO, GLIP ==> SAM started:\n",
      "----DINO Inference Starting----\n"
     ]
    },
    {
     "name": "stderr",
     "output_type": "stream",
     "text": [
      "FutureWarning: The `device` argument is deprecated and will be removed in v5 of Transformers.\n",
      "UserWarning: None of the inputs have requires_grad=True. Gradients will be None\n"
     ]
    },
    {
     "name": "stdout",
     "output_type": "stream",
     "text": [
      "----DINO Inference Completed---\n",
      "mIOU CALCULATION DINO, Camera:\n",
      "IoU for button: 0.0000\n",
      "IoU for lens: 0.2539\n",
      "Mean IoU: 0.1269\n",
      "----GLIP Inference Starting----\n"
     ]
    },
    {
     "name": "stderr",
     "output_type": "stream",
     "text": [
      "FutureWarning: The `device` argument is deprecated and will be removed in v5 of Transformers.\n",
      "UserWarning: nn.functional.upsample_bilinear is deprecated. Use nn.functional.interpolate instead.\n",
      "An exception occurred in telemetry logging.Disabling telemetry to prevent further exceptions.\n",
      "Traceback (most recent call last):\n",
      "  File \"/rhome/kamburoglu/miniconda3/envs/partslip/lib/python3.9/site-packages/iopath/common/file_io.py\", line 946, in __log_tmetry_keys\n",
      "    handler.log_event()\n",
      "  File \"/rhome/kamburoglu/miniconda3/envs/partslip/lib/python3.9/site-packages/iopath/common/event_logger.py\", line 97, in log_event\n",
      "    del self._evt\n",
      "AttributeError: _evt\n"
     ]
    },
    {
     "name": "stdout",
     "output_type": "stream",
     "text": [
      "----GLIP Inference Completed---\n",
      "mIOU CALCULATION GLIP, Camera:\n",
      "IoU for button: 0.0100\n",
      "IoU for lens: 0.3278\n",
      "Mean IoU: 0.1689\n",
      "Results saved to results.json\n",
      "Camera inference DINO, GLIP ==> SAM started:\n",
      "----DINO Inference Starting----\n"
     ]
    },
    {
     "name": "stderr",
     "output_type": "stream",
     "text": [
      "FutureWarning: The `device` argument is deprecated and will be removed in v5 of Transformers.\n",
      "UserWarning: None of the inputs have requires_grad=True. Gradients will be None\n"
     ]
    },
    {
     "name": "stdout",
     "output_type": "stream",
     "text": [
      "----DINO Inference Completed---\n",
      "mIOU CALCULATION DINO, Camera:\n",
      "IoU for button: 0.1110\n",
      "lens not present in ground truth, skipping IoU calculation.\n",
      "Mean IoU: 0.1110\n",
      "----GLIP Inference Starting----\n"
     ]
    },
    {
     "name": "stderr",
     "output_type": "stream",
     "text": [
      "FutureWarning: The `device` argument is deprecated and will be removed in v5 of Transformers.\n",
      "UserWarning: nn.functional.upsample_bilinear is deprecated. Use nn.functional.interpolate instead.\n",
      "An exception occurred in telemetry logging.Disabling telemetry to prevent further exceptions.\n",
      "Traceback (most recent call last):\n",
      "  File \"/rhome/kamburoglu/miniconda3/envs/partslip/lib/python3.9/site-packages/iopath/common/file_io.py\", line 946, in __log_tmetry_keys\n",
      "    handler.log_event()\n",
      "  File \"/rhome/kamburoglu/miniconda3/envs/partslip/lib/python3.9/site-packages/iopath/common/event_logger.py\", line 97, in log_event\n",
      "    del self._evt\n",
      "AttributeError: _evt\n"
     ]
    },
    {
     "name": "stdout",
     "output_type": "stream",
     "text": [
      "----GLIP Inference Completed---\n",
      "mIOU CALCULATION GLIP, Camera:\n",
      "IoU for button: 0.4676\n",
      "camera lens not present in ground truth, skipping IoU calculation.\n",
      "Mean IoU: 0.4676\n",
      "Results saved to results.json\n",
      "Camera inference DINO, GLIP ==> SAM started:\n",
      "----DINO Inference Starting----\n"
     ]
    },
    {
     "name": "stderr",
     "output_type": "stream",
     "text": [
      "FutureWarning: The `device` argument is deprecated and will be removed in v5 of Transformers.\n",
      "UserWarning: None of the inputs have requires_grad=True. Gradients will be None\n"
     ]
    },
    {
     "name": "stdout",
     "output_type": "stream",
     "text": [
      "----DINO Inference Completed---\n",
      "mIOU CALCULATION DINO, Camera:\n",
      "IoU for button: 0.0120\n",
      "IoU for lens: 0.9277\n",
      "Mean IoU: 0.4698\n",
      "----GLIP Inference Starting----\n"
     ]
    },
    {
     "name": "stderr",
     "output_type": "stream",
     "text": [
      "FutureWarning: The `device` argument is deprecated and will be removed in v5 of Transformers.\n",
      "UserWarning: nn.functional.upsample_bilinear is deprecated. Use nn.functional.interpolate instead.\n",
      "An exception occurred in telemetry logging.Disabling telemetry to prevent further exceptions.\n",
      "Traceback (most recent call last):\n",
      "  File \"/rhome/kamburoglu/miniconda3/envs/partslip/lib/python3.9/site-packages/iopath/common/file_io.py\", line 946, in __log_tmetry_keys\n",
      "    handler.log_event()\n",
      "  File \"/rhome/kamburoglu/miniconda3/envs/partslip/lib/python3.9/site-packages/iopath/common/event_logger.py\", line 97, in log_event\n",
      "    del self._evt\n",
      "AttributeError: _evt\n"
     ]
    },
    {
     "name": "stdout",
     "output_type": "stream",
     "text": [
      "----GLIP Inference Completed---\n",
      "mIOU CALCULATION GLIP, Camera:\n",
      "IoU for button: 0.4808\n",
      "IoU for lens: 0.9865\n",
      "Mean IoU: 0.7337\n",
      "Results saved to results.json\n",
      "Camera inference DINO, GLIP ==> SAM started:\n",
      "----DINO Inference Starting----\n"
     ]
    },
    {
     "name": "stderr",
     "output_type": "stream",
     "text": [
      "FutureWarning: The `device` argument is deprecated and will be removed in v5 of Transformers.\n",
      "UserWarning: None of the inputs have requires_grad=True. Gradients will be None\n"
     ]
    },
    {
     "name": "stdout",
     "output_type": "stream",
     "text": [
      "----DINO Inference Completed---\n",
      "mIOU CALCULATION DINO, Camera:\n",
      "IoU for button: 0.6353\n",
      "IoU for lens: 0.5399\n",
      "Mean IoU: 0.5876\n",
      "----GLIP Inference Starting----\n"
     ]
    },
    {
     "name": "stderr",
     "output_type": "stream",
     "text": [
      "FutureWarning: The `device` argument is deprecated and will be removed in v5 of Transformers.\n",
      "UserWarning: nn.functional.upsample_bilinear is deprecated. Use nn.functional.interpolate instead.\n",
      "An exception occurred in telemetry logging.Disabling telemetry to prevent further exceptions.\n",
      "Traceback (most recent call last):\n",
      "  File \"/rhome/kamburoglu/miniconda3/envs/partslip/lib/python3.9/site-packages/iopath/common/file_io.py\", line 946, in __log_tmetry_keys\n",
      "    handler.log_event()\n",
      "  File \"/rhome/kamburoglu/miniconda3/envs/partslip/lib/python3.9/site-packages/iopath/common/event_logger.py\", line 97, in log_event\n",
      "    del self._evt\n",
      "AttributeError: _evt\n"
     ]
    },
    {
     "name": "stdout",
     "output_type": "stream",
     "text": [
      "----GLIP Inference Completed---\n",
      "mIOU CALCULATION GLIP, Camera:\n",
      "IoU for button: 0.6325\n",
      "IoU for lens: 0.4264\n",
      "Mean IoU: 0.5295\n",
      "Results saved to results.json\n",
      "Camera inference DINO, GLIP ==> SAM started:\n",
      "----DINO Inference Starting----\n"
     ]
    },
    {
     "name": "stderr",
     "output_type": "stream",
     "text": [
      "FutureWarning: The `device` argument is deprecated and will be removed in v5 of Transformers.\n",
      "UserWarning: None of the inputs have requires_grad=True. Gradients will be None\n"
     ]
    },
    {
     "name": "stdout",
     "output_type": "stream",
     "text": [
      "----DINO Inference Completed---\n",
      "mIOU CALCULATION DINO, Camera:\n",
      "IoU for button: 0.6824\n",
      "IoU for lens: 0.9124\n",
      "Mean IoU: 0.7974\n",
      "----GLIP Inference Starting----\n"
     ]
    },
    {
     "name": "stderr",
     "output_type": "stream",
     "text": [
      "FutureWarning: The `device` argument is deprecated and will be removed in v5 of Transformers.\n",
      "UserWarning: nn.functional.upsample_bilinear is deprecated. Use nn.functional.interpolate instead.\n",
      "An exception occurred in telemetry logging.Disabling telemetry to prevent further exceptions.\n",
      "Traceback (most recent call last):\n",
      "  File \"/rhome/kamburoglu/miniconda3/envs/partslip/lib/python3.9/site-packages/iopath/common/file_io.py\", line 946, in __log_tmetry_keys\n",
      "    handler.log_event()\n",
      "  File \"/rhome/kamburoglu/miniconda3/envs/partslip/lib/python3.9/site-packages/iopath/common/event_logger.py\", line 97, in log_event\n",
      "    del self._evt\n",
      "AttributeError: _evt\n"
     ]
    },
    {
     "name": "stdout",
     "output_type": "stream",
     "text": [
      "----GLIP Inference Completed---\n",
      "mIOU CALCULATION GLIP, Camera:\n",
      "IoU for button: 0.6526\n",
      "IoU for lens: 0.9876\n",
      "Mean IoU: 0.8201\n",
      "Results saved to results.json\n",
      "Camera inference DINO, GLIP ==> SAM started:\n",
      "----DINO Inference Starting----\n"
     ]
    },
    {
     "name": "stderr",
     "output_type": "stream",
     "text": [
      "FutureWarning: The `device` argument is deprecated and will be removed in v5 of Transformers.\n",
      "UserWarning: None of the inputs have requires_grad=True. Gradients will be None\n"
     ]
    },
    {
     "name": "stdout",
     "output_type": "stream",
     "text": [
      "----DINO Inference Completed---\n",
      "mIOU CALCULATION DINO, Camera:\n",
      "IoU for button: 0.1997\n",
      "IoU for lens: 0.7041\n",
      "Mean IoU: 0.4519\n",
      "----GLIP Inference Starting----\n"
     ]
    },
    {
     "name": "stderr",
     "output_type": "stream",
     "text": [
      "FutureWarning: The `device` argument is deprecated and will be removed in v5 of Transformers.\n",
      "UserWarning: nn.functional.upsample_bilinear is deprecated. Use nn.functional.interpolate instead.\n",
      "An exception occurred in telemetry logging.Disabling telemetry to prevent further exceptions.\n",
      "Traceback (most recent call last):\n",
      "  File \"/rhome/kamburoglu/miniconda3/envs/partslip/lib/python3.9/site-packages/iopath/common/file_io.py\", line 946, in __log_tmetry_keys\n",
      "    handler.log_event()\n",
      "  File \"/rhome/kamburoglu/miniconda3/envs/partslip/lib/python3.9/site-packages/iopath/common/event_logger.py\", line 97, in log_event\n",
      "    del self._evt\n",
      "AttributeError: _evt\n"
     ]
    },
    {
     "name": "stdout",
     "output_type": "stream",
     "text": [
      "----GLIP Inference Completed---\n",
      "mIOU CALCULATION GLIP, Camera:\n",
      "IoU for button: 0.2250\n",
      "IoU for lens: 0.7749\n",
      "Mean IoU: 0.4999\n",
      "Results saved to results.json\n",
      "Camera inference DINO, GLIP ==> SAM started:\n",
      "----DINO Inference Starting----\n"
     ]
    },
    {
     "name": "stderr",
     "output_type": "stream",
     "text": [
      "FutureWarning: The `device` argument is deprecated and will be removed in v5 of Transformers.\n",
      "UserWarning: None of the inputs have requires_grad=True. Gradients will be None\n"
     ]
    },
    {
     "name": "stdout",
     "output_type": "stream",
     "text": [
      "----DINO Inference Completed---\n",
      "mIOU CALCULATION DINO, Camera:\n",
      "IoU for button: 0.1689\n",
      "IoU for lens: 0.9043\n",
      "Mean IoU: 0.5366\n",
      "----GLIP Inference Starting----\n"
     ]
    },
    {
     "name": "stderr",
     "output_type": "stream",
     "text": [
      "FutureWarning: The `device` argument is deprecated and will be removed in v5 of Transformers.\n",
      "UserWarning: nn.functional.upsample_bilinear is deprecated. Use nn.functional.interpolate instead.\n",
      "An exception occurred in telemetry logging.Disabling telemetry to prevent further exceptions.\n",
      "Traceback (most recent call last):\n",
      "  File \"/rhome/kamburoglu/miniconda3/envs/partslip/lib/python3.9/site-packages/iopath/common/file_io.py\", line 946, in __log_tmetry_keys\n",
      "    handler.log_event()\n",
      "  File \"/rhome/kamburoglu/miniconda3/envs/partslip/lib/python3.9/site-packages/iopath/common/event_logger.py\", line 97, in log_event\n",
      "    del self._evt\n",
      "AttributeError: _evt\n"
     ]
    },
    {
     "name": "stdout",
     "output_type": "stream",
     "text": [
      "----GLIP Inference Completed---\n",
      "mIOU CALCULATION GLIP, Camera:\n",
      "IoU for button: 0.1309\n",
      "IoU for lens: 0.2672\n",
      "Mean IoU: 0.1991\n",
      "Results saved to results.json\n",
      "Camera inference DINO, GLIP ==> SAM started:\n",
      "----DINO Inference Starting----\n"
     ]
    },
    {
     "name": "stderr",
     "output_type": "stream",
     "text": [
      "FutureWarning: The `device` argument is deprecated and will be removed in v5 of Transformers.\n",
      "UserWarning: None of the inputs have requires_grad=True. Gradients will be None\n"
     ]
    },
    {
     "name": "stdout",
     "output_type": "stream",
     "text": [
      "----DINO Inference Completed---\n",
      "mIOU CALCULATION DINO, Camera:\n",
      "IoU for button: 0.3817\n",
      "lens not present in ground truth, skipping IoU calculation.\n",
      "Mean IoU: 0.3817\n",
      "----GLIP Inference Starting----\n"
     ]
    },
    {
     "name": "stderr",
     "output_type": "stream",
     "text": [
      "FutureWarning: The `device` argument is deprecated and will be removed in v5 of Transformers.\n",
      "UserWarning: nn.functional.upsample_bilinear is deprecated. Use nn.functional.interpolate instead.\n",
      "An exception occurred in telemetry logging.Disabling telemetry to prevent further exceptions.\n",
      "Traceback (most recent call last):\n",
      "  File \"/rhome/kamburoglu/miniconda3/envs/partslip/lib/python3.9/site-packages/iopath/common/file_io.py\", line 946, in __log_tmetry_keys\n",
      "    handler.log_event()\n",
      "  File \"/rhome/kamburoglu/miniconda3/envs/partslip/lib/python3.9/site-packages/iopath/common/event_logger.py\", line 97, in log_event\n",
      "    del self._evt\n",
      "AttributeError: _evt\n"
     ]
    },
    {
     "name": "stdout",
     "output_type": "stream",
     "text": [
      "----GLIP Inference Completed---\n",
      "mIOU CALCULATION GLIP, Camera:\n",
      "IoU for button: 0.4708\n",
      "camera lens not present in ground truth, skipping IoU calculation.\n",
      "Mean IoU: 0.4708\n",
      "Results saved to results.json\n",
      "Camera inference DINO, GLIP ==> SAM started:\n",
      "----DINO Inference Starting----\n"
     ]
    },
    {
     "name": "stderr",
     "output_type": "stream",
     "text": [
      "FutureWarning: The `device` argument is deprecated and will be removed in v5 of Transformers.\n",
      "UserWarning: None of the inputs have requires_grad=True. Gradients will be None\n"
     ]
    },
    {
     "name": "stdout",
     "output_type": "stream",
     "text": [
      "----DINO Inference Completed---\n",
      "mIOU CALCULATION DINO, Camera:\n",
      "IoU for button: 0.0551\n",
      "IoU for lens: 0.7663\n",
      "Mean IoU: 0.4107\n",
      "----GLIP Inference Starting----\n"
     ]
    },
    {
     "name": "stderr",
     "output_type": "stream",
     "text": [
      "FutureWarning: The `device` argument is deprecated and will be removed in v5 of Transformers.\n",
      "UserWarning: nn.functional.upsample_bilinear is deprecated. Use nn.functional.interpolate instead.\n",
      "An exception occurred in telemetry logging.Disabling telemetry to prevent further exceptions.\n",
      "Traceback (most recent call last):\n",
      "  File \"/rhome/kamburoglu/miniconda3/envs/partslip/lib/python3.9/site-packages/iopath/common/file_io.py\", line 946, in __log_tmetry_keys\n",
      "    handler.log_event()\n",
      "  File \"/rhome/kamburoglu/miniconda3/envs/partslip/lib/python3.9/site-packages/iopath/common/event_logger.py\", line 97, in log_event\n",
      "    del self._evt\n",
      "AttributeError: _evt\n"
     ]
    },
    {
     "name": "stdout",
     "output_type": "stream",
     "text": [
      "----GLIP Inference Completed---\n",
      "mIOU CALCULATION GLIP, Camera:\n",
      "IoU for button: 0.1487\n",
      "IoU for lens: 0.0035\n",
      "Mean IoU: 0.0761\n",
      "Results saved to results.json\n",
      "Camera inference DINO, GLIP ==> SAM started:\n",
      "----DINO Inference Starting----\n"
     ]
    },
    {
     "name": "stderr",
     "output_type": "stream",
     "text": [
      "FutureWarning: The `device` argument is deprecated and will be removed in v5 of Transformers.\n",
      "UserWarning: None of the inputs have requires_grad=True. Gradients will be None\n"
     ]
    },
    {
     "name": "stdout",
     "output_type": "stream",
     "text": [
      "----DINO Inference Completed---\n",
      "mIOU CALCULATION DINO, Camera:\n",
      "IoU for button: 0.0859\n",
      "IoU for lens: 0.4971\n",
      "Mean IoU: 0.2915\n",
      "----GLIP Inference Starting----\n"
     ]
    },
    {
     "name": "stderr",
     "output_type": "stream",
     "text": [
      "FutureWarning: The `device` argument is deprecated and will be removed in v5 of Transformers.\n",
      "UserWarning: nn.functional.upsample_bilinear is deprecated. Use nn.functional.interpolate instead.\n",
      "An exception occurred in telemetry logging.Disabling telemetry to prevent further exceptions.\n",
      "Traceback (most recent call last):\n",
      "  File \"/rhome/kamburoglu/miniconda3/envs/partslip/lib/python3.9/site-packages/iopath/common/file_io.py\", line 946, in __log_tmetry_keys\n",
      "    handler.log_event()\n",
      "  File \"/rhome/kamburoglu/miniconda3/envs/partslip/lib/python3.9/site-packages/iopath/common/event_logger.py\", line 97, in log_event\n",
      "    del self._evt\n",
      "AttributeError: _evt\n"
     ]
    },
    {
     "name": "stdout",
     "output_type": "stream",
     "text": [
      "----GLIP Inference Completed---\n",
      "mIOU CALCULATION GLIP, Camera:\n",
      "IoU for button: 0.0076\n",
      "IoU for lens: 0.1659\n",
      "Mean IoU: 0.0868\n",
      "Results saved to results.json\n",
      "Camera inference DINO, GLIP ==> SAM started:\n",
      "----DINO Inference Starting----\n"
     ]
    },
    {
     "name": "stderr",
     "output_type": "stream",
     "text": [
      "FutureWarning: The `device` argument is deprecated and will be removed in v5 of Transformers.\n",
      "UserWarning: None of the inputs have requires_grad=True. Gradients will be None\n"
     ]
    },
    {
     "name": "stdout",
     "output_type": "stream",
     "text": [
      "----DINO Inference Completed---\n",
      "mIOU CALCULATION DINO, Camera:\n",
      "IoU for button: 0.1541\n",
      "IoU for lens: 0.2308\n",
      "Mean IoU: 0.1924\n",
      "----GLIP Inference Starting----\n"
     ]
    },
    {
     "name": "stderr",
     "output_type": "stream",
     "text": [
      "FutureWarning: The `device` argument is deprecated and will be removed in v5 of Transformers.\n",
      "UserWarning: nn.functional.upsample_bilinear is deprecated. Use nn.functional.interpolate instead.\n",
      "An exception occurred in telemetry logging.Disabling telemetry to prevent further exceptions.\n",
      "Traceback (most recent call last):\n",
      "  File \"/rhome/kamburoglu/miniconda3/envs/partslip/lib/python3.9/site-packages/iopath/common/file_io.py\", line 946, in __log_tmetry_keys\n",
      "    handler.log_event()\n",
      "  File \"/rhome/kamburoglu/miniconda3/envs/partslip/lib/python3.9/site-packages/iopath/common/event_logger.py\", line 97, in log_event\n",
      "    del self._evt\n",
      "AttributeError: _evt\n"
     ]
    },
    {
     "name": "stdout",
     "output_type": "stream",
     "text": [
      "----GLIP Inference Completed---\n",
      "mIOU CALCULATION GLIP, Camera:\n",
      "IoU for button: 0.0205\n",
      "IoU for lens: 0.0000\n",
      "Mean IoU: 0.0102\n",
      "Results saved to results.json\n",
      "Camera inference DINO, GLIP ==> SAM started:\n",
      "----DINO Inference Starting----\n"
     ]
    },
    {
     "name": "stderr",
     "output_type": "stream",
     "text": [
      "FutureWarning: The `device` argument is deprecated and will be removed in v5 of Transformers.\n",
      "UserWarning: None of the inputs have requires_grad=True. Gradients will be None\n"
     ]
    },
    {
     "name": "stdout",
     "output_type": "stream",
     "text": [
      "----DINO Inference Completed---\n",
      "mIOU CALCULATION DINO, Camera:\n",
      "IoU for button: 0.0285\n",
      "IoU for lens: 0.3872\n",
      "Mean IoU: 0.2078\n",
      "----GLIP Inference Starting----\n"
     ]
    },
    {
     "name": "stderr",
     "output_type": "stream",
     "text": [
      "FutureWarning: The `device` argument is deprecated and will be removed in v5 of Transformers.\n",
      "UserWarning: nn.functional.upsample_bilinear is deprecated. Use nn.functional.interpolate instead.\n",
      "An exception occurred in telemetry logging.Disabling telemetry to prevent further exceptions.\n",
      "Traceback (most recent call last):\n",
      "  File \"/rhome/kamburoglu/miniconda3/envs/partslip/lib/python3.9/site-packages/iopath/common/file_io.py\", line 946, in __log_tmetry_keys\n",
      "    handler.log_event()\n",
      "  File \"/rhome/kamburoglu/miniconda3/envs/partslip/lib/python3.9/site-packages/iopath/common/event_logger.py\", line 97, in log_event\n",
      "    del self._evt\n",
      "AttributeError: _evt\n"
     ]
    },
    {
     "name": "stdout",
     "output_type": "stream",
     "text": [
      "----GLIP Inference Completed---\n",
      "mIOU CALCULATION GLIP, Camera:\n",
      "IoU for button: 0.0959\n",
      "IoU for lens: 0.8198\n",
      "Mean IoU: 0.4579\n",
      "Results saved to results.json\n",
      "Camera inference DINO, GLIP ==> SAM started:\n",
      "----DINO Inference Starting----\n"
     ]
    },
    {
     "name": "stderr",
     "output_type": "stream",
     "text": [
      "FutureWarning: The `device` argument is deprecated and will be removed in v5 of Transformers.\n",
      "UserWarning: None of the inputs have requires_grad=True. Gradients will be None\n"
     ]
    },
    {
     "name": "stdout",
     "output_type": "stream",
     "text": [
      "----DINO Inference Completed---\n",
      "mIOU CALCULATION DINO, Camera:\n",
      "IoU for button: 0.1347\n",
      "IoU for lens: 0.8157\n",
      "Mean IoU: 0.4752\n",
      "----GLIP Inference Starting----\n"
     ]
    },
    {
     "name": "stderr",
     "output_type": "stream",
     "text": [
      "FutureWarning: The `device` argument is deprecated and will be removed in v5 of Transformers.\n",
      "UserWarning: nn.functional.upsample_bilinear is deprecated. Use nn.functional.interpolate instead.\n",
      "An exception occurred in telemetry logging.Disabling telemetry to prevent further exceptions.\n",
      "Traceback (most recent call last):\n",
      "  File \"/rhome/kamburoglu/miniconda3/envs/partslip/lib/python3.9/site-packages/iopath/common/file_io.py\", line 946, in __log_tmetry_keys\n",
      "    handler.log_event()\n",
      "  File \"/rhome/kamburoglu/miniconda3/envs/partslip/lib/python3.9/site-packages/iopath/common/event_logger.py\", line 97, in log_event\n",
      "    del self._evt\n",
      "AttributeError: _evt\n"
     ]
    },
    {
     "name": "stdout",
     "output_type": "stream",
     "text": [
      "----GLIP Inference Completed---\n",
      "mIOU CALCULATION GLIP, Camera:\n",
      "IoU for button: 0.0000\n",
      "IoU for lens: 0.5709\n",
      "Mean IoU: 0.2855\n",
      "Results saved to results.json\n",
      "Camera inference DINO, GLIP ==> SAM started:\n",
      "----DINO Inference Starting----\n"
     ]
    },
    {
     "name": "stderr",
     "output_type": "stream",
     "text": [
      "FutureWarning: The `device` argument is deprecated and will be removed in v5 of Transformers.\n",
      "UserWarning: None of the inputs have requires_grad=True. Gradients will be None\n"
     ]
    },
    {
     "name": "stdout",
     "output_type": "stream",
     "text": [
      "----DINO Inference Completed---\n",
      "mIOU CALCULATION DINO, Camera:\n",
      "IoU for button: 0.0600\n",
      "IoU for lens: 0.7771\n",
      "Mean IoU: 0.4185\n",
      "----GLIP Inference Starting----\n"
     ]
    },
    {
     "name": "stderr",
     "output_type": "stream",
     "text": [
      "FutureWarning: The `device` argument is deprecated and will be removed in v5 of Transformers.\n",
      "UserWarning: nn.functional.upsample_bilinear is deprecated. Use nn.functional.interpolate instead.\n",
      "An exception occurred in telemetry logging.Disabling telemetry to prevent further exceptions.\n",
      "Traceback (most recent call last):\n",
      "  File \"/rhome/kamburoglu/miniconda3/envs/partslip/lib/python3.9/site-packages/iopath/common/file_io.py\", line 946, in __log_tmetry_keys\n",
      "    handler.log_event()\n",
      "  File \"/rhome/kamburoglu/miniconda3/envs/partslip/lib/python3.9/site-packages/iopath/common/event_logger.py\", line 97, in log_event\n",
      "    del self._evt\n",
      "AttributeError: _evt\n"
     ]
    },
    {
     "name": "stdout",
     "output_type": "stream",
     "text": [
      "----GLIP Inference Completed---\n",
      "mIOU CALCULATION GLIP, Camera:\n",
      "IoU for button: 0.1700\n",
      "IoU for lens: 0.5288\n",
      "Mean IoU: 0.3494\n",
      "Results saved to results.json\n",
      "Camera inference DINO, GLIP ==> SAM started:\n",
      "----DINO Inference Starting----\n"
     ]
    },
    {
     "name": "stderr",
     "output_type": "stream",
     "text": [
      "FutureWarning: The `device` argument is deprecated and will be removed in v5 of Transformers.\n",
      "UserWarning: None of the inputs have requires_grad=True. Gradients will be None\n"
     ]
    },
    {
     "name": "stdout",
     "output_type": "stream",
     "text": [
      "----DINO Inference Completed---\n",
      "mIOU CALCULATION DINO, Camera:\n",
      "IoU for button: 0.0216\n",
      "IoU for lens: 0.4209\n",
      "Mean IoU: 0.2212\n",
      "----GLIP Inference Starting----\n"
     ]
    },
    {
     "name": "stderr",
     "output_type": "stream",
     "text": [
      "FutureWarning: The `device` argument is deprecated and will be removed in v5 of Transformers.\n",
      "UserWarning: nn.functional.upsample_bilinear is deprecated. Use nn.functional.interpolate instead.\n",
      "An exception occurred in telemetry logging.Disabling telemetry to prevent further exceptions.\n",
      "Traceback (most recent call last):\n",
      "  File \"/rhome/kamburoglu/miniconda3/envs/partslip/lib/python3.9/site-packages/iopath/common/file_io.py\", line 946, in __log_tmetry_keys\n",
      "    handler.log_event()\n",
      "  File \"/rhome/kamburoglu/miniconda3/envs/partslip/lib/python3.9/site-packages/iopath/common/event_logger.py\", line 97, in log_event\n",
      "    del self._evt\n",
      "AttributeError: _evt\n"
     ]
    },
    {
     "name": "stdout",
     "output_type": "stream",
     "text": [
      "----GLIP Inference Completed---\n",
      "mIOU CALCULATION GLIP, Camera:\n",
      "IoU for button: 0.3053\n",
      "IoU for lens: 0.4844\n",
      "Mean IoU: 0.3949\n",
      "Results saved to results.json\n",
      "Camera inference DINO, GLIP ==> SAM started:\n",
      "----DINO Inference Starting----\n"
     ]
    },
    {
     "name": "stderr",
     "output_type": "stream",
     "text": [
      "FutureWarning: The `device` argument is deprecated and will be removed in v5 of Transformers.\n",
      "UserWarning: None of the inputs have requires_grad=True. Gradients will be None\n"
     ]
    },
    {
     "name": "stdout",
     "output_type": "stream",
     "text": [
      "----DINO Inference Completed---\n",
      "mIOU CALCULATION DINO, Camera:\n",
      "IoU for button: 0.5799\n",
      "IoU for lens: 0.5947\n",
      "Mean IoU: 0.5873\n",
      "----GLIP Inference Starting----\n"
     ]
    },
    {
     "name": "stderr",
     "output_type": "stream",
     "text": [
      "FutureWarning: The `device` argument is deprecated and will be removed in v5 of Transformers.\n",
      "UserWarning: nn.functional.upsample_bilinear is deprecated. Use nn.functional.interpolate instead.\n",
      "An exception occurred in telemetry logging.Disabling telemetry to prevent further exceptions.\n",
      "Traceback (most recent call last):\n",
      "  File \"/rhome/kamburoglu/miniconda3/envs/partslip/lib/python3.9/site-packages/iopath/common/file_io.py\", line 946, in __log_tmetry_keys\n",
      "    handler.log_event()\n",
      "  File \"/rhome/kamburoglu/miniconda3/envs/partslip/lib/python3.9/site-packages/iopath/common/event_logger.py\", line 97, in log_event\n",
      "    del self._evt\n",
      "AttributeError: _evt\n"
     ]
    },
    {
     "name": "stdout",
     "output_type": "stream",
     "text": [
      "----GLIP Inference Completed---\n",
      "mIOU CALCULATION GLIP, Camera:\n",
      "IoU for button: 0.7357\n",
      "IoU for lens: 0.7442\n",
      "Mean IoU: 0.7400\n",
      "Results saved to results.json\n",
      "Cart inference DINO, GLIP ==> SAM started:\n",
      "----DINO Inference Starting----\n"
     ]
    },
    {
     "name": "stderr",
     "output_type": "stream",
     "text": [
      "FutureWarning: The `device` argument is deprecated and will be removed in v5 of Transformers.\n",
      "UserWarning: None of the inputs have requires_grad=True. Gradients will be None\n"
     ]
    },
    {
     "name": "stdout",
     "output_type": "stream",
     "text": [
      "----DINO Inference Completed---\n",
      "mIOU CALCULATION DINO, Cart:\n",
      "IoU for wheel: 0.9067\n",
      "Mean IoU: 0.9067\n",
      "----GLIP Inference Starting----\n"
     ]
    },
    {
     "name": "stderr",
     "output_type": "stream",
     "text": [
      "FutureWarning: The `device` argument is deprecated and will be removed in v5 of Transformers.\n",
      "UserWarning: nn.functional.upsample_bilinear is deprecated. Use nn.functional.interpolate instead.\n",
      "An exception occurred in telemetry logging.Disabling telemetry to prevent further exceptions.\n",
      "Traceback (most recent call last):\n",
      "  File \"/rhome/kamburoglu/miniconda3/envs/partslip/lib/python3.9/site-packages/iopath/common/file_io.py\", line 946, in __log_tmetry_keys\n",
      "    handler.log_event()\n",
      "  File \"/rhome/kamburoglu/miniconda3/envs/partslip/lib/python3.9/site-packages/iopath/common/event_logger.py\", line 97, in log_event\n",
      "    del self._evt\n",
      "AttributeError: _evt\n"
     ]
    },
    {
     "name": "stdout",
     "output_type": "stream",
     "text": [
      "----GLIP Inference Completed---\n",
      "mIOU CALCULATION GLIP, Cart:\n",
      "IoU for wheel: 0.6768\n",
      "Mean IoU: 0.6768\n",
      "Results saved to results.json\n",
      "Cart inference DINO, GLIP ==> SAM started:\n",
      "----DINO Inference Starting----\n"
     ]
    },
    {
     "name": "stderr",
     "output_type": "stream",
     "text": [
      "FutureWarning: The `device` argument is deprecated and will be removed in v5 of Transformers.\n",
      "UserWarning: None of the inputs have requires_grad=True. Gradients will be None\n"
     ]
    },
    {
     "name": "stdout",
     "output_type": "stream",
     "text": [
      "----DINO Inference Completed---\n",
      "mIOU CALCULATION DINO, Cart:\n",
      "IoU for wheel: 0.7351\n",
      "Mean IoU: 0.7351\n",
      "----GLIP Inference Starting----\n"
     ]
    },
    {
     "name": "stderr",
     "output_type": "stream",
     "text": [
      "FutureWarning: The `device` argument is deprecated and will be removed in v5 of Transformers.\n",
      "UserWarning: nn.functional.upsample_bilinear is deprecated. Use nn.functional.interpolate instead.\n",
      "An exception occurred in telemetry logging.Disabling telemetry to prevent further exceptions.\n",
      "Traceback (most recent call last):\n",
      "  File \"/rhome/kamburoglu/miniconda3/envs/partslip/lib/python3.9/site-packages/iopath/common/file_io.py\", line 946, in __log_tmetry_keys\n",
      "    handler.log_event()\n",
      "  File \"/rhome/kamburoglu/miniconda3/envs/partslip/lib/python3.9/site-packages/iopath/common/event_logger.py\", line 97, in log_event\n",
      "    del self._evt\n",
      "AttributeError: _evt\n"
     ]
    },
    {
     "name": "stdout",
     "output_type": "stream",
     "text": [
      "----GLIP Inference Completed---\n",
      "mIOU CALCULATION GLIP, Cart:\n",
      "IoU for wheel: 0.8707\n",
      "Mean IoU: 0.8707\n",
      "Results saved to results.json\n",
      "Cart inference DINO, GLIP ==> SAM started:\n",
      "----DINO Inference Starting----\n"
     ]
    },
    {
     "name": "stderr",
     "output_type": "stream",
     "text": [
      "FutureWarning: The `device` argument is deprecated and will be removed in v5 of Transformers.\n",
      "UserWarning: None of the inputs have requires_grad=True. Gradients will be None\n"
     ]
    },
    {
     "name": "stdout",
     "output_type": "stream",
     "text": [
      "----DINO Inference Completed---\n",
      "mIOU CALCULATION DINO, Cart:\n",
      "IoU for wheel: 0.6208\n",
      "Mean IoU: 0.6208\n",
      "----GLIP Inference Starting----\n"
     ]
    },
    {
     "name": "stderr",
     "output_type": "stream",
     "text": [
      "FutureWarning: The `device` argument is deprecated and will be removed in v5 of Transformers.\n",
      "UserWarning: nn.functional.upsample_bilinear is deprecated. Use nn.functional.interpolate instead.\n",
      "An exception occurred in telemetry logging.Disabling telemetry to prevent further exceptions.\n",
      "Traceback (most recent call last):\n",
      "  File \"/rhome/kamburoglu/miniconda3/envs/partslip/lib/python3.9/site-packages/iopath/common/file_io.py\", line 946, in __log_tmetry_keys\n",
      "    handler.log_event()\n",
      "  File \"/rhome/kamburoglu/miniconda3/envs/partslip/lib/python3.9/site-packages/iopath/common/event_logger.py\", line 97, in log_event\n",
      "    del self._evt\n",
      "AttributeError: _evt\n"
     ]
    },
    {
     "name": "stdout",
     "output_type": "stream",
     "text": [
      "----GLIP Inference Completed---\n",
      "mIOU CALCULATION GLIP, Cart:\n",
      "IoU for wheel: 0.7867\n",
      "Mean IoU: 0.7867\n",
      "Results saved to results.json\n",
      "Cart inference DINO, GLIP ==> SAM started:\n",
      "----DINO Inference Starting----\n"
     ]
    },
    {
     "name": "stderr",
     "output_type": "stream",
     "text": [
      "FutureWarning: The `device` argument is deprecated and will be removed in v5 of Transformers.\n",
      "UserWarning: None of the inputs have requires_grad=True. Gradients will be None\n"
     ]
    },
    {
     "name": "stdout",
     "output_type": "stream",
     "text": [
      "----DINO Inference Completed---\n",
      "mIOU CALCULATION DINO, Cart:\n",
      "IoU for wheel: 0.2654\n",
      "Mean IoU: 0.2654\n",
      "----GLIP Inference Starting----\n"
     ]
    },
    {
     "name": "stderr",
     "output_type": "stream",
     "text": [
      "FutureWarning: The `device` argument is deprecated and will be removed in v5 of Transformers.\n",
      "UserWarning: nn.functional.upsample_bilinear is deprecated. Use nn.functional.interpolate instead.\n",
      "An exception occurred in telemetry logging.Disabling telemetry to prevent further exceptions.\n",
      "Traceback (most recent call last):\n",
      "  File \"/rhome/kamburoglu/miniconda3/envs/partslip/lib/python3.9/site-packages/iopath/common/file_io.py\", line 946, in __log_tmetry_keys\n",
      "    handler.log_event()\n",
      "  File \"/rhome/kamburoglu/miniconda3/envs/partslip/lib/python3.9/site-packages/iopath/common/event_logger.py\", line 97, in log_event\n",
      "    del self._evt\n",
      "AttributeError: _evt\n"
     ]
    },
    {
     "name": "stdout",
     "output_type": "stream",
     "text": [
      "----GLIP Inference Completed---\n",
      "mIOU CALCULATION GLIP, Cart:\n",
      "IoU for wheel: 0.3940\n",
      "Mean IoU: 0.3940\n",
      "Results saved to results.json\n",
      "Cart inference DINO, GLIP ==> SAM started:\n",
      "----DINO Inference Starting----\n"
     ]
    },
    {
     "name": "stderr",
     "output_type": "stream",
     "text": [
      "FutureWarning: The `device` argument is deprecated and will be removed in v5 of Transformers.\n",
      "UserWarning: None of the inputs have requires_grad=True. Gradients will be None\n"
     ]
    },
    {
     "name": "stdout",
     "output_type": "stream",
     "text": [
      "----DINO Inference Completed---\n",
      "mIOU CALCULATION DINO, Cart:\n",
      "IoU for wheel: 0.7904\n",
      "Mean IoU: 0.7904\n",
      "----GLIP Inference Starting----\n"
     ]
    },
    {
     "name": "stderr",
     "output_type": "stream",
     "text": [
      "FutureWarning: The `device` argument is deprecated and will be removed in v5 of Transformers.\n",
      "UserWarning: nn.functional.upsample_bilinear is deprecated. Use nn.functional.interpolate instead.\n",
      "An exception occurred in telemetry logging.Disabling telemetry to prevent further exceptions.\n",
      "Traceback (most recent call last):\n",
      "  File \"/rhome/kamburoglu/miniconda3/envs/partslip/lib/python3.9/site-packages/iopath/common/file_io.py\", line 946, in __log_tmetry_keys\n",
      "    handler.log_event()\n",
      "  File \"/rhome/kamburoglu/miniconda3/envs/partslip/lib/python3.9/site-packages/iopath/common/event_logger.py\", line 97, in log_event\n",
      "    del self._evt\n",
      "AttributeError: _evt\n"
     ]
    },
    {
     "name": "stdout",
     "output_type": "stream",
     "text": [
      "----GLIP Inference Completed---\n",
      "mIOU CALCULATION GLIP, Cart:\n",
      "IoU for wheel: 0.8492\n",
      "Mean IoU: 0.8492\n",
      "Results saved to results.json\n",
      "Cart inference DINO, GLIP ==> SAM started:\n",
      "----DINO Inference Starting----\n"
     ]
    },
    {
     "name": "stderr",
     "output_type": "stream",
     "text": [
      "FutureWarning: The `device` argument is deprecated and will be removed in v5 of Transformers.\n",
      "UserWarning: None of the inputs have requires_grad=True. Gradients will be None\n"
     ]
    },
    {
     "name": "stdout",
     "output_type": "stream",
     "text": [
      "----DINO Inference Completed---\n",
      "mIOU CALCULATION DINO, Cart:\n",
      "IoU for wheel: 0.6096\n",
      "Mean IoU: 0.6096\n",
      "----GLIP Inference Starting----\n"
     ]
    },
    {
     "name": "stderr",
     "output_type": "stream",
     "text": [
      "FutureWarning: The `device` argument is deprecated and will be removed in v5 of Transformers.\n",
      "UserWarning: nn.functional.upsample_bilinear is deprecated. Use nn.functional.interpolate instead.\n",
      "An exception occurred in telemetry logging.Disabling telemetry to prevent further exceptions.\n",
      "Traceback (most recent call last):\n",
      "  File \"/rhome/kamburoglu/miniconda3/envs/partslip/lib/python3.9/site-packages/iopath/common/file_io.py\", line 946, in __log_tmetry_keys\n",
      "    handler.log_event()\n",
      "  File \"/rhome/kamburoglu/miniconda3/envs/partslip/lib/python3.9/site-packages/iopath/common/event_logger.py\", line 97, in log_event\n",
      "    del self._evt\n",
      "AttributeError: _evt\n"
     ]
    },
    {
     "name": "stdout",
     "output_type": "stream",
     "text": [
      "----GLIP Inference Completed---\n",
      "mIOU CALCULATION GLIP, Cart:\n",
      "IoU for wheel: 0.5261\n",
      "Mean IoU: 0.5261\n",
      "Results saved to results.json\n",
      "Cart inference DINO, GLIP ==> SAM started:\n",
      "----DINO Inference Starting----\n"
     ]
    },
    {
     "name": "stderr",
     "output_type": "stream",
     "text": [
      "FutureWarning: The `device` argument is deprecated and will be removed in v5 of Transformers.\n",
      "UserWarning: None of the inputs have requires_grad=True. Gradients will be None\n"
     ]
    },
    {
     "name": "stdout",
     "output_type": "stream",
     "text": [
      "----DINO Inference Completed---\n",
      "mIOU CALCULATION DINO, Cart:\n",
      "IoU for wheel: 0.8243\n",
      "Mean IoU: 0.8243\n",
      "----GLIP Inference Starting----\n"
     ]
    },
    {
     "name": "stderr",
     "output_type": "stream",
     "text": [
      "FutureWarning: The `device` argument is deprecated and will be removed in v5 of Transformers.\n",
      "UserWarning: nn.functional.upsample_bilinear is deprecated. Use nn.functional.interpolate instead.\n",
      "An exception occurred in telemetry logging.Disabling telemetry to prevent further exceptions.\n",
      "Traceback (most recent call last):\n",
      "  File \"/rhome/kamburoglu/miniconda3/envs/partslip/lib/python3.9/site-packages/iopath/common/file_io.py\", line 946, in __log_tmetry_keys\n",
      "    handler.log_event()\n",
      "  File \"/rhome/kamburoglu/miniconda3/envs/partslip/lib/python3.9/site-packages/iopath/common/event_logger.py\", line 97, in log_event\n",
      "    del self._evt\n",
      "AttributeError: _evt\n"
     ]
    },
    {
     "name": "stdout",
     "output_type": "stream",
     "text": [
      "----GLIP Inference Completed---\n",
      "mIOU CALCULATION GLIP, Cart:\n",
      "IoU for wheel: 0.8892\n",
      "Mean IoU: 0.8892\n",
      "Results saved to results.json\n",
      "Cart inference DINO, GLIP ==> SAM started:\n",
      "----DINO Inference Starting----\n"
     ]
    },
    {
     "name": "stderr",
     "output_type": "stream",
     "text": [
      "FutureWarning: The `device` argument is deprecated and will be removed in v5 of Transformers.\n",
      "UserWarning: None of the inputs have requires_grad=True. Gradients will be None\n"
     ]
    },
    {
     "name": "stdout",
     "output_type": "stream",
     "text": [
      "----DINO Inference Completed---\n",
      "mIOU CALCULATION DINO, Cart:\n",
      "IoU for wheel: 0.5127\n",
      "Mean IoU: 0.5127\n",
      "----GLIP Inference Starting----\n"
     ]
    },
    {
     "name": "stderr",
     "output_type": "stream",
     "text": [
      "FutureWarning: The `device` argument is deprecated and will be removed in v5 of Transformers.\n",
      "UserWarning: nn.functional.upsample_bilinear is deprecated. Use nn.functional.interpolate instead.\n",
      "An exception occurred in telemetry logging.Disabling telemetry to prevent further exceptions.\n",
      "Traceback (most recent call last):\n",
      "  File \"/rhome/kamburoglu/miniconda3/envs/partslip/lib/python3.9/site-packages/iopath/common/file_io.py\", line 946, in __log_tmetry_keys\n",
      "    handler.log_event()\n",
      "  File \"/rhome/kamburoglu/miniconda3/envs/partslip/lib/python3.9/site-packages/iopath/common/event_logger.py\", line 97, in log_event\n",
      "    del self._evt\n",
      "AttributeError: _evt\n"
     ]
    },
    {
     "name": "stdout",
     "output_type": "stream",
     "text": [
      "----GLIP Inference Completed---\n",
      "mIOU CALCULATION GLIP, Cart:\n",
      "IoU for wheel: 0.6221\n",
      "Mean IoU: 0.6221\n",
      "Results saved to results.json\n",
      "Cart inference DINO, GLIP ==> SAM started:\n",
      "----DINO Inference Starting----\n"
     ]
    },
    {
     "name": "stderr",
     "output_type": "stream",
     "text": [
      "FutureWarning: The `device` argument is deprecated and will be removed in v5 of Transformers.\n",
      "UserWarning: None of the inputs have requires_grad=True. Gradients will be None\n"
     ]
    },
    {
     "name": "stdout",
     "output_type": "stream",
     "text": [
      "----DINO Inference Completed---\n",
      "mIOU CALCULATION DINO, Cart:\n",
      "IoU for wheel: 0.9610\n",
      "Mean IoU: 0.9610\n",
      "----GLIP Inference Starting----\n"
     ]
    },
    {
     "name": "stderr",
     "output_type": "stream",
     "text": [
      "FutureWarning: The `device` argument is deprecated and will be removed in v5 of Transformers.\n",
      "UserWarning: nn.functional.upsample_bilinear is deprecated. Use nn.functional.interpolate instead.\n",
      "An exception occurred in telemetry logging.Disabling telemetry to prevent further exceptions.\n",
      "Traceback (most recent call last):\n",
      "  File \"/rhome/kamburoglu/miniconda3/envs/partslip/lib/python3.9/site-packages/iopath/common/file_io.py\", line 946, in __log_tmetry_keys\n",
      "    handler.log_event()\n",
      "  File \"/rhome/kamburoglu/miniconda3/envs/partslip/lib/python3.9/site-packages/iopath/common/event_logger.py\", line 97, in log_event\n",
      "    del self._evt\n",
      "AttributeError: _evt\n"
     ]
    },
    {
     "name": "stdout",
     "output_type": "stream",
     "text": [
      "----GLIP Inference Completed---\n",
      "mIOU CALCULATION GLIP, Cart:\n",
      "IoU for wheel: 0.8591\n",
      "Mean IoU: 0.8591\n",
      "Results saved to results.json\n",
      "Cart inference DINO, GLIP ==> SAM started:\n",
      "----DINO Inference Starting----\n"
     ]
    },
    {
     "name": "stderr",
     "output_type": "stream",
     "text": [
      "FutureWarning: The `device` argument is deprecated and will be removed in v5 of Transformers.\n",
      "UserWarning: None of the inputs have requires_grad=True. Gradients will be None\n"
     ]
    },
    {
     "name": "stdout",
     "output_type": "stream",
     "text": [
      "----DINO Inference Completed---\n",
      "mIOU CALCULATION DINO, Cart:\n",
      "IoU for wheel: 0.4933\n",
      "Mean IoU: 0.4933\n",
      "----GLIP Inference Starting----\n"
     ]
    },
    {
     "name": "stderr",
     "output_type": "stream",
     "text": [
      "FutureWarning: The `device` argument is deprecated and will be removed in v5 of Transformers.\n",
      "UserWarning: nn.functional.upsample_bilinear is deprecated. Use nn.functional.interpolate instead.\n",
      "An exception occurred in telemetry logging.Disabling telemetry to prevent further exceptions.\n",
      "Traceback (most recent call last):\n",
      "  File \"/rhome/kamburoglu/miniconda3/envs/partslip/lib/python3.9/site-packages/iopath/common/file_io.py\", line 946, in __log_tmetry_keys\n",
      "    handler.log_event()\n",
      "  File \"/rhome/kamburoglu/miniconda3/envs/partslip/lib/python3.9/site-packages/iopath/common/event_logger.py\", line 97, in log_event\n",
      "    del self._evt\n",
      "AttributeError: _evt\n"
     ]
    },
    {
     "name": "stdout",
     "output_type": "stream",
     "text": [
      "----GLIP Inference Completed---\n",
      "mIOU CALCULATION GLIP, Cart:\n",
      "IoU for wheel: 0.6691\n",
      "Mean IoU: 0.6691\n",
      "Results saved to results.json\n",
      "Cart inference DINO, GLIP ==> SAM started:\n",
      "----DINO Inference Starting----\n"
     ]
    },
    {
     "name": "stderr",
     "output_type": "stream",
     "text": [
      "FutureWarning: The `device` argument is deprecated and will be removed in v5 of Transformers.\n",
      "UserWarning: None of the inputs have requires_grad=True. Gradients will be None\n"
     ]
    },
    {
     "name": "stdout",
     "output_type": "stream",
     "text": [
      "----DINO Inference Completed---\n",
      "mIOU CALCULATION DINO, Cart:\n",
      "IoU for wheel: 0.6024\n",
      "Mean IoU: 0.6024\n",
      "----GLIP Inference Starting----\n"
     ]
    },
    {
     "name": "stderr",
     "output_type": "stream",
     "text": [
      "FutureWarning: The `device` argument is deprecated and will be removed in v5 of Transformers.\n",
      "UserWarning: nn.functional.upsample_bilinear is deprecated. Use nn.functional.interpolate instead.\n",
      "An exception occurred in telemetry logging.Disabling telemetry to prevent further exceptions.\n",
      "Traceback (most recent call last):\n",
      "  File \"/rhome/kamburoglu/miniconda3/envs/partslip/lib/python3.9/site-packages/iopath/common/file_io.py\", line 946, in __log_tmetry_keys\n",
      "    handler.log_event()\n",
      "  File \"/rhome/kamburoglu/miniconda3/envs/partslip/lib/python3.9/site-packages/iopath/common/event_logger.py\", line 97, in log_event\n",
      "    del self._evt\n",
      "AttributeError: _evt\n"
     ]
    },
    {
     "name": "stdout",
     "output_type": "stream",
     "text": [
      "----GLIP Inference Completed---\n",
      "mIOU CALCULATION GLIP, Cart:\n",
      "IoU for wheel: 0.8853\n",
      "Mean IoU: 0.8853\n",
      "Results saved to results.json\n",
      "Cart inference DINO, GLIP ==> SAM started:\n",
      "----DINO Inference Starting----\n"
     ]
    },
    {
     "name": "stderr",
     "output_type": "stream",
     "text": [
      "FutureWarning: The `device` argument is deprecated and will be removed in v5 of Transformers.\n",
      "UserWarning: None of the inputs have requires_grad=True. Gradients will be None\n"
     ]
    },
    {
     "name": "stdout",
     "output_type": "stream",
     "text": [
      "----DINO Inference Completed---\n",
      "mIOU CALCULATION DINO, Cart:\n",
      "IoU for wheel: 0.8833\n",
      "Mean IoU: 0.8833\n",
      "----GLIP Inference Starting----\n"
     ]
    },
    {
     "name": "stderr",
     "output_type": "stream",
     "text": [
      "FutureWarning: The `device` argument is deprecated and will be removed in v5 of Transformers.\n",
      "UserWarning: nn.functional.upsample_bilinear is deprecated. Use nn.functional.interpolate instead.\n",
      "An exception occurred in telemetry logging.Disabling telemetry to prevent further exceptions.\n",
      "Traceback (most recent call last):\n",
      "  File \"/rhome/kamburoglu/miniconda3/envs/partslip/lib/python3.9/site-packages/iopath/common/file_io.py\", line 946, in __log_tmetry_keys\n",
      "    handler.log_event()\n",
      "  File \"/rhome/kamburoglu/miniconda3/envs/partslip/lib/python3.9/site-packages/iopath/common/event_logger.py\", line 97, in log_event\n",
      "    del self._evt\n",
      "AttributeError: _evt\n"
     ]
    },
    {
     "name": "stdout",
     "output_type": "stream",
     "text": [
      "----GLIP Inference Completed---\n",
      "mIOU CALCULATION GLIP, Cart:\n",
      "IoU for wheel: 0.8343\n",
      "Mean IoU: 0.8343\n",
      "Results saved to results.json\n",
      "Cart inference DINO, GLIP ==> SAM started:\n",
      "----DINO Inference Starting----\n"
     ]
    },
    {
     "name": "stderr",
     "output_type": "stream",
     "text": [
      "FutureWarning: The `device` argument is deprecated and will be removed in v5 of Transformers.\n",
      "UserWarning: None of the inputs have requires_grad=True. Gradients will be None\n"
     ]
    },
    {
     "name": "stdout",
     "output_type": "stream",
     "text": [
      "----DINO Inference Completed---\n",
      "mIOU CALCULATION DINO, Cart:\n",
      "IoU for wheel: 0.9649\n",
      "Mean IoU: 0.9649\n",
      "----GLIP Inference Starting----\n"
     ]
    },
    {
     "name": "stderr",
     "output_type": "stream",
     "text": [
      "FutureWarning: The `device` argument is deprecated and will be removed in v5 of Transformers.\n",
      "UserWarning: nn.functional.upsample_bilinear is deprecated. Use nn.functional.interpolate instead.\n",
      "An exception occurred in telemetry logging.Disabling telemetry to prevent further exceptions.\n",
      "Traceback (most recent call last):\n",
      "  File \"/rhome/kamburoglu/miniconda3/envs/partslip/lib/python3.9/site-packages/iopath/common/file_io.py\", line 946, in __log_tmetry_keys\n",
      "    handler.log_event()\n",
      "  File \"/rhome/kamburoglu/miniconda3/envs/partslip/lib/python3.9/site-packages/iopath/common/event_logger.py\", line 97, in log_event\n",
      "    del self._evt\n",
      "AttributeError: _evt\n"
     ]
    },
    {
     "name": "stdout",
     "output_type": "stream",
     "text": [
      "----GLIP Inference Completed---\n",
      "mIOU CALCULATION GLIP, Cart:\n",
      "IoU for wheel: 0.8639\n",
      "Mean IoU: 0.8639\n",
      "Results saved to results.json\n",
      "Cart inference DINO, GLIP ==> SAM started:\n",
      "----DINO Inference Starting----\n"
     ]
    },
    {
     "name": "stderr",
     "output_type": "stream",
     "text": [
      "FutureWarning: The `device` argument is deprecated and will be removed in v5 of Transformers.\n",
      "UserWarning: None of the inputs have requires_grad=True. Gradients will be None\n"
     ]
    },
    {
     "name": "stdout",
     "output_type": "stream",
     "text": [
      "----DINO Inference Completed---\n",
      "mIOU CALCULATION DINO, Cart:\n",
      "IoU for wheel: 0.6774\n",
      "Mean IoU: 0.6774\n",
      "----GLIP Inference Starting----\n"
     ]
    },
    {
     "name": "stderr",
     "output_type": "stream",
     "text": [
      "FutureWarning: The `device` argument is deprecated and will be removed in v5 of Transformers.\n",
      "UserWarning: nn.functional.upsample_bilinear is deprecated. Use nn.functional.interpolate instead.\n",
      "An exception occurred in telemetry logging.Disabling telemetry to prevent further exceptions.\n",
      "Traceback (most recent call last):\n",
      "  File \"/rhome/kamburoglu/miniconda3/envs/partslip/lib/python3.9/site-packages/iopath/common/file_io.py\", line 946, in __log_tmetry_keys\n",
      "    handler.log_event()\n",
      "  File \"/rhome/kamburoglu/miniconda3/envs/partslip/lib/python3.9/site-packages/iopath/common/event_logger.py\", line 97, in log_event\n",
      "    del self._evt\n",
      "AttributeError: _evt\n"
     ]
    },
    {
     "name": "stdout",
     "output_type": "stream",
     "text": [
      "----GLIP Inference Completed---\n",
      "mIOU CALCULATION GLIP, Cart:\n",
      "IoU for wheel: 0.6289\n",
      "Mean IoU: 0.6289\n",
      "Results saved to results.json\n",
      "Cart inference DINO, GLIP ==> SAM started:\n",
      "----DINO Inference Starting----\n"
     ]
    },
    {
     "name": "stderr",
     "output_type": "stream",
     "text": [
      "FutureWarning: The `device` argument is deprecated and will be removed in v5 of Transformers.\n",
      "UserWarning: None of the inputs have requires_grad=True. Gradients will be None\n"
     ]
    },
    {
     "name": "stdout",
     "output_type": "stream",
     "text": [
      "----DINO Inference Completed---\n",
      "mIOU CALCULATION DINO, Cart:\n",
      "IoU for wheel: 0.8526\n",
      "Mean IoU: 0.8526\n",
      "----GLIP Inference Starting----\n"
     ]
    },
    {
     "name": "stderr",
     "output_type": "stream",
     "text": [
      "FutureWarning: The `device` argument is deprecated and will be removed in v5 of Transformers.\n",
      "UserWarning: nn.functional.upsample_bilinear is deprecated. Use nn.functional.interpolate instead.\n",
      "An exception occurred in telemetry logging.Disabling telemetry to prevent further exceptions.\n",
      "Traceback (most recent call last):\n",
      "  File \"/rhome/kamburoglu/miniconda3/envs/partslip/lib/python3.9/site-packages/iopath/common/file_io.py\", line 946, in __log_tmetry_keys\n",
      "    handler.log_event()\n",
      "  File \"/rhome/kamburoglu/miniconda3/envs/partslip/lib/python3.9/site-packages/iopath/common/event_logger.py\", line 97, in log_event\n",
      "    del self._evt\n",
      "AttributeError: _evt\n"
     ]
    },
    {
     "name": "stdout",
     "output_type": "stream",
     "text": [
      "----GLIP Inference Completed---\n",
      "mIOU CALCULATION GLIP, Cart:\n",
      "IoU for wheel: 0.8648\n",
      "Mean IoU: 0.8648\n",
      "Results saved to results.json\n",
      "Cart inference DINO, GLIP ==> SAM started:\n",
      "----DINO Inference Starting----\n"
     ]
    },
    {
     "name": "stderr",
     "output_type": "stream",
     "text": [
      "FutureWarning: The `device` argument is deprecated and will be removed in v5 of Transformers.\n",
      "UserWarning: None of the inputs have requires_grad=True. Gradients will be None\n"
     ]
    },
    {
     "name": "stdout",
     "output_type": "stream",
     "text": [
      "----DINO Inference Completed---\n",
      "mIOU CALCULATION DINO, Cart:\n",
      "IoU for wheel: 0.7712\n",
      "Mean IoU: 0.7712\n",
      "----GLIP Inference Starting----\n"
     ]
    },
    {
     "name": "stderr",
     "output_type": "stream",
     "text": [
      "FutureWarning: The `device` argument is deprecated and will be removed in v5 of Transformers.\n",
      "UserWarning: nn.functional.upsample_bilinear is deprecated. Use nn.functional.interpolate instead.\n",
      "An exception occurred in telemetry logging.Disabling telemetry to prevent further exceptions.\n",
      "Traceback (most recent call last):\n",
      "  File \"/rhome/kamburoglu/miniconda3/envs/partslip/lib/python3.9/site-packages/iopath/common/file_io.py\", line 946, in __log_tmetry_keys\n",
      "    handler.log_event()\n",
      "  File \"/rhome/kamburoglu/miniconda3/envs/partslip/lib/python3.9/site-packages/iopath/common/event_logger.py\", line 97, in log_event\n",
      "    del self._evt\n",
      "AttributeError: _evt\n"
     ]
    },
    {
     "name": "stdout",
     "output_type": "stream",
     "text": [
      "----GLIP Inference Completed---\n",
      "mIOU CALCULATION GLIP, Cart:\n",
      "IoU for wheel: 0.7224\n",
      "Mean IoU: 0.7224\n",
      "Results saved to results.json\n",
      "Cart inference DINO, GLIP ==> SAM started:\n",
      "----DINO Inference Starting----\n"
     ]
    },
    {
     "name": "stderr",
     "output_type": "stream",
     "text": [
      "FutureWarning: The `device` argument is deprecated and will be removed in v5 of Transformers.\n",
      "UserWarning: None of the inputs have requires_grad=True. Gradients will be None\n"
     ]
    },
    {
     "name": "stdout",
     "output_type": "stream",
     "text": [
      "----DINO Inference Completed---\n",
      "mIOU CALCULATION DINO, Cart:\n",
      "IoU for wheel: 0.8339\n",
      "Mean IoU: 0.8339\n",
      "----GLIP Inference Starting----\n"
     ]
    },
    {
     "name": "stderr",
     "output_type": "stream",
     "text": [
      "FutureWarning: The `device` argument is deprecated and will be removed in v5 of Transformers.\n",
      "UserWarning: nn.functional.upsample_bilinear is deprecated. Use nn.functional.interpolate instead.\n",
      "An exception occurred in telemetry logging.Disabling telemetry to prevent further exceptions.\n",
      "Traceback (most recent call last):\n",
      "  File \"/rhome/kamburoglu/miniconda3/envs/partslip/lib/python3.9/site-packages/iopath/common/file_io.py\", line 946, in __log_tmetry_keys\n",
      "    handler.log_event()\n",
      "  File \"/rhome/kamburoglu/miniconda3/envs/partslip/lib/python3.9/site-packages/iopath/common/event_logger.py\", line 97, in log_event\n",
      "    del self._evt\n",
      "AttributeError: _evt\n"
     ]
    },
    {
     "name": "stdout",
     "output_type": "stream",
     "text": [
      "----GLIP Inference Completed---\n",
      "mIOU CALCULATION GLIP, Cart:\n",
      "IoU for wheel: 0.9339\n",
      "Mean IoU: 0.9339\n",
      "Results saved to results.json\n",
      "Cart inference DINO, GLIP ==> SAM started:\n",
      "----DINO Inference Starting----\n"
     ]
    },
    {
     "name": "stderr",
     "output_type": "stream",
     "text": [
      "FutureWarning: The `device` argument is deprecated and will be removed in v5 of Transformers.\n",
      "UserWarning: None of the inputs have requires_grad=True. Gradients will be None\n"
     ]
    },
    {
     "name": "stdout",
     "output_type": "stream",
     "text": [
      "----DINO Inference Completed---\n",
      "mIOU CALCULATION DINO, Cart:\n",
      "IoU for wheel: 0.8996\n",
      "Mean IoU: 0.8996\n",
      "----GLIP Inference Starting----\n"
     ]
    },
    {
     "name": "stderr",
     "output_type": "stream",
     "text": [
      "FutureWarning: The `device` argument is deprecated and will be removed in v5 of Transformers.\n",
      "UserWarning: nn.functional.upsample_bilinear is deprecated. Use nn.functional.interpolate instead.\n",
      "An exception occurred in telemetry logging.Disabling telemetry to prevent further exceptions.\n",
      "Traceback (most recent call last):\n",
      "  File \"/rhome/kamburoglu/miniconda3/envs/partslip/lib/python3.9/site-packages/iopath/common/file_io.py\", line 946, in __log_tmetry_keys\n",
      "    handler.log_event()\n",
      "  File \"/rhome/kamburoglu/miniconda3/envs/partslip/lib/python3.9/site-packages/iopath/common/event_logger.py\", line 97, in log_event\n",
      "    del self._evt\n",
      "AttributeError: _evt\n"
     ]
    },
    {
     "name": "stdout",
     "output_type": "stream",
     "text": [
      "----GLIP Inference Completed---\n",
      "mIOU CALCULATION GLIP, Cart:\n",
      "IoU for wheel: 0.9148\n",
      "Mean IoU: 0.9148\n",
      "Results saved to results.json\n",
      "Cart inference DINO, GLIP ==> SAM started:\n",
      "----DINO Inference Starting----\n"
     ]
    },
    {
     "name": "stderr",
     "output_type": "stream",
     "text": [
      "FutureWarning: The `device` argument is deprecated and will be removed in v5 of Transformers.\n",
      "UserWarning: None of the inputs have requires_grad=True. Gradients will be None\n"
     ]
    },
    {
     "name": "stdout",
     "output_type": "stream",
     "text": [
      "----DINO Inference Completed---\n",
      "mIOU CALCULATION DINO, Cart:\n",
      "IoU for wheel: 0.6353\n",
      "Mean IoU: 0.6353\n",
      "----GLIP Inference Starting----\n"
     ]
    },
    {
     "name": "stderr",
     "output_type": "stream",
     "text": [
      "FutureWarning: The `device` argument is deprecated and will be removed in v5 of Transformers.\n",
      "UserWarning: nn.functional.upsample_bilinear is deprecated. Use nn.functional.interpolate instead.\n",
      "An exception occurred in telemetry logging.Disabling telemetry to prevent further exceptions.\n",
      "Traceback (most recent call last):\n",
      "  File \"/rhome/kamburoglu/miniconda3/envs/partslip/lib/python3.9/site-packages/iopath/common/file_io.py\", line 946, in __log_tmetry_keys\n",
      "    handler.log_event()\n",
      "  File \"/rhome/kamburoglu/miniconda3/envs/partslip/lib/python3.9/site-packages/iopath/common/event_logger.py\", line 97, in log_event\n",
      "    del self._evt\n",
      "AttributeError: _evt\n"
     ]
    },
    {
     "name": "stdout",
     "output_type": "stream",
     "text": [
      "----GLIP Inference Completed---\n",
      "mIOU CALCULATION GLIP, Cart:\n",
      "IoU for wheel: 0.5535\n",
      "Mean IoU: 0.5535\n",
      "Results saved to results.json\n",
      "Cart inference DINO, GLIP ==> SAM started:\n",
      "----DINO Inference Starting----\n"
     ]
    },
    {
     "name": "stderr",
     "output_type": "stream",
     "text": [
      "FutureWarning: The `device` argument is deprecated and will be removed in v5 of Transformers.\n",
      "UserWarning: None of the inputs have requires_grad=True. Gradients will be None\n"
     ]
    },
    {
     "name": "stdout",
     "output_type": "stream",
     "text": [
      "----DINO Inference Completed---\n",
      "mIOU CALCULATION DINO, Cart:\n",
      "IoU for wheel: 0.9481\n",
      "Mean IoU: 0.9481\n",
      "----GLIP Inference Starting----\n"
     ]
    },
    {
     "name": "stderr",
     "output_type": "stream",
     "text": [
      "FutureWarning: The `device` argument is deprecated and will be removed in v5 of Transformers.\n",
      "UserWarning: nn.functional.upsample_bilinear is deprecated. Use nn.functional.interpolate instead.\n",
      "An exception occurred in telemetry logging.Disabling telemetry to prevent further exceptions.\n",
      "Traceback (most recent call last):\n",
      "  File \"/rhome/kamburoglu/miniconda3/envs/partslip/lib/python3.9/site-packages/iopath/common/file_io.py\", line 946, in __log_tmetry_keys\n",
      "    handler.log_event()\n",
      "  File \"/rhome/kamburoglu/miniconda3/envs/partslip/lib/python3.9/site-packages/iopath/common/event_logger.py\", line 97, in log_event\n",
      "    del self._evt\n",
      "AttributeError: _evt\n"
     ]
    },
    {
     "name": "stdout",
     "output_type": "stream",
     "text": [
      "----GLIP Inference Completed---\n",
      "mIOU CALCULATION GLIP, Cart:\n",
      "IoU for wheel: 0.9136\n",
      "Mean IoU: 0.9136\n",
      "Results saved to results.json\n",
      "Cart inference DINO, GLIP ==> SAM started:\n",
      "----DINO Inference Starting----\n"
     ]
    },
    {
     "name": "stderr",
     "output_type": "stream",
     "text": [
      "FutureWarning: The `device` argument is deprecated and will be removed in v5 of Transformers.\n",
      "UserWarning: None of the inputs have requires_grad=True. Gradients will be None\n"
     ]
    },
    {
     "name": "stdout",
     "output_type": "stream",
     "text": [
      "----DINO Inference Completed---\n",
      "mIOU CALCULATION DINO, Cart:\n",
      "IoU for wheel: 0.6826\n",
      "Mean IoU: 0.6826\n",
      "----GLIP Inference Starting----\n"
     ]
    },
    {
     "name": "stderr",
     "output_type": "stream",
     "text": [
      "FutureWarning: The `device` argument is deprecated and will be removed in v5 of Transformers.\n",
      "UserWarning: nn.functional.upsample_bilinear is deprecated. Use nn.functional.interpolate instead.\n",
      "An exception occurred in telemetry logging.Disabling telemetry to prevent further exceptions.\n",
      "Traceback (most recent call last):\n",
      "  File \"/rhome/kamburoglu/miniconda3/envs/partslip/lib/python3.9/site-packages/iopath/common/file_io.py\", line 946, in __log_tmetry_keys\n",
      "    handler.log_event()\n",
      "  File \"/rhome/kamburoglu/miniconda3/envs/partslip/lib/python3.9/site-packages/iopath/common/event_logger.py\", line 97, in log_event\n",
      "    del self._evt\n",
      "AttributeError: _evt\n"
     ]
    },
    {
     "name": "stdout",
     "output_type": "stream",
     "text": [
      "----GLIP Inference Completed---\n",
      "mIOU CALCULATION GLIP, Cart:\n",
      "IoU for wheel: 0.7708\n",
      "Mean IoU: 0.7708\n",
      "Results saved to results.json\n",
      "Cart inference DINO, GLIP ==> SAM started:\n",
      "----DINO Inference Starting----\n"
     ]
    },
    {
     "name": "stderr",
     "output_type": "stream",
     "text": [
      "FutureWarning: The `device` argument is deprecated and will be removed in v5 of Transformers.\n",
      "UserWarning: None of the inputs have requires_grad=True. Gradients will be None\n"
     ]
    },
    {
     "name": "stdout",
     "output_type": "stream",
     "text": [
      "----DINO Inference Completed---\n",
      "mIOU CALCULATION DINO, Cart:\n",
      "IoU for wheel: 0.8631\n",
      "Mean IoU: 0.8631\n",
      "----GLIP Inference Starting----\n"
     ]
    },
    {
     "name": "stderr",
     "output_type": "stream",
     "text": [
      "FutureWarning: The `device` argument is deprecated and will be removed in v5 of Transformers.\n",
      "UserWarning: nn.functional.upsample_bilinear is deprecated. Use nn.functional.interpolate instead.\n",
      "An exception occurred in telemetry logging.Disabling telemetry to prevent further exceptions.\n",
      "Traceback (most recent call last):\n",
      "  File \"/rhome/kamburoglu/miniconda3/envs/partslip/lib/python3.9/site-packages/iopath/common/file_io.py\", line 946, in __log_tmetry_keys\n",
      "    handler.log_event()\n",
      "  File \"/rhome/kamburoglu/miniconda3/envs/partslip/lib/python3.9/site-packages/iopath/common/event_logger.py\", line 97, in log_event\n",
      "    del self._evt\n",
      "AttributeError: _evt\n"
     ]
    },
    {
     "name": "stdout",
     "output_type": "stream",
     "text": [
      "----GLIP Inference Completed---\n",
      "mIOU CALCULATION GLIP, Cart:\n",
      "IoU for wheel: 0.8912\n",
      "Mean IoU: 0.8912\n",
      "Results saved to results.json\n",
      "Cart inference DINO, GLIP ==> SAM started:\n",
      "----DINO Inference Starting----\n"
     ]
    },
    {
     "name": "stderr",
     "output_type": "stream",
     "text": [
      "FutureWarning: The `device` argument is deprecated and will be removed in v5 of Transformers.\n",
      "UserWarning: None of the inputs have requires_grad=True. Gradients will be None\n"
     ]
    },
    {
     "name": "stdout",
     "output_type": "stream",
     "text": [
      "----DINO Inference Completed---\n",
      "mIOU CALCULATION DINO, Cart:\n",
      "IoU for wheel: 0.6719\n",
      "Mean IoU: 0.6719\n",
      "----GLIP Inference Starting----\n"
     ]
    },
    {
     "name": "stderr",
     "output_type": "stream",
     "text": [
      "FutureWarning: The `device` argument is deprecated and will be removed in v5 of Transformers.\n",
      "UserWarning: nn.functional.upsample_bilinear is deprecated. Use nn.functional.interpolate instead.\n",
      "An exception occurred in telemetry logging.Disabling telemetry to prevent further exceptions.\n",
      "Traceback (most recent call last):\n",
      "  File \"/rhome/kamburoglu/miniconda3/envs/partslip/lib/python3.9/site-packages/iopath/common/file_io.py\", line 946, in __log_tmetry_keys\n",
      "    handler.log_event()\n",
      "  File \"/rhome/kamburoglu/miniconda3/envs/partslip/lib/python3.9/site-packages/iopath/common/event_logger.py\", line 97, in log_event\n",
      "    del self._evt\n",
      "AttributeError: _evt\n"
     ]
    },
    {
     "name": "stdout",
     "output_type": "stream",
     "text": [
      "----GLIP Inference Completed---\n",
      "mIOU CALCULATION GLIP, Cart:\n",
      "IoU for wheel: 0.9115\n",
      "Mean IoU: 0.9115\n",
      "Results saved to results.json\n",
      "Cart inference DINO, GLIP ==> SAM started:\n",
      "----DINO Inference Starting----\n"
     ]
    },
    {
     "name": "stderr",
     "output_type": "stream",
     "text": [
      "FutureWarning: The `device` argument is deprecated and will be removed in v5 of Transformers.\n",
      "UserWarning: None of the inputs have requires_grad=True. Gradients will be None\n"
     ]
    },
    {
     "name": "stdout",
     "output_type": "stream",
     "text": [
      "----DINO Inference Completed---\n",
      "mIOU CALCULATION DINO, Cart:\n",
      "IoU for wheel: 0.9292\n",
      "Mean IoU: 0.9292\n",
      "----GLIP Inference Starting----\n"
     ]
    },
    {
     "name": "stderr",
     "output_type": "stream",
     "text": [
      "FutureWarning: The `device` argument is deprecated and will be removed in v5 of Transformers.\n",
      "UserWarning: nn.functional.upsample_bilinear is deprecated. Use nn.functional.interpolate instead.\n",
      "An exception occurred in telemetry logging.Disabling telemetry to prevent further exceptions.\n",
      "Traceback (most recent call last):\n",
      "  File \"/rhome/kamburoglu/miniconda3/envs/partslip/lib/python3.9/site-packages/iopath/common/file_io.py\", line 946, in __log_tmetry_keys\n",
      "    handler.log_event()\n",
      "  File \"/rhome/kamburoglu/miniconda3/envs/partslip/lib/python3.9/site-packages/iopath/common/event_logger.py\", line 97, in log_event\n",
      "    del self._evt\n",
      "AttributeError: _evt\n"
     ]
    },
    {
     "name": "stdout",
     "output_type": "stream",
     "text": [
      "----GLIP Inference Completed---\n",
      "mIOU CALCULATION GLIP, Cart:\n",
      "IoU for wheel: 0.8572\n",
      "Mean IoU: 0.8572\n",
      "Results saved to results.json\n",
      "Cart inference DINO, GLIP ==> SAM started:\n",
      "----DINO Inference Starting----\n"
     ]
    },
    {
     "name": "stderr",
     "output_type": "stream",
     "text": [
      "FutureWarning: The `device` argument is deprecated and will be removed in v5 of Transformers.\n",
      "UserWarning: None of the inputs have requires_grad=True. Gradients will be None\n"
     ]
    },
    {
     "name": "stdout",
     "output_type": "stream",
     "text": [
      "----DINO Inference Completed---\n",
      "mIOU CALCULATION DINO, Cart:\n",
      "IoU for wheel: 0.6700\n",
      "Mean IoU: 0.6700\n",
      "----GLIP Inference Starting----\n"
     ]
    },
    {
     "name": "stderr",
     "output_type": "stream",
     "text": [
      "FutureWarning: The `device` argument is deprecated and will be removed in v5 of Transformers.\n",
      "UserWarning: nn.functional.upsample_bilinear is deprecated. Use nn.functional.interpolate instead.\n",
      "An exception occurred in telemetry logging.Disabling telemetry to prevent further exceptions.\n",
      "Traceback (most recent call last):\n",
      "  File \"/rhome/kamburoglu/miniconda3/envs/partslip/lib/python3.9/site-packages/iopath/common/file_io.py\", line 946, in __log_tmetry_keys\n",
      "    handler.log_event()\n",
      "  File \"/rhome/kamburoglu/miniconda3/envs/partslip/lib/python3.9/site-packages/iopath/common/event_logger.py\", line 97, in log_event\n",
      "    del self._evt\n",
      "AttributeError: _evt\n"
     ]
    },
    {
     "name": "stdout",
     "output_type": "stream",
     "text": [
      "----GLIP Inference Completed---\n",
      "mIOU CALCULATION GLIP, Cart:\n",
      "IoU for wheel: 0.7579\n",
      "Mean IoU: 0.7579\n",
      "Results saved to results.json\n",
      "Cart inference DINO, GLIP ==> SAM started:\n",
      "----DINO Inference Starting----\n"
     ]
    },
    {
     "name": "stderr",
     "output_type": "stream",
     "text": [
      "FutureWarning: The `device` argument is deprecated and will be removed in v5 of Transformers.\n",
      "UserWarning: None of the inputs have requires_grad=True. Gradients will be None\n"
     ]
    },
    {
     "name": "stdout",
     "output_type": "stream",
     "text": [
      "----DINO Inference Completed---\n",
      "mIOU CALCULATION DINO, Cart:\n",
      "IoU for wheel: 0.9079\n",
      "Mean IoU: 0.9079\n",
      "----GLIP Inference Starting----\n"
     ]
    },
    {
     "name": "stderr",
     "output_type": "stream",
     "text": [
      "FutureWarning: The `device` argument is deprecated and will be removed in v5 of Transformers.\n",
      "UserWarning: nn.functional.upsample_bilinear is deprecated. Use nn.functional.interpolate instead.\n",
      "An exception occurred in telemetry logging.Disabling telemetry to prevent further exceptions.\n",
      "Traceback (most recent call last):\n",
      "  File \"/rhome/kamburoglu/miniconda3/envs/partslip/lib/python3.9/site-packages/iopath/common/file_io.py\", line 946, in __log_tmetry_keys\n",
      "    handler.log_event()\n",
      "  File \"/rhome/kamburoglu/miniconda3/envs/partslip/lib/python3.9/site-packages/iopath/common/event_logger.py\", line 97, in log_event\n",
      "    del self._evt\n",
      "AttributeError: _evt\n"
     ]
    },
    {
     "name": "stdout",
     "output_type": "stream",
     "text": [
      "----GLIP Inference Completed---\n",
      "mIOU CALCULATION GLIP, Cart:\n",
      "IoU for wheel: 0.9457\n",
      "Mean IoU: 0.9457\n",
      "Results saved to results.json\n",
      "Cart inference DINO, GLIP ==> SAM started:\n",
      "----DINO Inference Starting----\n"
     ]
    },
    {
     "name": "stderr",
     "output_type": "stream",
     "text": [
      "FutureWarning: The `device` argument is deprecated and will be removed in v5 of Transformers.\n",
      "UserWarning: None of the inputs have requires_grad=True. Gradients will be None\n"
     ]
    },
    {
     "name": "stdout",
     "output_type": "stream",
     "text": [
      "----DINO Inference Completed---\n",
      "mIOU CALCULATION DINO, Cart:\n",
      "IoU for wheel: 0.5769\n",
      "Mean IoU: 0.5769\n",
      "----GLIP Inference Starting----\n"
     ]
    },
    {
     "name": "stderr",
     "output_type": "stream",
     "text": [
      "FutureWarning: The `device` argument is deprecated and will be removed in v5 of Transformers.\n",
      "UserWarning: nn.functional.upsample_bilinear is deprecated. Use nn.functional.interpolate instead.\n",
      "An exception occurred in telemetry logging.Disabling telemetry to prevent further exceptions.\n",
      "Traceback (most recent call last):\n",
      "  File \"/rhome/kamburoglu/miniconda3/envs/partslip/lib/python3.9/site-packages/iopath/common/file_io.py\", line 946, in __log_tmetry_keys\n",
      "    handler.log_event()\n",
      "  File \"/rhome/kamburoglu/miniconda3/envs/partslip/lib/python3.9/site-packages/iopath/common/event_logger.py\", line 97, in log_event\n",
      "    del self._evt\n",
      "AttributeError: _evt\n"
     ]
    },
    {
     "name": "stdout",
     "output_type": "stream",
     "text": [
      "----GLIP Inference Completed---\n",
      "mIOU CALCULATION GLIP, Cart:\n",
      "IoU for wheel: 0.5930\n",
      "Mean IoU: 0.5930\n",
      "Results saved to results.json\n",
      "Cart inference DINO, GLIP ==> SAM started:\n",
      "----DINO Inference Starting----\n"
     ]
    },
    {
     "name": "stderr",
     "output_type": "stream",
     "text": [
      "FutureWarning: The `device` argument is deprecated and will be removed in v5 of Transformers.\n",
      "UserWarning: None of the inputs have requires_grad=True. Gradients will be None\n"
     ]
    },
    {
     "name": "stdout",
     "output_type": "stream",
     "text": [
      "----DINO Inference Completed---\n",
      "mIOU CALCULATION DINO, Cart:\n",
      "IoU for wheel: 0.8924\n",
      "Mean IoU: 0.8924\n",
      "----GLIP Inference Starting----\n"
     ]
    },
    {
     "name": "stderr",
     "output_type": "stream",
     "text": [
      "FutureWarning: The `device` argument is deprecated and will be removed in v5 of Transformers.\n",
      "UserWarning: nn.functional.upsample_bilinear is deprecated. Use nn.functional.interpolate instead.\n",
      "An exception occurred in telemetry logging.Disabling telemetry to prevent further exceptions.\n",
      "Traceback (most recent call last):\n",
      "  File \"/rhome/kamburoglu/miniconda3/envs/partslip/lib/python3.9/site-packages/iopath/common/file_io.py\", line 946, in __log_tmetry_keys\n",
      "    handler.log_event()\n",
      "  File \"/rhome/kamburoglu/miniconda3/envs/partslip/lib/python3.9/site-packages/iopath/common/event_logger.py\", line 97, in log_event\n",
      "    del self._evt\n",
      "AttributeError: _evt\n"
     ]
    },
    {
     "name": "stdout",
     "output_type": "stream",
     "text": [
      "----GLIP Inference Completed---\n",
      "mIOU CALCULATION GLIP, Cart:\n",
      "IoU for wheel: 0.8815\n",
      "Mean IoU: 0.8815\n",
      "Results saved to results.json\n",
      "Cart inference DINO, GLIP ==> SAM started:\n",
      "----DINO Inference Starting----\n"
     ]
    },
    {
     "name": "stderr",
     "output_type": "stream",
     "text": [
      "FutureWarning: The `device` argument is deprecated and will be removed in v5 of Transformers.\n",
      "UserWarning: None of the inputs have requires_grad=True. Gradients will be None\n"
     ]
    },
    {
     "name": "stdout",
     "output_type": "stream",
     "text": [
      "----DINO Inference Completed---\n",
      "mIOU CALCULATION DINO, Cart:\n",
      "IoU for wheel: 0.7433\n",
      "Mean IoU: 0.7433\n",
      "----GLIP Inference Starting----\n"
     ]
    },
    {
     "name": "stderr",
     "output_type": "stream",
     "text": [
      "FutureWarning: The `device` argument is deprecated and will be removed in v5 of Transformers.\n",
      "UserWarning: nn.functional.upsample_bilinear is deprecated. Use nn.functional.interpolate instead.\n",
      "An exception occurred in telemetry logging.Disabling telemetry to prevent further exceptions.\n",
      "Traceback (most recent call last):\n",
      "  File \"/rhome/kamburoglu/miniconda3/envs/partslip/lib/python3.9/site-packages/iopath/common/file_io.py\", line 946, in __log_tmetry_keys\n",
      "    handler.log_event()\n",
      "  File \"/rhome/kamburoglu/miniconda3/envs/partslip/lib/python3.9/site-packages/iopath/common/event_logger.py\", line 97, in log_event\n",
      "    del self._evt\n",
      "AttributeError: _evt\n"
     ]
    },
    {
     "name": "stdout",
     "output_type": "stream",
     "text": [
      "----GLIP Inference Completed---\n",
      "mIOU CALCULATION GLIP, Cart:\n",
      "IoU for wheel: 0.8768\n",
      "Mean IoU: 0.8768\n",
      "Results saved to results.json\n",
      "Cart inference DINO, GLIP ==> SAM started:\n",
      "----DINO Inference Starting----\n"
     ]
    },
    {
     "name": "stderr",
     "output_type": "stream",
     "text": [
      "FutureWarning: The `device` argument is deprecated and will be removed in v5 of Transformers.\n",
      "UserWarning: None of the inputs have requires_grad=True. Gradients will be None\n"
     ]
    },
    {
     "name": "stdout",
     "output_type": "stream",
     "text": [
      "----DINO Inference Completed---\n",
      "mIOU CALCULATION DINO, Cart:\n",
      "IoU for wheel: 0.8392\n",
      "Mean IoU: 0.8392\n",
      "----GLIP Inference Starting----\n"
     ]
    },
    {
     "name": "stderr",
     "output_type": "stream",
     "text": [
      "FutureWarning: The `device` argument is deprecated and will be removed in v5 of Transformers.\n",
      "UserWarning: nn.functional.upsample_bilinear is deprecated. Use nn.functional.interpolate instead.\n",
      "An exception occurred in telemetry logging.Disabling telemetry to prevent further exceptions.\n",
      "Traceback (most recent call last):\n",
      "  File \"/rhome/kamburoglu/miniconda3/envs/partslip/lib/python3.9/site-packages/iopath/common/file_io.py\", line 946, in __log_tmetry_keys\n",
      "    handler.log_event()\n",
      "  File \"/rhome/kamburoglu/miniconda3/envs/partslip/lib/python3.9/site-packages/iopath/common/event_logger.py\", line 97, in log_event\n",
      "    del self._evt\n",
      "AttributeError: _evt\n"
     ]
    },
    {
     "name": "stdout",
     "output_type": "stream",
     "text": [
      "----GLIP Inference Completed---\n",
      "mIOU CALCULATION GLIP, Cart:\n",
      "IoU for wheel: 0.7036\n",
      "Mean IoU: 0.7036\n",
      "Results saved to results.json\n",
      "Cart inference DINO, GLIP ==> SAM started:\n",
      "----DINO Inference Starting----\n"
     ]
    },
    {
     "name": "stderr",
     "output_type": "stream",
     "text": [
      "FutureWarning: The `device` argument is deprecated and will be removed in v5 of Transformers.\n",
      "UserWarning: None of the inputs have requires_grad=True. Gradients will be None\n"
     ]
    },
    {
     "name": "stdout",
     "output_type": "stream",
     "text": [
      "----DINO Inference Completed---\n",
      "mIOU CALCULATION DINO, Cart:\n",
      "IoU for wheel: 0.9075\n",
      "Mean IoU: 0.9075\n",
      "----GLIP Inference Starting----\n"
     ]
    },
    {
     "name": "stderr",
     "output_type": "stream",
     "text": [
      "FutureWarning: The `device` argument is deprecated and will be removed in v5 of Transformers.\n",
      "UserWarning: nn.functional.upsample_bilinear is deprecated. Use nn.functional.interpolate instead.\n",
      "An exception occurred in telemetry logging.Disabling telemetry to prevent further exceptions.\n",
      "Traceback (most recent call last):\n",
      "  File \"/rhome/kamburoglu/miniconda3/envs/partslip/lib/python3.9/site-packages/iopath/common/file_io.py\", line 946, in __log_tmetry_keys\n",
      "    handler.log_event()\n",
      "  File \"/rhome/kamburoglu/miniconda3/envs/partslip/lib/python3.9/site-packages/iopath/common/event_logger.py\", line 97, in log_event\n",
      "    del self._evt\n",
      "AttributeError: _evt\n"
     ]
    },
    {
     "name": "stdout",
     "output_type": "stream",
     "text": [
      "----GLIP Inference Completed---\n",
      "mIOU CALCULATION GLIP, Cart:\n",
      "IoU for wheel: 0.9452\n",
      "Mean IoU: 0.9452\n",
      "Results saved to results.json\n",
      "Cart inference DINO, GLIP ==> SAM started:\n",
      "----DINO Inference Starting----\n"
     ]
    },
    {
     "name": "stderr",
     "output_type": "stream",
     "text": [
      "FutureWarning: The `device` argument is deprecated and will be removed in v5 of Transformers.\n",
      "UserWarning: None of the inputs have requires_grad=True. Gradients will be None\n"
     ]
    },
    {
     "name": "stdout",
     "output_type": "stream",
     "text": [
      "----DINO Inference Completed---\n",
      "mIOU CALCULATION DINO, Cart:\n",
      "IoU for wheel: 0.8666\n",
      "Mean IoU: 0.8666\n",
      "----GLIP Inference Starting----\n"
     ]
    },
    {
     "name": "stderr",
     "output_type": "stream",
     "text": [
      "FutureWarning: The `device` argument is deprecated and will be removed in v5 of Transformers.\n",
      "UserWarning: nn.functional.upsample_bilinear is deprecated. Use nn.functional.interpolate instead.\n",
      "An exception occurred in telemetry logging.Disabling telemetry to prevent further exceptions.\n",
      "Traceback (most recent call last):\n",
      "  File \"/rhome/kamburoglu/miniconda3/envs/partslip/lib/python3.9/site-packages/iopath/common/file_io.py\", line 946, in __log_tmetry_keys\n",
      "    handler.log_event()\n",
      "  File \"/rhome/kamburoglu/miniconda3/envs/partslip/lib/python3.9/site-packages/iopath/common/event_logger.py\", line 97, in log_event\n",
      "    del self._evt\n",
      "AttributeError: _evt\n"
     ]
    },
    {
     "name": "stdout",
     "output_type": "stream",
     "text": [
      "----GLIP Inference Completed---\n",
      "mIOU CALCULATION GLIP, Cart:\n",
      "IoU for wheel: 0.8339\n",
      "Mean IoU: 0.8339\n",
      "Results saved to results.json\n",
      "Cart inference DINO, GLIP ==> SAM started:\n",
      "----DINO Inference Starting----\n"
     ]
    },
    {
     "name": "stderr",
     "output_type": "stream",
     "text": [
      "FutureWarning: The `device` argument is deprecated and will be removed in v5 of Transformers.\n",
      "UserWarning: None of the inputs have requires_grad=True. Gradients will be None\n"
     ]
    },
    {
     "name": "stdout",
     "output_type": "stream",
     "text": [
      "----DINO Inference Completed---\n",
      "mIOU CALCULATION DINO, Cart:\n",
      "IoU for wheel: 0.9976\n",
      "Mean IoU: 0.9976\n",
      "----GLIP Inference Starting----\n"
     ]
    },
    {
     "name": "stderr",
     "output_type": "stream",
     "text": [
      "FutureWarning: The `device` argument is deprecated and will be removed in v5 of Transformers.\n",
      "UserWarning: nn.functional.upsample_bilinear is deprecated. Use nn.functional.interpolate instead.\n",
      "An exception occurred in telemetry logging.Disabling telemetry to prevent further exceptions.\n",
      "Traceback (most recent call last):\n",
      "  File \"/rhome/kamburoglu/miniconda3/envs/partslip/lib/python3.9/site-packages/iopath/common/file_io.py\", line 946, in __log_tmetry_keys\n",
      "    handler.log_event()\n",
      "  File \"/rhome/kamburoglu/miniconda3/envs/partslip/lib/python3.9/site-packages/iopath/common/event_logger.py\", line 97, in log_event\n",
      "    del self._evt\n",
      "AttributeError: _evt\n"
     ]
    },
    {
     "name": "stdout",
     "output_type": "stream",
     "text": [
      "----GLIP Inference Completed---\n",
      "mIOU CALCULATION GLIP, Cart:\n",
      "IoU for wheel: 0.8961\n",
      "Mean IoU: 0.8961\n",
      "Results saved to results.json\n",
      "Cart inference DINO, GLIP ==> SAM started:\n",
      "----DINO Inference Starting----\n"
     ]
    },
    {
     "name": "stderr",
     "output_type": "stream",
     "text": [
      "FutureWarning: The `device` argument is deprecated and will be removed in v5 of Transformers.\n",
      "UserWarning: None of the inputs have requires_grad=True. Gradients will be None\n"
     ]
    },
    {
     "name": "stdout",
     "output_type": "stream",
     "text": [
      "----DINO Inference Completed---\n",
      "mIOU CALCULATION DINO, Cart:\n",
      "IoU for wheel: 0.7642\n",
      "Mean IoU: 0.7642\n",
      "----GLIP Inference Starting----\n"
     ]
    },
    {
     "name": "stderr",
     "output_type": "stream",
     "text": [
      "FutureWarning: The `device` argument is deprecated and will be removed in v5 of Transformers.\n",
      "UserWarning: nn.functional.upsample_bilinear is deprecated. Use nn.functional.interpolate instead.\n",
      "An exception occurred in telemetry logging.Disabling telemetry to prevent further exceptions.\n",
      "Traceback (most recent call last):\n",
      "  File \"/rhome/kamburoglu/miniconda3/envs/partslip/lib/python3.9/site-packages/iopath/common/file_io.py\", line 946, in __log_tmetry_keys\n",
      "    handler.log_event()\n",
      "  File \"/rhome/kamburoglu/miniconda3/envs/partslip/lib/python3.9/site-packages/iopath/common/event_logger.py\", line 97, in log_event\n",
      "    del self._evt\n",
      "AttributeError: _evt\n"
     ]
    },
    {
     "name": "stdout",
     "output_type": "stream",
     "text": [
      "----GLIP Inference Completed---\n",
      "mIOU CALCULATION GLIP, Cart:\n",
      "IoU for wheel: 0.5272\n",
      "Mean IoU: 0.5272\n",
      "Results saved to results.json\n",
      "Cart inference DINO, GLIP ==> SAM started:\n",
      "----DINO Inference Starting----\n"
     ]
    },
    {
     "name": "stderr",
     "output_type": "stream",
     "text": [
      "FutureWarning: The `device` argument is deprecated and will be removed in v5 of Transformers.\n",
      "UserWarning: None of the inputs have requires_grad=True. Gradients will be None\n"
     ]
    },
    {
     "name": "stdout",
     "output_type": "stream",
     "text": [
      "----DINO Inference Completed---\n",
      "mIOU CALCULATION DINO, Cart:\n",
      "IoU for wheel: 0.6656\n",
      "Mean IoU: 0.6656\n",
      "----GLIP Inference Starting----\n"
     ]
    },
    {
     "name": "stderr",
     "output_type": "stream",
     "text": [
      "FutureWarning: The `device` argument is deprecated and will be removed in v5 of Transformers.\n",
      "UserWarning: nn.functional.upsample_bilinear is deprecated. Use nn.functional.interpolate instead.\n",
      "An exception occurred in telemetry logging.Disabling telemetry to prevent further exceptions.\n",
      "Traceback (most recent call last):\n",
      "  File \"/rhome/kamburoglu/miniconda3/envs/partslip/lib/python3.9/site-packages/iopath/common/file_io.py\", line 946, in __log_tmetry_keys\n",
      "    handler.log_event()\n",
      "  File \"/rhome/kamburoglu/miniconda3/envs/partslip/lib/python3.9/site-packages/iopath/common/event_logger.py\", line 97, in log_event\n",
      "    del self._evt\n",
      "AttributeError: _evt\n"
     ]
    },
    {
     "name": "stdout",
     "output_type": "stream",
     "text": [
      "----GLIP Inference Completed---\n",
      "mIOU CALCULATION GLIP, Cart:\n",
      "IoU for wheel: 0.9077\n",
      "Mean IoU: 0.9077\n",
      "Results saved to results.json\n",
      "Cart inference DINO, GLIP ==> SAM started:\n",
      "----DINO Inference Starting----\n"
     ]
    },
    {
     "name": "stderr",
     "output_type": "stream",
     "text": [
      "FutureWarning: The `device` argument is deprecated and will be removed in v5 of Transformers.\n",
      "UserWarning: None of the inputs have requires_grad=True. Gradients will be None\n"
     ]
    },
    {
     "name": "stdout",
     "output_type": "stream",
     "text": [
      "----DINO Inference Completed---\n",
      "mIOU CALCULATION DINO, Cart:\n",
      "IoU for wheel: 0.7553\n",
      "Mean IoU: 0.7553\n",
      "----GLIP Inference Starting----\n"
     ]
    },
    {
     "name": "stderr",
     "output_type": "stream",
     "text": [
      "FutureWarning: The `device` argument is deprecated and will be removed in v5 of Transformers.\n",
      "UserWarning: nn.functional.upsample_bilinear is deprecated. Use nn.functional.interpolate instead.\n",
      "An exception occurred in telemetry logging.Disabling telemetry to prevent further exceptions.\n",
      "Traceback (most recent call last):\n",
      "  File \"/rhome/kamburoglu/miniconda3/envs/partslip/lib/python3.9/site-packages/iopath/common/file_io.py\", line 946, in __log_tmetry_keys\n",
      "    handler.log_event()\n",
      "  File \"/rhome/kamburoglu/miniconda3/envs/partslip/lib/python3.9/site-packages/iopath/common/event_logger.py\", line 97, in log_event\n",
      "    del self._evt\n",
      "AttributeError: _evt\n"
     ]
    },
    {
     "name": "stdout",
     "output_type": "stream",
     "text": [
      "----GLIP Inference Completed---\n",
      "mIOU CALCULATION GLIP, Cart:\n",
      "IoU for wheel: 0.8704\n",
      "Mean IoU: 0.8704\n",
      "Results saved to results.json\n",
      "Cart inference DINO, GLIP ==> SAM started:\n",
      "----DINO Inference Starting----\n"
     ]
    },
    {
     "name": "stderr",
     "output_type": "stream",
     "text": [
      "FutureWarning: The `device` argument is deprecated and will be removed in v5 of Transformers.\n",
      "UserWarning: None of the inputs have requires_grad=True. Gradients will be None\n"
     ]
    },
    {
     "name": "stdout",
     "output_type": "stream",
     "text": [
      "----DINO Inference Completed---\n",
      "mIOU CALCULATION DINO, Cart:\n",
      "IoU for wheel: 0.9637\n",
      "Mean IoU: 0.9637\n",
      "----GLIP Inference Starting----\n"
     ]
    },
    {
     "name": "stderr",
     "output_type": "stream",
     "text": [
      "FutureWarning: The `device` argument is deprecated and will be removed in v5 of Transformers.\n",
      "UserWarning: nn.functional.upsample_bilinear is deprecated. Use nn.functional.interpolate instead.\n",
      "An exception occurred in telemetry logging.Disabling telemetry to prevent further exceptions.\n",
      "Traceback (most recent call last):\n",
      "  File \"/rhome/kamburoglu/miniconda3/envs/partslip/lib/python3.9/site-packages/iopath/common/file_io.py\", line 946, in __log_tmetry_keys\n",
      "    handler.log_event()\n",
      "  File \"/rhome/kamburoglu/miniconda3/envs/partslip/lib/python3.9/site-packages/iopath/common/event_logger.py\", line 97, in log_event\n",
      "    del self._evt\n",
      "AttributeError: _evt\n"
     ]
    },
    {
     "name": "stdout",
     "output_type": "stream",
     "text": [
      "----GLIP Inference Completed---\n",
      "mIOU CALCULATION GLIP, Cart:\n",
      "IoU for wheel: 0.8480\n",
      "Mean IoU: 0.8480\n",
      "Results saved to results.json\n",
      "Cart inference DINO, GLIP ==> SAM started:\n",
      "----DINO Inference Starting----\n"
     ]
    },
    {
     "name": "stderr",
     "output_type": "stream",
     "text": [
      "FutureWarning: The `device` argument is deprecated and will be removed in v5 of Transformers.\n",
      "UserWarning: None of the inputs have requires_grad=True. Gradients will be None\n"
     ]
    },
    {
     "name": "stdout",
     "output_type": "stream",
     "text": [
      "----DINO Inference Completed---\n",
      "mIOU CALCULATION DINO, Cart:\n",
      "IoU for wheel: 0.9516\n",
      "Mean IoU: 0.9516\n",
      "----GLIP Inference Starting----\n"
     ]
    },
    {
     "name": "stderr",
     "output_type": "stream",
     "text": [
      "FutureWarning: The `device` argument is deprecated and will be removed in v5 of Transformers.\n",
      "UserWarning: nn.functional.upsample_bilinear is deprecated. Use nn.functional.interpolate instead.\n",
      "An exception occurred in telemetry logging.Disabling telemetry to prevent further exceptions.\n",
      "Traceback (most recent call last):\n",
      "  File \"/rhome/kamburoglu/miniconda3/envs/partslip/lib/python3.9/site-packages/iopath/common/file_io.py\", line 946, in __log_tmetry_keys\n",
      "    handler.log_event()\n",
      "  File \"/rhome/kamburoglu/miniconda3/envs/partslip/lib/python3.9/site-packages/iopath/common/event_logger.py\", line 97, in log_event\n",
      "    del self._evt\n",
      "AttributeError: _evt\n"
     ]
    },
    {
     "name": "stdout",
     "output_type": "stream",
     "text": [
      "----GLIP Inference Completed---\n",
      "mIOU CALCULATION GLIP, Cart:\n",
      "IoU for wheel: 0.9505\n",
      "Mean IoU: 0.9505\n",
      "Results saved to results.json\n",
      "Cart inference DINO, GLIP ==> SAM started:\n",
      "----DINO Inference Starting----\n"
     ]
    },
    {
     "name": "stderr",
     "output_type": "stream",
     "text": [
      "FutureWarning: The `device` argument is deprecated and will be removed in v5 of Transformers.\n",
      "UserWarning: None of the inputs have requires_grad=True. Gradients will be None\n"
     ]
    },
    {
     "name": "stdout",
     "output_type": "stream",
     "text": [
      "----DINO Inference Completed---\n",
      "mIOU CALCULATION DINO, Cart:\n",
      "IoU for wheel: 0.8285\n",
      "Mean IoU: 0.8285\n",
      "----GLIP Inference Starting----\n"
     ]
    },
    {
     "name": "stderr",
     "output_type": "stream",
     "text": [
      "FutureWarning: The `device` argument is deprecated and will be removed in v5 of Transformers.\n",
      "UserWarning: nn.functional.upsample_bilinear is deprecated. Use nn.functional.interpolate instead.\n",
      "An exception occurred in telemetry logging.Disabling telemetry to prevent further exceptions.\n",
      "Traceback (most recent call last):\n",
      "  File \"/rhome/kamburoglu/miniconda3/envs/partslip/lib/python3.9/site-packages/iopath/common/file_io.py\", line 946, in __log_tmetry_keys\n",
      "    handler.log_event()\n",
      "  File \"/rhome/kamburoglu/miniconda3/envs/partslip/lib/python3.9/site-packages/iopath/common/event_logger.py\", line 97, in log_event\n",
      "    del self._evt\n",
      "AttributeError: _evt\n"
     ]
    },
    {
     "name": "stdout",
     "output_type": "stream",
     "text": [
      "----GLIP Inference Completed---\n",
      "mIOU CALCULATION GLIP, Cart:\n",
      "IoU for wheel: 0.7204\n",
      "Mean IoU: 0.7204\n",
      "Results saved to results.json\n",
      "Cart inference DINO, GLIP ==> SAM started:\n",
      "----DINO Inference Starting----\n"
     ]
    },
    {
     "name": "stderr",
     "output_type": "stream",
     "text": [
      "FutureWarning: The `device` argument is deprecated and will be removed in v5 of Transformers.\n",
      "UserWarning: None of the inputs have requires_grad=True. Gradients will be None\n"
     ]
    },
    {
     "name": "stdout",
     "output_type": "stream",
     "text": [
      "----DINO Inference Completed---\n",
      "mIOU CALCULATION DINO, Cart:\n",
      "IoU for wheel: 0.9106\n",
      "Mean IoU: 0.9106\n",
      "----GLIP Inference Starting----\n"
     ]
    },
    {
     "name": "stderr",
     "output_type": "stream",
     "text": [
      "FutureWarning: The `device` argument is deprecated and will be removed in v5 of Transformers.\n",
      "UserWarning: nn.functional.upsample_bilinear is deprecated. Use nn.functional.interpolate instead.\n",
      "An exception occurred in telemetry logging.Disabling telemetry to prevent further exceptions.\n",
      "Traceback (most recent call last):\n",
      "  File \"/rhome/kamburoglu/miniconda3/envs/partslip/lib/python3.9/site-packages/iopath/common/file_io.py\", line 946, in __log_tmetry_keys\n",
      "    handler.log_event()\n",
      "  File \"/rhome/kamburoglu/miniconda3/envs/partslip/lib/python3.9/site-packages/iopath/common/event_logger.py\", line 97, in log_event\n",
      "    del self._evt\n",
      "AttributeError: _evt\n"
     ]
    },
    {
     "name": "stdout",
     "output_type": "stream",
     "text": [
      "----GLIP Inference Completed---\n",
      "mIOU CALCULATION GLIP, Cart:\n",
      "IoU for wheel: 0.4752\n",
      "Mean IoU: 0.4752\n",
      "Results saved to results.json\n",
      "Cart inference DINO, GLIP ==> SAM started:\n",
      "----DINO Inference Starting----\n"
     ]
    },
    {
     "name": "stderr",
     "output_type": "stream",
     "text": [
      "FutureWarning: The `device` argument is deprecated and will be removed in v5 of Transformers.\n",
      "UserWarning: None of the inputs have requires_grad=True. Gradients will be None\n"
     ]
    },
    {
     "name": "stdout",
     "output_type": "stream",
     "text": [
      "----DINO Inference Completed---\n",
      "mIOU CALCULATION DINO, Cart:\n",
      "IoU for wheel: 0.5903\n",
      "Mean IoU: 0.5903\n",
      "----GLIP Inference Starting----\n"
     ]
    },
    {
     "name": "stderr",
     "output_type": "stream",
     "text": [
      "FutureWarning: The `device` argument is deprecated and will be removed in v5 of Transformers.\n",
      "UserWarning: nn.functional.upsample_bilinear is deprecated. Use nn.functional.interpolate instead.\n",
      "An exception occurred in telemetry logging.Disabling telemetry to prevent further exceptions.\n",
      "Traceback (most recent call last):\n",
      "  File \"/rhome/kamburoglu/miniconda3/envs/partslip/lib/python3.9/site-packages/iopath/common/file_io.py\", line 946, in __log_tmetry_keys\n",
      "    handler.log_event()\n",
      "  File \"/rhome/kamburoglu/miniconda3/envs/partslip/lib/python3.9/site-packages/iopath/common/event_logger.py\", line 97, in log_event\n",
      "    del self._evt\n",
      "AttributeError: _evt\n"
     ]
    },
    {
     "name": "stdout",
     "output_type": "stream",
     "text": [
      "----GLIP Inference Completed---\n",
      "mIOU CALCULATION GLIP, Cart:\n",
      "IoU for wheel: 0.7611\n",
      "Mean IoU: 0.7611\n",
      "Results saved to results.json\n",
      "Cart inference DINO, GLIP ==> SAM started:\n",
      "----DINO Inference Starting----\n"
     ]
    },
    {
     "name": "stderr",
     "output_type": "stream",
     "text": [
      "FutureWarning: The `device` argument is deprecated and will be removed in v5 of Transformers.\n",
      "UserWarning: None of the inputs have requires_grad=True. Gradients will be None\n"
     ]
    },
    {
     "name": "stdout",
     "output_type": "stream",
     "text": [
      "----DINO Inference Completed---\n",
      "mIOU CALCULATION DINO, Cart:\n",
      "IoU for wheel: 0.1500\n",
      "Mean IoU: 0.1500\n",
      "----GLIP Inference Starting----\n"
     ]
    },
    {
     "name": "stderr",
     "output_type": "stream",
     "text": [
      "FutureWarning: The `device` argument is deprecated and will be removed in v5 of Transformers.\n",
      "UserWarning: nn.functional.upsample_bilinear is deprecated. Use nn.functional.interpolate instead.\n",
      "An exception occurred in telemetry logging.Disabling telemetry to prevent further exceptions.\n",
      "Traceback (most recent call last):\n",
      "  File \"/rhome/kamburoglu/miniconda3/envs/partslip/lib/python3.9/site-packages/iopath/common/file_io.py\", line 946, in __log_tmetry_keys\n",
      "    handler.log_event()\n",
      "  File \"/rhome/kamburoglu/miniconda3/envs/partslip/lib/python3.9/site-packages/iopath/common/event_logger.py\", line 97, in log_event\n",
      "    del self._evt\n",
      "AttributeError: _evt\n"
     ]
    },
    {
     "name": "stdout",
     "output_type": "stream",
     "text": [
      "----GLIP Inference Completed---\n",
      "mIOU CALCULATION GLIP, Cart:\n",
      "IoU for wheel: 0.3389\n",
      "Mean IoU: 0.3389\n",
      "Results saved to results.json\n",
      "Cart inference DINO, GLIP ==> SAM started:\n",
      "----DINO Inference Starting----\n"
     ]
    },
    {
     "name": "stderr",
     "output_type": "stream",
     "text": [
      "FutureWarning: The `device` argument is deprecated and will be removed in v5 of Transformers.\n",
      "UserWarning: None of the inputs have requires_grad=True. Gradients will be None\n"
     ]
    },
    {
     "name": "stdout",
     "output_type": "stream",
     "text": [
      "----DINO Inference Completed---\n",
      "mIOU CALCULATION DINO, Cart:\n",
      "IoU for wheel: 0.9558\n",
      "Mean IoU: 0.9558\n",
      "----GLIP Inference Starting----\n"
     ]
    },
    {
     "name": "stderr",
     "output_type": "stream",
     "text": [
      "FutureWarning: The `device` argument is deprecated and will be removed in v5 of Transformers.\n",
      "UserWarning: nn.functional.upsample_bilinear is deprecated. Use nn.functional.interpolate instead.\n",
      "An exception occurred in telemetry logging.Disabling telemetry to prevent further exceptions.\n",
      "Traceback (most recent call last):\n",
      "  File \"/rhome/kamburoglu/miniconda3/envs/partslip/lib/python3.9/site-packages/iopath/common/file_io.py\", line 946, in __log_tmetry_keys\n",
      "    handler.log_event()\n",
      "  File \"/rhome/kamburoglu/miniconda3/envs/partslip/lib/python3.9/site-packages/iopath/common/event_logger.py\", line 97, in log_event\n",
      "    del self._evt\n",
      "AttributeError: _evt\n"
     ]
    },
    {
     "name": "stdout",
     "output_type": "stream",
     "text": [
      "----GLIP Inference Completed---\n",
      "mIOU CALCULATION GLIP, Cart:\n",
      "IoU for wheel: 0.8550\n",
      "Mean IoU: 0.8550\n",
      "Results saved to results.json\n",
      "Cart inference DINO, GLIP ==> SAM started:\n",
      "----DINO Inference Starting----\n"
     ]
    },
    {
     "name": "stderr",
     "output_type": "stream",
     "text": [
      "FutureWarning: The `device` argument is deprecated and will be removed in v5 of Transformers.\n",
      "UserWarning: None of the inputs have requires_grad=True. Gradients will be None\n"
     ]
    },
    {
     "name": "stdout",
     "output_type": "stream",
     "text": [
      "----DINO Inference Completed---\n",
      "mIOU CALCULATION DINO, Cart:\n",
      "IoU for wheel: 0.9105\n",
      "Mean IoU: 0.9105\n",
      "----GLIP Inference Starting----\n"
     ]
    },
    {
     "name": "stderr",
     "output_type": "stream",
     "text": [
      "FutureWarning: The `device` argument is deprecated and will be removed in v5 of Transformers.\n",
      "UserWarning: nn.functional.upsample_bilinear is deprecated. Use nn.functional.interpolate instead.\n",
      "An exception occurred in telemetry logging.Disabling telemetry to prevent further exceptions.\n",
      "Traceback (most recent call last):\n",
      "  File \"/rhome/kamburoglu/miniconda3/envs/partslip/lib/python3.9/site-packages/iopath/common/file_io.py\", line 946, in __log_tmetry_keys\n",
      "    handler.log_event()\n",
      "  File \"/rhome/kamburoglu/miniconda3/envs/partslip/lib/python3.9/site-packages/iopath/common/event_logger.py\", line 97, in log_event\n",
      "    del self._evt\n",
      "AttributeError: _evt\n"
     ]
    },
    {
     "name": "stdout",
     "output_type": "stream",
     "text": [
      "----GLIP Inference Completed---\n",
      "mIOU CALCULATION GLIP, Cart:\n",
      "IoU for wheel: 0.8835\n",
      "Mean IoU: 0.8835\n",
      "Results saved to results.json\n",
      "Cart inference DINO, GLIP ==> SAM started:\n",
      "----DINO Inference Starting----\n"
     ]
    },
    {
     "name": "stderr",
     "output_type": "stream",
     "text": [
      "FutureWarning: The `device` argument is deprecated and will be removed in v5 of Transformers.\n",
      "UserWarning: None of the inputs have requires_grad=True. Gradients will be None\n"
     ]
    },
    {
     "name": "stdout",
     "output_type": "stream",
     "text": [
      "----DINO Inference Completed---\n",
      "mIOU CALCULATION DINO, Cart:\n",
      "IoU for wheel: 0.5184\n",
      "Mean IoU: 0.5184\n",
      "----GLIP Inference Starting----\n"
     ]
    },
    {
     "name": "stderr",
     "output_type": "stream",
     "text": [
      "FutureWarning: The `device` argument is deprecated and will be removed in v5 of Transformers.\n",
      "UserWarning: nn.functional.upsample_bilinear is deprecated. Use nn.functional.interpolate instead.\n",
      "An exception occurred in telemetry logging.Disabling telemetry to prevent further exceptions.\n",
      "Traceback (most recent call last):\n",
      "  File \"/rhome/kamburoglu/miniconda3/envs/partslip/lib/python3.9/site-packages/iopath/common/file_io.py\", line 946, in __log_tmetry_keys\n",
      "    handler.log_event()\n",
      "  File \"/rhome/kamburoglu/miniconda3/envs/partslip/lib/python3.9/site-packages/iopath/common/event_logger.py\", line 97, in log_event\n",
      "    del self._evt\n",
      "AttributeError: _evt\n"
     ]
    },
    {
     "name": "stdout",
     "output_type": "stream",
     "text": [
      "----GLIP Inference Completed---\n",
      "mIOU CALCULATION GLIP, Cart:\n",
      "IoU for wheel: 0.7172\n",
      "Mean IoU: 0.7172\n",
      "Results saved to results.json\n",
      "Cart inference DINO, GLIP ==> SAM started:\n",
      "----DINO Inference Starting----\n"
     ]
    },
    {
     "name": "stderr",
     "output_type": "stream",
     "text": [
      "FutureWarning: The `device` argument is deprecated and will be removed in v5 of Transformers.\n",
      "UserWarning: None of the inputs have requires_grad=True. Gradients will be None\n"
     ]
    },
    {
     "name": "stdout",
     "output_type": "stream",
     "text": [
      "----DINO Inference Completed---\n",
      "mIOU CALCULATION DINO, Cart:\n",
      "IoU for wheel: 0.6895\n",
      "Mean IoU: 0.6895\n",
      "----GLIP Inference Starting----\n"
     ]
    },
    {
     "name": "stderr",
     "output_type": "stream",
     "text": [
      "FutureWarning: The `device` argument is deprecated and will be removed in v5 of Transformers.\n",
      "UserWarning: nn.functional.upsample_bilinear is deprecated. Use nn.functional.interpolate instead.\n",
      "An exception occurred in telemetry logging.Disabling telemetry to prevent further exceptions.\n",
      "Traceback (most recent call last):\n",
      "  File \"/rhome/kamburoglu/miniconda3/envs/partslip/lib/python3.9/site-packages/iopath/common/file_io.py\", line 946, in __log_tmetry_keys\n",
      "    handler.log_event()\n",
      "  File \"/rhome/kamburoglu/miniconda3/envs/partslip/lib/python3.9/site-packages/iopath/common/event_logger.py\", line 97, in log_event\n",
      "    del self._evt\n",
      "AttributeError: _evt\n"
     ]
    },
    {
     "name": "stdout",
     "output_type": "stream",
     "text": [
      "----GLIP Inference Completed---\n",
      "mIOU CALCULATION GLIP, Cart:\n",
      "IoU for wheel: 0.7470\n",
      "Mean IoU: 0.7470\n",
      "Results saved to results.json\n",
      "Cart inference DINO, GLIP ==> SAM started:\n",
      "----DINO Inference Starting----\n"
     ]
    },
    {
     "name": "stderr",
     "output_type": "stream",
     "text": [
      "FutureWarning: The `device` argument is deprecated and will be removed in v5 of Transformers.\n",
      "UserWarning: None of the inputs have requires_grad=True. Gradients will be None\n"
     ]
    },
    {
     "name": "stdout",
     "output_type": "stream",
     "text": [
      "----DINO Inference Completed---\n",
      "mIOU CALCULATION DINO, Cart:\n",
      "IoU for wheel: 0.7541\n",
      "Mean IoU: 0.7541\n",
      "----GLIP Inference Starting----\n"
     ]
    },
    {
     "name": "stderr",
     "output_type": "stream",
     "text": [
      "FutureWarning: The `device` argument is deprecated and will be removed in v5 of Transformers.\n",
      "UserWarning: nn.functional.upsample_bilinear is deprecated. Use nn.functional.interpolate instead.\n",
      "An exception occurred in telemetry logging.Disabling telemetry to prevent further exceptions.\n",
      "Traceback (most recent call last):\n",
      "  File \"/rhome/kamburoglu/miniconda3/envs/partslip/lib/python3.9/site-packages/iopath/common/file_io.py\", line 946, in __log_tmetry_keys\n",
      "    handler.log_event()\n",
      "  File \"/rhome/kamburoglu/miniconda3/envs/partslip/lib/python3.9/site-packages/iopath/common/event_logger.py\", line 97, in log_event\n",
      "    del self._evt\n",
      "AttributeError: _evt\n"
     ]
    },
    {
     "name": "stdout",
     "output_type": "stream",
     "text": [
      "----GLIP Inference Completed---\n",
      "mIOU CALCULATION GLIP, Cart:\n",
      "IoU for wheel: 0.6894\n",
      "Mean IoU: 0.6894\n",
      "Results saved to results.json\n",
      "Cart inference DINO, GLIP ==> SAM started:\n",
      "----DINO Inference Starting----\n"
     ]
    },
    {
     "name": "stderr",
     "output_type": "stream",
     "text": [
      "FutureWarning: The `device` argument is deprecated and will be removed in v5 of Transformers.\n",
      "UserWarning: None of the inputs have requires_grad=True. Gradients will be None\n"
     ]
    },
    {
     "name": "stdout",
     "output_type": "stream",
     "text": [
      "----DINO Inference Completed---\n",
      "mIOU CALCULATION DINO, Cart:\n",
      "IoU for wheel: 0.9449\n",
      "Mean IoU: 0.9449\n",
      "----GLIP Inference Starting----\n"
     ]
    },
    {
     "name": "stderr",
     "output_type": "stream",
     "text": [
      "FutureWarning: The `device` argument is deprecated and will be removed in v5 of Transformers.\n",
      "UserWarning: nn.functional.upsample_bilinear is deprecated. Use nn.functional.interpolate instead.\n",
      "An exception occurred in telemetry logging.Disabling telemetry to prevent further exceptions.\n",
      "Traceback (most recent call last):\n",
      "  File \"/rhome/kamburoglu/miniconda3/envs/partslip/lib/python3.9/site-packages/iopath/common/file_io.py\", line 946, in __log_tmetry_keys\n",
      "    handler.log_event()\n",
      "  File \"/rhome/kamburoglu/miniconda3/envs/partslip/lib/python3.9/site-packages/iopath/common/event_logger.py\", line 97, in log_event\n",
      "    del self._evt\n",
      "AttributeError: _evt\n"
     ]
    },
    {
     "name": "stdout",
     "output_type": "stream",
     "text": [
      "----GLIP Inference Completed---\n",
      "mIOU CALCULATION GLIP, Cart:\n",
      "IoU for wheel: 0.9258\n",
      "Mean IoU: 0.9258\n",
      "Results saved to results.json\n",
      "Cart inference DINO, GLIP ==> SAM started:\n",
      "----DINO Inference Starting----\n"
     ]
    },
    {
     "name": "stderr",
     "output_type": "stream",
     "text": [
      "FutureWarning: The `device` argument is deprecated and will be removed in v5 of Transformers.\n",
      "UserWarning: None of the inputs have requires_grad=True. Gradients will be None\n"
     ]
    },
    {
     "name": "stdout",
     "output_type": "stream",
     "text": [
      "----DINO Inference Completed---\n",
      "mIOU CALCULATION DINO, Cart:\n",
      "IoU for wheel: 0.7687\n",
      "Mean IoU: 0.7687\n",
      "----GLIP Inference Starting----\n"
     ]
    },
    {
     "name": "stderr",
     "output_type": "stream",
     "text": [
      "FutureWarning: The `device` argument is deprecated and will be removed in v5 of Transformers.\n",
      "UserWarning: nn.functional.upsample_bilinear is deprecated. Use nn.functional.interpolate instead.\n",
      "An exception occurred in telemetry logging.Disabling telemetry to prevent further exceptions.\n",
      "Traceback (most recent call last):\n",
      "  File \"/rhome/kamburoglu/miniconda3/envs/partslip/lib/python3.9/site-packages/iopath/common/file_io.py\", line 946, in __log_tmetry_keys\n",
      "    handler.log_event()\n",
      "  File \"/rhome/kamburoglu/miniconda3/envs/partslip/lib/python3.9/site-packages/iopath/common/event_logger.py\", line 97, in log_event\n",
      "    del self._evt\n",
      "AttributeError: _evt\n"
     ]
    },
    {
     "name": "stdout",
     "output_type": "stream",
     "text": [
      "----GLIP Inference Completed---\n",
      "mIOU CALCULATION GLIP, Cart:\n",
      "IoU for wheel: 0.7754\n",
      "Mean IoU: 0.7754\n",
      "Results saved to results.json\n",
      "Cart inference DINO, GLIP ==> SAM started:\n",
      "----DINO Inference Starting----\n"
     ]
    },
    {
     "name": "stderr",
     "output_type": "stream",
     "text": [
      "FutureWarning: The `device` argument is deprecated and will be removed in v5 of Transformers.\n",
      "UserWarning: None of the inputs have requires_grad=True. Gradients will be None\n"
     ]
    },
    {
     "name": "stdout",
     "output_type": "stream",
     "text": [
      "----DINO Inference Completed---\n",
      "mIOU CALCULATION DINO, Cart:\n",
      "IoU for wheel: 0.9934\n",
      "Mean IoU: 0.9934\n",
      "----GLIP Inference Starting----\n"
     ]
    },
    {
     "name": "stderr",
     "output_type": "stream",
     "text": [
      "FutureWarning: The `device` argument is deprecated and will be removed in v5 of Transformers.\n",
      "UserWarning: nn.functional.upsample_bilinear is deprecated. Use nn.functional.interpolate instead.\n",
      "An exception occurred in telemetry logging.Disabling telemetry to prevent further exceptions.\n",
      "Traceback (most recent call last):\n",
      "  File \"/rhome/kamburoglu/miniconda3/envs/partslip/lib/python3.9/site-packages/iopath/common/file_io.py\", line 946, in __log_tmetry_keys\n",
      "    handler.log_event()\n",
      "  File \"/rhome/kamburoglu/miniconda3/envs/partslip/lib/python3.9/site-packages/iopath/common/event_logger.py\", line 97, in log_event\n",
      "    del self._evt\n",
      "AttributeError: _evt\n"
     ]
    },
    {
     "name": "stdout",
     "output_type": "stream",
     "text": [
      "----GLIP Inference Completed---\n",
      "mIOU CALCULATION GLIP, Cart:\n",
      "IoU for wheel: 0.9572\n",
      "Mean IoU: 0.9572\n",
      "Results saved to results.json\n",
      "Cart inference DINO, GLIP ==> SAM started:\n",
      "----DINO Inference Starting----\n"
     ]
    },
    {
     "name": "stderr",
     "output_type": "stream",
     "text": [
      "FutureWarning: The `device` argument is deprecated and will be removed in v5 of Transformers.\n",
      "UserWarning: None of the inputs have requires_grad=True. Gradients will be None\n"
     ]
    },
    {
     "name": "stdout",
     "output_type": "stream",
     "text": [
      "----DINO Inference Completed---\n",
      "mIOU CALCULATION DINO, Cart:\n",
      "IoU for wheel: 0.7546\n",
      "Mean IoU: 0.7546\n",
      "----GLIP Inference Starting----\n"
     ]
    },
    {
     "name": "stderr",
     "output_type": "stream",
     "text": [
      "FutureWarning: The `device` argument is deprecated and will be removed in v5 of Transformers.\n",
      "UserWarning: nn.functional.upsample_bilinear is deprecated. Use nn.functional.interpolate instead.\n",
      "An exception occurred in telemetry logging.Disabling telemetry to prevent further exceptions.\n",
      "Traceback (most recent call last):\n",
      "  File \"/rhome/kamburoglu/miniconda3/envs/partslip/lib/python3.9/site-packages/iopath/common/file_io.py\", line 946, in __log_tmetry_keys\n",
      "    handler.log_event()\n",
      "  File \"/rhome/kamburoglu/miniconda3/envs/partslip/lib/python3.9/site-packages/iopath/common/event_logger.py\", line 97, in log_event\n",
      "    del self._evt\n",
      "AttributeError: _evt\n"
     ]
    },
    {
     "name": "stdout",
     "output_type": "stream",
     "text": [
      "----GLIP Inference Completed---\n",
      "mIOU CALCULATION GLIP, Cart:\n",
      "IoU for wheel: 0.8701\n",
      "Mean IoU: 0.8701\n",
      "Results saved to results.json\n",
      "Cart inference DINO, GLIP ==> SAM started:\n",
      "----DINO Inference Starting----\n"
     ]
    },
    {
     "name": "stderr",
     "output_type": "stream",
     "text": [
      "FutureWarning: The `device` argument is deprecated and will be removed in v5 of Transformers.\n",
      "UserWarning: None of the inputs have requires_grad=True. Gradients will be None\n"
     ]
    },
    {
     "name": "stdout",
     "output_type": "stream",
     "text": [
      "----DINO Inference Completed---\n",
      "mIOU CALCULATION DINO, Cart:\n",
      "IoU for wheel: 0.7796\n",
      "Mean IoU: 0.7796\n",
      "----GLIP Inference Starting----\n"
     ]
    },
    {
     "name": "stderr",
     "output_type": "stream",
     "text": [
      "FutureWarning: The `device` argument is deprecated and will be removed in v5 of Transformers.\n",
      "UserWarning: nn.functional.upsample_bilinear is deprecated. Use nn.functional.interpolate instead.\n",
      "An exception occurred in telemetry logging.Disabling telemetry to prevent further exceptions.\n",
      "Traceback (most recent call last):\n",
      "  File \"/rhome/kamburoglu/miniconda3/envs/partslip/lib/python3.9/site-packages/iopath/common/file_io.py\", line 946, in __log_tmetry_keys\n",
      "    handler.log_event()\n",
      "  File \"/rhome/kamburoglu/miniconda3/envs/partslip/lib/python3.9/site-packages/iopath/common/event_logger.py\", line 97, in log_event\n",
      "    del self._evt\n",
      "AttributeError: _evt\n"
     ]
    },
    {
     "name": "stdout",
     "output_type": "stream",
     "text": [
      "----GLIP Inference Completed---\n",
      "mIOU CALCULATION GLIP, Cart:\n",
      "IoU for wheel: 0.8082\n",
      "Mean IoU: 0.8082\n",
      "Results saved to results.json\n",
      "Cart inference DINO, GLIP ==> SAM started:\n",
      "----DINO Inference Starting----\n"
     ]
    },
    {
     "name": "stderr",
     "output_type": "stream",
     "text": [
      "FutureWarning: The `device` argument is deprecated and will be removed in v5 of Transformers.\n",
      "UserWarning: None of the inputs have requires_grad=True. Gradients will be None\n"
     ]
    },
    {
     "name": "stdout",
     "output_type": "stream",
     "text": [
      "----DINO Inference Completed---\n",
      "mIOU CALCULATION DINO, Cart:\n",
      "IoU for wheel: 0.7628\n",
      "Mean IoU: 0.7628\n",
      "----GLIP Inference Starting----\n"
     ]
    },
    {
     "name": "stderr",
     "output_type": "stream",
     "text": [
      "FutureWarning: The `device` argument is deprecated and will be removed in v5 of Transformers.\n",
      "UserWarning: nn.functional.upsample_bilinear is deprecated. Use nn.functional.interpolate instead.\n",
      "An exception occurred in telemetry logging.Disabling telemetry to prevent further exceptions.\n",
      "Traceback (most recent call last):\n",
      "  File \"/rhome/kamburoglu/miniconda3/envs/partslip/lib/python3.9/site-packages/iopath/common/file_io.py\", line 946, in __log_tmetry_keys\n",
      "    handler.log_event()\n",
      "  File \"/rhome/kamburoglu/miniconda3/envs/partslip/lib/python3.9/site-packages/iopath/common/event_logger.py\", line 97, in log_event\n",
      "    del self._evt\n",
      "AttributeError: _evt\n"
     ]
    },
    {
     "name": "stdout",
     "output_type": "stream",
     "text": [
      "----GLIP Inference Completed---\n",
      "mIOU CALCULATION GLIP, Cart:\n",
      "IoU for wheel: 0.7585\n",
      "Mean IoU: 0.7585\n",
      "Results saved to results.json\n",
      "Chair inference DINO, GLIP ==> SAM started:\n",
      "----DINO Inference Starting----\n"
     ]
    },
    {
     "name": "stderr",
     "output_type": "stream",
     "text": [
      "FutureWarning: The `device` argument is deprecated and will be removed in v5 of Transformers.\n",
      "UserWarning: None of the inputs have requires_grad=True. Gradients will be None\n"
     ]
    },
    {
     "name": "stdout",
     "output_type": "stream",
     "text": [
      "----DINO Inference Completed---\n",
      "mIOU CALCULATION DINO, Chair:\n",
      "IoU for arm: 0.3777\n",
      "IoU for back: 0.8007\n",
      "IoU for leg: 0.8252\n",
      "IoU for seat: 0.6838\n",
      "IoU for wheel: 0.8099\n",
      "Mean IoU: 0.6994\n",
      "----GLIP Inference Starting----\n"
     ]
    },
    {
     "name": "stderr",
     "output_type": "stream",
     "text": [
      "FutureWarning: The `device` argument is deprecated and will be removed in v5 of Transformers.\n",
      "UserWarning: nn.functional.upsample_bilinear is deprecated. Use nn.functional.interpolate instead.\n",
      "An exception occurred in telemetry logging.Disabling telemetry to prevent further exceptions.\n",
      "Traceback (most recent call last):\n",
      "  File \"/rhome/kamburoglu/miniconda3/envs/partslip/lib/python3.9/site-packages/iopath/common/file_io.py\", line 946, in __log_tmetry_keys\n",
      "    handler.log_event()\n",
      "  File \"/rhome/kamburoglu/miniconda3/envs/partslip/lib/python3.9/site-packages/iopath/common/event_logger.py\", line 97, in log_event\n",
      "    del self._evt\n",
      "AttributeError: _evt\n"
     ]
    },
    {
     "name": "stdout",
     "output_type": "stream",
     "text": [
      "----GLIP Inference Completed---\n",
      "mIOU CALCULATION GLIP, Chair:\n",
      "IoU for arm: 0.2051\n",
      "IoU for back: 0.8940\n",
      "IoU for leg: 0.8936\n",
      "IoU for seat: 0.5563\n",
      "IoU for wheel: 0.9264\n",
      "Mean IoU: 0.6951\n",
      "Results saved to results.json\n",
      "Chair inference DINO, GLIP ==> SAM started:\n",
      "----DINO Inference Starting----\n"
     ]
    },
    {
     "name": "stderr",
     "output_type": "stream",
     "text": [
      "FutureWarning: The `device` argument is deprecated and will be removed in v5 of Transformers.\n",
      "UserWarning: None of the inputs have requires_grad=True. Gradients will be None\n"
     ]
    },
    {
     "name": "stdout",
     "output_type": "stream",
     "text": [
      "----DINO Inference Completed---\n",
      "mIOU CALCULATION DINO, Chair:\n",
      "IoU for arm: 0.6691\n",
      "IoU for back: 0.7257\n",
      "IoU for leg: 0.5892\n",
      "IoU for seat: 0.7482\n",
      "IoU for wheel: 0.4239\n",
      "Mean IoU: 0.6312\n",
      "----GLIP Inference Starting----\n"
     ]
    },
    {
     "name": "stderr",
     "output_type": "stream",
     "text": [
      "FutureWarning: The `device` argument is deprecated and will be removed in v5 of Transformers.\n",
      "UserWarning: nn.functional.upsample_bilinear is deprecated. Use nn.functional.interpolate instead.\n",
      "An exception occurred in telemetry logging.Disabling telemetry to prevent further exceptions.\n",
      "Traceback (most recent call last):\n",
      "  File \"/rhome/kamburoglu/miniconda3/envs/partslip/lib/python3.9/site-packages/iopath/common/file_io.py\", line 946, in __log_tmetry_keys\n",
      "    handler.log_event()\n",
      "  File \"/rhome/kamburoglu/miniconda3/envs/partslip/lib/python3.9/site-packages/iopath/common/event_logger.py\", line 97, in log_event\n",
      "    del self._evt\n",
      "AttributeError: _evt\n"
     ]
    },
    {
     "name": "stdout",
     "output_type": "stream",
     "text": [
      "----GLIP Inference Completed---\n",
      "mIOU CALCULATION GLIP, Chair:\n",
      "IoU for arm: 0.7162\n",
      "IoU for back: 0.8619\n",
      "IoU for leg: 0.3584\n",
      "IoU for seat: 0.5930\n",
      "IoU for wheel: 0.9747\n",
      "Mean IoU: 0.7008\n",
      "Results saved to results.json\n",
      "Chair inference DINO, GLIP ==> SAM started:\n",
      "----DINO Inference Starting----\n"
     ]
    },
    {
     "name": "stderr",
     "output_type": "stream",
     "text": [
      "FutureWarning: The `device` argument is deprecated and will be removed in v5 of Transformers.\n",
      "UserWarning: None of the inputs have requires_grad=True. Gradients will be None\n"
     ]
    },
    {
     "name": "stdout",
     "output_type": "stream",
     "text": [
      "----DINO Inference Completed---\n",
      "mIOU CALCULATION DINO, Chair:\n",
      "arm not present in ground truth, skipping IoU calculation.\n",
      "IoU for back: 0.8622\n",
      "IoU for leg: 0.6653\n",
      "IoU for seat: 0.9058\n",
      "IoU for wheel: 0.6341\n",
      "Mean IoU: 0.7668\n",
      "----GLIP Inference Starting----\n"
     ]
    },
    {
     "name": "stderr",
     "output_type": "stream",
     "text": [
      "FutureWarning: The `device` argument is deprecated and will be removed in v5 of Transformers.\n",
      "UserWarning: nn.functional.upsample_bilinear is deprecated. Use nn.functional.interpolate instead.\n",
      "An exception occurred in telemetry logging.Disabling telemetry to prevent further exceptions.\n",
      "Traceback (most recent call last):\n",
      "  File \"/rhome/kamburoglu/miniconda3/envs/partslip/lib/python3.9/site-packages/iopath/common/file_io.py\", line 946, in __log_tmetry_keys\n",
      "    handler.log_event()\n",
      "  File \"/rhome/kamburoglu/miniconda3/envs/partslip/lib/python3.9/site-packages/iopath/common/event_logger.py\", line 97, in log_event\n",
      "    del self._evt\n",
      "AttributeError: _evt\n"
     ]
    },
    {
     "name": "stdout",
     "output_type": "stream",
     "text": [
      "----GLIP Inference Completed---\n",
      "mIOU CALCULATION GLIP, Chair:\n",
      "chair arm not present in ground truth, skipping IoU calculation.\n",
      "IoU for back: 0.8597\n",
      "IoU for leg: 0.6895\n",
      "IoU for seat: 0.8950\n",
      "IoU for wheel: 0.9101\n",
      "Mean IoU: 0.8386\n",
      "Results saved to results.json\n",
      "Chair inference DINO, GLIP ==> SAM started:\n",
      "----DINO Inference Starting----\n"
     ]
    },
    {
     "name": "stderr",
     "output_type": "stream",
     "text": [
      "FutureWarning: The `device` argument is deprecated and will be removed in v5 of Transformers.\n",
      "UserWarning: None of the inputs have requires_grad=True. Gradients will be None\n"
     ]
    },
    {
     "name": "stdout",
     "output_type": "stream",
     "text": [
      "----DINO Inference Completed---\n",
      "mIOU CALCULATION DINO, Chair:\n",
      "arm not present in ground truth, skipping IoU calculation.\n",
      "IoU for back: 0.9965\n",
      "IoU for leg: 0.7335\n",
      "IoU for seat: 0.9069\n",
      "IoU for wheel: 0.8937\n",
      "Mean IoU: 0.8826\n",
      "----GLIP Inference Starting----\n"
     ]
    },
    {
     "name": "stderr",
     "output_type": "stream",
     "text": [
      "FutureWarning: The `device` argument is deprecated and will be removed in v5 of Transformers.\n",
      "UserWarning: nn.functional.upsample_bilinear is deprecated. Use nn.functional.interpolate instead.\n",
      "An exception occurred in telemetry logging.Disabling telemetry to prevent further exceptions.\n",
      "Traceback (most recent call last):\n",
      "  File \"/rhome/kamburoglu/miniconda3/envs/partslip/lib/python3.9/site-packages/iopath/common/file_io.py\", line 946, in __log_tmetry_keys\n",
      "    handler.log_event()\n",
      "  File \"/rhome/kamburoglu/miniconda3/envs/partslip/lib/python3.9/site-packages/iopath/common/event_logger.py\", line 97, in log_event\n",
      "    del self._evt\n",
      "AttributeError: _evt\n"
     ]
    },
    {
     "name": "stdout",
     "output_type": "stream",
     "text": [
      "----GLIP Inference Completed---\n",
      "mIOU CALCULATION GLIP, Chair:\n",
      "chair arm not present in ground truth, skipping IoU calculation.\n",
      "IoU for back: 0.9747\n",
      "IoU for leg: 0.6853\n",
      "IoU for seat: 0.8792\n",
      "IoU for wheel: 0.9738\n",
      "Mean IoU: 0.8783\n",
      "Results saved to results.json\n",
      "Chair inference DINO, GLIP ==> SAM started:\n",
      "----DINO Inference Starting----\n"
     ]
    },
    {
     "name": "stderr",
     "output_type": "stream",
     "text": [
      "FutureWarning: The `device` argument is deprecated and will be removed in v5 of Transformers.\n",
      "UserWarning: None of the inputs have requires_grad=True. Gradients will be None\n"
     ]
    },
    {
     "name": "stdout",
     "output_type": "stream",
     "text": [
      "----DINO Inference Completed---\n",
      "mIOU CALCULATION DINO, Chair:\n",
      "IoU for arm: 0.3692\n",
      "IoU for back: 0.5335\n",
      "IoU for leg: 0.7301\n",
      "IoU for seat: 0.4853\n",
      "IoU for wheel: 0.8849\n",
      "Mean IoU: 0.6006\n",
      "----GLIP Inference Starting----\n"
     ]
    },
    {
     "name": "stderr",
     "output_type": "stream",
     "text": [
      "FutureWarning: The `device` argument is deprecated and will be removed in v5 of Transformers.\n",
      "UserWarning: nn.functional.upsample_bilinear is deprecated. Use nn.functional.interpolate instead.\n",
      "An exception occurred in telemetry logging.Disabling telemetry to prevent further exceptions.\n",
      "Traceback (most recent call last):\n",
      "  File \"/rhome/kamburoglu/miniconda3/envs/partslip/lib/python3.9/site-packages/iopath/common/file_io.py\", line 946, in __log_tmetry_keys\n",
      "    handler.log_event()\n",
      "  File \"/rhome/kamburoglu/miniconda3/envs/partslip/lib/python3.9/site-packages/iopath/common/event_logger.py\", line 97, in log_event\n",
      "    del self._evt\n",
      "AttributeError: _evt\n"
     ]
    },
    {
     "name": "stdout",
     "output_type": "stream",
     "text": [
      "----GLIP Inference Completed---\n",
      "mIOU CALCULATION GLIP, Chair:\n",
      "IoU for arm: 0.6351\n",
      "IoU for back: 0.5301\n",
      "IoU for leg: 0.9059\n",
      "IoU for seat: 0.4849\n",
      "IoU for wheel: 0.9242\n",
      "Mean IoU: 0.6960\n",
      "Results saved to results.json\n",
      "Chair inference DINO, GLIP ==> SAM started:\n",
      "----DINO Inference Starting----\n"
     ]
    },
    {
     "name": "stderr",
     "output_type": "stream",
     "text": [
      "FutureWarning: The `device` argument is deprecated and will be removed in v5 of Transformers.\n",
      "UserWarning: None of the inputs have requires_grad=True. Gradients will be None\n"
     ]
    },
    {
     "name": "stdout",
     "output_type": "stream",
     "text": [
      "----DINO Inference Completed---\n",
      "mIOU CALCULATION DINO, Chair:\n",
      "IoU for arm: 0.8337\n",
      "IoU for back: 0.7125\n",
      "IoU for leg: 0.7131\n",
      "IoU for seat: 0.7728\n",
      "IoU for wheel: 0.5746\n",
      "Mean IoU: 0.7213\n",
      "----GLIP Inference Starting----\n"
     ]
    },
    {
     "name": "stderr",
     "output_type": "stream",
     "text": [
      "FutureWarning: The `device` argument is deprecated and will be removed in v5 of Transformers.\n",
      "UserWarning: nn.functional.upsample_bilinear is deprecated. Use nn.functional.interpolate instead.\n",
      "An exception occurred in telemetry logging.Disabling telemetry to prevent further exceptions.\n",
      "Traceback (most recent call last):\n",
      "  File \"/rhome/kamburoglu/miniconda3/envs/partslip/lib/python3.9/site-packages/iopath/common/file_io.py\", line 946, in __log_tmetry_keys\n",
      "    handler.log_event()\n",
      "  File \"/rhome/kamburoglu/miniconda3/envs/partslip/lib/python3.9/site-packages/iopath/common/event_logger.py\", line 97, in log_event\n",
      "    del self._evt\n",
      "AttributeError: _evt\n"
     ]
    },
    {
     "name": "stdout",
     "output_type": "stream",
     "text": [
      "----GLIP Inference Completed---\n",
      "mIOU CALCULATION GLIP, Chair:\n",
      "IoU for arm: 0.7480\n",
      "IoU for back: 0.9717\n",
      "IoU for leg: 0.8551\n",
      "IoU for seat: 0.8618\n",
      "IoU for wheel: 0.7280\n",
      "Mean IoU: 0.8329\n",
      "Results saved to results.json\n",
      "Chair inference DINO, GLIP ==> SAM started:\n",
      "----DINO Inference Starting----\n"
     ]
    },
    {
     "name": "stderr",
     "output_type": "stream",
     "text": [
      "FutureWarning: The `device` argument is deprecated and will be removed in v5 of Transformers.\n",
      "UserWarning: None of the inputs have requires_grad=True. Gradients will be None\n"
     ]
    },
    {
     "name": "stdout",
     "output_type": "stream",
     "text": [
      "----DINO Inference Completed---\n",
      "mIOU CALCULATION DINO, Chair:\n",
      "IoU for arm: 0.6444\n",
      "IoU for back: 0.9618\n",
      "IoU for leg: 0.8884\n",
      "IoU for seat: 0.7702\n",
      "IoU for wheel: 0.9502\n",
      "Mean IoU: 0.8430\n",
      "----GLIP Inference Starting----\n"
     ]
    },
    {
     "name": "stderr",
     "output_type": "stream",
     "text": [
      "FutureWarning: The `device` argument is deprecated and will be removed in v5 of Transformers.\n",
      "UserWarning: nn.functional.upsample_bilinear is deprecated. Use nn.functional.interpolate instead.\n",
      "An exception occurred in telemetry logging.Disabling telemetry to prevent further exceptions.\n",
      "Traceback (most recent call last):\n",
      "  File \"/rhome/kamburoglu/miniconda3/envs/partslip/lib/python3.9/site-packages/iopath/common/file_io.py\", line 946, in __log_tmetry_keys\n",
      "    handler.log_event()\n",
      "  File \"/rhome/kamburoglu/miniconda3/envs/partslip/lib/python3.9/site-packages/iopath/common/event_logger.py\", line 97, in log_event\n",
      "    del self._evt\n",
      "AttributeError: _evt\n"
     ]
    },
    {
     "name": "stdout",
     "output_type": "stream",
     "text": [
      "----GLIP Inference Completed---\n",
      "mIOU CALCULATION GLIP, Chair:\n",
      "IoU for arm: 0.4031\n",
      "IoU for back: 0.9354\n",
      "IoU for leg: 0.9135\n",
      "IoU for seat: 0.7088\n",
      "IoU for wheel: 0.7801\n",
      "Mean IoU: 0.7482\n",
      "Results saved to results.json\n",
      "Chair inference DINO, GLIP ==> SAM started:\n",
      "----DINO Inference Starting----\n"
     ]
    },
    {
     "name": "stderr",
     "output_type": "stream",
     "text": [
      "FutureWarning: The `device` argument is deprecated and will be removed in v5 of Transformers.\n",
      "UserWarning: None of the inputs have requires_grad=True. Gradients will be None\n"
     ]
    },
    {
     "name": "stdout",
     "output_type": "stream",
     "text": [
      "----DINO Inference Completed---\n",
      "mIOU CALCULATION DINO, Chair:\n",
      "IoU for arm: 0.7944\n",
      "IoU for back: 0.6089\n",
      "IoU for leg: 0.6380\n",
      "IoU for seat: 0.5954\n",
      "IoU for wheel: 0.8889\n",
      "Mean IoU: 0.7051\n",
      "----GLIP Inference Starting----\n"
     ]
    },
    {
     "name": "stderr",
     "output_type": "stream",
     "text": [
      "FutureWarning: The `device` argument is deprecated and will be removed in v5 of Transformers.\n",
      "UserWarning: nn.functional.upsample_bilinear is deprecated. Use nn.functional.interpolate instead.\n",
      "An exception occurred in telemetry logging.Disabling telemetry to prevent further exceptions.\n",
      "Traceback (most recent call last):\n",
      "  File \"/rhome/kamburoglu/miniconda3/envs/partslip/lib/python3.9/site-packages/iopath/common/file_io.py\", line 946, in __log_tmetry_keys\n",
      "    handler.log_event()\n",
      "  File \"/rhome/kamburoglu/miniconda3/envs/partslip/lib/python3.9/site-packages/iopath/common/event_logger.py\", line 97, in log_event\n",
      "    del self._evt\n",
      "AttributeError: _evt\n"
     ]
    },
    {
     "name": "stdout",
     "output_type": "stream",
     "text": [
      "----GLIP Inference Completed---\n",
      "mIOU CALCULATION GLIP, Chair:\n",
      "IoU for arm: 0.6232\n",
      "IoU for back: 0.6000\n",
      "IoU for leg: 0.6223\n",
      "IoU for seat: 0.5642\n",
      "IoU for wheel: 0.9173\n",
      "Mean IoU: 0.6654\n",
      "Results saved to results.json\n",
      "Chair inference DINO, GLIP ==> SAM started:\n",
      "----DINO Inference Starting----\n"
     ]
    },
    {
     "name": "stderr",
     "output_type": "stream",
     "text": [
      "FutureWarning: The `device` argument is deprecated and will be removed in v5 of Transformers.\n",
      "UserWarning: None of the inputs have requires_grad=True. Gradients will be None\n"
     ]
    },
    {
     "name": "stdout",
     "output_type": "stream",
     "text": [
      "----DINO Inference Completed---\n",
      "mIOU CALCULATION DINO, Chair:\n",
      "IoU for arm: 0.1763\n",
      "IoU for back: 0.8613\n",
      "IoU for leg: 0.6565\n",
      "IoU for seat: 0.5435\n",
      "IoU for wheel: 0.6395\n",
      "Mean IoU: 0.5754\n",
      "----GLIP Inference Starting----\n"
     ]
    },
    {
     "name": "stderr",
     "output_type": "stream",
     "text": [
      "FutureWarning: The `device` argument is deprecated and will be removed in v5 of Transformers.\n",
      "UserWarning: nn.functional.upsample_bilinear is deprecated. Use nn.functional.interpolate instead.\n",
      "An exception occurred in telemetry logging.Disabling telemetry to prevent further exceptions.\n",
      "Traceback (most recent call last):\n",
      "  File \"/rhome/kamburoglu/miniconda3/envs/partslip/lib/python3.9/site-packages/iopath/common/file_io.py\", line 946, in __log_tmetry_keys\n",
      "    handler.log_event()\n",
      "  File \"/rhome/kamburoglu/miniconda3/envs/partslip/lib/python3.9/site-packages/iopath/common/event_logger.py\", line 97, in log_event\n",
      "    del self._evt\n",
      "AttributeError: _evt\n"
     ]
    },
    {
     "name": "stdout",
     "output_type": "stream",
     "text": [
      "----GLIP Inference Completed---\n",
      "mIOU CALCULATION GLIP, Chair:\n",
      "IoU for arm: 0.1377\n",
      "IoU for back: 0.6478\n",
      "IoU for leg: 0.7105\n",
      "IoU for seat: 0.5537\n",
      "IoU for wheel: 0.7660\n",
      "Mean IoU: 0.5631\n",
      "Results saved to results.json\n",
      "Chair inference DINO, GLIP ==> SAM started:\n",
      "----DINO Inference Starting----\n"
     ]
    },
    {
     "name": "stderr",
     "output_type": "stream",
     "text": [
      "FutureWarning: The `device` argument is deprecated and will be removed in v5 of Transformers.\n",
      "UserWarning: None of the inputs have requires_grad=True. Gradients will be None\n"
     ]
    },
    {
     "name": "stdout",
     "output_type": "stream",
     "text": [
      "----DINO Inference Completed---\n",
      "mIOU CALCULATION DINO, Chair:\n",
      "IoU for arm: 0.5790\n",
      "IoU for back: 0.5460\n",
      "leg not present in ground truth, skipping IoU calculation.\n",
      "IoU for seat: 0.7050\n",
      "IoU for wheel: 0.7199\n",
      "Mean IoU: 0.6375\n",
      "----GLIP Inference Starting----\n"
     ]
    },
    {
     "name": "stderr",
     "output_type": "stream",
     "text": [
      "FutureWarning: The `device` argument is deprecated and will be removed in v5 of Transformers.\n",
      "UserWarning: nn.functional.upsample_bilinear is deprecated. Use nn.functional.interpolate instead.\n",
      "An exception occurred in telemetry logging.Disabling telemetry to prevent further exceptions.\n",
      "Traceback (most recent call last):\n",
      "  File \"/rhome/kamburoglu/miniconda3/envs/partslip/lib/python3.9/site-packages/iopath/common/file_io.py\", line 946, in __log_tmetry_keys\n",
      "    handler.log_event()\n",
      "  File \"/rhome/kamburoglu/miniconda3/envs/partslip/lib/python3.9/site-packages/iopath/common/event_logger.py\", line 97, in log_event\n",
      "    del self._evt\n",
      "AttributeError: _evt\n"
     ]
    },
    {
     "name": "stdout",
     "output_type": "stream",
     "text": [
      "----GLIP Inference Completed---\n",
      "mIOU CALCULATION GLIP, Chair:\n",
      "IoU for arm: 0.5983\n",
      "IoU for back: 0.8256\n",
      "chair leg not present in ground truth, skipping IoU calculation.\n",
      "IoU for seat: 0.7815\n",
      "IoU for wheel: 0.9203\n",
      "Mean IoU: 0.7814\n",
      "Results saved to results.json\n",
      "Chair inference DINO, GLIP ==> SAM started:\n",
      "----DINO Inference Starting----\n"
     ]
    },
    {
     "name": "stderr",
     "output_type": "stream",
     "text": [
      "FutureWarning: The `device` argument is deprecated and will be removed in v5 of Transformers.\n",
      "UserWarning: None of the inputs have requires_grad=True. Gradients will be None\n"
     ]
    },
    {
     "name": "stdout",
     "output_type": "stream",
     "text": [
      "----DINO Inference Completed---\n",
      "mIOU CALCULATION DINO, Chair:\n",
      "IoU for arm: 0.5199\n",
      "IoU for back: 0.8243\n",
      "IoU for leg: 0.7231\n",
      "IoU for seat: 0.7511\n",
      "IoU for wheel: 0.5506\n",
      "Mean IoU: 0.6738\n",
      "----GLIP Inference Starting----\n"
     ]
    },
    {
     "name": "stderr",
     "output_type": "stream",
     "text": [
      "FutureWarning: The `device` argument is deprecated and will be removed in v5 of Transformers.\n",
      "UserWarning: nn.functional.upsample_bilinear is deprecated. Use nn.functional.interpolate instead.\n",
      "An exception occurred in telemetry logging.Disabling telemetry to prevent further exceptions.\n",
      "Traceback (most recent call last):\n",
      "  File \"/rhome/kamburoglu/miniconda3/envs/partslip/lib/python3.9/site-packages/iopath/common/file_io.py\", line 946, in __log_tmetry_keys\n",
      "    handler.log_event()\n",
      "  File \"/rhome/kamburoglu/miniconda3/envs/partslip/lib/python3.9/site-packages/iopath/common/event_logger.py\", line 97, in log_event\n",
      "    del self._evt\n",
      "AttributeError: _evt\n"
     ]
    },
    {
     "name": "stdout",
     "output_type": "stream",
     "text": [
      "----GLIP Inference Completed---\n",
      "mIOU CALCULATION GLIP, Chair:\n",
      "IoU for arm: 0.6337\n",
      "IoU for back: 0.9306\n",
      "IoU for leg: 0.7867\n",
      "IoU for seat: 0.7511\n",
      "IoU for wheel: 0.8781\n",
      "Mean IoU: 0.7960\n",
      "Results saved to results.json\n",
      "Chair inference DINO, GLIP ==> SAM started:\n",
      "----DINO Inference Starting----\n"
     ]
    },
    {
     "name": "stderr",
     "output_type": "stream",
     "text": [
      "FutureWarning: The `device` argument is deprecated and will be removed in v5 of Transformers.\n",
      "UserWarning: None of the inputs have requires_grad=True. Gradients will be None\n"
     ]
    },
    {
     "name": "stdout",
     "output_type": "stream",
     "text": [
      "----DINO Inference Completed---\n",
      "mIOU CALCULATION DINO, Chair:\n",
      "arm not present in ground truth, skipping IoU calculation.\n",
      "IoU for back: 0.9818\n",
      "IoU for leg: 0.7116\n",
      "IoU for seat: 0.8111\n",
      "IoU for wheel: 0.4859\n",
      "Mean IoU: 0.7476\n",
      "----GLIP Inference Starting----\n"
     ]
    },
    {
     "name": "stderr",
     "output_type": "stream",
     "text": [
      "FutureWarning: The `device` argument is deprecated and will be removed in v5 of Transformers.\n",
      "UserWarning: nn.functional.upsample_bilinear is deprecated. Use nn.functional.interpolate instead.\n",
      "An exception occurred in telemetry logging.Disabling telemetry to prevent further exceptions.\n",
      "Traceback (most recent call last):\n",
      "  File \"/rhome/kamburoglu/miniconda3/envs/partslip/lib/python3.9/site-packages/iopath/common/file_io.py\", line 946, in __log_tmetry_keys\n",
      "    handler.log_event()\n",
      "  File \"/rhome/kamburoglu/miniconda3/envs/partslip/lib/python3.9/site-packages/iopath/common/event_logger.py\", line 97, in log_event\n",
      "    del self._evt\n",
      "AttributeError: _evt\n"
     ]
    },
    {
     "name": "stdout",
     "output_type": "stream",
     "text": [
      "----GLIP Inference Completed---\n",
      "mIOU CALCULATION GLIP, Chair:\n",
      "chair arm not present in ground truth, skipping IoU calculation.\n",
      "IoU for back: 0.9042\n",
      "IoU for leg: 0.8774\n",
      "IoU for seat: 0.7779\n",
      "IoU for wheel: 0.7854\n",
      "Mean IoU: 0.8362\n",
      "Results saved to results.json\n",
      "Chair inference DINO, GLIP ==> SAM started:\n",
      "----DINO Inference Starting----\n"
     ]
    },
    {
     "name": "stderr",
     "output_type": "stream",
     "text": [
      "FutureWarning: The `device` argument is deprecated and will be removed in v5 of Transformers.\n",
      "UserWarning: None of the inputs have requires_grad=True. Gradients will be None\n"
     ]
    },
    {
     "name": "stdout",
     "output_type": "stream",
     "text": [
      "----DINO Inference Completed---\n",
      "mIOU CALCULATION DINO, Chair:\n",
      "IoU for arm: 0.4679\n",
      "IoU for back: 0.9501\n",
      "IoU for leg: 0.7051\n",
      "IoU for seat: 0.6669\n",
      "IoU for wheel: 0.8216\n",
      "Mean IoU: 0.7223\n",
      "----GLIP Inference Starting----\n"
     ]
    },
    {
     "name": "stderr",
     "output_type": "stream",
     "text": [
      "FutureWarning: The `device` argument is deprecated and will be removed in v5 of Transformers.\n",
      "UserWarning: nn.functional.upsample_bilinear is deprecated. Use nn.functional.interpolate instead.\n",
      "An exception occurred in telemetry logging.Disabling telemetry to prevent further exceptions.\n",
      "Traceback (most recent call last):\n",
      "  File \"/rhome/kamburoglu/miniconda3/envs/partslip/lib/python3.9/site-packages/iopath/common/file_io.py\", line 946, in __log_tmetry_keys\n",
      "    handler.log_event()\n",
      "  File \"/rhome/kamburoglu/miniconda3/envs/partslip/lib/python3.9/site-packages/iopath/common/event_logger.py\", line 97, in log_event\n",
      "    del self._evt\n",
      "AttributeError: _evt\n"
     ]
    },
    {
     "name": "stdout",
     "output_type": "stream",
     "text": [
      "----GLIP Inference Completed---\n",
      "mIOU CALCULATION GLIP, Chair:\n",
      "IoU for arm: 0.4384\n",
      "IoU for back: 0.9497\n",
      "IoU for leg: 0.9265\n",
      "IoU for seat: 0.5636\n",
      "IoU for wheel: 0.9799\n",
      "Mean IoU: 0.7716\n",
      "Results saved to results.json\n",
      "Chair inference DINO, GLIP ==> SAM started:\n",
      "----DINO Inference Starting----\n"
     ]
    },
    {
     "name": "stderr",
     "output_type": "stream",
     "text": [
      "FutureWarning: The `device` argument is deprecated and will be removed in v5 of Transformers.\n",
      "UserWarning: None of the inputs have requires_grad=True. Gradients will be None\n"
     ]
    },
    {
     "name": "stdout",
     "output_type": "stream",
     "text": [
      "----DINO Inference Completed---\n",
      "mIOU CALCULATION DINO, Chair:\n",
      "IoU for arm: 0.7641\n",
      "IoU for back: 0.9548\n",
      "IoU for leg: 0.7895\n",
      "IoU for seat: 0.6515\n",
      "IoU for wheel: 0.9751\n",
      "Mean IoU: 0.8270\n",
      "----GLIP Inference Starting----\n"
     ]
    },
    {
     "name": "stderr",
     "output_type": "stream",
     "text": [
      "FutureWarning: The `device` argument is deprecated and will be removed in v5 of Transformers.\n",
      "UserWarning: nn.functional.upsample_bilinear is deprecated. Use nn.functional.interpolate instead.\n",
      "An exception occurred in telemetry logging.Disabling telemetry to prevent further exceptions.\n",
      "Traceback (most recent call last):\n",
      "  File \"/rhome/kamburoglu/miniconda3/envs/partslip/lib/python3.9/site-packages/iopath/common/file_io.py\", line 946, in __log_tmetry_keys\n",
      "    handler.log_event()\n",
      "  File \"/rhome/kamburoglu/miniconda3/envs/partslip/lib/python3.9/site-packages/iopath/common/event_logger.py\", line 97, in log_event\n",
      "    del self._evt\n",
      "AttributeError: _evt\n"
     ]
    },
    {
     "name": "stdout",
     "output_type": "stream",
     "text": [
      "----GLIP Inference Completed---\n",
      "mIOU CALCULATION GLIP, Chair:\n",
      "IoU for arm: 0.3172\n",
      "IoU for back: 0.9617\n",
      "IoU for leg: 0.8213\n",
      "IoU for seat: 0.8443\n",
      "IoU for wheel: 0.9598\n",
      "Mean IoU: 0.7809\n",
      "Results saved to results.json\n",
      "Chair inference DINO, GLIP ==> SAM started:\n",
      "----DINO Inference Starting----\n"
     ]
    },
    {
     "name": "stderr",
     "output_type": "stream",
     "text": [
      "FutureWarning: The `device` argument is deprecated and will be removed in v5 of Transformers.\n",
      "UserWarning: None of the inputs have requires_grad=True. Gradients will be None\n"
     ]
    },
    {
     "name": "stdout",
     "output_type": "stream",
     "text": [
      "----DINO Inference Completed---\n",
      "mIOU CALCULATION DINO, Chair:\n",
      "IoU for arm: 0.2679\n",
      "IoU for back: 0.7671\n",
      "IoU for leg: 0.6919\n",
      "IoU for seat: 0.5417\n",
      "IoU for wheel: 0.3419\n",
      "Mean IoU: 0.5221\n",
      "----GLIP Inference Starting----\n"
     ]
    },
    {
     "name": "stderr",
     "output_type": "stream",
     "text": [
      "FutureWarning: The `device` argument is deprecated and will be removed in v5 of Transformers.\n",
      "UserWarning: nn.functional.upsample_bilinear is deprecated. Use nn.functional.interpolate instead.\n",
      "An exception occurred in telemetry logging.Disabling telemetry to prevent further exceptions.\n",
      "Traceback (most recent call last):\n",
      "  File \"/rhome/kamburoglu/miniconda3/envs/partslip/lib/python3.9/site-packages/iopath/common/file_io.py\", line 946, in __log_tmetry_keys\n",
      "    handler.log_event()\n",
      "  File \"/rhome/kamburoglu/miniconda3/envs/partslip/lib/python3.9/site-packages/iopath/common/event_logger.py\", line 97, in log_event\n",
      "    del self._evt\n",
      "AttributeError: _evt\n"
     ]
    },
    {
     "name": "stdout",
     "output_type": "stream",
     "text": [
      "----GLIP Inference Completed---\n",
      "mIOU CALCULATION GLIP, Chair:\n",
      "IoU for arm: 0.6533\n",
      "IoU for back: 0.9967\n",
      "IoU for leg: 0.5089\n",
      "IoU for seat: 0.6501\n",
      "IoU for wheel: 0.8480\n",
      "Mean IoU: 0.7314\n",
      "Results saved to results.json\n",
      "Chair inference DINO, GLIP ==> SAM started:\n",
      "----DINO Inference Starting----\n"
     ]
    },
    {
     "name": "stderr",
     "output_type": "stream",
     "text": [
      "FutureWarning: The `device` argument is deprecated and will be removed in v5 of Transformers.\n",
      "UserWarning: None of the inputs have requires_grad=True. Gradients will be None\n"
     ]
    },
    {
     "name": "stdout",
     "output_type": "stream",
     "text": [
      "----DINO Inference Completed---\n",
      "mIOU CALCULATION DINO, Chair:\n",
      "IoU for arm: 0.4297\n",
      "IoU for back: 0.8523\n",
      "IoU for leg: 0.7225\n",
      "IoU for seat: 0.6344\n",
      "IoU for wheel: 0.5722\n",
      "Mean IoU: 0.6422\n",
      "----GLIP Inference Starting----\n"
     ]
    },
    {
     "name": "stderr",
     "output_type": "stream",
     "text": [
      "FutureWarning: The `device` argument is deprecated and will be removed in v5 of Transformers.\n",
      "UserWarning: nn.functional.upsample_bilinear is deprecated. Use nn.functional.interpolate instead.\n",
      "An exception occurred in telemetry logging.Disabling telemetry to prevent further exceptions.\n",
      "Traceback (most recent call last):\n",
      "  File \"/rhome/kamburoglu/miniconda3/envs/partslip/lib/python3.9/site-packages/iopath/common/file_io.py\", line 946, in __log_tmetry_keys\n",
      "    handler.log_event()\n",
      "  File \"/rhome/kamburoglu/miniconda3/envs/partslip/lib/python3.9/site-packages/iopath/common/event_logger.py\", line 97, in log_event\n",
      "    del self._evt\n",
      "AttributeError: _evt\n"
     ]
    },
    {
     "name": "stdout",
     "output_type": "stream",
     "text": [
      "----GLIP Inference Completed---\n",
      "mIOU CALCULATION GLIP, Chair:\n",
      "IoU for arm: 0.6038\n",
      "IoU for back: 0.9795\n",
      "IoU for leg: 0.8187\n",
      "IoU for seat: 0.7861\n",
      "IoU for wheel: 0.8872\n",
      "Mean IoU: 0.8151\n",
      "Results saved to results.json\n",
      "Chair inference DINO, GLIP ==> SAM started:\n",
      "----DINO Inference Starting----\n"
     ]
    },
    {
     "name": "stderr",
     "output_type": "stream",
     "text": [
      "FutureWarning: The `device` argument is deprecated and will be removed in v5 of Transformers.\n",
      "UserWarning: None of the inputs have requires_grad=True. Gradients will be None\n"
     ]
    },
    {
     "name": "stdout",
     "output_type": "stream",
     "text": [
      "----DINO Inference Completed---\n",
      "mIOU CALCULATION DINO, Chair:\n",
      "IoU for arm: 0.8649\n",
      "IoU for back: 0.9403\n",
      "IoU for leg: 0.7572\n",
      "IoU for seat: 0.6361\n",
      "IoU for wheel: 0.6824\n",
      "Mean IoU: 0.7762\n",
      "----GLIP Inference Starting----\n"
     ]
    },
    {
     "name": "stderr",
     "output_type": "stream",
     "text": [
      "FutureWarning: The `device` argument is deprecated and will be removed in v5 of Transformers.\n",
      "UserWarning: nn.functional.upsample_bilinear is deprecated. Use nn.functional.interpolate instead.\n",
      "An exception occurred in telemetry logging.Disabling telemetry to prevent further exceptions.\n",
      "Traceback (most recent call last):\n",
      "  File \"/rhome/kamburoglu/miniconda3/envs/partslip/lib/python3.9/site-packages/iopath/common/file_io.py\", line 946, in __log_tmetry_keys\n",
      "    handler.log_event()\n",
      "  File \"/rhome/kamburoglu/miniconda3/envs/partslip/lib/python3.9/site-packages/iopath/common/event_logger.py\", line 97, in log_event\n",
      "    del self._evt\n",
      "AttributeError: _evt\n"
     ]
    },
    {
     "name": "stdout",
     "output_type": "stream",
     "text": [
      "----GLIP Inference Completed---\n",
      "mIOU CALCULATION GLIP, Chair:\n",
      "IoU for arm: 0.6133\n",
      "IoU for back: 0.9406\n",
      "IoU for leg: 0.8548\n",
      "IoU for seat: 0.6611\n",
      "IoU for wheel: 0.8552\n",
      "Mean IoU: 0.7850\n",
      "Results saved to results.json\n",
      "Chair inference DINO, GLIP ==> SAM started:\n",
      "----DINO Inference Starting----\n"
     ]
    },
    {
     "name": "stderr",
     "output_type": "stream",
     "text": [
      "FutureWarning: The `device` argument is deprecated and will be removed in v5 of Transformers.\n",
      "UserWarning: None of the inputs have requires_grad=True. Gradients will be None\n"
     ]
    },
    {
     "name": "stdout",
     "output_type": "stream",
     "text": [
      "----DINO Inference Completed---\n",
      "mIOU CALCULATION DINO, Chair:\n",
      "IoU for arm: 0.6457\n",
      "IoU for back: 0.9537\n",
      "IoU for leg: 0.6786\n",
      "IoU for seat: 0.9751\n",
      "IoU for wheel: 0.9327\n",
      "Mean IoU: 0.8372\n",
      "----GLIP Inference Starting----\n"
     ]
    },
    {
     "name": "stderr",
     "output_type": "stream",
     "text": [
      "FutureWarning: The `device` argument is deprecated and will be removed in v5 of Transformers.\n",
      "UserWarning: nn.functional.upsample_bilinear is deprecated. Use nn.functional.interpolate instead.\n",
      "An exception occurred in telemetry logging.Disabling telemetry to prevent further exceptions.\n",
      "Traceback (most recent call last):\n",
      "  File \"/rhome/kamburoglu/miniconda3/envs/partslip/lib/python3.9/site-packages/iopath/common/file_io.py\", line 946, in __log_tmetry_keys\n",
      "    handler.log_event()\n",
      "  File \"/rhome/kamburoglu/miniconda3/envs/partslip/lib/python3.9/site-packages/iopath/common/event_logger.py\", line 97, in log_event\n",
      "    del self._evt\n",
      "AttributeError: _evt\n"
     ]
    },
    {
     "name": "stdout",
     "output_type": "stream",
     "text": [
      "----GLIP Inference Completed---\n",
      "mIOU CALCULATION GLIP, Chair:\n",
      "IoU for arm: 0.7799\n",
      "IoU for back: 0.9842\n",
      "IoU for leg: 0.4890\n",
      "IoU for seat: 0.8375\n",
      "IoU for wheel: 0.9458\n",
      "Mean IoU: 0.8073\n",
      "Results saved to results.json\n",
      "Chair inference DINO, GLIP ==> SAM started:\n",
      "----DINO Inference Starting----\n"
     ]
    },
    {
     "name": "stderr",
     "output_type": "stream",
     "text": [
      "FutureWarning: The `device` argument is deprecated and will be removed in v5 of Transformers.\n",
      "UserWarning: None of the inputs have requires_grad=True. Gradients will be None\n"
     ]
    },
    {
     "name": "stdout",
     "output_type": "stream",
     "text": [
      "----DINO Inference Completed---\n",
      "mIOU CALCULATION DINO, Chair:\n",
      "IoU for arm: 0.2836\n",
      "IoU for back: 0.7426\n",
      "IoU for leg: 0.5499\n",
      "IoU for seat: 0.6411\n",
      "IoU for wheel: 0.9235\n",
      "Mean IoU: 0.6281\n",
      "----GLIP Inference Starting----\n"
     ]
    },
    {
     "name": "stderr",
     "output_type": "stream",
     "text": [
      "FutureWarning: The `device` argument is deprecated and will be removed in v5 of Transformers.\n",
      "UserWarning: nn.functional.upsample_bilinear is deprecated. Use nn.functional.interpolate instead.\n",
      "An exception occurred in telemetry logging.Disabling telemetry to prevent further exceptions.\n",
      "Traceback (most recent call last):\n",
      "  File \"/rhome/kamburoglu/miniconda3/envs/partslip/lib/python3.9/site-packages/iopath/common/file_io.py\", line 946, in __log_tmetry_keys\n",
      "    handler.log_event()\n",
      "  File \"/rhome/kamburoglu/miniconda3/envs/partslip/lib/python3.9/site-packages/iopath/common/event_logger.py\", line 97, in log_event\n",
      "    del self._evt\n",
      "AttributeError: _evt\n"
     ]
    },
    {
     "name": "stdout",
     "output_type": "stream",
     "text": [
      "----GLIP Inference Completed---\n",
      "mIOU CALCULATION GLIP, Chair:\n",
      "IoU for arm: 0.2949\n",
      "IoU for back: 0.9052\n",
      "IoU for leg: 0.5986\n",
      "IoU for seat: 0.5363\n",
      "IoU for wheel: 0.9691\n",
      "Mean IoU: 0.6608\n",
      "Results saved to results.json\n",
      "Chair inference DINO, GLIP ==> SAM started:\n",
      "----DINO Inference Starting----\n"
     ]
    },
    {
     "name": "stderr",
     "output_type": "stream",
     "text": [
      "FutureWarning: The `device` argument is deprecated and will be removed in v5 of Transformers.\n",
      "UserWarning: None of the inputs have requires_grad=True. Gradients will be None\n"
     ]
    },
    {
     "name": "stdout",
     "output_type": "stream",
     "text": [
      "----DINO Inference Completed---\n",
      "mIOU CALCULATION DINO, Chair:\n",
      "arm not present in ground truth, skipping IoU calculation.\n",
      "IoU for back: 0.8111\n",
      "IoU for leg: 0.6704\n",
      "IoU for seat: 0.9837\n",
      "IoU for wheel: 0.8893\n",
      "Mean IoU: 0.8386\n",
      "----GLIP Inference Starting----\n"
     ]
    },
    {
     "name": "stderr",
     "output_type": "stream",
     "text": [
      "FutureWarning: The `device` argument is deprecated and will be removed in v5 of Transformers.\n",
      "UserWarning: nn.functional.upsample_bilinear is deprecated. Use nn.functional.interpolate instead.\n",
      "An exception occurred in telemetry logging.Disabling telemetry to prevent further exceptions.\n",
      "Traceback (most recent call last):\n",
      "  File \"/rhome/kamburoglu/miniconda3/envs/partslip/lib/python3.9/site-packages/iopath/common/file_io.py\", line 946, in __log_tmetry_keys\n",
      "    handler.log_event()\n",
      "  File \"/rhome/kamburoglu/miniconda3/envs/partslip/lib/python3.9/site-packages/iopath/common/event_logger.py\", line 97, in log_event\n",
      "    del self._evt\n",
      "AttributeError: _evt\n"
     ]
    },
    {
     "name": "stdout",
     "output_type": "stream",
     "text": [
      "----GLIP Inference Completed---\n",
      "mIOU CALCULATION GLIP, Chair:\n",
      "chair arm not present in ground truth, skipping IoU calculation.\n",
      "IoU for back: 0.7865\n",
      "IoU for leg: 0.5963\n",
      "IoU for seat: 0.9675\n",
      "IoU for wheel: 0.8607\n",
      "Mean IoU: 0.8028\n",
      "Results saved to results.json\n",
      "Chair inference DINO, GLIP ==> SAM started:\n",
      "----DINO Inference Starting----\n"
     ]
    },
    {
     "name": "stderr",
     "output_type": "stream",
     "text": [
      "FutureWarning: The `device` argument is deprecated and will be removed in v5 of Transformers.\n",
      "UserWarning: None of the inputs have requires_grad=True. Gradients will be None\n"
     ]
    },
    {
     "name": "stdout",
     "output_type": "stream",
     "text": [
      "----DINO Inference Completed---\n",
      "mIOU CALCULATION DINO, Chair:\n",
      "IoU for arm: 0.5796\n",
      "IoU for back: 0.6389\n",
      "IoU for leg: 0.5986\n",
      "IoU for seat: 0.3587\n",
      "IoU for wheel: 0.9369\n",
      "Mean IoU: 0.6225\n",
      "----GLIP Inference Starting----\n"
     ]
    },
    {
     "name": "stderr",
     "output_type": "stream",
     "text": [
      "FutureWarning: The `device` argument is deprecated and will be removed in v5 of Transformers.\n",
      "UserWarning: nn.functional.upsample_bilinear is deprecated. Use nn.functional.interpolate instead.\n",
      "An exception occurred in telemetry logging.Disabling telemetry to prevent further exceptions.\n",
      "Traceback (most recent call last):\n",
      "  File \"/rhome/kamburoglu/miniconda3/envs/partslip/lib/python3.9/site-packages/iopath/common/file_io.py\", line 946, in __log_tmetry_keys\n",
      "    handler.log_event()\n",
      "  File \"/rhome/kamburoglu/miniconda3/envs/partslip/lib/python3.9/site-packages/iopath/common/event_logger.py\", line 97, in log_event\n",
      "    del self._evt\n",
      "AttributeError: _evt\n"
     ]
    },
    {
     "name": "stdout",
     "output_type": "stream",
     "text": [
      "----GLIP Inference Completed---\n",
      "mIOU CALCULATION GLIP, Chair:\n",
      "IoU for arm: 0.6982\n",
      "IoU for back: 0.8731\n",
      "IoU for leg: 0.4115\n",
      "IoU for seat: 0.7122\n",
      "IoU for wheel: 0.9421\n",
      "Mean IoU: 0.7274\n",
      "Results saved to results.json\n",
      "Chair inference DINO, GLIP ==> SAM started:\n",
      "----DINO Inference Starting----\n"
     ]
    },
    {
     "name": "stderr",
     "output_type": "stream",
     "text": [
      "FutureWarning: The `device` argument is deprecated and will be removed in v5 of Transformers.\n",
      "UserWarning: None of the inputs have requires_grad=True. Gradients will be None\n"
     ]
    },
    {
     "name": "stdout",
     "output_type": "stream",
     "text": [
      "----DINO Inference Completed---\n",
      "mIOU CALCULATION DINO, Chair:\n",
      "IoU for arm: 0.7084\n",
      "IoU for back: 0.6151\n",
      "IoU for leg: 0.7336\n",
      "IoU for seat: 0.8088\n",
      "IoU for wheel: 0.6057\n",
      "Mean IoU: 0.6943\n",
      "----GLIP Inference Starting----\n"
     ]
    },
    {
     "name": "stderr",
     "output_type": "stream",
     "text": [
      "FutureWarning: The `device` argument is deprecated and will be removed in v5 of Transformers.\n",
      "UserWarning: nn.functional.upsample_bilinear is deprecated. Use nn.functional.interpolate instead.\n",
      "An exception occurred in telemetry logging.Disabling telemetry to prevent further exceptions.\n",
      "Traceback (most recent call last):\n",
      "  File \"/rhome/kamburoglu/miniconda3/envs/partslip/lib/python3.9/site-packages/iopath/common/file_io.py\", line 946, in __log_tmetry_keys\n",
      "    handler.log_event()\n",
      "  File \"/rhome/kamburoglu/miniconda3/envs/partslip/lib/python3.9/site-packages/iopath/common/event_logger.py\", line 97, in log_event\n",
      "    del self._evt\n",
      "AttributeError: _evt\n"
     ]
    },
    {
     "name": "stdout",
     "output_type": "stream",
     "text": [
      "----GLIP Inference Completed---\n",
      "mIOU CALCULATION GLIP, Chair:\n",
      "IoU for arm: 0.6110\n",
      "IoU for back: 0.9085\n",
      "IoU for leg: 0.7032\n",
      "IoU for seat: 0.6644\n",
      "IoU for wheel: 0.8282\n",
      "Mean IoU: 0.7430\n",
      "Results saved to results.json\n",
      "Chair inference DINO, GLIP ==> SAM started:\n",
      "----DINO Inference Starting----\n"
     ]
    },
    {
     "name": "stderr",
     "output_type": "stream",
     "text": [
      "FutureWarning: The `device` argument is deprecated and will be removed in v5 of Transformers.\n",
      "UserWarning: None of the inputs have requires_grad=True. Gradients will be None\n"
     ]
    },
    {
     "name": "stdout",
     "output_type": "stream",
     "text": [
      "----DINO Inference Completed---\n",
      "mIOU CALCULATION DINO, Chair:\n",
      "IoU for arm: 0.9092\n",
      "IoU for back: 0.9554\n",
      "IoU for leg: 0.5570\n",
      "IoU for seat: 0.7345\n",
      "IoU for wheel: 0.6683\n",
      "Mean IoU: 0.7649\n",
      "----GLIP Inference Starting----\n"
     ]
    },
    {
     "name": "stderr",
     "output_type": "stream",
     "text": [
      "FutureWarning: The `device` argument is deprecated and will be removed in v5 of Transformers.\n",
      "UserWarning: nn.functional.upsample_bilinear is deprecated. Use nn.functional.interpolate instead.\n",
      "An exception occurred in telemetry logging.Disabling telemetry to prevent further exceptions.\n",
      "Traceback (most recent call last):\n",
      "  File \"/rhome/kamburoglu/miniconda3/envs/partslip/lib/python3.9/site-packages/iopath/common/file_io.py\", line 946, in __log_tmetry_keys\n",
      "    handler.log_event()\n",
      "  File \"/rhome/kamburoglu/miniconda3/envs/partslip/lib/python3.9/site-packages/iopath/common/event_logger.py\", line 97, in log_event\n",
      "    del self._evt\n",
      "AttributeError: _evt\n"
     ]
    },
    {
     "name": "stdout",
     "output_type": "stream",
     "text": [
      "----GLIP Inference Completed---\n",
      "mIOU CALCULATION GLIP, Chair:\n",
      "IoU for arm: 0.8843\n",
      "IoU for back: 0.9341\n",
      "IoU for leg: 0.6630\n",
      "IoU for seat: 0.8631\n",
      "IoU for wheel: 0.9795\n",
      "Mean IoU: 0.8648\n",
      "Results saved to results.json\n",
      "Chair inference DINO, GLIP ==> SAM started:\n",
      "----DINO Inference Starting----\n"
     ]
    },
    {
     "name": "stderr",
     "output_type": "stream",
     "text": [
      "FutureWarning: The `device` argument is deprecated and will be removed in v5 of Transformers.\n",
      "UserWarning: None of the inputs have requires_grad=True. Gradients will be None\n"
     ]
    },
    {
     "name": "stdout",
     "output_type": "stream",
     "text": [
      "----DINO Inference Completed---\n",
      "mIOU CALCULATION DINO, Chair:\n",
      "arm not present in ground truth, skipping IoU calculation.\n",
      "IoU for back: 0.9044\n",
      "IoU for leg: 0.7056\n",
      "IoU for seat: 0.9644\n",
      "IoU for wheel: 0.5773\n",
      "Mean IoU: 0.7879\n",
      "----GLIP Inference Starting----\n"
     ]
    },
    {
     "name": "stderr",
     "output_type": "stream",
     "text": [
      "FutureWarning: The `device` argument is deprecated and will be removed in v5 of Transformers.\n",
      "UserWarning: nn.functional.upsample_bilinear is deprecated. Use nn.functional.interpolate instead.\n",
      "An exception occurred in telemetry logging.Disabling telemetry to prevent further exceptions.\n",
      "Traceback (most recent call last):\n",
      "  File \"/rhome/kamburoglu/miniconda3/envs/partslip/lib/python3.9/site-packages/iopath/common/file_io.py\", line 946, in __log_tmetry_keys\n",
      "    handler.log_event()\n",
      "  File \"/rhome/kamburoglu/miniconda3/envs/partslip/lib/python3.9/site-packages/iopath/common/event_logger.py\", line 97, in log_event\n",
      "    del self._evt\n",
      "AttributeError: _evt\n"
     ]
    },
    {
     "name": "stdout",
     "output_type": "stream",
     "text": [
      "----GLIP Inference Completed---\n",
      "mIOU CALCULATION GLIP, Chair:\n",
      "chair arm not present in ground truth, skipping IoU calculation.\n",
      "IoU for back: 0.8983\n",
      "IoU for leg: 0.7805\n",
      "IoU for seat: 0.9206\n",
      "IoU for wheel: 0.8452\n",
      "Mean IoU: 0.8611\n",
      "Results saved to results.json\n",
      "Chair inference DINO, GLIP ==> SAM started:\n",
      "----DINO Inference Starting----\n"
     ]
    },
    {
     "name": "stderr",
     "output_type": "stream",
     "text": [
      "FutureWarning: The `device` argument is deprecated and will be removed in v5 of Transformers.\n",
      "UserWarning: None of the inputs have requires_grad=True. Gradients will be None\n"
     ]
    },
    {
     "name": "stdout",
     "output_type": "stream",
     "text": [
      "----DINO Inference Completed---\n",
      "mIOU CALCULATION DINO, Chair:\n",
      "arm not present in ground truth, skipping IoU calculation.\n",
      "IoU for back: 0.9855\n",
      "IoU for leg: 0.6459\n",
      "IoU for seat: 0.7600\n",
      "IoU for wheel: 0.9357\n",
      "Mean IoU: 0.8318\n",
      "----GLIP Inference Starting----\n"
     ]
    },
    {
     "name": "stderr",
     "output_type": "stream",
     "text": [
      "FutureWarning: The `device` argument is deprecated and will be removed in v5 of Transformers.\n",
      "UserWarning: nn.functional.upsample_bilinear is deprecated. Use nn.functional.interpolate instead.\n",
      "An exception occurred in telemetry logging.Disabling telemetry to prevent further exceptions.\n",
      "Traceback (most recent call last):\n",
      "  File \"/rhome/kamburoglu/miniconda3/envs/partslip/lib/python3.9/site-packages/iopath/common/file_io.py\", line 946, in __log_tmetry_keys\n",
      "    handler.log_event()\n",
      "  File \"/rhome/kamburoglu/miniconda3/envs/partslip/lib/python3.9/site-packages/iopath/common/event_logger.py\", line 97, in log_event\n",
      "    del self._evt\n",
      "AttributeError: _evt\n"
     ]
    },
    {
     "name": "stdout",
     "output_type": "stream",
     "text": [
      "----GLIP Inference Completed---\n",
      "mIOU CALCULATION GLIP, Chair:\n",
      "chair arm not present in ground truth, skipping IoU calculation.\n",
      "IoU for back: 0.8373\n",
      "IoU for leg: 0.7564\n",
      "IoU for seat: 0.6946\n",
      "IoU for wheel: 0.9613\n",
      "Mean IoU: 0.8124\n",
      "Results saved to results.json\n",
      "Chair inference DINO, GLIP ==> SAM started:\n",
      "----DINO Inference Starting----\n"
     ]
    },
    {
     "name": "stderr",
     "output_type": "stream",
     "text": [
      "FutureWarning: The `device` argument is deprecated and will be removed in v5 of Transformers.\n",
      "UserWarning: None of the inputs have requires_grad=True. Gradients will be None\n"
     ]
    },
    {
     "name": "stdout",
     "output_type": "stream",
     "text": [
      "----DINO Inference Completed---\n",
      "mIOU CALCULATION DINO, Chair:\n",
      "IoU for arm: 0.9020\n",
      "IoU for back: 0.9794\n",
      "IoU for leg: 0.5728\n",
      "IoU for seat: 0.6948\n",
      "IoU for wheel: 0.2230\n",
      "Mean IoU: 0.6744\n",
      "----GLIP Inference Starting----\n"
     ]
    },
    {
     "name": "stderr",
     "output_type": "stream",
     "text": [
      "FutureWarning: The `device` argument is deprecated and will be removed in v5 of Transformers.\n",
      "UserWarning: nn.functional.upsample_bilinear is deprecated. Use nn.functional.interpolate instead.\n",
      "An exception occurred in telemetry logging.Disabling telemetry to prevent further exceptions.\n",
      "Traceback (most recent call last):\n",
      "  File \"/rhome/kamburoglu/miniconda3/envs/partslip/lib/python3.9/site-packages/iopath/common/file_io.py\", line 946, in __log_tmetry_keys\n",
      "    handler.log_event()\n",
      "  File \"/rhome/kamburoglu/miniconda3/envs/partslip/lib/python3.9/site-packages/iopath/common/event_logger.py\", line 97, in log_event\n",
      "    del self._evt\n",
      "AttributeError: _evt\n"
     ]
    },
    {
     "name": "stdout",
     "output_type": "stream",
     "text": [
      "----GLIP Inference Completed---\n",
      "mIOU CALCULATION GLIP, Chair:\n",
      "IoU for arm: 0.9830\n",
      "IoU for back: 0.9668\n",
      "IoU for leg: 0.6721\n",
      "IoU for seat: 0.9810\n",
      "IoU for wheel: 0.7984\n",
      "Mean IoU: 0.8803\n",
      "Results saved to results.json\n",
      "Chair inference DINO, GLIP ==> SAM started:\n",
      "----DINO Inference Starting----\n"
     ]
    },
    {
     "name": "stderr",
     "output_type": "stream",
     "text": [
      "FutureWarning: The `device` argument is deprecated and will be removed in v5 of Transformers.\n",
      "UserWarning: None of the inputs have requires_grad=True. Gradients will be None\n"
     ]
    },
    {
     "name": "stdout",
     "output_type": "stream",
     "text": [
      "----DINO Inference Completed---\n",
      "mIOU CALCULATION DINO, Chair:\n",
      "arm not present in ground truth, skipping IoU calculation.\n",
      "IoU for back: 0.9970\n",
      "IoU for leg: 0.6537\n",
      "IoU for seat: 0.9556\n",
      "IoU for wheel: 0.8676\n",
      "Mean IoU: 0.8685\n",
      "----GLIP Inference Starting----\n"
     ]
    },
    {
     "name": "stderr",
     "output_type": "stream",
     "text": [
      "FutureWarning: The `device` argument is deprecated and will be removed in v5 of Transformers.\n",
      "UserWarning: nn.functional.upsample_bilinear is deprecated. Use nn.functional.interpolate instead.\n",
      "An exception occurred in telemetry logging.Disabling telemetry to prevent further exceptions.\n",
      "Traceback (most recent call last):\n",
      "  File \"/rhome/kamburoglu/miniconda3/envs/partslip/lib/python3.9/site-packages/iopath/common/file_io.py\", line 946, in __log_tmetry_keys\n",
      "    handler.log_event()\n",
      "  File \"/rhome/kamburoglu/miniconda3/envs/partslip/lib/python3.9/site-packages/iopath/common/event_logger.py\", line 97, in log_event\n",
      "    del self._evt\n",
      "AttributeError: _evt\n"
     ]
    },
    {
     "name": "stdout",
     "output_type": "stream",
     "text": [
      "----GLIP Inference Completed---\n",
      "mIOU CALCULATION GLIP, Chair:\n",
      "chair arm not present in ground truth, skipping IoU calculation.\n",
      "IoU for back: 0.9065\n",
      "IoU for leg: 0.6722\n",
      "IoU for seat: 0.8679\n",
      "IoU for wheel: 0.9616\n",
      "Mean IoU: 0.8521\n",
      "Results saved to results.json\n",
      "Chair inference DINO, GLIP ==> SAM started:\n",
      "----DINO Inference Starting----\n"
     ]
    },
    {
     "name": "stderr",
     "output_type": "stream",
     "text": [
      "FutureWarning: The `device` argument is deprecated and will be removed in v5 of Transformers.\n",
      "UserWarning: None of the inputs have requires_grad=True. Gradients will be None\n"
     ]
    },
    {
     "name": "stdout",
     "output_type": "stream",
     "text": [
      "----DINO Inference Completed---\n",
      "mIOU CALCULATION DINO, Chair:\n",
      "IoU for arm: 0.3278\n",
      "IoU for back: 0.5419\n",
      "IoU for leg: 0.8864\n",
      "IoU for seat: 0.7966\n",
      "IoU for wheel: 0.9473\n",
      "Mean IoU: 0.7000\n",
      "----GLIP Inference Starting----\n"
     ]
    },
    {
     "name": "stderr",
     "output_type": "stream",
     "text": [
      "FutureWarning: The `device` argument is deprecated and will be removed in v5 of Transformers.\n",
      "UserWarning: nn.functional.upsample_bilinear is deprecated. Use nn.functional.interpolate instead.\n"
     ]
    }
   ],
   "source": [
    "categories = [\"Chair\", \"Suitcase\", \"Refrigerator\", \"Lamp\", \"Kettle\"]\n",
    "\n",
    "files = get_files_from_txt(\"test_files.txt\", categories, 10)\n",
    "\n",
    "config =\"GLIP/configs/glip_Swin_L.yaml\"\n",
    "weight_path = \"models/glip_large_model.pth\"\n",
    "#     print(\"[loading GLIP model...]\")\n",
    "glip_demo = load_model_glip(config, weight_path)\n",
    "\n",
    "\n",
    "results = {}\n",
    "# Comment out the two loop for the category and number assignment above\n",
    "# for category, file_items in files.items():\n",
    "with open(\"test_files.txt\", 'r') as file:\n",
    "    lines = file.readlines()\n",
    "\n",
    "    parsed_data = [(int(line.split()[0]), line.split()[1]) for line in lines]\n",
    "    \n",
    "for file, category in parsed_data:\n",
    "    file = f\"data/{category}/{file}\"\n",
    "    print(category +\" inference DINO, GLIP ==> SAM started\" +\":\")\n",
    "    #for file in file_items:\n",
    "    TEXT_PROMPT,partList = toDinoPrompt(metaData, category)\n",
    "\n",
    "    save_dir = f'examples/zeroshot_{category}'\n",
    "    os.makedirs(save_dir, exist_ok=True)\n",
    "    os.makedirs(f\"{save_dir}/rendered_img\", exist_ok=True) #create the necessary save directories\n",
    "    os.makedirs(f\"{save_dir}/dino_pred\", exist_ok=True)\n",
    "    os.makedirs(f\"{save_dir}/semantic_segDino_KNN\", exist_ok=True)\n",
    "\n",
    "    io = IO()\n",
    "    xyz, rgb = normalize_pc(file + \"/pc.ply\", save_dir, io, device) #read Point cloud and rgb in the format n,3\n",
    "\n",
    "    code = str(file.split(\"/\")[-1])\n",
    "    pcidx_screencoords = np.load(f'examples/zeroshot_{category}/rendered_img_test/{code}/pcidx_screencoords.npz')\n",
    "\n",
    "    pc_idx = pcidx_screencoords[\"pc_idx\"]\n",
    "    screen_coords = pcidx_screencoords[\"screen_coords\"]\n",
    "\n",
    "    print(\"----DINO Inference Starting----\")\n",
    "    preds = InferDINO(xyz, rgb, pc_idx, screen_coords, file, category, metaData,modelDINO,predictorSAM, device, BOX_TRESHOLD = 0.2,\n",
    "                        TEXT_TRESHOLD = 0.3, save_dir=f'examples/zeroshot_{category}')\n",
    "\n",
    "    print(\"----DINO Inference Completed---\")\n",
    "    print(\"mIOU CALCULATION DINO, \" + category + \":\")\n",
    "    label = np.load(file + \"/label.npy\", allow_pickle=True)\n",
    "    mIOU_list, mean_iou, _  = mIOU_f(label, preds)\n",
    "\n",
    "    print(\"----GLIP Inference Starting----\")\n",
    "    preds_glip = InferGLIP(xyz, rgb, screen_coords, pc_idx, category, metaData[category], glip_demo, device, \n",
    "                           f\"examples/zeroshot_{category}/rendered_img_test/{code}/\")\n",
    "    print(\"----GLIP Inference Completed---\")\n",
    "\n",
    "    print(\"mIOU CALCULATION GLIP, \" + category + \":\")\n",
    "    mIOU_list_glip, mean_iou_glip, part_names = mIOU_f(label, preds_glip, \"glip\")\n",
    "    results.setdefault(category, {}).setdefault(code, {\n",
    "        'DINO': {\n",
    "            'mIOU_list': mIOU_list,\n",
    "            'mean_iou': mean_iou,\n",
    "        },\n",
    "        'GLIP': {\n",
    "            'mIOU_list': mIOU_list_glip,\n",
    "            'mean_iou': mean_iou_glip,\n",
    "        }, \n",
    "        \"parts\": part_names\n",
    "\n",
    "    })\n",
    "    \n",
    "    with open('results.json', 'w') as f:\n",
    "        json.dump(results, f, indent=4)\n",
    "\n",
    "    print(\"Results saved to results.json\")"
   ]
  },
  {
   "cell_type": "code",
   "execution_count": null,
   "id": "fc0ecc4f",
   "metadata": {},
   "outputs": [],
   "source": []
  }
 ],
 "metadata": {
  "kernelspec": {
   "display_name": "Python 3 (ipykernel)",
   "language": "python",
   "name": "python3"
  },
  "language_info": {
   "codemirror_mode": {
    "name": "ipython",
    "version": 3
   },
   "file_extension": ".py",
   "mimetype": "text/x-python",
   "name": "python",
   "nbconvert_exporter": "python",
   "pygments_lexer": "ipython3",
   "version": "3.9.21"
  }
 },
 "nbformat": 4,
 "nbformat_minor": 5
}
